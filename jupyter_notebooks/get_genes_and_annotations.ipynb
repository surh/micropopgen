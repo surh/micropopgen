{
 "cells": [
  {
   "cell_type": "code",
   "execution_count": null,
   "metadata": {
    "collapsed": true
   },
   "outputs": [],
   "source": [
    "# Copyright (C) 2017 Sur Herrera Paredes\n",
    "import pandas as pd\n",
    "import pybedtools as bed\n",
    "from shutil import copyfile\n",
    "import os\n",
    "# import numpy as np"
   ]
  },
  {
   "cell_type": "code",
   "execution_count": null,
   "metadata": {
    "collapsed": true
   },
   "outputs": [],
   "source": [
    "def split_gene_annotations(functions, sep1=';',\n",
    "                           sep2=':', sep3=',',\n",
    "                           append_which = False):\n",
    "    \"\"\"Take annotation string from MIDAS database and expand it\n",
    "    into a table of Annotation<->Gene\"\"\"\n",
    "    \n",
    "    # Split strings and create dictionary\n",
    "    by_type = functions.split(sep=sep1)\n",
    "    annotations = {}\n",
    "    for t in by_type:\n",
    "        db, annots = t.split(sep=sep2)\n",
    "        annots = annots.split(sep=sep3)\n",
    "        \n",
    "        if append_which is True:\n",
    "            annots = [sep2.join([db,i]) for i in annots]\n",
    "        \n",
    "        annotations[db] = annots\n",
    "    \n",
    "    # Get dataframe from dictionary\n",
    "    d = _create_annotation_dataframe(annotations)\n",
    "    return(d)\n",
    "\n",
    "def _create_annotation_dataframe(annotations):\n",
    "    \"\"\"Expands annotation of one gene\"\"\"\n",
    "    \n",
    "    d = pd.DataFrame()\n",
    "    for k,a in annotations.items():\n",
    "        d2 = pd.DataFrame(data = a, columns=['Annotation'])\n",
    "        d2['Type'] = k\n",
    "        #print(d2)\n",
    "        d = d.append(d2)\n",
    "    return(d)\n",
    "\n",
    "def get_fna(features, fasta, outdir, prefix):\n",
    "    \"\"\"Uses pybedtools to generate a fna file. A file with the nucleotide\n",
    "    sequences of all CDS\"\"\""
   ]
  },
  {
   "cell_type": "code",
   "execution_count": null,
   "metadata": {
    "collapsed": true
   },
   "outputs": [],
   "source": [
    "# Parameters\n",
    "infile = \"/home/sur/micropopgen/exp/2017/today3/Zymomonas_mobilis_61858/genome.features\"\n",
    "fasta = \"/home/sur/micropopgen/exp/2017/today3/Zymomonas_mobilis_61858/genome.fna\"\n",
    "which = \"GO\"\n",
    "outdir = \"/home/sur/micropopgen/exp/2017/today3/out/\"\n",
    "prefix = 'Zymomonas_mobilis_61858'\n",
    "append_which = True"
   ]
  },
  {
   "cell_type": "code",
   "execution_count": null,
   "metadata": {},
   "outputs": [],
   "source": [
    "# Read feature table\n",
    "os.mkdir(outdir)\n",
    "Feat = pd.read_csv(infile,sep=\"\\t\")\n",
    "Feat = Feat.head(n=10)\n",
    "# Feat.head()\n",
    "# split_gene_annotations(functions=Feat['functions'][0])"
   ]
  },
  {
   "cell_type": "code",
   "execution_count": null,
   "metadata": {},
   "outputs": [],
   "source": [
    "# Gett annotations\n",
    "ngenes = 0\n",
    "ncds = 0\n",
    "nannot = 0\n",
    "nwhich = 0\n",
    "Res = pd.DataFrame(columns=['Annotation','Type','Gene'])\n",
    "for i, r in Feat.iterrows():\n",
    "    g = r['gene_id']\n",
    "    a = r['functions']\n",
    "    t = r['gene_type']\n",
    "    ngenes = ngenes + 1\n",
    "    # print(a)\n",
    "    # print(\"============\")\n",
    "    \n",
    "    # Keep only CDS\n",
    "    if t != 'CDS':\n",
    "        continue\n",
    "    ncds = ncds + 1\n",
    "    # Skip unannotated genes\n",
    "    if pd.isnull(a):\n",
    "        continue\n",
    "    nannot = nannot + 1\n",
    "    \n",
    "    d = split_gene_annotations(functions=a,\n",
    "                               append_which=append_which)\n",
    "    d['Gene'] = g\n",
    "    \n",
    "    # Select annotation\n",
    "    if not pd.isnull(which):\n",
    "        d = d.loc[ d.Type == which, :]\n",
    "    \n",
    "    # Append only if it has rows\n",
    "    if len(d.index) > 0:\n",
    "        nwhich = nwhich + 1\n",
    "        Res = Res.append(d)\n",
    "\n",
    "Res = Res.drop(['Type'], axis = 1)\n",
    "    "
   ]
  },
  {
   "cell_type": "code",
   "execution_count": null,
   "metadata": {},
   "outputs": [],
   "source": [
    "print(ngenes,ncds,nannot,nwhich)"
   ]
  },
  {
   "cell_type": "code",
   "execution_count": null,
   "metadata": {},
   "outputs": [],
   "source": [
    "Res"
   ]
  },
  {
   "cell_type": "code",
   "execution_count": null,
   "metadata": {},
   "outputs": [],
   "source": [
    "# Get BED format dataframe\n",
    "Bed = Feat[ ['scaffold_id', 'start', 'end', 'gene_id', 'gene_type', 'strand']].copy()\n",
    "Bed.reset_index(drop=True)\n",
    "print(Bed)\n",
    "Bed.loc[ Bed.strand == '+', 'start'] = Bed.loc[ Bed.strand == '+', 'start'] - 1\n",
    "Bed.loc[ Bed.strand == '-', 'start'] = Bed.loc[ Bed.strand == '-', 'start'] - 1\n",
    "Bed = Bed.loc[ Bed.gene_type == 'CDS', ]\n",
    "Bed"
   ]
  },
  {
   "cell_type": "code",
   "execution_count": null,
   "metadata": {},
   "outputs": [],
   "source": [
    "(Bed.end - Bed.start)/3"
   ]
  },
  {
   "cell_type": "code",
   "execution_count": null,
   "metadata": {},
   "outputs": [],
   "source": [
    "# create BedTool and obtain sequences\n",
    "Bed = bed.BedTool.from_dataframe(Bed)\n",
    "Bed.sequence(fi=fasta, s=True, name=True)"
   ]
  },
  {
   "cell_type": "code",
   "execution_count": null,
   "metadata": {},
   "outputs": [],
   "source": [
    "# Show results\n",
    "print(open(Bed.seqfn).read())"
   ]
  },
  {
   "cell_type": "code",
   "execution_count": null,
   "metadata": {},
   "outputs": [],
   "source": [
    "Bed.seqfn"
   ]
  },
  {
   "cell_type": "code",
   "execution_count": null,
   "metadata": {
    "collapsed": true
   },
   "outputs": [],
   "source": [
    "outfile = ''.join([outdir,'/',prefix,'.cds.fna'])"
   ]
  },
  {
   "cell_type": "code",
   "execution_count": null,
   "metadata": {},
   "outputs": [],
   "source": [
    "copyfile(src=Bed.seqfn,dst=outfile)"
   ]
  }
 ],
 "metadata": {
  "kernelspec": {
   "display_name": "Python 3",
   "language": "python",
   "name": "python3"
  },
  "language_info": {
   "codemirror_mode": {
    "name": "ipython",
    "version": 3
   },
   "file_extension": ".py",
   "mimetype": "text/x-python",
   "name": "python",
   "nbconvert_exporter": "python",
   "pygments_lexer": "ipython3",
   "version": "3.6.1"
  }
 },
 "nbformat": 4,
 "nbformat_minor": 2
}
