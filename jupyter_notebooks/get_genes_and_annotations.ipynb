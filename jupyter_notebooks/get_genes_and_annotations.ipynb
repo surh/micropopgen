{
 "cells": [
  {
   "cell_type": "code",
   "execution_count": 1,
   "metadata": {
    "collapsed": true
   },
   "outputs": [],
   "source": [
    "# Copyright (C) 2017 Sur Herrera Paredes\n",
    "import pandas as pd\n",
    "import pybedtools as bed\n",
    "# import numpy as np"
   ]
  },
  {
   "cell_type": "code",
   "execution_count": 2,
   "metadata": {
    "collapsed": true
   },
   "outputs": [],
   "source": [
    "def split_gene_annotations(functions, sep1=';',\n",
    "                           sep2=':', sep3=',',\n",
    "                           append_which = False):\n",
    "    \"\"\"Take annotation string from MIDAS database and expand it\n",
    "    into a table of Annotation<->Gene\"\"\"\n",
    "    \n",
    "    # Split strings and create dictionary\n",
    "    by_type = functions.split(sep=sep1)\n",
    "    annotations = {}\n",
    "    for t in by_type:\n",
    "        db, annots = t.split(sep=sep2)\n",
    "        annots = annots.split(sep=sep3)\n",
    "        \n",
    "        if append_which is True:\n",
    "            annots = [sep2.join([db,i]) for i in annots]\n",
    "        \n",
    "        annotations[db] = annots\n",
    "    \n",
    "    # Get dataframe from dictionary\n",
    "    d = _create_annotation_dataframe(annotations)\n",
    "    return(d)\n",
    "\n",
    "def _create_annotation_dataframe(annotations):\n",
    "    \"\"\"Expands annotation of one gene\"\"\"\n",
    "    \n",
    "    d = pd.DataFrame()\n",
    "    for k,a in annotations.items():\n",
    "        d2 = pd.DataFrame(data = a, columns=['Annotation'])\n",
    "        d2['Type'] = k\n",
    "        #print(d2)\n",
    "        d = d.append(d2)\n",
    "    return(d)"
   ]
  },
  {
   "cell_type": "code",
   "execution_count": 3,
   "metadata": {
    "collapsed": true
   },
   "outputs": [],
   "source": [
    "# Parameters\n",
    "infile = \"/home/sur/micropopgen/exp/2017/today3/Zymomonas_mobilis_61858/genome.features\"\n",
    "fasta = \"/home/sur/micropopgen/exp/2017/today3/Zymomonas_mobilis_61858/genome.fna\"\n",
    "which = \"GO\"\n",
    "append_which = True"
   ]
  },
  {
   "cell_type": "code",
   "execution_count": 4,
   "metadata": {},
   "outputs": [],
   "source": [
    "# Read feature table\n",
    "Feat = pd.read_csv(infile,sep=\"\\t\")\n",
    "Feat = Feat.head(n=10)\n",
    "# Feat.head()\n",
    "# split_gene_annotations(functions=Feat['functions'][0])"
   ]
  },
  {
   "cell_type": "code",
   "execution_count": 5,
   "metadata": {},
   "outputs": [],
   "source": [
    "# Gett annotations\n",
    "ngenes = 0\n",
    "ncds = 0\n",
    "nannot = 0\n",
    "nwhich = 0\n",
    "Res = pd.DataFrame(columns=['Annotation','Type','Gene'])\n",
    "for i, r in Feat.iterrows():\n",
    "    g = r['gene_id']\n",
    "    a = r['functions']\n",
    "    t = r['gene_type']\n",
    "    ngenes = ngenes + 1\n",
    "    # print(a)\n",
    "    # print(\"============\")\n",
    "    \n",
    "    # Keep only CDS\n",
    "    if t != 'CDS':\n",
    "        continue\n",
    "    ncds = ncds + 1\n",
    "    # Skip unannotated genes\n",
    "    if pd.isnull(a):\n",
    "        continue\n",
    "    nannot = nannot + 1\n",
    "    \n",
    "    d = split_gene_annotations(functions=a,\n",
    "                               append_which=append_which)\n",
    "    d['Gene'] = g\n",
    "    \n",
    "    # Select annotation\n",
    "    if not pd.isnull(which):\n",
    "        d = d.loc[ d.Type == which, :]\n",
    "    \n",
    "    # Append only if it has rows\n",
    "    if len(d.index) > 0:\n",
    "        nwhich = nwhich + 1\n",
    "        Res = Res.append(d)\n",
    "\n",
    "Res = Res.drop(['Type'], axis = 1)\n",
    "    "
   ]
  },
  {
   "cell_type": "code",
   "execution_count": 6,
   "metadata": {},
   "outputs": [
    {
     "name": "stdout",
     "output_type": "stream",
     "text": [
      "10 10 8 3\n"
     ]
    }
   ],
   "source": [
    "print(ngenes,ncds,nannot,nwhich)"
   ]
  },
  {
   "cell_type": "code",
   "execution_count": 7,
   "metadata": {},
   "outputs": [
    {
     "data": {
      "text/html": [
       "<div>\n",
       "<style>\n",
       "    .dataframe thead tr:only-child th {\n",
       "        text-align: right;\n",
       "    }\n",
       "\n",
       "    .dataframe thead th {\n",
       "        text-align: left;\n",
       "    }\n",
       "\n",
       "    .dataframe tbody tr th {\n",
       "        vertical-align: top;\n",
       "    }\n",
       "</style>\n",
       "<table border=\"1\" class=\"dataframe\">\n",
       "  <thead>\n",
       "    <tr style=\"text-align: right;\">\n",
       "      <th></th>\n",
       "      <th>Annotation</th>\n",
       "      <th>Gene</th>\n",
       "    </tr>\n",
       "  </thead>\n",
       "  <tbody>\n",
       "    <tr>\n",
       "      <th>0</th>\n",
       "      <td>GO:0003723</td>\n",
       "      <td>579138.3.peg.1</td>\n",
       "    </tr>\n",
       "    <tr>\n",
       "      <th>1</th>\n",
       "      <td>GO:0003735</td>\n",
       "      <td>579138.3.peg.1</td>\n",
       "    </tr>\n",
       "    <tr>\n",
       "      <th>2</th>\n",
       "      <td>GO:0005622</td>\n",
       "      <td>579138.3.peg.1</td>\n",
       "    </tr>\n",
       "    <tr>\n",
       "      <th>3</th>\n",
       "      <td>GO:0005840</td>\n",
       "      <td>579138.3.peg.1</td>\n",
       "    </tr>\n",
       "    <tr>\n",
       "      <th>4</th>\n",
       "      <td>GO:0006412</td>\n",
       "      <td>579138.3.peg.1</td>\n",
       "    </tr>\n",
       "    <tr>\n",
       "      <th>0</th>\n",
       "      <td>GO:0005524</td>\n",
       "      <td>579138.3.peg.3</td>\n",
       "    </tr>\n",
       "    <tr>\n",
       "      <th>1</th>\n",
       "      <td>GO:0016887</td>\n",
       "      <td>579138.3.peg.3</td>\n",
       "    </tr>\n",
       "    <tr>\n",
       "      <th>0</th>\n",
       "      <td>GO:0004239</td>\n",
       "      <td>579138.3.peg.10</td>\n",
       "    </tr>\n",
       "  </tbody>\n",
       "</table>\n",
       "</div>"
      ],
      "text/plain": [
       "   Annotation             Gene\n",
       "0  GO:0003723   579138.3.peg.1\n",
       "1  GO:0003735   579138.3.peg.1\n",
       "2  GO:0005622   579138.3.peg.1\n",
       "3  GO:0005840   579138.3.peg.1\n",
       "4  GO:0006412   579138.3.peg.1\n",
       "0  GO:0005524   579138.3.peg.3\n",
       "1  GO:0016887   579138.3.peg.3\n",
       "0  GO:0004239  579138.3.peg.10"
      ]
     },
     "execution_count": 7,
     "metadata": {},
     "output_type": "execute_result"
    }
   ],
   "source": [
    "Res"
   ]
  },
  {
   "cell_type": "code",
   "execution_count": null,
   "metadata": {
    "collapsed": true
   },
   "outputs": [],
   "source": []
  },
  {
   "cell_type": "code",
   "execution_count": null,
   "metadata": {},
   "outputs": [],
   "source": []
  },
  {
   "cell_type": "code",
   "execution_count": null,
   "metadata": {
    "collapsed": true
   },
   "outputs": [],
   "source": []
  },
  {
   "cell_type": "code",
   "execution_count": null,
   "metadata": {},
   "outputs": [],
   "source": []
  },
  {
   "cell_type": "code",
   "execution_count": 9,
   "metadata": {},
   "outputs": [
    {
     "name": "stdout",
     "output_type": "stream",
     "text": [
      "  scaffold_id  start    end          gene_id gene_type strand\n",
      "0    CP002865    210    473   579138.3.peg.1       CDS      +\n",
      "1    CP002865   1218   2669   579138.3.peg.2       CDS      +\n",
      "2    CP002865   2764   4632   579138.3.peg.3       CDS      +\n",
      "3    CP002865   5041   6132   579138.3.peg.4       CDS      +\n",
      "4    CP002865   6197   6331   579138.3.peg.5       CDS      +\n",
      "5    CP002865   6354   6866   579138.3.peg.6       CDS      +\n",
      "6    CP002865   7204   7932   579138.3.peg.7       CDS      +\n",
      "7    CP002865   8003   9004   579138.3.peg.8       CDS      -\n",
      "8    CP002865   9021   9779   579138.3.peg.9       CDS      -\n",
      "9    CP002865   9895  10725  579138.3.peg.10       CDS      +\n"
     ]
    },
    {
     "data": {
      "text/html": [
       "<div>\n",
       "<style>\n",
       "    .dataframe thead tr:only-child th {\n",
       "        text-align: right;\n",
       "    }\n",
       "\n",
       "    .dataframe thead th {\n",
       "        text-align: left;\n",
       "    }\n",
       "\n",
       "    .dataframe tbody tr th {\n",
       "        vertical-align: top;\n",
       "    }\n",
       "</style>\n",
       "<table border=\"1\" class=\"dataframe\">\n",
       "  <thead>\n",
       "    <tr style=\"text-align: right;\">\n",
       "      <th></th>\n",
       "      <th>scaffold_id</th>\n",
       "      <th>start</th>\n",
       "      <th>end</th>\n",
       "      <th>gene_id</th>\n",
       "      <th>gene_type</th>\n",
       "      <th>strand</th>\n",
       "    </tr>\n",
       "  </thead>\n",
       "  <tbody>\n",
       "    <tr>\n",
       "      <th>0</th>\n",
       "      <td>CP002865</td>\n",
       "      <td>209</td>\n",
       "      <td>473</td>\n",
       "      <td>579138.3.peg.1</td>\n",
       "      <td>CDS</td>\n",
       "      <td>+</td>\n",
       "    </tr>\n",
       "    <tr>\n",
       "      <th>1</th>\n",
       "      <td>CP002865</td>\n",
       "      <td>1217</td>\n",
       "      <td>2669</td>\n",
       "      <td>579138.3.peg.2</td>\n",
       "      <td>CDS</td>\n",
       "      <td>+</td>\n",
       "    </tr>\n",
       "    <tr>\n",
       "      <th>2</th>\n",
       "      <td>CP002865</td>\n",
       "      <td>2763</td>\n",
       "      <td>4632</td>\n",
       "      <td>579138.3.peg.3</td>\n",
       "      <td>CDS</td>\n",
       "      <td>+</td>\n",
       "    </tr>\n",
       "    <tr>\n",
       "      <th>3</th>\n",
       "      <td>CP002865</td>\n",
       "      <td>5040</td>\n",
       "      <td>6132</td>\n",
       "      <td>579138.3.peg.4</td>\n",
       "      <td>CDS</td>\n",
       "      <td>+</td>\n",
       "    </tr>\n",
       "    <tr>\n",
       "      <th>4</th>\n",
       "      <td>CP002865</td>\n",
       "      <td>6196</td>\n",
       "      <td>6331</td>\n",
       "      <td>579138.3.peg.5</td>\n",
       "      <td>CDS</td>\n",
       "      <td>+</td>\n",
       "    </tr>\n",
       "    <tr>\n",
       "      <th>5</th>\n",
       "      <td>CP002865</td>\n",
       "      <td>6353</td>\n",
       "      <td>6866</td>\n",
       "      <td>579138.3.peg.6</td>\n",
       "      <td>CDS</td>\n",
       "      <td>+</td>\n",
       "    </tr>\n",
       "    <tr>\n",
       "      <th>6</th>\n",
       "      <td>CP002865</td>\n",
       "      <td>7203</td>\n",
       "      <td>7932</td>\n",
       "      <td>579138.3.peg.7</td>\n",
       "      <td>CDS</td>\n",
       "      <td>+</td>\n",
       "    </tr>\n",
       "    <tr>\n",
       "      <th>7</th>\n",
       "      <td>CP002865</td>\n",
       "      <td>8003</td>\n",
       "      <td>9005</td>\n",
       "      <td>579138.3.peg.8</td>\n",
       "      <td>CDS</td>\n",
       "      <td>-</td>\n",
       "    </tr>\n",
       "    <tr>\n",
       "      <th>8</th>\n",
       "      <td>CP002865</td>\n",
       "      <td>9021</td>\n",
       "      <td>9780</td>\n",
       "      <td>579138.3.peg.9</td>\n",
       "      <td>CDS</td>\n",
       "      <td>-</td>\n",
       "    </tr>\n",
       "    <tr>\n",
       "      <th>9</th>\n",
       "      <td>CP002865</td>\n",
       "      <td>9894</td>\n",
       "      <td>10725</td>\n",
       "      <td>579138.3.peg.10</td>\n",
       "      <td>CDS</td>\n",
       "      <td>+</td>\n",
       "    </tr>\n",
       "  </tbody>\n",
       "</table>\n",
       "</div>"
      ],
      "text/plain": [
       "  scaffold_id  start    end          gene_id gene_type strand\n",
       "0    CP002865    209    473   579138.3.peg.1       CDS      +\n",
       "1    CP002865   1217   2669   579138.3.peg.2       CDS      +\n",
       "2    CP002865   2763   4632   579138.3.peg.3       CDS      +\n",
       "3    CP002865   5040   6132   579138.3.peg.4       CDS      +\n",
       "4    CP002865   6196   6331   579138.3.peg.5       CDS      +\n",
       "5    CP002865   6353   6866   579138.3.peg.6       CDS      +\n",
       "6    CP002865   7203   7932   579138.3.peg.7       CDS      +\n",
       "7    CP002865   8003   9005   579138.3.peg.8       CDS      -\n",
       "8    CP002865   9021   9780   579138.3.peg.9       CDS      -\n",
       "9    CP002865   9894  10725  579138.3.peg.10       CDS      +"
      ]
     },
     "execution_count": 9,
     "metadata": {},
     "output_type": "execute_result"
    }
   ],
   "source": [
    "# Get BED format dataframe\n",
    "Bed = Feat[ ['scaffold_id', 'start', 'end', 'gene_id', 'gene_type', 'strand']].copy()\n",
    "Bed.reset_index(drop=True)\n",
    "print(Bed)\n",
    "Bed.loc[ Bed.strand == '+', 'start'] = Bed.loc[ Bed.strand == '+', 'start'] - 1\n",
    "Bed.loc[ Bed.strand == '-', 'end'] = Bed.loc[ Bed.strand == '-', 'end'] + 1\n",
    "Bed"
   ]
  },
  {
   "cell_type": "code",
   "execution_count": 11,
   "metadata": {},
   "outputs": [
    {
     "data": {
      "text/plain": [
       "0     88.0\n",
       "1    484.0\n",
       "2    623.0\n",
       "3    364.0\n",
       "4     45.0\n",
       "5    171.0\n",
       "6    243.0\n",
       "7    334.0\n",
       "8    253.0\n",
       "9    277.0\n",
       "dtype: float64"
      ]
     },
     "execution_count": 11,
     "metadata": {},
     "output_type": "execute_result"
    }
   ],
   "source": [
    "(Bed.end - Bed.start)/3"
   ]
  },
  {
   "cell_type": "code",
   "execution_count": 12,
   "metadata": {},
   "outputs": [
    {
     "data": {
      "text/plain": [
       "<BedTool(/tmp/pybedtools.g5e9_m5f.tmp)>"
      ]
     },
     "execution_count": 12,
     "metadata": {},
     "output_type": "execute_result"
    }
   ],
   "source": [
    "# create BedTool and obtain sequences\n",
    "Bed = bed.BedTool.from_dataframe(Bed)\n",
    "Bed.sequence(fi=fasta, s=True, name=True)"
   ]
  },
  {
   "cell_type": "code",
   "execution_count": 13,
   "metadata": {},
   "outputs": [
    {
     "name": "stdout",
     "output_type": "stream",
     "text": [
      ">579138.3.peg.1(+)\n",
      "ATGGCGAATACGCCGCAGGCAAAAAAGCGCATCCGTCGTAATGACCGTCGCGCTGAGATTAACGGCAATCGTATTAGCCGTATCCGTACTTTTATCAAAAAGGTTGAGTCTGCTATTGAAGCGGGCAATAAAACCGATGCAGAACAAGCTTTAGCCGCTGCACAGCCGGAATTGTTCCGCGGTGTTTCTAAAGGCATTTTGCATAAAAATACGGCTTCACGGAAATTCTCCCGTTTGGTTAAGAGCGTTACCGCTTTAGCCTAA\n",
      ">579138.3.peg.2(+)\n",
      "ATGAATATCCCGGTACAAGACCAGGCATCATTACTGCCGGCTGCATGGAATGAAGTGCGTCAAATTTTGCGTAAAAAATGTGGTACACGTACTTTTGAAAGCTGGCTAAAATCTCTGGCACTCGCCGATTTTGATAACACTCATAAAATAATACGTTTGGCCTGTCCCAGTGAGTTTATGGCCAATTGGGTTTCTGCTCATTTATCTGATGAATTATTATTAGCATGGCGGACAGTCTGGCCTGGTATTACCGAAGTAAAGATAACCGTTCGCAATCCAAGTGCTCAACCTTTATTATTAGACGTTACAGAAATCGAATTACCCTTAGGCGACCATCCTCAACCCGTTGTCAAAAAAGCGAGCAAAAAAAAACAACCTTCGGCTACCATTGTTCCCCCTGCGTCAGCAGATGAATCCGAAAAGGATAGCCAAGGCCAGTTTGAAGAGCGCTATAATTTCGATAATTTTGTTGTTGGCAAGGCAAATGACCTCGCTTATCGCGCGGCCTGCACTTTTGCAGAAGGTGGAAAGCTCGATTTCAACCCGCTTTTTTTACATGGTGGAACGGGTCTTGGTAAAACCCATTTGATGCATGCGGTCGGGCTCGAATATTTAAAGCGTCATCCTAACAGTTCGGCAATTTATATGTCTGCCGAAAAATTCATGTATGATTTTGTCGCGGCCATGCGGGCGAAAGATACGCATAGCTTCAAGGCCAGATTGCGTTCCGCTGATCTTTTAATGATTGATGATGTCCAGTTTATCGCTGGAAAGGATTCTACACAGGAAGAATTCTTCCATACGATGAATGAGGTGATTACAGCCGGACGACGGCTCGTGATTTCAGCCGATCGTAGTCCTCAAGATTTAGAACGGATTGAAAGCCGTATTCTTTCCCGCTTGTCATGGGGCTTGGTTGCGGATGTTAATCCCGCTGATTTTGAGCTGCGGCTCAATATCATTCTGAAAAAATTAGAAGCTATGCCTCAGGTCACTGTCCCTGAAGACATTGTTTTCTTTCTTGCGAAGCGCATATGCACGAATGTTCGTGAATTGGAAGGCGCGCTTAATAGGGTTGTTGCCTATGCAACTCTTTCCAATCGGCCGATTGACATGGATTTTGTCACAGAAACCTTGGCCGATTTATTGCGCTCAACGCAAAAACGCATAACGGTTGAAGAAATTCAAAAGCGGGTTTGCGACCATTATCGTTTGAAATTAGCTGATATGAGTTCAAAAAGACGTGACCGGATTATTGCCCGCCCGCGGCAGGTCGCCATGTATTTATCCAAATATCTGACACCTCGTTCTTTACCTGAAATTGGTCAGCGTTTTGGGGGGCGGGATCATACAACCGTTATTCATGCGATTCGTCAGGTAGAAAAATTGCGTTTAATAGATGAAGAAGTTGATTCTGATGTCCGTATGCTGATGCGTCAGCTTGAAGGATAA\n",
      ">579138.3.peg.3(+)\n",
      "ATGCTTAGTTTTTCGGCCATTACTGTCCGGCTTGGGGGCCGACTTATCCTTGATCAGGCAACTGCGAGTTTACCACCCGGCAGTCATGTGGGTCTCATCGGGCGGAATGGCGCGGGTAAATCCACTTTGATGAAAGTGGTCGCAGGCCTCTTAGAATCCGATGGGGGCACGTTATCTATGCCCCGTGAAACCCGTATCGGCTATATTGCACAGGAAGCGCCAGAAGGGACGGCTACACCTTATGAAACGGTGTTAGCGGCGGATAAAGAGCGTGCAACGCTTATGGCTGCAAGTGAAACCGAAGCCGATCTTGAAAAGCTAGCGGAAATTCACGAAAGATTAAATGCCATCGACGCCTACACCGCGCCAGCACGGGCATCCCGTATTCTGGCAGGTCTTGGTTTCGATGAAACGATGCAGGCACAACCCCTTTCATCTTTTTCAGGTGGTTGGCGTATGCGGGTTGCTTTAGGGGCATTATTATTTTCTGCGCCAGATTTATTGTTGCTTGATGAACCGTCAAACCATCTCGATTTGGAAGCGGTATTATGGCTTGAAAATTTCCTTCGTTCTTATCGTGGGACTTTGCTTTTAATTAGCCACGAACGTGATTTTCTGAACAAAGTTGCTGATCATATTCTTCACCTTCAACAGGGAAAACTAACTCTTTATCCAGGGGGATATGATGCTTTTGAACGACAGCGGGCTGAACGTTTGTCGCAAGTCGAAGCAGCGCGTAATCGCCAACTAGCGGAAAGAGAAAAACTGCAAAGCTTTGTCAACCGCTGGCGCACAAAAGCACATAGCGCCCGCCAAGCACAAAGTCGAATGAAGGCGTTAGAAAAAATGGAACCCATCGCGGCGGCGGTTGAAGATCCATCGCTCAGTTTTTCCTTCCCCAGTCCCGATGCCAATTTGAAACCGCCTTTAATAACCTTGGATCAGGCTTCTGTTGGCTATGGGGAAAAGCCCATTCTAAGCCATCTCAATTTACGGATTGATCCTGATGACCGGCTCGCTTTCATTGGTCGAAATGGTAATGGTAAGACGACTTTAGCTAAATTATTAGTCGGGCAGTTATCTACGCTTGAAGGCGCTATGACCACCTCGTCTAAAATCAAAGTGGGCTATTTTACGCAATATCAGGTCGAAGAATTAGATGTTGAGGATAGCCCTCTTGATCATATGACGCGATTGATGCCCGGTTCGCCTACGGCTGCGGTTCGTGCCCAGCTGGGACGATTTGGTTTTTCAGGGGAAAAGGCAACTCAAAAAGTAGGCAGCATGTCTGGTGGTGAACGGGCAAGATTAGCTTTAGCTTTGATTACGCGTGATGCGCCTCATCTGTTGATTTTGGATGAGCCTACTAACCATTTAGATGTGGATGTTCGACAAGCCTTGATCGAAGCTTTAGCTGAATATCGGGGGGCTGTTATTATCGTTTCACATGACCGTCATATGTTGGAATTAACCGCTGATCGTCTTATTCTGGTCGATAATGGTAATGCTTCTGATTTTGAGGGTGATCTTGATGATTATACGGATTTTATCTTAGGCCGAAATGATCGGATAACTAGTGGTCAAAATACACCAAAGCCTCAAGATCGTAAGGCTGAAAAAAAGGCACGAGCTGAAGCCCGGCAAAAAAATAAAATTTTGCGGGATGAAATTAAAAAATTAGAATTAAAAATATCGCAATTAACAGCTAGAAGAAATGAAATAGATCAAGCTTTGTTCGATCCAAAATCGGCTTCTTCTAAAGATAAATCACTTACAGTTACTGAACTTATGAAGTTACGTTCTGATGTTGAAGAAGAATTAAACCAAAAAGAAGCCCTGTGGTTGGAAAAAAGTGAAACTCTAGAGTAA\n",
      ">579138.3.peg.4(+)\n",
      "ATGCGTAAGCTGGCCATTGTGGCTGCGCTCGCCTCTAGCGCAATAGCTGCACCGGCGCTTGCCCGCGATGGTGCGTGGTATGTCAGCGTCGACGGCGGCGGTTTGTTCGTCGAGGATATACATTATAAACTGCCGGGTGCCCAATCTGCAAGAATGGGTAACAAAGCAGGTTACGATGTAGATGCCAATGTTGGTTACGACTTCGGGCCGTTCCGTGTAGAAGGTGAAGCCGCCTATAAAAGTGCCAATAATGGCAACTTTTCATCAGGAGGTACTACCGCCAAAAGCCATGGATCGACTGATGTTCTAAGCTTCATGTTGAATGGTATGTTCGACTTTGGCGGCAAAAATGACGGCGTTTCCGGCTTTATCGGAGGTGGTGTCGGTGTCGCTCGCGTCGCTCTTAACCATTACTCATTAGGCGGCACTAGTAGCTTCGCCAATGATTCTGATGCGCATTTTGCGTGGCAGGTAATCGCTGGTATCCGTAAGCCGGTCACTAAGATGATCGACTTCGAATTGAAGTACCGCTTCTTCAATGTGAACGGTTTGAACTTCCAGACCACCGACATGGGTAACATGTCTGGCCGTTATCGTTCGCATAGTGTGTTGGCCGGCTTGGTATTTAACTTTGGTGAACCGAAGGCTTCGCCTCCACCACCACCACCGCCACCTCCGCCACCACCACCACCGCCACCTCCGCCACCACCACCTGCGCCGCCACCACCACCTCCGCCTCCGGCAATTCCGGGACCGTTCTTGGTGTTCTTTGACTTTGACAAGTACAATATTACGCCAGAAGCAGCGTCAATTCTTGACAACGTGGCCTCGTCTTACGATCAGACGGGACAAGCACGTGTGGTTCTTGCGGGTCATACCGACACCATGGGTTCTGCCAAATATAACATGGGTCTGTCACAGCGCCGTGCAGATTCTGTTAAGGCTTATCTGGTTGGAAAAGGTATTCCTGAAGATGCAATGGCTACCGAAGCTTTCGGTAAAACGCATCTCTTGGTACAGACCGCTGATGGTGTTCGTGAACCTCAGAATCGCCGCGTCGAAATCACTTTCGGTCCAGGTTCTGATCAATAA\n",
      ">579138.3.peg.5(+)\n",
      "ATGATCACGGTATTTTTTATATTTTTCCAAGGTAAAAAAGGCCGCACATCCGACCTCGGCATTTTATCTGATTTTATATTATTAGGGATGTTTTTTAAGAAAGATCGGCCTAAACTTTCTTTAGAATCTGAATAA\n",
      ">579138.3.peg.6(+)\n",
      "ATGTCCCATGATATAGACCGTGATATTGCTGCCGTAAAACAGCAAGAAGCGTTACTTCATTTACCCGAATTTAATGAAGAAATTGCATGGCAGCTAGGATCTTATATCCGCGCTATAGCCGGTAAAGAAAAACTGCCGATTGCTATCGCCGTGGCGCGTTTTAATCAGCCTCTTTTTTATGCGGCGATGCCTAATAGTTCTCCCGATAATAGAAACTGGATTCGACGCAAAGTGGCAACGGTTGCGCATTATTTCTCAAGTTCTTACGCTATCGGTTTGAAATTAAAGAAAAAAGGCGAAAAATCCTTAGCGTGTTATGGTTTAGATGATAGCCAATATGCTTTTCATGGTGGTGCTTTTCCTATTTTCGTTAAAAATGCCGGTATTGTTGGCTATATAGCTGTGTCAGGACTGGATCAGCGTGATGATCATGCTTTGGTCGTAATGACCTTGGCGCAACATTTAGGAATTGATCCTAAAACTGTCTCGTTAGATACCTTAATTACCGCCTAA\n",
      ">579138.3.peg.7(+)\n",
      "ATGGCAAATTGGAATGATCCTCGGGTGAGCGCGATGGGATCTGCGACACCTGGTCGTGCCGGATCGTCGGAGCGTGACGCCGGTCTTCGCTCCTATATGCTTTCGGTTTATAATTATATGGCTGGTGGGGTATTATTCACCGGTATCGTTGCTTATTTACTGGCCCATTCATCCTTGGGTGAAGCTATTATTTTTTCACCCTTACGTTGGGTTGCAATTCTGGCACCGCTTGCCTTTGTTTTTGCTTTAAGTGCAGGGGTGAACCGTTTCAGCCTTTCGACATTACGCGGCCTTTTTTGGGCTTATGCCGGTGTAATGGGCGTATCCATGTCGGTTATTTTCTTTGTATATACCGGCACTTCTATTGCTCAGACGTTTTTTGCAGCGGCGGCAGGATTCGCCGGTTTAAGTCTGTTGGGTTATACGACCAAAAAAGATTTATCCGCGTTTGGTAGCTTTCTGATCATGGGCGTCTTTAGTTTAATCATTGCCTCTCTTGTGGGAATGTTCTTTCATTCTTCACAATTACAATTTGTGATTAGTGCCTTTGGCGTACTGATTTTCGCAGGTTTGACGGCTTATGATACTCAGCAGATCAAAAGCCTCTATTTTATGAGTTCAGATAGAGAATATACCGGAAAATTGGCGATTATGGGAGCTTTGAGCCTTTATCTCGATTTCATCAATATGTTCAACTATCTGTTGAGCTTTATGGGTGATCGCCGCTAA\n",
      ">579138.3.peg.8(-)\n",
      "TATGGGGTTTAAAACGCTTTCTGACGAAATAGTCTCTTTGAGACAACAAATAAATCGTCGATGTTTTAGCCGAAATTTTTTAAATTTGAGTATAACAACGCTTATAGGTCTTGGATTCTCGGGTAAAAGTATGGCTGCCGAGACTGAGGGTAATACTACATCGACTAAACCTGCCGAGTTGCCTTTTCCTATTGATAAAGGCGATGATAATCCGCTTTTAAATACCCATCGGGTTCACTGGAAAGTCTCTAATGGTGAATTGATGCATGGCTATATTGCGGTGCCCGCCGTTGCGCGCGGGAAATTACCGGCGGTCATGGTGGTACATGATGAAAACGGACTGGATTTTGAAGCGCGCGAAGTTGCCCGGCAGATGGCCCTTAAGGGATATATTGCGCTTGCGCCGGATTTCTTATCCCCTTGGGGTGGAACCCCGAAAGATACGGCCAAGGCAAAAGCAATGATTGGGGCTTTTGATATGCCATGGGTCATCAAAGATGCCGTCATGACGATTGCATGGTTAAAGAACCAACGTTATTCAACCGGCAAGGTAGGGGCTATCGGCCTTGGTTGGGGCGGGAAATTAGTAGAATATACAGCCGCCCAAGCCAATACCGATCTATTGGCTGCAGTGACTTATTATAGTCCCTCTCCACCTGTTGCAGAGGCCGCGAAAATTAAAACGCCTTTACAGCTCCATTTCGGCACCATGGACCAAAAGATTGATGTCGAAGCCCTTGATTGGATTGAAGCCTTAAAAGCCGCCTCCGTACCCTTGGAATGCTATTTTTATCCTAATTCCGGCCACGGTTTTATGGATGAAACGCAGACCAATTATAACCAAGCGGCCTCTCAACAGGCATGGGCAAGAAGTACCGAATTTCTAGCTAAATATTTAGAACCCAAGCCGGCTTTGCTTCGCAAAATAGAAAAAGATGAACAAAAACAGGCAAAAAATCTGTCAGATTCCAGCATGGCCCCAGCCACCCCGGAGAAGCCTTA\n",
      ">579138.3.peg.9(-)\n",
      "TATGGAAAATAATCGTATATGGACAGCGGCTTTGCTGATAATTGGCGATGAAATCTTGTCGGGACGGACGGAAGATAAAAATATTGCTCAAATTGCCTCATGGCTCAATATACAAGGGATAAGGCTGACAGAAGTACGCGTTATTCCCGATGATGATACGAGGATAGTTGCGGCTGTACGCGATTTAAAAGACAGCCATGATTATTTATTCACTACCGGAGGGATTGGCCCAACCCATGATGATATTACGGTAGAAGGTATCAGCCACGCGCTTGATTTGCCGATAGTCATTCATCCAGATGCTCGGAAATGCCTTGAAGAATATTATTCTGATCGGGGCGGCCTGACCCCTGCCCGTCTTCTAATGGCGCGGGTTCCCAAAGGTAGCACGCTCATTAAAAACCCAATATCGGGCGCGCCAGGAATCCATATTCAAAATATTTTTATTCTGGCCGGTGTTCCTAAAATTGTAACGACGATGTTGGAAAGTCTTAATGGCACTTTAAAAGGGGGGAAACCGGTTTTATCGCGTACTATTGGGACATGGGATGGTGAAAGCCGTATTGCCAAAACATTGAGAGAAACTGAAAAAGACCATCCTGATTGCAAATTAGGCAGCTACCCTTTCTTTCGGAATGGTAGCGGCGGGGTCAATTTGGTCATCCGATCTACAGATAAAGAATCCTTAAATAAATGTGCACAGGATTTGATAGCGCGTCTTCTGGCTGAAGATTTATCGGCTATTGATGGTGCTATATA\n",
      ">579138.3.peg.10(+)\n",
      "ATGACTGAATATATCTATGTCAAAGATGGCGACACCGCTATTCGTACACATGCCATCAAGCTTTATGATGAAAACGCTTTTGCCGGAATGCGTAAAGCTGGAAGACTGGCTGCTGATGTACTTGATGCACTTGTACCCCACGTCAAACCGGGTATCTCGACCGGAGAACTTGATCGTCTTGCCGATGACCTGATCCGGAAAGGGGGCGGTATCTCTGCCTGCCGTTACTATCGTGGCTATCAAAAGTCGGTATGTATTTCGGCCAATCATATTATATGTCATGGTATCCCAGGCCCCAAAGCATTGAAATCCGGTGATATTATCAATATCGATGTTACGGTTATTGTTGACGGATGGCATGGGGATACCAGCCGAATGTATTTCGTCGGAGATGTCCCCTTAAAAGCTAGAAAATTGGTCGATGTTACGTATCAAGCTTTGATGCTCGGTATCGAACAGGCTCGCCCCGGTAATCATATAGGGGACATCGGGCACGCTATTGCGACACTGGCGGCACAGCATCGCTATGGTGTAGTCCGCGATTTTTGCGGCCATGGCTTGGGCCGCGTCTTTCATGACCGCCCAGAAGTTGTTCATGTCGGTATGCCAGGCGAAGGGCCAGAATTAAGACCGGGTATGCTGTTTACTATTGAACCAATGATCAATATTGGTAAGCCCGATGTTAAAATTTTAGAGGATGGTTGGACGGCGGTTACCCGTGATCGGTCCCTTTCTGCCCAGTTTGAGCATTCTATCGGAATCACGGAAAAGGGTTGCGAAATCTTTACAAAAAGCGCAGCCGGATTAGATGCACCCCCTTATAAGGGGTAA\n",
      "\n"
     ]
    }
   ],
   "source": [
    "# Show results\n",
    "print(open(Bed.seqfn).read())"
   ]
  },
  {
   "cell_type": "code",
   "execution_count": null,
   "metadata": {
    "collapsed": true
   },
   "outputs": [],
   "source": []
  },
  {
   "cell_type": "code",
   "execution_count": null,
   "metadata": {
    "collapsed": true
   },
   "outputs": [],
   "source": []
  },
  {
   "cell_type": "code",
   "execution_count": null,
   "metadata": {},
   "outputs": [],
   "source": []
  },
  {
   "cell_type": "code",
   "execution_count": null,
   "metadata": {},
   "outputs": [],
   "source": []
  },
  {
   "cell_type": "code",
   "execution_count": null,
   "metadata": {},
   "outputs": [],
   "source": []
  },
  {
   "cell_type": "code",
   "execution_count": null,
   "metadata": {},
   "outputs": [],
   "source": [
    "((Feat['end'] - Feat['start']) + 1) / 3"
   ]
  },
  {
   "cell_type": "code",
   "execution_count": null,
   "metadata": {},
   "outputs": [],
   "source": [
    "((Feat['end'] - Feat['start']) + 1)"
   ]
  },
  {
   "cell_type": "code",
   "execution_count": null,
   "metadata": {},
   "outputs": [],
   "source": []
  },
  {
   "cell_type": "code",
   "execution_count": null,
   "metadata": {},
   "outputs": [],
   "source": []
  },
  {
   "cell_type": "code",
   "execution_count": null,
   "metadata": {},
   "outputs": [],
   "source": []
  },
  {
   "cell_type": "code",
   "execution_count": null,
   "metadata": {
    "collapsed": true
   },
   "outputs": [],
   "source": []
  }
 ],
 "metadata": {
  "kernelspec": {
   "display_name": "Python 3",
   "language": "python",
   "name": "python3"
  },
  "language_info": {
   "codemirror_mode": {
    "name": "ipython",
    "version": 3
   },
   "file_extension": ".py",
   "mimetype": "text/x-python",
   "name": "python",
   "nbconvert_exporter": "python",
   "pygments_lexer": "ipython3",
   "version": "3.6.1"
  }
 },
 "nbformat": 4,
 "nbformat_minor": 2
}
