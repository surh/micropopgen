{
 "cells": [
  {
   "cell_type": "code",
   "execution_count": 86,
   "metadata": {
    "collapsed": true
   },
   "outputs": [],
   "source": [
    "# Copyright (C) 2017 Sur Herrera Paredes\n",
    "import pandas as pd\n",
    "import pybedtools as bed\n",
    "# import numpy as np"
   ]
  },
  {
   "cell_type": "code",
   "execution_count": 22,
   "metadata": {
    "collapsed": true
   },
   "outputs": [],
   "source": [
    "def split_gene_annotations(functions, sep1=';', sep2=':', sep3=','):\n",
    "    \"\"\"Take annotation string from MIDAS database and expand it\n",
    "    into a table of Annotation<->Gene\"\"\"\n",
    "    \n",
    "    # Split strings and create dictionary\n",
    "    by_type = functions.split(sep=sep1)\n",
    "    annotations = {}\n",
    "    for t in by_type:\n",
    "        db, annots = t.split(sep=sep2)\n",
    "        annots = annots.split(sep=sep3)\n",
    "        annotations[db] = annots\n",
    "    \n",
    "    # Get dataframe from dictionary\n",
    "    d = _create_annotation_dataframe(annotations)\n",
    "    return(d)\n",
    "\n",
    "def _create_annotation_dataframe(annotations):\n",
    "    \"\"\"Expands annotation of one gene\"\"\"\n",
    "    \n",
    "    d = pd.DataFrame()\n",
    "    for k,a in annotations.items():\n",
    "        d2 = pd.DataFrame(data = a, columns=['Annotation'])\n",
    "        d2['Type'] = k\n",
    "        #print(d2)\n",
    "        d = d.append(d2)\n",
    "    return(d)"
   ]
  },
  {
   "cell_type": "code",
   "execution_count": 23,
   "metadata": {},
   "outputs": [],
   "source": [
    "# Parameters\n",
    "infile = \"/home/sur/micropopgen/exp/2017/today3/Zymomonas_mobilis_61858/genome.features\"\n",
    "fasta = \"/home/sur/micropopgen/exp/2017/today3/Zymomonas_mobilis_61858/genome.fna\"\n",
    "which = \"GO\"\n",
    "append_which = True"
   ]
  },
  {
   "cell_type": "code",
   "execution_count": 57,
   "metadata": {},
   "outputs": [
    {
     "data": {
      "text/html": [
       "<div>\n",
       "<style>\n",
       "    .dataframe thead tr:only-child th {\n",
       "        text-align: right;\n",
       "    }\n",
       "\n",
       "    .dataframe thead th {\n",
       "        text-align: left;\n",
       "    }\n",
       "\n",
       "    .dataframe tbody tr th {\n",
       "        vertical-align: top;\n",
       "    }\n",
       "</style>\n",
       "<table border=\"1\" class=\"dataframe\">\n",
       "  <thead>\n",
       "    <tr style=\"text-align: right;\">\n",
       "      <th></th>\n",
       "      <th>gene_id</th>\n",
       "      <th>scaffold_id</th>\n",
       "      <th>start</th>\n",
       "      <th>end</th>\n",
       "      <th>strand</th>\n",
       "      <th>gene_type</th>\n",
       "      <th>functions</th>\n",
       "    </tr>\n",
       "  </thead>\n",
       "  <tbody>\n",
       "    <tr>\n",
       "      <th>0</th>\n",
       "      <td>579138.3.peg.1</td>\n",
       "      <td>CP002865</td>\n",
       "      <td>210</td>\n",
       "      <td>473</td>\n",
       "      <td>+</td>\n",
       "      <td>CDS</td>\n",
       "      <td>GO:0003723,0003735,0005622,0005840,0006412;KEG...</td>\n",
       "    </tr>\n",
       "    <tr>\n",
       "      <th>1</th>\n",
       "      <td>579138.3.peg.2</td>\n",
       "      <td>CP002865</td>\n",
       "      <td>1218</td>\n",
       "      <td>2669</td>\n",
       "      <td>+</td>\n",
       "      <td>CDS</td>\n",
       "      <td>FIGFAM:FIG00000441</td>\n",
       "    </tr>\n",
       "    <tr>\n",
       "      <th>2</th>\n",
       "      <td>579138.3.peg.3</td>\n",
       "      <td>CP002865</td>\n",
       "      <td>2764</td>\n",
       "      <td>4632</td>\n",
       "      <td>+</td>\n",
       "      <td>CDS</td>\n",
       "      <td>GO:0005524,0016887;KEGG:0005524,0016887;FIGFAM...</td>\n",
       "    </tr>\n",
       "    <tr>\n",
       "      <th>3</th>\n",
       "      <td>579138.3.peg.4</td>\n",
       "      <td>CP002865</td>\n",
       "      <td>5041</td>\n",
       "      <td>6132</td>\n",
       "      <td>+</td>\n",
       "      <td>CDS</td>\n",
       "      <td>FIGFAM:FIG00988798</td>\n",
       "    </tr>\n",
       "    <tr>\n",
       "      <th>4</th>\n",
       "      <td>579138.3.peg.5</td>\n",
       "      <td>CP002865</td>\n",
       "      <td>6197</td>\n",
       "      <td>6331</td>\n",
       "      <td>+</td>\n",
       "      <td>CDS</td>\n",
       "      <td>NaN</td>\n",
       "    </tr>\n",
       "  </tbody>\n",
       "</table>\n",
       "</div>"
      ],
      "text/plain": [
       "          gene_id scaffold_id  start   end strand gene_type  \\\n",
       "0  579138.3.peg.1    CP002865    210   473      +       CDS   \n",
       "1  579138.3.peg.2    CP002865   1218  2669      +       CDS   \n",
       "2  579138.3.peg.3    CP002865   2764  4632      +       CDS   \n",
       "3  579138.3.peg.4    CP002865   5041  6132      +       CDS   \n",
       "4  579138.3.peg.5    CP002865   6197  6331      +       CDS   \n",
       "\n",
       "                                           functions  \n",
       "0  GO:0003723,0003735,0005622,0005840,0006412;KEG...  \n",
       "1                                 FIGFAM:FIG00000441  \n",
       "2  GO:0005524,0016887;KEGG:0005524,0016887;FIGFAM...  \n",
       "3                                 FIGFAM:FIG00988798  \n",
       "4                                                NaN  "
      ]
     },
     "execution_count": 57,
     "metadata": {},
     "output_type": "execute_result"
    }
   ],
   "source": [
    "Feat = pd.read_csv(infile,sep=\"\\t\")\n",
    "Feat.head()"
   ]
  },
  {
   "cell_type": "code",
   "execution_count": 26,
   "metadata": {},
   "outputs": [],
   "source": [
    "#split_gene_annotations(functions=Feat['functions'][0])"
   ]
  },
  {
   "cell_type": "code",
   "execution_count": 83,
   "metadata": {},
   "outputs": [],
   "source": [
    "ngenes = 0\n",
    "ncds = 0\n",
    "nannot = 0\n",
    "nwhich = 0\n",
    "Res = pd.DataFrame(columns=['Annotation','Type','Gene'])\n",
    "for i, r in Feat.head().iterrows():\n",
    "    g = r['gene_id']\n",
    "    a = r['functions']\n",
    "    t = r['gene_type']\n",
    "    ngenes = ngenes + 1\n",
    "    # print(a)\n",
    "    # print(\"============\")\n",
    "    \n",
    "    # Keep only CDS\n",
    "    if t != 'CDS':\n",
    "        continue\n",
    "    ncds = ncds + 1\n",
    "    # Skip unannotated genes\n",
    "    if pd.isnull(a):\n",
    "        continue\n",
    "    nannot = nannot + 1\n",
    "    \n",
    "    d = split_gene_annotations(functions=a)\n",
    "    d['Gene'] = g\n",
    "    \n",
    "    # Select annotation\n",
    "    if not pd.isnull(which):\n",
    "        d = d.loc[ d.Type == which, :]\n",
    "    \n",
    "    # Append only if it has rows\n",
    "    if len(d.index) > 0:\n",
    "        nwhich = nwhich + 1\n",
    "        Res = Res.append(d)\n",
    "\n",
    "Res = Res.drop(['Type'], axis = 1)\n",
    "    "
   ]
  },
  {
   "cell_type": "code",
   "execution_count": 84,
   "metadata": {},
   "outputs": [
    {
     "name": "stdout",
     "output_type": "stream",
     "text": [
      "5 5 4 2\n"
     ]
    }
   ],
   "source": [
    "print(ngenes,ncds,nannot,nwhich)"
   ]
  },
  {
   "cell_type": "code",
   "execution_count": 85,
   "metadata": {},
   "outputs": [
    {
     "data": {
      "text/html": [
       "<div>\n",
       "<style>\n",
       "    .dataframe thead tr:only-child th {\n",
       "        text-align: right;\n",
       "    }\n",
       "\n",
       "    .dataframe thead th {\n",
       "        text-align: left;\n",
       "    }\n",
       "\n",
       "    .dataframe tbody tr th {\n",
       "        vertical-align: top;\n",
       "    }\n",
       "</style>\n",
       "<table border=\"1\" class=\"dataframe\">\n",
       "  <thead>\n",
       "    <tr style=\"text-align: right;\">\n",
       "      <th></th>\n",
       "      <th>Annotation</th>\n",
       "      <th>Gene</th>\n",
       "    </tr>\n",
       "  </thead>\n",
       "  <tbody>\n",
       "    <tr>\n",
       "      <th>0</th>\n",
       "      <td>0003723</td>\n",
       "      <td>579138.3.peg.1</td>\n",
       "    </tr>\n",
       "    <tr>\n",
       "      <th>1</th>\n",
       "      <td>0003735</td>\n",
       "      <td>579138.3.peg.1</td>\n",
       "    </tr>\n",
       "    <tr>\n",
       "      <th>2</th>\n",
       "      <td>0005622</td>\n",
       "      <td>579138.3.peg.1</td>\n",
       "    </tr>\n",
       "    <tr>\n",
       "      <th>3</th>\n",
       "      <td>0005840</td>\n",
       "      <td>579138.3.peg.1</td>\n",
       "    </tr>\n",
       "    <tr>\n",
       "      <th>4</th>\n",
       "      <td>0006412</td>\n",
       "      <td>579138.3.peg.1</td>\n",
       "    </tr>\n",
       "    <tr>\n",
       "      <th>0</th>\n",
       "      <td>0005524</td>\n",
       "      <td>579138.3.peg.3</td>\n",
       "    </tr>\n",
       "    <tr>\n",
       "      <th>1</th>\n",
       "      <td>0016887</td>\n",
       "      <td>579138.3.peg.3</td>\n",
       "    </tr>\n",
       "  </tbody>\n",
       "</table>\n",
       "</div>"
      ],
      "text/plain": [
       "  Annotation            Gene\n",
       "0    0003723  579138.3.peg.1\n",
       "1    0003735  579138.3.peg.1\n",
       "2    0005622  579138.3.peg.1\n",
       "3    0005840  579138.3.peg.1\n",
       "4    0006412  579138.3.peg.1\n",
       "0    0005524  579138.3.peg.3\n",
       "1    0016887  579138.3.peg.3"
      ]
     },
     "execution_count": 85,
     "metadata": {},
     "output_type": "execute_result"
    }
   ],
   "source": [
    "Res"
   ]
  },
  {
   "cell_type": "code",
   "execution_count": null,
   "metadata": {
    "collapsed": true
   },
   "outputs": [],
   "source": []
  }
 ],
 "metadata": {
  "kernelspec": {
   "display_name": "Python 3",
   "language": "python",
   "name": "python3"
  },
  "language_info": {
   "codemirror_mode": {
    "name": "ipython",
    "version": 3
   },
   "file_extension": ".py",
   "mimetype": "text/x-python",
   "name": "python",
   "nbconvert_exporter": "python",
   "pygments_lexer": "ipython3",
   "version": "3.6.1"
  }
 },
 "nbformat": 4,
 "nbformat_minor": 2
}
