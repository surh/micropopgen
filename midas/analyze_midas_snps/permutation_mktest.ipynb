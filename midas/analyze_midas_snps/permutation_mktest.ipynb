{
 "cells": [
  {
   "cell_type": "code",
   "execution_count": 81,
   "metadata": {
    "collapsed": true
   },
   "outputs": [],
   "source": [
    "import pandas as pd\n",
    "import numpy as np\n",
    "import scipy.stats as stats\n",
    "import matplotlib.pyplot as plt\n",
    "%matplotlib inline"
   ]
  },
  {
   "cell_type": "code",
   "execution_count": 2,
   "metadata": {
    "collapsed": true
   },
   "outputs": [],
   "source": [
    "def determine_site_dist(map, depth, freq, info, depth_thres = 1):\n",
    "    \"\"\"For all sites, determine if they are fixed or polymorphic\"\"\"\n",
    "\n",
    "    Dist = []\n",
    "    for i in range(info.shape[0]):\n",
    "        # Add samples IDs as map header and match samples\n",
    "        # in map with samples in depth\n",
    "\n",
    "        # Create site data frame\n",
    "        site = map.copy()\n",
    "        site['depth'] = depth.loc[ depth.index[i], map.index ]\n",
    "        site['freq'] = freq.loc[ freq.index[i], map.index ]\n",
    "\n",
    "        # Remove samples without information for site\n",
    "        site = site[site.depth >= depth_thres]\n",
    "\n",
    "        # Determine if it is polymorphic or fixed\n",
    "        site_crosstab = pd.crosstab(site.freq >= 0.5, site.Group)\n",
    "        if site_crosstab.shape == (2,2):\n",
    "            if (np.matrix(site_crosstab).diagonal() == [0,0]).all() or (np.fliplr(np.matrix(site_crosstab)).diagonal() == [0, 0]).all():\n",
    "                mutation_type = 'fixed'\n",
    "            else:\n",
    "                mutation_type = 'polymorphic'\n",
    "        else:\n",
    "            mutation_type = np.nan\n",
    "\n",
    "        Dist.append(mutation_type)\n",
    "    \n",
    "    return(Dist)"
   ]
  },
  {
   "cell_type": "code",
   "execution_count": 3,
   "metadata": {
    "collapsed": true
   },
   "outputs": [],
   "source": [
    "def determine_mutation_effect(r):\n",
    "    \"\"\"Mini function for apply, takes a series and checks if the mutation\n",
    "    is synonymous (s) or non-synonymopus (n)\"\"\"\n",
    "    \n",
    "    ii = r.loc[['count_a', 'count_c', 'count_g', 'count_t']] > 0\n",
    "    aa = np.array(r.amino_acids.split(sep=','))\n",
    "\n",
    "    if all(aa[ii][0] == aa[ii]):\n",
    "        effect = 's'\n",
    "    else:\n",
    "        effect = 'n'\n",
    "\n",
    "    return effect"
   ]
  },
  {
   "cell_type": "code",
   "execution_count": 4,
   "metadata": {
    "collapsed": true
   },
   "outputs": [],
   "source": [
    "def mktest_fisher_exact(g):\n",
    "    \"\"\"Per perform the fisher's exact test on a gene MK \n",
    "    contingency table.\"\"\"\n",
    "    \n",
    "    tab = np.array([[g.Dn,g.Pn],[g.Ds,g.Ps]])\n",
    "    oddsratio, pval = stats.fisher_exact(tab, alternative='two-sided')\n",
    "    # oddsratio, pval = stats.fisher_exact(tab, alternative='greater')\n",
    "    \n",
    "    return pval"
   ]
  },
  {
   "cell_type": "code",
   "execution_count": 7,
   "metadata": {
    "collapsed": true
   },
   "outputs": [],
   "source": [
    "def read_and_process_data(map_file, info_file, depth_file, freqs_file,\n",
    "                         groups, cov_thres=1):\n",
    "    \"\"\"Reads MIDAS output files, selects gene sites and samples above threshold,\n",
    "    determines mutation effect (s or n) and makes sure files are consistent\n",
    "    with each other\"\"\"\n",
    "    \n",
    "    # Read data\n",
    "    info = pd.read_csv(info_file, sep=\"\\t\")\n",
    "    depth = pd.read_csv(depth_file, sep=\"\\t\")\n",
    "    freq = pd.read_csv(freqs_file, sep=\"\\t\")\n",
    "\n",
    "    # Remove non gene sites\n",
    "    ii = ~info.gene_id.isnull()\n",
    "    info = info.loc[ii, :]\n",
    "    depth = depth.loc[ii, :]\n",
    "    freq = freq.loc[ii, :]\n",
    "\n",
    "    # Remove site_id columns\n",
    "    depth = depth.drop(axis=1, labels='site_id')\n",
    "    freq = freq.drop(axis=1, labels='site_id')\n",
    "\n",
    "    # subset for tests\n",
    "    info = info.head(1000)\n",
    "    depth = depth.head(1000)\n",
    "    freq = freq.head(1000)\n",
    "\n",
    "    # Determine effect of sites (this is constant and indepentent of samples)\n",
    "    info['Effect'] = info.apply(determine_mutation_effect, axis=1)\n",
    "    \n",
    "    # Check that sample names match between freq and depth\n",
    "    if not all(freq.columns == depth.columns):\n",
    "        raise ValueError(\"Columns don't match between freq and depth files\")\n",
    "\n",
    "        \n",
    "    # Read map file and select groups\n",
    "    map = pd.read_csv(map_file, sep=\"\\t\")\n",
    "    map.index = map.ID\n",
    "    map = map.loc[map.Group.isin(groups),:].copy()\n",
    "    \n",
    "    # Remove samples from other groups\n",
    "    ci = depth.columns.isin(map.ID)\n",
    "    depth = depth.loc[:, ci]\n",
    "    freq = freq.loc[:, ci]\n",
    "\n",
    "    # Reorder map\n",
    "    map = map.loc[depth.columns,:]\n",
    "\n",
    "    # Calculate coverage in sites\n",
    "    map['coverage'] = depth.mean(axis=0)\n",
    "\n",
    "    # Remove samples below coverage\n",
    "    ci = map.coverage >= cov_thres\n",
    "    map = map.loc[ci, :]\n",
    "    depth = depth.loc[:, map.index]\n",
    "    freq = freq.loc[:, map.index]\n",
    "    \n",
    "    return map, freq, info, depth"
   ]
  },
  {
   "cell_type": "code",
   "execution_count": 6,
   "metadata": {
    "collapsed": true
   },
   "outputs": [],
   "source": [
    "def calculate_mk_oddsratio(map, info, depth, freq, depth_thres=1):\n",
    "    \"\"\"Determine if sites are fixed of polymorphic, calculate MK\n",
    "    contingency table per gene, and calculate odds ratio\"\"\"\n",
    "    \n",
    "    if not all(map.index == depth.columns):\n",
    "        raise ValueError(\"Samples in map and depth don't match\")\n",
    "    if not all(map.index == freq.columns):\n",
    "        raise ValueError(\"Samples in map and freq don't match\")\n",
    "    if not all(freq.columns == depth.columns):\n",
    "        raise ValueError(\"Samples in freq and depth don't match\")\n",
    "\n",
    "    # Determine type of mutation\n",
    "    info['Type'] = determine_site_dist(map=map, depth=depth, freq=freq, info=info, depth_thres=depth_thres)\n",
    "    \n",
    "    # Calculate MK contingency table per gene\n",
    "    Genes = pd.DataFrame(columns=['Gene', 'Dn', 'Ds', 'Pn', 'Ps'])\n",
    "    for g in info.gene_id.unique():\n",
    "        dat = info.loc[info.gene_id == g,:].copy()\n",
    "        tab = pd.crosstab(dat.Effect, dat.Type, rownames=['Effect'], colnames=['Type'])\n",
    "        tab = tab.reindex(index=pd.Index(['n','s']), columns=pd.Index(['fixed', 'polymorphic']), fill_value=0)\n",
    "        s = pd.Series(g, index=['Gene']).append(tab.fixed).append(tab.polymorphic)\n",
    "        Genes = Genes.append(pd.DataFrame([list(s)], columns=Genes.columns), ignore_index=True)\n",
    "        \n",
    "    # Calculate ratio\n",
    "    np.seterr(divide='ignore', invalid='ignore')\n",
    "    Genes['ratio'] = pd.to_numeric(Genes.Dn * Genes.Ps) / pd.to_numeric(Genes.Ds * Genes.Pn)\n",
    "    np.seterr(divide='raise', invalid='raise')\n",
    "    Genes.replace(np.inf, np.nan, inplace=True)\n",
    "    # Genes['hg.pval'] = Genes.apply(mktest_fisher_exact, axis=1)\n",
    "    # Genes.head()\n",
    "    \n",
    "    return Genes, info"
   ]
  },
  {
   "cell_type": "code",
   "execution_count": 8,
   "metadata": {
    "collapsed": true
   },
   "outputs": [],
   "source": [
    "map_file = \"/home/sur/micropopgen/data/test_data/midas/map.txt\"\n",
    "depth_file = \"/home/sur/micropopgen/data/test_data/midas/merged.snps/Streptococcus_sp_60086/snps_depth.txt\"\n",
    "info_file = \"/home/sur/micropopgen/data/test_data/midas/merged.snps/Streptococcus_sp_60086/snps_info.txt\"\n",
    "freqs_file = \"/home/sur/micropopgen/data/test_data/midas/merged.snps/Streptococcus_sp_60086/snps_freq.txt\"\n",
    "groups = ['Buccal mucosa', 'Tongue dorsum']\n",
    "depth_thres = 1\n",
    "cov_thres = 3\n",
    "nperm = 99"
   ]
  },
  {
   "cell_type": "code",
   "execution_count": 9,
   "metadata": {},
   "outputs": [],
   "source": [
    "map, freq, info, depth = read_and_process_data(map_file=map_file, info_file=info_file,\n",
    "                                               depth_file=depth_file, freqs_file=freqs_file,\n",
    "                                               groups=groups, cov_thres=cov_thres)\n",
    "Genes, info = calculate_mk_oddsratio(map=map, info=info, depth=depth, freq=freq, depth_thres=depth_thres)"
   ]
  },
  {
   "cell_type": "code",
   "execution_count": 10,
   "metadata": {},
   "outputs": [
    {
     "name": "stdout",
     "output_type": "stream",
     "text": [
      "1\n",
      "2\n",
      "3\n",
      "4\n",
      "5\n",
      "6\n",
      "7\n",
      "8\n",
      "9\n",
      "10\n",
      "11\n",
      "12\n",
      "13\n",
      "14\n",
      "15\n",
      "16\n",
      "17\n",
      "18\n",
      "19\n",
      "20\n",
      "21\n",
      "22\n",
      "23\n",
      "24\n",
      "25\n",
      "26\n",
      "27\n",
      "28\n",
      "29\n",
      "30\n",
      "31\n",
      "32\n",
      "33\n",
      "34\n",
      "35\n",
      "36\n",
      "37\n",
      "38\n",
      "39\n",
      "40\n",
      "41\n",
      "42\n",
      "43\n",
      "44\n",
      "45\n",
      "46\n",
      "47\n",
      "48\n",
      "49\n",
      "50\n",
      "51\n",
      "52\n",
      "53\n",
      "54\n",
      "55\n",
      "56\n",
      "57\n",
      "58\n",
      "59\n",
      "60\n",
      "61\n",
      "62\n",
      "63\n",
      "64\n",
      "65\n",
      "66\n",
      "67\n",
      "68\n",
      "69\n",
      "70\n",
      "71\n",
      "72\n",
      "73\n",
      "74\n",
      "75\n",
      "76\n",
      "77\n",
      "78\n",
      "79\n",
      "80\n",
      "81\n",
      "82\n",
      "83\n",
      "84\n",
      "85\n",
      "86\n",
      "87\n",
      "88\n",
      "89\n",
      "90\n",
      "91\n",
      "92\n",
      "93\n",
      "94\n",
      "95\n",
      "96\n",
      "97\n",
      "98\n",
      "99\n"
     ]
    },
    {
     "data": {
      "text/plain": [
       "array([[ 0.        ,  0.        ,  0.        , ...,  0.        ,\n",
       "         0.        ,         nan],\n",
       "       [ 0.72727273,  0.        ,  0.        , ...,  0.72727273,\n",
       "         0.90625   ,         nan],\n",
       "       [ 1.06666667,  1.96825397,  1.96825397, ...,  1.06666667,\n",
       "         1.36111111,  0.        ],\n",
       "       ..., \n",
       "       [        nan,         nan,         nan, ...,         nan,\n",
       "                nan,         nan],\n",
       "       [        nan,         nan,         nan, ...,         nan,\n",
       "         0.        ,  0.        ],\n",
       "       [        nan,         nan,         nan, ...,         nan,\n",
       "                nan,  0.        ]])"
      ]
     },
     "execution_count": 10,
     "metadata": {},
     "output_type": "execute_result"
    }
   ],
   "source": [
    "if nperm > 0:\n",
    "    Perms = np.empty((Genes.shape[0], nperm + 1))\n",
    "    Perms[:] = np.nan\n",
    "    Perms[:, 0] = Genes.ratio\n",
    "    np.random.seed(5)\n",
    "    for i in range(1,nperm + 1):\n",
    "        # print(i)\n",
    "        map_i = map.copy()\n",
    "        map_i['Group'] = np.random.permutation(map_i.Group)\n",
    "        Genes_i, info_i = calculate_mk_oddsratio(map=map_i, info=info, depth=depth,\n",
    "                                                 freq=freq, depth_thres=depth_thres)\n",
    "        Perms[:, i] = Genes_i.ratio\n",
    "    # Perms\n",
    "\n",
    "    # Calculate permutation p-values\n",
    "    Genes['nperm'] = nperm + 1 - pd.isnull(Perms).sum(axis=1)\n",
    "    np.seterr(invalid='ignore', divide='ignore')\n",
    "    Genes['P'] = np.greater_equal(Perms[: ,np.repeat(0 ,nperm + 1)],Perms).sum(axis=1) / Genes['nperm']\n",
    "    np.seterr(invalid='raise', divide='raise')\n",
    "\n",
    "Genes.head()"
   ]
  },
  {
   "cell_type": "code",
   "execution_count": 96,
   "metadata": {},
   "outputs": [
    {
     "data": {
      "image/png": "[encoded data removed]",
      "text/plain": [
       "<matplotlib.figure.Figure at 0x7f8ef1ae8128>"
      ]
     },
     "metadata": {},
     "output_type": "display_data"
    }
   ],
   "source": [
    "# Plot historgram of permutation p-values\n",
    "plt.hist(Genes['P'][~pd.isnull(Genes.ratio)], bins=20, range=(0,1));"
   ]
  },
  {
   "cell_type": "code",
   "execution_count": 98,
   "metadata": {},
   "outputs": [],
   "source": [
    "# Calculate hg #p-value for analysis\n",
    "Genes['fisher_pval'] = Genes.apply(mktest_fisher_exact, axis=1)\n",
    "# Genes"
   ]
  },
  {
   "cell_type": "code",
   "execution_count": 97,
   "metadata": {},
   "outputs": [
    {
     "data": {
      "image/png": "[encoded data removed]",
      "text/plain": [
       "<matplotlib.figure.Figure at 0x7f8ef1e82160>"
      ]
     },
     "metadata": {},
     "output_type": "display_data"
    }
   ],
   "source": [
    "# Plot historgram of permutation p-values\n",
    "plt.hist(Genes['fisher_pval'][~pd.isnull(Genes.ratio)], bins=20, range=(0, 1));"
   ]
  },
  {
   "cell_type": "code",
   "execution_count": 102,
   "metadata": {},
   "outputs": [
    {
     "data": {
      "text/plain": [
       "[<matplotlib.lines.Line2D at 0x7f8ef1d82e48>]"
      ]
     },
     "execution_count": 102,
     "metadata": {},
     "output_type": "execute_result"
    },
    {
     "data": {
      "image/png": "[encoded data removed]",
      "text/plain": [
       "<matplotlib.figure.Figure at 0x7f8ef1d9b978>"
      ]
     },
     "metadata": {},
     "output_type": "display_data"
    }
   ],
   "source": [
    "plt.plot(x=Genes['fisher_pval'][~pd.isnull(Genes.ratio)],y=Genes['P'][~pd.isnull(Genes.ratio)],\"o\",)"
   ]
  },
  {
   "cell_type": "code",
   "execution_count": 99,
   "metadata": {},
   "outputs": [
    {
     "data": {
      "text/plain": [
       "0    1.000000\n",
       "1    0.722024\n",
       "2    1.000000\n",
       "3    0.612616\n",
       "5    0.509556\n",
       "Name: fisher_pval, dtype: float64"
      ]
     },
     "execution_count": 99,
     "metadata": {},
     "output_type": "execute_result"
    }
   ],
   "source": []
  },
  {
   "cell_type": "code",
   "execution_count": 100,
   "metadata": {},
   "outputs": [
    {
     "data": {
      "text/plain": [
       "0    1.000000\n",
       "1    0.475000\n",
       "2    0.692308\n",
       "3    1.000000\n",
       "5    0.730769\n",
       "Name: P, dtype: float64"
      ]
     },
     "execution_count": 100,
     "metadata": {},
     "output_type": "execute_result"
    }
   ],
   "source": []
  },
  {
   "cell_type": "code",
   "execution_count": null,
   "metadata": {
    "collapsed": true
   },
   "outputs": [],
   "source": []
  },
  {
   "cell_type": "code",
   "execution_count": 73,
   "metadata": {},
   "outputs": [
    {
     "data": {
      "text/plain": [
       "(array([ 1.,  0.,  0.,  0.,  0.,  0.,  0.,  0.,  1.,  1.,  0.,  0.,  0.,\n",
       "         0.,  0.,  0.,  0.,  0.,  0.,  1.]),\n",
       " array([ 0.475  ,  0.50125,  0.5275 ,  0.55375,  0.58   ,  0.60625,\n",
       "         0.6325 ,  0.65875,  0.685  ,  0.71125,  0.7375 ,  0.76375,\n",
       "         0.79   ,  0.81625,  0.8425 ,  0.86875,  0.895  ,  0.92125,\n",
       "         0.9475 ,  0.97375,  1.     ]),\n",
       " <a list of 20 Patch objects>)"
      ]
     },
     "execution_count": 73,
     "metadata": {},
     "output_type": "execute_result"
    }
   ],
   "source": [
    "plt.hist(Genes['P'][~pd.isnull(Genes.ratio) & Genes.Dn > 0], bins=20)"
   ]
  },
  {
   "cell_type": "code",
   "execution_count": 79,
   "metadata": {
    "collapsed": true
   },
   "outputs": [],
   "source": []
  },
  {
   "cell_type": "code",
   "execution_count": null,
   "metadata": {
    "collapsed": true
   },
   "outputs": [],
   "source": [
    "%timeit np.matrix(site_crosstab)[:,::-1].diagonal()\n",
    "%timeit np.fliplr(np.matrix(site_crosstab)).diagonal()"
   ]
  }
 ],
 "metadata": {
  "kernelspec": {
   "display_name": "Python 3",
   "language": "python",
   "name": "python3"
  },
  "language_info": {
   "codemirror_mode": {
    "name": "ipython",
    "version": 3
   },
   "file_extension": ".py",
   "mimetype": "text/x-python",
   "name": "python",
   "nbconvert_exporter": "python",
   "pygments_lexer": "ipython3",
   "version": "3.6.1"
  }
 },
 "nbformat": 4,
 "nbformat_minor": 2
}
