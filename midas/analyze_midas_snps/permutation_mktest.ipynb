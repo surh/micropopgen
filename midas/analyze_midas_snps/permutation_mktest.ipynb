{
 "cells": [
  {
   "cell_type": "code",
   "execution_count": 1,
   "metadata": {
    "collapsed": true
   },
   "outputs": [],
   "source": [
    "import pandas as pd\n",
    "import numpy as np\n",
    "import scipy.stats as stats\n",
    "import matplotlib.pyplot as plt\n",
    "%matplotlib inline"
   ]
  },
  {
   "cell_type": "code",
   "execution_count": 2,
   "metadata": {
    "collapsed": true
   },
   "outputs": [],
   "source": [
    "def determine_site_dist(map, depth, freq, info, depth_thres = 1):\n",
    "    \"\"\"For all sites, determine if they are fixed or polymorphic\"\"\"\n",
    "\n",
    "    Dist = []\n",
    "    for i in range(info.shape[0]):\n",
    "        # Add samples IDs as map header and match samples\n",
    "        # in map with samples in depth\n",
    "\n",
    "        # Create site data frame\n",
    "        site = map.copy()\n",
    "        site['depth'] = depth.loc[ depth.index[i], map.index ]\n",
    "        site['freq'] = freq.loc[ freq.index[i], map.index ]\n",
    "\n",
    "        # Remove samples without information for site\n",
    "        site = site[site.depth >= depth_thres]\n",
    "\n",
    "        # Determine if it is polymorphic or fixed\n",
    "        site_crosstab = pd.crosstab(site.freq >= 0.5, site.Group)\n",
    "        if site_crosstab.shape == (2,2):\n",
    "            if (np.matrix(site_crosstab).diagonal() == [0,0]).all() or (np.fliplr(np.matrix(site_crosstab)).diagonal() == [0, 0]).all():\n",
    "                mutation_type = 'fixed'\n",
    "            else:\n",
    "                mutation_type = 'polymorphic'\n",
    "        else:\n",
    "            mutation_type = np.nan\n",
    "\n",
    "        Dist.append(mutation_type)\n",
    "    \n",
    "    return(Dist)"
   ]
  },
  {
   "cell_type": "code",
   "execution_count": 3,
   "metadata": {
    "collapsed": true
   },
   "outputs": [],
   "source": [
    "def determine_mutation_effect(r):\n",
    "    \"\"\"Mini function for apply, takes a series and checks if the mutation\n",
    "    is synonymous (s) or non-synonymopus (n)\"\"\"\n",
    "    \n",
    "    ii = r.loc[['count_a', 'count_c', 'count_g', 'count_t']] > 0\n",
    "    aa = np.array(r.amino_acids.split(sep=','))\n",
    "\n",
    "    if all(aa[ii][0] == aa[ii]):\n",
    "        effect = 's'\n",
    "    else:\n",
    "        effect = 'n'\n",
    "\n",
    "    return effect"
   ]
  },
  {
   "cell_type": "code",
   "execution_count": 4,
   "metadata": {
    "collapsed": true
   },
   "outputs": [],
   "source": [
    "def mktest_fisher_exact(g):\n",
    "    \"\"\"Per perform the fisher's exact test on a gene MK \n",
    "    contingency table.\"\"\"\n",
    "    \n",
    "    tab = np.array([[g.Dn,g.Pn],[g.Ds,g.Ps]])\n",
    "    oddsratio, pval = stats.fisher_exact(tab, alternative='two-sided')\n",
    "    # oddsratio, pval = stats.fisher_exact(tab, alternative='greater')\n",
    "    \n",
    "    return pval"
   ]
  },
  {
   "cell_type": "code",
   "execution_count": 5,
   "metadata": {
    "collapsed": true
   },
   "outputs": [],
   "source": [
    "def read_and_process_data(map_file, info_file, depth_file, freqs_file,\n",
    "                         groups, cov_thres=1):\n",
    "    \"\"\"Reads MIDAS output files, selects gene sites and samples above threshold,\n",
    "    determines mutation effect (s or n) and makes sure files are consistent\n",
    "    with each other\"\"\"\n",
    "    \n",
    "    # Read data\n",
    "    info = pd.read_csv(info_file, sep=\"\\t\")\n",
    "    depth = pd.read_csv(depth_file, sep=\"\\t\")\n",
    "    freq = pd.read_csv(freqs_file, sep=\"\\t\")\n",
    "\n",
    "    # Remove non gene sites\n",
    "    ii = ~info.gene_id.isnull()\n",
    "    info = info.loc[ii, :]\n",
    "    depth = depth.loc[ii, :]\n",
    "    freq = freq.loc[ii, :]\n",
    "\n",
    "    # Remove site_id columns\n",
    "    depth = depth.drop(axis=1, labels='site_id')\n",
    "    freq = freq.drop(axis=1, labels='site_id')\n",
    "\n",
    "    # subset for tests\n",
    "    # info = info.head(1000)\n",
    "    # depth = depth.head(1000)\n",
    "    # freq = freq.head(1000)\n",
    "\n",
    "    # Determine effect of sites (this is constant and indepentent of samples)\n",
    "    info['Effect'] = info.apply(determine_mutation_effect, axis=1)\n",
    "    \n",
    "    # Check that sample names match between freq and depth\n",
    "    if not all(freq.columns == depth.columns):\n",
    "        raise ValueError(\"Columns don't match between freq and depth files\")\n",
    "\n",
    "        \n",
    "    # Read map file and select groups\n",
    "    map = pd.read_csv(map_file, sep=\"\\t\")\n",
    "    map.index = map.ID\n",
    "    map = map.loc[map.Group.isin(groups),:].copy()\n",
    "    \n",
    "    # Remove samples from other groups\n",
    "    ci = depth.columns.isin(map.ID)\n",
    "    depth = depth.loc[:, ci]\n",
    "    freq = freq.loc[:, ci]\n",
    "\n",
    "    # Reorder map\n",
    "    map = map.loc[depth.columns,:]\n",
    "\n",
    "    # Calculate coverage in sites\n",
    "    map['coverage'] = depth.mean(axis=0)\n",
    "\n",
    "    # Remove samples below coverage\n",
    "    ci = map.coverage >= cov_thres\n",
    "    map = map.loc[ci, :]\n",
    "    depth = depth.loc[:, map.index]\n",
    "    freq = freq.loc[:, map.index]\n",
    "    \n",
    "    return map, freq, info, depth"
   ]
  },
  {
   "cell_type": "code",
   "execution_count": 6,
   "metadata": {
    "collapsed": true
   },
   "outputs": [],
   "source": [
    "def calculate_mk_oddsratio(map, info, depth, freq, depth_thres=1):\n",
    "    \"\"\"Determine if sites are fixed of polymorphic, calculate MK\n",
    "    contingency table per gene, and calculate odds ratio\"\"\"\n",
    "    \n",
    "    if not all(map.index == depth.columns):\n",
    "        raise ValueError(\"Samples in map and depth don't match\")\n",
    "    if not all(map.index == freq.columns):\n",
    "        raise ValueError(\"Samples in map and freq don't match\")\n",
    "    if not all(freq.columns == depth.columns):\n",
    "        raise ValueError(\"Samples in freq and depth don't match\")\n",
    "\n",
    "    # Determine type of mutation\n",
    "    info['Type'] = determine_site_dist(map=map, depth=depth, freq=freq, info=info, depth_thres=depth_thres)\n",
    "    \n",
    "    # Calculate MK contingency table per gene\n",
    "    Genes = pd.DataFrame(columns=['Gene', 'Dn', 'Ds', 'Pn', 'Ps'])\n",
    "    for g in info.gene_id.unique():\n",
    "        dat = info.loc[info.gene_id == g,:].copy()\n",
    "        tab = pd.crosstab(dat.Effect, dat.Type, rownames=['Effect'], colnames=['Type'])\n",
    "        tab = tab.reindex(index=pd.Index(['n','s']), columns=pd.Index(['fixed', 'polymorphic']), fill_value=0)\n",
    "        s = pd.Series(g, index=['Gene']).append(tab.fixed).append(tab.polymorphic)\n",
    "        Genes = Genes.append(pd.DataFrame([list(s)], columns=Genes.columns), ignore_index=True)\n",
    "        \n",
    "    # Calculate ratio\n",
    "    np.seterr(divide='ignore', invalid='ignore')\n",
    "    Genes['ratio'] = pd.to_numeric(Genes.Dn * Genes.Ps) / pd.to_numeric(Genes.Ds * Genes.Pn)\n",
    "    np.seterr(divide='raise', invalid='raise')\n",
    "    Genes.replace(np.inf, np.nan, inplace=True)\n",
    "    # Genes['hg.pval'] = Genes.apply(mktest_fisher_exact, axis=1)\n",
    "    # Genes.head()\n",
    "    \n",
    "    return Genes, info"
   ]
  },
  {
   "cell_type": "code",
   "execution_count": 7,
   "metadata": {
    "collapsed": true
   },
   "outputs": [],
   "source": [
    "map_file = \"/home/sur/micropopgen/data/test_data/midas/map.txt\"\n",
    "depth_file = \"/home/sur/micropopgen/data/test_data/midas/merged.snps/Streptococcus_sp_60086/snps_depth.txt\"\n",
    "info_file = \"/home/sur/micropopgen/data/test_data/midas/merged.snps/Streptococcus_sp_60086/snps_info.txt\"\n",
    "freqs_file = \"/home/sur/micropopgen/data/test_data/midas/merged.snps/Streptococcus_sp_60086/snps_freq.txt\"\n",
    "groups = ['Buccal mucosa', 'Tongue dorsum']\n",
    "depth_thres = 1\n",
    "cov_thres = 3\n",
    "nperm = 9"
   ]
  },
  {
   "cell_type": "code",
   "execution_count": 8,
   "metadata": {},
   "outputs": [],
   "source": [
    "map, freq, info, depth = read_and_process_data(map_file=map_file, info_file=info_file,\n",
    "                                               depth_file=depth_file, freqs_file=freqs_file,\n",
    "                                               groups=groups, cov_thres=cov_thres)\n",
    "Genes, info = calculate_mk_oddsratio(map=map, info=info, depth=depth, freq=freq, depth_thres=depth_thres)"
   ]
  },
  {
   "cell_type": "code",
   "execution_count": 11,
   "metadata": {},
   "outputs": [
    {
     "data": {
      "text/html": [
       "<div>\n",
       "<style>\n",
       "    .dataframe thead tr:only-child th {\n",
       "        text-align: right;\n",
       "    }\n",
       "\n",
       "    .dataframe thead th {\n",
       "        text-align: left;\n",
       "    }\n",
       "\n",
       "    .dataframe tbody tr th {\n",
       "        vertical-align: top;\n",
       "    }\n",
       "</style>\n",
       "<table border=\"1\" class=\"dataframe\">\n",
       "  <thead>\n",
       "    <tr style=\"text-align: right;\">\n",
       "      <th></th>\n",
       "      <th>Gene</th>\n",
       "      <th>Dn</th>\n",
       "      <th>Ds</th>\n",
       "      <th>Pn</th>\n",
       "      <th>Ps</th>\n",
       "      <th>ratio</th>\n",
       "      <th>nperm</th>\n",
       "      <th>P</th>\n",
       "    </tr>\n",
       "  </thead>\n",
       "  <tbody>\n",
       "    <tr>\n",
       "      <th>0</th>\n",
       "      <td>1316408.3.peg.1</td>\n",
       "      <td>0.0</td>\n",
       "      <td>7.0</td>\n",
       "      <td>1.0</td>\n",
       "      <td>20.0</td>\n",
       "      <td>0.000000</td>\n",
       "      <td>6</td>\n",
       "      <td>1.000000</td>\n",
       "    </tr>\n",
       "    <tr>\n",
       "      <th>1</th>\n",
       "      <td>1316408.3.peg.2</td>\n",
       "      <td>4.0</td>\n",
       "      <td>11.0</td>\n",
       "      <td>6.0</td>\n",
       "      <td>12.0</td>\n",
       "      <td>0.727273</td>\n",
       "      <td>6</td>\n",
       "      <td>0.666667</td>\n",
       "    </tr>\n",
       "    <tr>\n",
       "      <th>2</th>\n",
       "      <td>1316408.3.peg.3</td>\n",
       "      <td>2.0</td>\n",
       "      <td>15.0</td>\n",
       "      <td>7.0</td>\n",
       "      <td>56.0</td>\n",
       "      <td>1.066667</td>\n",
       "      <td>6</td>\n",
       "      <td>0.333333</td>\n",
       "    </tr>\n",
       "    <tr>\n",
       "      <th>3</th>\n",
       "      <td>1316408.3.peg.4</td>\n",
       "      <td>3.0</td>\n",
       "      <td>4.0</td>\n",
       "      <td>3.0</td>\n",
       "      <td>10.0</td>\n",
       "      <td>2.500000</td>\n",
       "      <td>7</td>\n",
       "      <td>1.000000</td>\n",
       "    </tr>\n",
       "    <tr>\n",
       "      <th>4</th>\n",
       "      <td>1316408.3.peg.5</td>\n",
       "      <td>0.0</td>\n",
       "      <td>0.0</td>\n",
       "      <td>2.0</td>\n",
       "      <td>10.0</td>\n",
       "      <td>NaN</td>\n",
       "      <td>4</td>\n",
       "      <td>0.000000</td>\n",
       "    </tr>\n",
       "  </tbody>\n",
       "</table>\n",
       "</div>"
      ],
      "text/plain": [
       "              Gene   Dn    Ds   Pn    Ps     ratio  nperm         P\n",
       "0  1316408.3.peg.1  0.0   7.0  1.0  20.0  0.000000      6  1.000000\n",
       "1  1316408.3.peg.2  4.0  11.0  6.0  12.0  0.727273      6  0.666667\n",
       "2  1316408.3.peg.3  2.0  15.0  7.0  56.0  1.066667      6  0.333333\n",
       "3  1316408.3.peg.4  3.0   4.0  3.0  10.0  2.500000      7  1.000000\n",
       "4  1316408.3.peg.5  0.0   0.0  2.0  10.0       NaN      4  0.000000"
      ]
     },
     "execution_count": 11,
     "metadata": {},
     "output_type": "execute_result"
    }
   ],
   "source": [
    "if nperm > 0:\n",
    "    Perms = np.empty((Genes.shape[0], nperm + 1))\n",
    "    Perms[:] = np.nan\n",
    "    Perms[:, 0] = Genes.ratio\n",
    "    np.random.seed(5)\n",
    "    for i in range(1,nperm + 1):\n",
    "        # print(i)\n",
    "        map_i = map.copy()\n",
    "        map_i['Group'] = np.random.permutation(map_i.Group)\n",
    "        Genes_i, info_i = calculate_mk_oddsratio(map=map_i, info=info, depth=depth,\n",
    "                                                 freq=freq, depth_thres=depth_thres)\n",
    "        Perms[:, i] = Genes_i.ratio\n",
    "    # Perms\n",
    "\n",
    "    # Calculate permutation p-values\n",
    "    Genes['nperm'] = nperm + 1 - pd.isnull(Perms).sum(axis=1)\n",
    "    np.seterr(invalid='ignore', divide='ignore')\n",
    "    Genes['P'] = np.greater_equal(Perms[: ,np.repeat(0 ,nperm + 1)],Perms).sum(axis=1) / Genes['nperm']\n",
    "    np.seterr(invalid='raise', divide='raise')\n",
    "\n",
    "# Genes.head()"
   ]
  },
  {
   "cell_type": "code",
   "execution_count": 13,
   "metadata": {},
   "outputs": [
    {
     "data": {
      "image/png": "[encoded data removed]",
      "text/plain": [
       "<matplotlib.figure.Figure at 0x7fdc9cff9160>"
      ]
     },
     "metadata": {},
     "output_type": "display_data"
    }
   ],
   "source": [
    "# Plot historgram of permutation p-values\n",
    "plt.hist(Genes['P'][~pd.isnull(Genes.ratio)], bins=20, range=(0,1));"
   ]
  },
  {
   "cell_type": "code",
   "execution_count": 15,
   "metadata": {},
   "outputs": [],
   "source": [
    "# Calculate hg #p-value for analysis\n",
    "Genes['fisher_pval'] = Genes.apply(mktest_fisher_exact, axis=1)"
   ]
  },
  {
   "cell_type": "code",
   "execution_count": 16,
   "metadata": {},
   "outputs": [
    {
     "data": {
      "image/png": "[encoded data removed]",
      "text/plain": [
       "<matplotlib.figure.Figure at 0x7fdc9cd14ba8>"
      ]
     },
     "metadata": {},
     "output_type": "display_data"
    }
   ],
   "source": [
    "# Plot historgram of permutation p-values\n",
    "plt.hist(Genes['fisher_pval'][~pd.isnull(Genes.ratio)], bins=20, range=(0, 1));"
   ]
  },
  {
   "cell_type": "code",
   "execution_count": 17,
   "metadata": {},
   "outputs": [
    {
     "data": {
      "image/png": "[encoded data removed]",
      "text/plain": [
       "<matplotlib.figure.Figure at 0x7fdc9cb99e48>"
      ]
     },
     "metadata": {},
     "output_type": "display_data"
    }
   ],
   "source": [
    "# Compare p-values from perm and fisher exact\n",
    "plt.plot(Genes['fisher_pval'][~pd.isnull(Genes.ratio)], Genes['P'][~pd.isnull(Genes.ratio)],\"o\");"
   ]
  },
  {
   "cell_type": "code",
   "execution_count": null,
   "metadata": {
    "collapsed": true
   },
   "outputs": [],
   "source": []
  },
  {
   "cell_type": "code",
   "execution_count": null,
   "metadata": {
    "collapsed": true
   },
   "outputs": [],
   "source": []
  },
  {
   "cell_type": "code",
   "execution_count": 96,
   "metadata": {},
   "outputs": [
    {
     "data": {
      "image/png": "[encoded data removed]",
      "text/plain": [
       "<matplotlib.figure.Figure at 0x7fdc93555128>"
      ]
     },
     "metadata": {},
     "output_type": "display_data"
    }
   ],
   "source": [
    "def overall_pval(s, dist):\n",
    "    # c = (s >= dist).sum()\n",
    "    c = np.logical_or(s >= dist, np.divide(1,s) <= dist).sum()\n",
    "    p = c / len(dist)\n",
    "    \n",
    "    return p\n",
    "\n",
    "dist = Perms.flatten()\n",
    "dist = dist[~pd.isnull(dist)]\n",
    "\n",
    "np.seterr(divide='ignore', invalid='ignore')\n",
    "Genes['overall_P'] = Genes.ratio.apply(overall_pval, args=(dist,))\n",
    "np.seterr(divide='raise', invalid='raise')\n",
    "# Genes\n",
    "# Plot historgram of overall permutation p-values\n",
    "plt.hist(Genes['overall_P'][~pd.isnull(Genes.ratio)], bins=20, range=(0, 1));"
   ]
  },
  {
   "cell_type": "code",
   "execution_count": 98,
   "metadata": {},
   "outputs": [
    {
     "data": {
      "text/html": [
       "<div>\n",
       "<style>\n",
       "    .dataframe thead tr:only-child th {\n",
       "        text-align: right;\n",
       "    }\n",
       "\n",
       "    .dataframe thead th {\n",
       "        text-align: left;\n",
       "    }\n",
       "\n",
       "    .dataframe tbody tr th {\n",
       "        vertical-align: top;\n",
       "    }\n",
       "</style>\n",
       "<table border=\"1\" class=\"dataframe\">\n",
       "  <thead>\n",
       "    <tr style=\"text-align: right;\">\n",
       "      <th></th>\n",
       "      <th>Gene</th>\n",
       "      <th>Dn</th>\n",
       "      <th>Ds</th>\n",
       "      <th>Pn</th>\n",
       "      <th>Ps</th>\n",
       "      <th>ratio</th>\n",
       "      <th>nperm</th>\n",
       "      <th>P</th>\n",
       "      <th>fisher_pval</th>\n",
       "      <th>overall_P</th>\n",
       "    </tr>\n",
       "  </thead>\n",
       "  <tbody>\n",
       "    <tr>\n",
       "      <th>0</th>\n",
       "      <td>1316408.3.peg.1</td>\n",
       "      <td>0.0</td>\n",
       "      <td>7.0</td>\n",
       "      <td>1.0</td>\n",
       "      <td>20.0</td>\n",
       "      <td>0.000000</td>\n",
       "      <td>6</td>\n",
       "      <td>1.000000</td>\n",
       "      <td>1.000000</td>\n",
       "      <td>0.456140</td>\n",
       "    </tr>\n",
       "    <tr>\n",
       "      <th>1</th>\n",
       "      <td>1316408.3.peg.2</td>\n",
       "      <td>4.0</td>\n",
       "      <td>11.0</td>\n",
       "      <td>6.0</td>\n",
       "      <td>12.0</td>\n",
       "      <td>0.727273</td>\n",
       "      <td>6</td>\n",
       "      <td>0.666667</td>\n",
       "      <td>0.722024</td>\n",
       "      <td>0.789474</td>\n",
       "    </tr>\n",
       "    <tr>\n",
       "      <th>2</th>\n",
       "      <td>1316408.3.peg.3</td>\n",
       "      <td>2.0</td>\n",
       "      <td>15.0</td>\n",
       "      <td>7.0</td>\n",
       "      <td>56.0</td>\n",
       "      <td>1.066667</td>\n",
       "      <td>6</td>\n",
       "      <td>0.333333</td>\n",
       "      <td>1.000000</td>\n",
       "      <td>1.000000</td>\n",
       "    </tr>\n",
       "    <tr>\n",
       "      <th>3</th>\n",
       "      <td>1316408.3.peg.4</td>\n",
       "      <td>3.0</td>\n",
       "      <td>4.0</td>\n",
       "      <td>3.0</td>\n",
       "      <td>10.0</td>\n",
       "      <td>2.500000</td>\n",
       "      <td>7</td>\n",
       "      <td>1.000000</td>\n",
       "      <td>0.612616</td>\n",
       "      <td>1.000000</td>\n",
       "    </tr>\n",
       "    <tr>\n",
       "      <th>4</th>\n",
       "      <td>1316408.3.peg.5</td>\n",
       "      <td>0.0</td>\n",
       "      <td>0.0</td>\n",
       "      <td>2.0</td>\n",
       "      <td>10.0</td>\n",
       "      <td>NaN</td>\n",
       "      <td>4</td>\n",
       "      <td>0.000000</td>\n",
       "      <td>1.000000</td>\n",
       "      <td>0.000000</td>\n",
       "    </tr>\n",
       "    <tr>\n",
       "      <th>5</th>\n",
       "      <td>1316408.3.peg.6</td>\n",
       "      <td>5.0</td>\n",
       "      <td>10.0</td>\n",
       "      <td>14.0</td>\n",
       "      <td>46.0</td>\n",
       "      <td>1.642857</td>\n",
       "      <td>6</td>\n",
       "      <td>1.000000</td>\n",
       "      <td>0.509556</td>\n",
       "      <td>1.000000</td>\n",
       "    </tr>\n",
       "    <tr>\n",
       "      <th>6</th>\n",
       "      <td>1316408.3.peg.7</td>\n",
       "      <td>0.0</td>\n",
       "      <td>0.0</td>\n",
       "      <td>3.0</td>\n",
       "      <td>11.0</td>\n",
       "      <td>NaN</td>\n",
       "      <td>2</td>\n",
       "      <td>0.000000</td>\n",
       "      <td>1.000000</td>\n",
       "      <td>0.000000</td>\n",
       "    </tr>\n",
       "    <tr>\n",
       "      <th>7</th>\n",
       "      <td>1316408.3.peg.8</td>\n",
       "      <td>0.0</td>\n",
       "      <td>0.0</td>\n",
       "      <td>1.0</td>\n",
       "      <td>7.0</td>\n",
       "      <td>NaN</td>\n",
       "      <td>2</td>\n",
       "      <td>0.000000</td>\n",
       "      <td>1.000000</td>\n",
       "      <td>0.000000</td>\n",
       "    </tr>\n",
       "    <tr>\n",
       "      <th>8</th>\n",
       "      <td>1316408.3.peg.9</td>\n",
       "      <td>0.0</td>\n",
       "      <td>0.0</td>\n",
       "      <td>4.0</td>\n",
       "      <td>8.0</td>\n",
       "      <td>NaN</td>\n",
       "      <td>4</td>\n",
       "      <td>0.000000</td>\n",
       "      <td>1.000000</td>\n",
       "      <td>0.000000</td>\n",
       "    </tr>\n",
       "    <tr>\n",
       "      <th>9</th>\n",
       "      <td>1316408.3.peg.10</td>\n",
       "      <td>0.0</td>\n",
       "      <td>0.0</td>\n",
       "      <td>1.0</td>\n",
       "      <td>5.0</td>\n",
       "      <td>NaN</td>\n",
       "      <td>4</td>\n",
       "      <td>0.000000</td>\n",
       "      <td>1.000000</td>\n",
       "      <td>0.000000</td>\n",
       "    </tr>\n",
       "    <tr>\n",
       "      <th>10</th>\n",
       "      <td>1316408.3.peg.11</td>\n",
       "      <td>0.0</td>\n",
       "      <td>0.0</td>\n",
       "      <td>0.0</td>\n",
       "      <td>0.0</td>\n",
       "      <td>NaN</td>\n",
       "      <td>4</td>\n",
       "      <td>0.000000</td>\n",
       "      <td>1.000000</td>\n",
       "      <td>0.000000</td>\n",
       "    </tr>\n",
       "    <tr>\n",
       "      <th>11</th>\n",
       "      <td>1316408.3.peg.12</td>\n",
       "      <td>0.0</td>\n",
       "      <td>0.0</td>\n",
       "      <td>0.0</td>\n",
       "      <td>0.0</td>\n",
       "      <td>NaN</td>\n",
       "      <td>0</td>\n",
       "      <td>NaN</td>\n",
       "      <td>1.000000</td>\n",
       "      <td>0.000000</td>\n",
       "    </tr>\n",
       "    <tr>\n",
       "      <th>12</th>\n",
       "      <td>1316408.3.peg.13</td>\n",
       "      <td>0.0</td>\n",
       "      <td>6.0</td>\n",
       "      <td>0.0</td>\n",
       "      <td>15.0</td>\n",
       "      <td>NaN</td>\n",
       "      <td>4</td>\n",
       "      <td>0.000000</td>\n",
       "      <td>1.000000</td>\n",
       "      <td>0.000000</td>\n",
       "    </tr>\n",
       "    <tr>\n",
       "      <th>13</th>\n",
       "      <td>1316408.3.peg.14</td>\n",
       "      <td>0.0</td>\n",
       "      <td>0.0</td>\n",
       "      <td>0.0</td>\n",
       "      <td>0.0</td>\n",
       "      <td>NaN</td>\n",
       "      <td>2</td>\n",
       "      <td>0.000000</td>\n",
       "      <td>1.000000</td>\n",
       "      <td>0.000000</td>\n",
       "    </tr>\n",
       "  </tbody>\n",
       "</table>\n",
       "</div>"
      ],
      "text/plain": [
       "                Gene   Dn    Ds    Pn    Ps     ratio  nperm         P  \\\n",
       "0    1316408.3.peg.1  0.0   7.0   1.0  20.0  0.000000      6  1.000000   \n",
       "1    1316408.3.peg.2  4.0  11.0   6.0  12.0  0.727273      6  0.666667   \n",
       "2    1316408.3.peg.3  2.0  15.0   7.0  56.0  1.066667      6  0.333333   \n",
       "3    1316408.3.peg.4  3.0   4.0   3.0  10.0  2.500000      7  1.000000   \n",
       "4    1316408.3.peg.5  0.0   0.0   2.0  10.0       NaN      4  0.000000   \n",
       "5    1316408.3.peg.6  5.0  10.0  14.0  46.0  1.642857      6  1.000000   \n",
       "6    1316408.3.peg.7  0.0   0.0   3.0  11.0       NaN      2  0.000000   \n",
       "7    1316408.3.peg.8  0.0   0.0   1.0   7.0       NaN      2  0.000000   \n",
       "8    1316408.3.peg.9  0.0   0.0   4.0   8.0       NaN      4  0.000000   \n",
       "9   1316408.3.peg.10  0.0   0.0   1.0   5.0       NaN      4  0.000000   \n",
       "10  1316408.3.peg.11  0.0   0.0   0.0   0.0       NaN      4  0.000000   \n",
       "11  1316408.3.peg.12  0.0   0.0   0.0   0.0       NaN      0       NaN   \n",
       "12  1316408.3.peg.13  0.0   6.0   0.0  15.0       NaN      4  0.000000   \n",
       "13  1316408.3.peg.14  0.0   0.0   0.0   0.0       NaN      2  0.000000   \n",
       "\n",
       "    fisher_pval  overall_P  \n",
       "0      1.000000   0.456140  \n",
       "1      0.722024   0.789474  \n",
       "2      1.000000   1.000000  \n",
       "3      0.612616   1.000000  \n",
       "4      1.000000   0.000000  \n",
       "5      0.509556   1.000000  \n",
       "6      1.000000   0.000000  \n",
       "7      1.000000   0.000000  \n",
       "8      1.000000   0.000000  \n",
       "9      1.000000   0.000000  \n",
       "10     1.000000   0.000000  \n",
       "11     1.000000   0.000000  \n",
       "12     1.000000   0.000000  \n",
       "13     1.000000   0.000000  "
      ]
     },
     "execution_count": 98,
     "metadata": {},
     "output_type": "execute_result"
    }
   ],
   "source": [
    "Genes.head(20)\n"
   ]
  },
  {
   "cell_type": "code",
   "execution_count": null,
   "metadata": {
    "collapsed": true
   },
   "outputs": [],
   "source": [
    "# Compare p-values from overperm and fisher exact\n",
    "plt.plot(Genes['fisher_pval'][~pd.isnull(Genes.ratio)], Genes['P'][~pd.isnull(Genes.ratio)],\"o\");"
   ]
  },
  {
   "cell_type": "code",
   "execution_count": null,
   "metadata": {
    "collapsed": true
   },
   "outputs": [],
   "source": []
  },
  {
   "cell_type": "code",
   "execution_count": null,
   "metadata": {
    "collapsed": true
   },
   "outputs": [],
   "source": []
  },
  {
   "cell_type": "code",
   "execution_count": 18,
   "metadata": {},
   "outputs": [],
   "source": [
    "# Profiling estimation\n",
    "%load_ext line_profiler"
   ]
  },
  {
   "cell_type": "code",
   "execution_count": 19,
   "metadata": {},
   "outputs": [
    {
     "name": "stdout",
     "output_type": "stream",
     "text": [
      " "
     ]
    }
   ],
   "source": [
    "%prun calculate_mk_oddsratio(map=map, info=info, depth=depth, freq=freq, depth_thres=depth_thres)"
   ]
  },
  {
   "cell_type": "code",
   "execution_count": 25,
   "metadata": {},
   "outputs": [],
   "source": [
    "%lprun -u 1e-3 -f calculate_mk_oddsratio calculate_mk_oddsratio(map=map, info=info, depth=depth, freq=freq, depth_thres=depth_thres)"
   ]
  },
  {
   "cell_type": "code",
   "execution_count": 26,
   "metadata": {
    "collapsed": true
   },
   "outputs": [],
   "source": [
    "%lprun -u 1e-3 -f determine_site_dist determine_site_dist(map=map, depth=depth, freq=freq, info=info, depth_thres=depth_thres)"
   ]
  },
  {
   "cell_type": "code",
   "execution_count": null,
   "metadata": {
    "collapsed": true
   },
   "outputs": [],
   "source": []
  }
 ],
 "metadata": {
  "kernelspec": {
   "display_name": "Python 3",
   "language": "python",
   "name": "python3"
  },
  "language_info": {
   "codemirror_mode": {
    "name": "ipython",
    "version": 3
   },
   "file_extension": ".py",
   "mimetype": "text/x-python",
   "name": "python",
   "nbconvert_exporter": "python",
   "pygments_lexer": "ipython3",
   "version": "3.6.1"
  }
 },
 "nbformat": 4,
 "nbformat_minor": 2
}
