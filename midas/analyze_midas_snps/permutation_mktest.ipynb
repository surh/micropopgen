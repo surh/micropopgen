{
 "cells": [
  {
   "cell_type": "code",
   "execution_count": 1,
   "metadata": {},
   "outputs": [],
   "source": [
    "import pandas as pd\n",
    "import numpy as np\n",
    "import scipy.stats as stats\n",
    "import matplotlib.pyplot as plt"
   ]
  },
  {
   "cell_type": "code",
   "execution_count": 2,
   "metadata": {},
   "outputs": [],
   "source": [
    "def determine_site_dist(map, depth, freq, info, depth_thres = 1):\n",
    "    \"\"\"For all sites, determine if they are fixed or polymorphic\"\"\"\n",
    "\n",
    "    Dist = []\n",
    "    for i in range(info.shape[0]):\n",
    "        # Add samples IDs as map header and match samples\n",
    "        # in map with samples in depth\n",
    "\n",
    "        # Create site data frame\n",
    "        site = map.copy()\n",
    "        site['depth'] = depth.loc[ depth.index[i], map.index ]\n",
    "        site['freq'] = freq.loc[ freq.index[i], map.index ]\n",
    "\n",
    "        # Remove samples without information for site\n",
    "        site = site[site.depth >= depth_thres]\n",
    "\n",
    "        # Determine if it is polymorphic or fixed\n",
    "        site_crosstab = pd.crosstab(site.freq >= 0.5, site.Group)\n",
    "        if site_crosstab.shape == (2,2):\n",
    "            if (np.matrix(site_crosstab).diagonal() == [0,0]).all() or (np.fliplr(np.matrix(site_crosstab)).diagonal() == [0, 0]).all():\n",
    "                mutation_type = 'fixed'\n",
    "            else:\n",
    "                mutation_type = 'polymorphic'\n",
    "        else:\n",
    "            mutation_type = np.nan\n",
    "\n",
    "        Dist.append(mutation_type)\n",
    "    \n",
    "    return(Dist)"
   ]
  },
  {
   "cell_type": "code",
   "execution_count": 3,
   "metadata": {},
   "outputs": [],
   "source": [
    "def determine_mutation_effect(r):\n",
    "    \"\"\"Mini function for apply, takes a series and checks if the mutation\n",
    "    is synonymous (s) or non-synonymopus (n)\"\"\"\n",
    "    \n",
    "    ii = r.loc[['count_a', 'count_c', 'count_g', 'count_t']] > 0\n",
    "    aa = np.array(r.amino_acids.split(sep=','))\n",
    "\n",
    "    if all(aa[ii][0] == aa[ii]):\n",
    "        effect = 's'\n",
    "    else:\n",
    "        effect = 'n'\n",
    "\n",
    "    return effect"
   ]
  },
  {
   "cell_type": "code",
   "execution_count": 4,
   "metadata": {},
   "outputs": [],
   "source": [
    "def mktest_fisher_exact(g):\n",
    "    \"\"\"Per perform the fisher's exact test on a gene MK \n",
    "    contingency table.\"\"\"\n",
    "    \n",
    "    tab = np.array([[g.Dn,g.Pn],[g.Ds,g.Ps]])\n",
    "    oddsratio, pval = stats.fisher_exact(tab, alternative='two-sided')\n",
    "    # oddsratio, pval = stats.fisher_exact(tab, alternative='greater')\n",
    "    \n",
    "    return pval"
   ]
  },
  {
   "cell_type": "code",
   "execution_count": 5,
   "metadata": {},
   "outputs": [],
   "source": [
    "map_file = \"/home/sur/micropopgen/data/test_data/midas/map.txt\"\n",
    "depth_file = \"/home/sur/micropopgen/data/test_data/midas/merged.snps/Streptococcus_sp_60086/snps_depth.txt\"\n",
    "info_file = \"/home/sur/micropopgen/data/test_data/midas/merged.snps/Streptococcus_sp_60086/snps_info.txt\"\n",
    "freqs_file = \"/home/sur/micropopgen/data/test_data/midas/merged.snps/Streptococcus_sp_60086/snps_freq.txt\"\n",
    "groups = ['Buccal mucosa', 'Tongue dorsum']\n",
    "depth_thres = 1\n",
    "cov_thres = 3"
   ]
  },
  {
   "cell_type": "code",
   "execution_count": 6,
   "metadata": {},
   "outputs": [],
   "source": [
    "# Read map file and select groups\n",
    "map = pd.read_csv(map_file, sep=\"\\t\")\n",
    "map.index = map.ID\n",
    "map = map.loc[map.Group.isin(groups),:].copy()"
   ]
  },
  {
   "cell_type": "code",
   "execution_count": null,
   "metadata": {},
   "outputs": [],
   "source": [
    "# Read data\n",
    "info = pd.read_csv(info_file, sep=\"\\t\")\n",
    "depth = pd.read_csv(depth_file, sep=\"\\t\")\n",
    "freq = pd.read_csv(freqs_file, sep=\"\\t\")\n",
    "\n",
    "# Remove non gene sites\n",
    "ii = ~info.gene_id.isnull()\n",
    "info = info.loc[ii, :]\n",
    "depth = depth.loc[ii, :]\n",
    "freq = freq.loc[ii, :]\n",
    "\n",
    "# Remove site_id columns\n",
    "depth = depth.drop(axis=1, labels='site_id')\n",
    "freq = freq.drop(axis=1, labels='site_id')\n",
    "\n",
    "# Get list of genes\n",
    "gene_ids = info.gene_id.unique()\n",
    "\n",
    "# subset for tests\n",
    "# info = info.head(5000)\n",
    "# depth = depth.head(5000)\n",
    "# freq = freq.head(5000)\n",
    "\n",
    "# Determine effect of sites (this is constant and indepentent of samples)\n",
    "info['Effect'] = info.apply(determine_mutation_effect, axis=1)"
   ]
  },
  {
   "cell_type": "code",
   "execution_count": null,
   "metadata": {},
   "outputs": [],
   "source": [
    "# Check that sample names match between freq and depth\n",
    "if not all(freq.columns == depth.columns):\n",
    "    raise ValueError(\"Columns don't match between freq and depth files\")\n",
    "\n",
    "    \n",
    "# Remove samples from other groups\n",
    "ci = depth.columns.isin(map.ID)\n",
    "depth = depth.loc[:, ci]\n",
    "freq = freq.loc[:, ci]\n",
    "\n",
    "# Reorder map\n",
    "map = map.loc[depth.columns,:]\n",
    "\n",
    "# Calculate coverage in sites\n",
    "map['coverage'] = depth.mean(axis=0)\n",
    "\n",
    "# Remove samples below coverage\n",
    "ci = map.coverage >= cov_thres\n",
    "map = map.loc[ci, :]\n",
    "depth = depth[map.index]\n",
    "freq = freq[map.index]\n",
    "\n",
    "if not all(map.index == depth.columns):\n",
    "    raise ValueError(\"Samples in map and depth don't match\")\n",
    "\n",
    "# Determine type of mutation\n",
    "info['Type'] = determine_site_dist(map=map, depth=depth, freq=freq, info=info, depth_thres=depth_thres)\n",
    "info.head()"
   ]
  },
  {
   "cell_type": "code",
   "execution_count": null,
   "metadata": {},
   "outputs": [],
   "source": [
    "# Calculate MK contingency table per gene\n",
    "Genes = pd.DataFrame(columns=['Gene', 'Dn', 'Ds', 'Pn', 'Ps'])\n",
    "for g in info.gene_id.unique():\n",
    "    dat = info.loc[info.gene_id == g,:].copy()\n",
    "    tab = pd.crosstab(dat.Effect, dat.Type, rownames=['Effect'], colnames=['Type'])\n",
    "    tab = tab.reindex(index=pd.Index(['n','s']), columns=pd.Index(['fixed', 'polymorphic']), fill_value=0)\n",
    "    s = pd.Series(g, index=['Gene']).append(tab.fixed).append(tab.polymorphic)\n",
    "    Genes = Genes.append(pd.DataFrame([list(s)], columns=Genes.columns), ignore_index=True)\n",
    "Genes.head()"
   ]
  },
  {
   "cell_type": "code",
   "execution_count": null,
   "metadata": {},
   "outputs": [],
   "source": [
    "# Calculate ratio\n",
    "np.seterr(divide='ignore', invalid='ignore')\n",
    "Genes['ratio'] = pd.to_numeric(Genes.Dn * Genes.Ps) / pd.to_numeric(Genes.Ds * Genes.Pn)\n",
    "np.seterr(divide='raise', invalid='raise')\n",
    "Genes.replace(np.inf, np.nan, inplace=True)\n",
    "Genes['hg.pval'] = Genes.apply(mktest_fisher_exact, axis=1)\n",
    "Genes.head()"
   ]
  },
  {
   "cell_type": "code",
   "execution_count": null,
   "metadata": {},
   "outputs": [],
   "source": [
    "plt.hist(Genes['hg.pval'][~pd.isna(Genes.ratio)], bins=20);"
   ]
  },
  {
   "cell_type": "code",
   "execution_count": null,
   "metadata": {},
   "outputs": [],
   "source": [
    "# Genes.loc[~pd.isna(Genes.ratio), :]"
   ]
  },
  {
   "cell_type": "code",
   "execution_count": null,
   "metadata": {},
   "outputs": [],
   "source": [
    "Genes.sort_values(['hg.pval'], ascending=True)"
   ]
  },
  {
   "cell_type": "code",
   "execution_count": null,
   "metadata": {},
   "outputs": [],
   "source": [
    "%timeit np.matrix(site_crosstab)[:,::-1].diagonal()\n",
    "%timeit np.fliplr(np.matrix(site_crosstab)).diagonal()"
   ]
  }
 ],
 "metadata": {
  "kernelspec": {
   "display_name": "Python 3",
   "language": "python",
   "name": "python3"
  },
  "language_info": {
   "codemirror_mode": {
    "name": "ipython",
    "version": 3
   },
   "file_extension": ".py",
   "mimetype": "text/x-python",
   "name": "python",
   "nbconvert_exporter": "python",
   "pygments_lexer": "ipython3",
   "version": "3.6.4"
  }
 },
 "nbformat": 4,
 "nbformat_minor": 2
}
