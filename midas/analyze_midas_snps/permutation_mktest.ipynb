{
 "cells": [
  {
   "cell_type": "code",
   "execution_count": 1,
   "metadata": {
    "collapsed": true
   },
   "outputs": [],
   "source": [
    "import pandas as pd\n",
    "import numpy as np"
   ]
  },
  {
   "cell_type": "code",
   "execution_count": 2,
   "metadata": {
    "collapsed": true
   },
   "outputs": [],
   "source": [
    "map_file = \"/home/sur/micropopgen/data/test_data/midas/map.txt\"\n",
    "depth_file = \"/home/sur/micropopgen/data/test_data/midas/merged.snps/Streptococcus_sp_60086/snps_depth.txt\"\n",
    "info_file = \"/home/sur/micropopgen/data/test_data/midas/merged.snps/Streptococcus_sp_60086/snps_info.txt\"\n",
    "freqs_file = \"/home/sur/micropopgen/data/test_data/midas/merged.snps/Streptococcus_sp_60086/snps_freq.txt\"\n",
    "groups = ['Buccal mucosa', 'Tongue dorsum']"
   ]
  },
  {
   "cell_type": "code",
   "execution_count": null,
   "metadata": {
    "collapsed": true
   },
   "outputs": [],
   "source": [
    "map = pd.read_csv(map_file, sep=\"\\t\")\n",
    "map.head()"
   ]
  },
  {
   "cell_type": "code",
   "execution_count": null,
   "metadata": {
    "collapsed": true
   },
   "outputs": [],
   "source": [
    "info = pd.read_csv(info_file, sep=\"\\t\")\n",
    "info.head()"
   ]
  },
  {
   "cell_type": "code",
   "execution_count": null,
   "metadata": {
    "collapsed": true
   },
   "outputs": [],
   "source": [
    "depth = pd.read_csv(depth_file, sep=\"\\t\")\n",
    "depth.head()"
   ]
  },
  {
   "cell_type": "code",
   "execution_count": null,
   "metadata": {
    "collapsed": true
   },
   "outputs": [],
   "source": [
    "freq = pd.read_csv(freqs_file, sep=\"\\t\")\n",
    "freq.head()"
   ]
  },
  {
   "cell_type": "code",
   "execution_count": null,
   "metadata": {
    "collapsed": true
   },
   "outputs": [],
   "source": [
    "freq.shape"
   ]
  },
  {
   "cell_type": "code",
   "execution_count": null,
   "metadata": {
    "collapsed": true
   },
   "outputs": [],
   "source": [
    "depth.shape"
   ]
  },
  {
   "cell_type": "code",
   "execution_count": null,
   "metadata": {
    "collapsed": true
   },
   "outputs": [],
   "source": [
    "info.shape"
   ]
  },
  {
   "cell_type": "code",
   "execution_count": null,
   "metadata": {
    "collapsed": true
   },
   "outputs": [],
   "source": [
    "groups"
   ]
  },
  {
   "cell_type": "code",
   "execution_count": null,
   "metadata": {
    "collapsed": true
   },
   "outputs": [],
   "source": [
    "type(map.Group)"
   ]
  },
  {
   "cell_type": "code",
   "execution_count": 79,
   "metadata": {
    "collapsed": true
   },
   "outputs": [],
   "source": [
    "map = pd.read_csv(map_file, sep=\"\\t\")\n",
    "map = map.loc[map.Group.isin(groups),:].copy()"
   ]
  },
  {
   "cell_type": "code",
   "execution_count": 80,
   "metadata": {},
   "outputs": [
    {
     "name": "stdout",
     "output_type": "stream",
     "text": [
      "(164077, 16)\n",
      "(164077, 130)\n",
      "(164077, 130)\n"
     ]
    }
   ],
   "source": [
    "depth_thres = 1\n",
    "\n",
    "# Read data\n",
    "info = pd.read_csv(info_file, sep=\"\\t\")\n",
    "depth = pd.read_csv(depth_file, sep=\"\\t\")\n",
    "freq = pd.read_csv(freqs_file, sep=\"\\t\")\n",
    "\n",
    "# Remove non gene sites\n",
    "ii = ~info.gene_id.isnull()\n",
    "info = info.loc[ii, :]\n",
    "depth = depth.loc[ii, :]\n",
    "freq = freq.loc[ii, :]\n",
    "# print(info.shape)\n",
    "# print(depth.shape)\n",
    "# print(freq.shape)\n",
    "\n",
    "gene_ids = info.gene_id.unique()\n",
    "\n",
    "if not all(freq.columns == depth.columns):\n",
    "    raise ValueError(\"Columns don't mathc between freq and depth files\")\n",
    "    \n",
    "# Remove samples from other groups\n",
    "ci = depth.columns.isin(map.ID.append(pd.Series('site_id')))\n",
    "depth = depth.loc[:, ci]\n",
    "freq = freq.loc[:, ci]\n",
    "# print(info.shape)\n",
    "# print(depth.shape)\n",
    "# print(freq.shape)\n",
    "\n",
    "# subset for tests\n",
    "info = info.head(20)\n",
    "depth = depth.head(20)\n",
    "freq = freq.head(20)\n",
    "\n"
   ]
  },
  {
   "cell_type": "code",
   "execution_count": 119,
   "metadata": {},
   "outputs": [
    {
     "name": "stdout",
     "output_type": "stream",
     "text": [
      "                  ID          Group  depth  freq\n",
      "SRS144368  SRS144368  Tongue dorsum      0   0.0\n",
      "SRS144512  SRS144512  Tongue dorsum      0   0.0\n",
      "SRS144609  SRS144609  Tongue dorsum      0   0.0\n",
      "SRS146738  SRS146738  Tongue dorsum      0   0.0\n",
      "SRS146767  SRS146767  Tongue dorsum      3   0.0\n",
      "(42, 4)\n",
      "                  ID          Group  depth  freq\n",
      "SRS146767  SRS146767  Tongue dorsum      3   0.0\n",
      "SRS146894  SRS146894  Tongue dorsum      6   0.0\n",
      "SRS149671  SRS149671  Tongue dorsum     37   0.0\n",
      "SRS064774  SRS064774  Tongue dorsum      4   0.0\n",
      "SRS076951  SRS076951  Tongue dorsum      6   0.0\n"
     ]
    },
    {
     "data": {
      "text/html": [
       "<div>\n",
       "<style>\n",
       "    .dataframe thead tr:only-child th {\n",
       "        text-align: right;\n",
       "    }\n",
       "\n",
       "    .dataframe thead th {\n",
       "        text-align: left;\n",
       "    }\n",
       "\n",
       "    .dataframe tbody tr th {\n",
       "        vertical-align: top;\n",
       "    }\n",
       "</style>\n",
       "<table border=\"1\" class=\"dataframe\">\n",
       "  <thead>\n",
       "    <tr style=\"text-align: right;\">\n",
       "      <th>Group</th>\n",
       "      <th>Buccal mucosa</th>\n",
       "      <th>Tongue dorsum</th>\n",
       "    </tr>\n",
       "    <tr>\n",
       "      <th>freq</th>\n",
       "      <th></th>\n",
       "      <th></th>\n",
       "    </tr>\n",
       "  </thead>\n",
       "  <tbody>\n",
       "    <tr>\n",
       "      <th>False</th>\n",
       "      <td>1</td>\n",
       "      <td>39</td>\n",
       "    </tr>\n",
       "    <tr>\n",
       "      <th>True</th>\n",
       "      <td>0</td>\n",
       "      <td>2</td>\n",
       "    </tr>\n",
       "  </tbody>\n",
       "</table>\n",
       "</div>"
      ],
      "text/plain": [
       "Group  Buccal mucosa  Tongue dorsum\n",
       "freq                               \n",
       "False              1             39\n",
       "True               0              2"
      ]
     },
     "execution_count": 119,
     "metadata": {},
     "output_type": "execute_result"
    }
   ],
   "source": [
    "i = 0\n",
    "# Add samples IDs as map header and match samples\n",
    "# in map with samples in depth\n",
    "map.index = map.ID\n",
    "map = map.loc[depth.columns[1:],:]\n",
    "\n",
    "if not all(map.index == depth.columns[1:]):\n",
    "    raise ValueError(\"Samples in map and depth don't match\")\n",
    "\n",
    "# Create site data frame\n",
    "site = map.copy()\n",
    "site['depth'] = depth.loc[ depth.index[i], map.index ]\n",
    "site['freq'] = freq.loc[ freq.index[i], map.index ]\n",
    "print(site.head())\n",
    "\n",
    "# Slice by depth\n",
    "site = site[site.depth >= depth_thres]\n",
    "print(site.shape)\n",
    "print(site.head())\n",
    "# site\n",
    "\n",
    "# Determine if it is polymorphic or fixed\n",
    "site_crosstab = pd.crosstab(site.freq >= 0.5, site.Group)\n",
    "site_crosstab"
   ]
  },
  {
   "cell_type": "code",
   "execution_count": 170,
   "metadata": {},
   "outputs": [
    {
     "data": {
      "text/plain": [
       "True"
      ]
     },
     "execution_count": 170,
     "metadata": {},
     "output_type": "execute_result"
    }
   ],
   "source": [
    "site_crosstab.columns\n",
    "\n",
    "mutation_type = ''\n",
    "if (np.matrix(site_crosstab).diagonal() == [0,0]).all() or (np.fliplr(np.matrix(site_crosstab)).diagonal() == [0 0]).all():\n",
    "    mutation_type = 'fixed'\n",
    "else:\n",
    "    mutation_type = 'polymorphic"
   ]
  },
  {
   "cell_type": "code",
   "execution_count": 137,
   "metadata": {},
   "outputs": [
    {
     "data": {
      "text/plain": [
       "matrix([[ 1, 39],\n",
       "        [ 0,  2]])"
      ]
     },
     "execution_count": 137,
     "metadata": {},
     "output_type": "execute_result"
    }
   ],
   "source": [
    "np.matrix(site_crosstab)"
   ]
  },
  {
   "cell_type": "code",
   "execution_count": 135,
   "metadata": {},
   "outputs": [
    {
     "data": {
      "text/plain": [
       "matrix([[1, 2]])"
      ]
     },
     "execution_count": 135,
     "metadata": {},
     "output_type": "execute_result"
    }
   ],
   "source": [
    "np.matrix(site_crosstab).diagonal(axis1=0, axis2=1)"
   ]
  },
  {
   "cell_type": "code",
   "execution_count": 136,
   "metadata": {},
   "outputs": [
    {
     "data": {
      "text/plain": [
       "matrix([[1, 2]])"
      ]
     },
     "execution_count": 136,
     "metadata": {},
     "output_type": "execute_result"
    }
   ],
   "source": [
    "np.matrix(site_crosstab).diagonal(axis1=1, axis2=0)"
   ]
  },
  {
   "cell_type": "code",
   "execution_count": 169,
   "metadata": {},
   "outputs": [
    {
     "ename": "AttributeError",
     "evalue": "'DataFrame' object has no attribute 'diagonal'",
     "output_type": "error",
     "traceback": [
      "\u001b[0;31m---------------------------------------------------------------------------\u001b[0m",
      "\u001b[0;31mAttributeError\u001b[0m                            Traceback (most recent call last)",
      "\u001b[0;32m<ipython-input-169-42bfccb4c6ff>\u001b[0m in \u001b[0;36m<module>\u001b[0;34m()\u001b[0m\n\u001b[0;32m----> 1\u001b[0;31m \u001b[0msite_crosstab\u001b[0m\u001b[0;34m.\u001b[0m\u001b[0mdiagonal\u001b[0m\u001b[0;34m(\u001b[0m\u001b[0;34m)\u001b[0m\u001b[0;34m\u001b[0m\u001b[0m\n\u001b[0m",
      "\u001b[0;32m~/miniconda3/lib/python3.6/site-packages/pandas/core/generic.py\u001b[0m in \u001b[0;36m__getattr__\u001b[0;34m(self, name)\u001b[0m\n\u001b[1;32m   3079\u001b[0m             \u001b[0;32mif\u001b[0m \u001b[0mname\u001b[0m \u001b[0;32min\u001b[0m \u001b[0mself\u001b[0m\u001b[0;34m.\u001b[0m\u001b[0m_info_axis\u001b[0m\u001b[0;34m:\u001b[0m\u001b[0;34m\u001b[0m\u001b[0m\n\u001b[1;32m   3080\u001b[0m                 \u001b[0;32mreturn\u001b[0m \u001b[0mself\u001b[0m\u001b[0;34m[\u001b[0m\u001b[0mname\u001b[0m\u001b[0;34m]\u001b[0m\u001b[0;34m\u001b[0m\u001b[0m\n\u001b[0;32m-> 3081\u001b[0;31m             \u001b[0;32mreturn\u001b[0m \u001b[0mobject\u001b[0m\u001b[0;34m.\u001b[0m\u001b[0m__getattribute__\u001b[0m\u001b[0;34m(\u001b[0m\u001b[0mself\u001b[0m\u001b[0;34m,\u001b[0m \u001b[0mname\u001b[0m\u001b[0;34m)\u001b[0m\u001b[0;34m\u001b[0m\u001b[0m\n\u001b[0m\u001b[1;32m   3082\u001b[0m \u001b[0;34m\u001b[0m\u001b[0m\n\u001b[1;32m   3083\u001b[0m     \u001b[0;32mdef\u001b[0m \u001b[0m__setattr__\u001b[0m\u001b[0;34m(\u001b[0m\u001b[0mself\u001b[0m\u001b[0;34m,\u001b[0m \u001b[0mname\u001b[0m\u001b[0;34m,\u001b[0m \u001b[0mvalue\u001b[0m\u001b[0;34m)\u001b[0m\u001b[0;34m:\u001b[0m\u001b[0;34m\u001b[0m\u001b[0m\n",
      "\u001b[0;31mAttributeError\u001b[0m: 'DataFrame' object has no attribute 'diagonal'"
     ]
    }
   ],
   "source": []
  },
  {
   "cell_type": "code",
   "execution_count": 145,
   "metadata": {},
   "outputs": [
    {
     "data": {
      "text/plain": [
       "matrix([[39,  0]])"
      ]
     },
     "execution_count": 145,
     "metadata": {},
     "output_type": "execute_result"
    }
   ],
   "source": [
    "np.matrix(site_crosstab)[:,::-1].diagonal()"
   ]
  },
  {
   "cell_type": "code",
   "execution_count": 146,
   "metadata": {},
   "outputs": [
    {
     "data": {
      "text/plain": [
       "matrix([[39,  0]])"
      ]
     },
     "execution_count": 146,
     "metadata": {},
     "output_type": "execute_result"
    }
   ],
   "source": [
    "np.fliplr(np.matrix(site_crosstab)).diagonal()"
   ]
  },
  {
   "cell_type": "code",
   "execution_count": 149,
   "metadata": {},
   "outputs": [
    {
     "name": "stdout",
     "output_type": "stream",
     "text": [
      "29.9 µs ± 1.58 µs per loop (mean ± std. dev. of 7 runs, 10000 loops each)\n"
     ]
    }
   ],
   "source": [
    "%timeit np.matrix(site_crosstab)[:,::-1].diagonal()"
   ]
  },
  {
   "cell_type": "code",
   "execution_count": 150,
   "metadata": {},
   "outputs": [
    {
     "name": "stdout",
     "output_type": "stream",
     "text": [
      "30.7 µs ± 404 ns per loop (mean ± std. dev. of 7 runs, 10000 loops each)\n"
     ]
    }
   ],
   "source": [
    "%timeit np.fliplr(np.matrix(site_crosstab)).diagonal()"
   ]
  },
  {
   "cell_type": "code",
   "execution_count": null,
   "metadata": {
    "collapsed": true
   },
   "outputs": [],
   "source": []
  },
  {
   "cell_type": "code",
   "execution_count": null,
   "metadata": {
    "collapsed": true
   },
   "outputs": [],
   "source": []
  },
  {
   "cell_type": "code",
   "execution_count": null,
   "metadata": {
    "collapsed": true
   },
   "outputs": [],
   "source": []
  },
  {
   "cell_type": "code",
   "execution_count": null,
   "metadata": {
    "collapsed": true
   },
   "outputs": [],
   "source": []
  },
  {
   "cell_type": "code",
   "execution_count": null,
   "metadata": {
    "collapsed": true
   },
   "outputs": [],
   "source": []
  },
  {
   "cell_type": "code",
   "execution_count": 40,
   "metadata": {},
   "outputs": [
    {
     "name": "stdout",
     "output_type": "stream",
     "text": [
      "10\n",
      "10\n",
      "SRS144368    False\n",
      "SRS144512    False\n",
      "SRS144609    False\n",
      "SRS146738    False\n",
      "SRS146767    False\n",
      "SRS146824    False\n",
      "SRS146894    False\n",
      "SRS147094    False\n",
      "SRS147120    False\n",
      "SRS147226    False\n",
      "Name: 12, dtype: bool\n",
      "SRS144368    False\n",
      "SRS144512    False\n",
      "SRS144609    False\n",
      "SRS146738    False\n",
      "SRS146767     True\n",
      "SRS146824    False\n",
      "SRS146894     True\n",
      "SRS147094    False\n",
      "SRS147120    False\n",
      "SRS147226    False\n",
      "Name: 12, dtype: bool\n"
     ]
    }
   ],
   "source": [
    "a = freq.iloc[0,1:] > 0.5\n",
    "b = depth.iloc[0,1:] > 1\n",
    "# print(a)\n",
    "# print(b)\n",
    "\n",
    "a = a[0:10]\n",
    "b = b[0:10]\n",
    "\n",
    "print(len(a))\n",
    "print(len(b))\n",
    "\n",
    "# a = pd.Series([True, True, True, False,\n",
    "#               False, False])\n",
    "# b = pd.Series([False, True, False, True,\n",
    "#               False, True])\n",
    "print(a)\n",
    "print(b)\n",
    "\n",
    "\n"
   ]
  },
  {
   "cell_type": "code",
   "execution_count": 43,
   "metadata": {},
   "outputs": [
    {
     "data": {
      "text/plain": [
       "12"
      ]
     },
     "execution_count": 43,
     "metadata": {},
     "output_type": "execute_result"
    }
   ],
   "source": []
  },
  {
   "cell_type": "code",
   "execution_count": null,
   "metadata": {
    "collapsed": true
   },
   "outputs": [],
   "source": []
  },
  {
   "cell_type": "code",
   "execution_count": null,
   "metadata": {
    "collapsed": true
   },
   "outputs": [],
   "source": []
  },
  {
   "cell_type": "code",
   "execution_count": null,
   "metadata": {
    "collapsed": true
   },
   "outputs": [],
   "source": []
  },
  {
   "cell_type": "code",
   "execution_count": 46,
   "metadata": {},
   "outputs": [
    {
     "data": {
      "text/html": [
       "<div>\n",
       "<style>\n",
       "    .dataframe thead tr:only-child th {\n",
       "        text-align: right;\n",
       "    }\n",
       "\n",
       "    .dataframe thead th {\n",
       "        text-align: left;\n",
       "    }\n",
       "\n",
       "    .dataframe tbody tr th {\n",
       "        vertical-align: top;\n",
       "    }\n",
       "</style>\n",
       "<table border=\"1\" class=\"dataframe\">\n",
       "  <thead>\n",
       "    <tr style=\"text-align: right;\">\n",
       "      <th>b</th>\n",
       "      <th>False</th>\n",
       "      <th>True</th>\n",
       "    </tr>\n",
       "    <tr>\n",
       "      <th>a</th>\n",
       "      <th></th>\n",
       "      <th></th>\n",
       "    </tr>\n",
       "  </thead>\n",
       "  <tbody>\n",
       "    <tr>\n",
       "      <th>False</th>\n",
       "      <td>8</td>\n",
       "      <td>2</td>\n",
       "    </tr>\n",
       "  </tbody>\n",
       "</table>\n",
       "</div>"
      ],
      "text/plain": [
       "b      False  True \n",
       "a                  \n",
       "False      8      2"
      ]
     },
     "execution_count": 46,
     "metadata": {},
     "output_type": "execute_result"
    }
   ],
   "source": [
    "pd.crosstab(a,b, colnames=['b'], rownames=['a'])"
   ]
  },
  {
   "cell_type": "code",
   "execution_count": null,
   "metadata": {
    "collapsed": true
   },
   "outputs": [],
   "source": []
  },
  {
   "cell_type": "code",
   "execution_count": null,
   "metadata": {
    "collapsed": true
   },
   "outputs": [],
   "source": []
  },
  {
   "cell_type": "code",
   "execution_count": null,
   "metadata": {
    "collapsed": true
   },
   "outputs": [],
   "source": []
  },
  {
   "cell_type": "code",
   "execution_count": null,
   "metadata": {
    "collapsed": true
   },
   "outputs": [],
   "source": []
  },
  {
   "cell_type": "code",
   "execution_count": 84,
   "metadata": {},
   "outputs": [
    {
     "data": {
      "text/html": [
       "<div>\n",
       "<style>\n",
       "    .dataframe thead tr:only-child th {\n",
       "        text-align: right;\n",
       "    }\n",
       "\n",
       "    .dataframe thead th {\n",
       "        text-align: left;\n",
       "    }\n",
       "\n",
       "    .dataframe tbody tr th {\n",
       "        vertical-align: top;\n",
       "    }\n",
       "</style>\n",
       "<table border=\"1\" class=\"dataframe\">\n",
       "  <thead>\n",
       "    <tr style=\"text-align: right;\">\n",
       "      <th></th>\n",
       "      <th>site_id</th>\n",
       "      <th>ref_id</th>\n",
       "      <th>ref_pos</th>\n",
       "      <th>ref_allele</th>\n",
       "      <th>major_allele</th>\n",
       "      <th>minor_allele</th>\n",
       "      <th>count_samples</th>\n",
       "      <th>count_a</th>\n",
       "      <th>count_c</th>\n",
       "      <th>count_g</th>\n",
       "      <th>count_t</th>\n",
       "      <th>locus_type</th>\n",
       "      <th>gene_id</th>\n",
       "      <th>snp_type</th>\n",
       "      <th>site_type</th>\n",
       "      <th>amino_acids</th>\n",
       "    </tr>\n",
       "  </thead>\n",
       "  <tbody>\n",
       "    <tr>\n",
       "      <th>12</th>\n",
       "      <td>419</td>\n",
       "      <td>CM002128</td>\n",
       "      <td>419</td>\n",
       "      <td>A</td>\n",
       "      <td>A</td>\n",
       "      <td>T</td>\n",
       "      <td>42</td>\n",
       "      <td>440</td>\n",
       "      <td>0</td>\n",
       "      <td>0</td>\n",
       "      <td>17</td>\n",
       "      <td>CDS</td>\n",
       "      <td>1316408.3.peg.1</td>\n",
       "      <td>bi</td>\n",
       "      <td>3D</td>\n",
       "      <td>I,M,I,I</td>\n",
       "    </tr>\n",
       "    <tr>\n",
       "      <th>13</th>\n",
       "      <td>425</td>\n",
       "      <td>CM002128</td>\n",
       "      <td>425</td>\n",
       "      <td>G</td>\n",
       "      <td>G</td>\n",
       "      <td>T</td>\n",
       "      <td>42</td>\n",
       "      <td>1</td>\n",
       "      <td>0</td>\n",
       "      <td>428</td>\n",
       "      <td>9</td>\n",
       "      <td>CDS</td>\n",
       "      <td>1316408.3.peg.1</td>\n",
       "      <td>bi</td>\n",
       "      <td>3D</td>\n",
       "      <td>I,M,I,I</td>\n",
       "    </tr>\n",
       "    <tr>\n",
       "      <th>14</th>\n",
       "      <td>437</td>\n",
       "      <td>CM002128</td>\n",
       "      <td>437</td>\n",
       "      <td>A</td>\n",
       "      <td>A</td>\n",
       "      <td>T</td>\n",
       "      <td>41</td>\n",
       "      <td>353</td>\n",
       "      <td>0</td>\n",
       "      <td>0</td>\n",
       "      <td>17</td>\n",
       "      <td>CDS</td>\n",
       "      <td>1316408.3.peg.1</td>\n",
       "      <td>bi</td>\n",
       "      <td>4D</td>\n",
       "      <td>S,S,S,S</td>\n",
       "    </tr>\n",
       "    <tr>\n",
       "      <th>15</th>\n",
       "      <td>443</td>\n",
       "      <td>CM002128</td>\n",
       "      <td>443</td>\n",
       "      <td>A</td>\n",
       "      <td>A</td>\n",
       "      <td>G</td>\n",
       "      <td>38</td>\n",
       "      <td>275</td>\n",
       "      <td>0</td>\n",
       "      <td>37</td>\n",
       "      <td>0</td>\n",
       "      <td>CDS</td>\n",
       "      <td>1316408.3.peg.1</td>\n",
       "      <td>bi</td>\n",
       "      <td>4D</td>\n",
       "      <td>P,P,P,P</td>\n",
       "    </tr>\n",
       "    <tr>\n",
       "      <th>16</th>\n",
       "      <td>453</td>\n",
       "      <td>CM002128</td>\n",
       "      <td>453</td>\n",
       "      <td>T</td>\n",
       "      <td>T</td>\n",
       "      <td>C</td>\n",
       "      <td>32</td>\n",
       "      <td>0</td>\n",
       "      <td>6</td>\n",
       "      <td>0</td>\n",
       "      <td>259</td>\n",
       "      <td>CDS</td>\n",
       "      <td>1316408.3.peg.1</td>\n",
       "      <td>bi</td>\n",
       "      <td>1D</td>\n",
       "      <td>I,S,T,N</td>\n",
       "    </tr>\n",
       "    <tr>\n",
       "      <th>17</th>\n",
       "      <td>475</td>\n",
       "      <td>CM002128</td>\n",
       "      <td>475</td>\n",
       "      <td>G</td>\n",
       "      <td>G</td>\n",
       "      <td>A</td>\n",
       "      <td>25</td>\n",
       "      <td>14</td>\n",
       "      <td>0</td>\n",
       "      <td>216</td>\n",
       "      <td>0</td>\n",
       "      <td>CDS</td>\n",
       "      <td>1316408.3.peg.1</td>\n",
       "      <td>bi</td>\n",
       "      <td>2D</td>\n",
       "      <td>L,V,L,I</td>\n",
       "    </tr>\n",
       "    <tr>\n",
       "      <th>18</th>\n",
       "      <td>476</td>\n",
       "      <td>CM002128</td>\n",
       "      <td>476</td>\n",
       "      <td>A</td>\n",
       "      <td>A</td>\n",
       "      <td>T</td>\n",
       "      <td>24</td>\n",
       "      <td>214</td>\n",
       "      <td>0</td>\n",
       "      <td>0</td>\n",
       "      <td>7</td>\n",
       "      <td>CDS</td>\n",
       "      <td>1316408.3.peg.1</td>\n",
       "      <td>bi</td>\n",
       "      <td>4D</td>\n",
       "      <td>V,V,V,V</td>\n",
       "    </tr>\n",
       "    <tr>\n",
       "      <th>19</th>\n",
       "      <td>479</td>\n",
       "      <td>CM002128</td>\n",
       "      <td>479</td>\n",
       "      <td>C</td>\n",
       "      <td>C</td>\n",
       "      <td>T</td>\n",
       "      <td>24</td>\n",
       "      <td>0</td>\n",
       "      <td>225</td>\n",
       "      <td>0</td>\n",
       "      <td>7</td>\n",
       "      <td>CDS</td>\n",
       "      <td>1316408.3.peg.1</td>\n",
       "      <td>bi</td>\n",
       "      <td>3D</td>\n",
       "      <td>N,K,N,K</td>\n",
       "    </tr>\n",
       "    <tr>\n",
       "      <th>20</th>\n",
       "      <td>482</td>\n",
       "      <td>CM002128</td>\n",
       "      <td>482</td>\n",
       "      <td>A</td>\n",
       "      <td>A</td>\n",
       "      <td>T</td>\n",
       "      <td>23</td>\n",
       "      <td>227</td>\n",
       "      <td>0</td>\n",
       "      <td>0</td>\n",
       "      <td>7</td>\n",
       "      <td>CDS</td>\n",
       "      <td>1316408.3.peg.1</td>\n",
       "      <td>bi</td>\n",
       "      <td>4D</td>\n",
       "      <td>V,V,V,V</td>\n",
       "    </tr>\n",
       "    <tr>\n",
       "      <th>21</th>\n",
       "      <td>491</td>\n",
       "      <td>CM002128</td>\n",
       "      <td>491</td>\n",
       "      <td>T</td>\n",
       "      <td>T</td>\n",
       "      <td>C</td>\n",
       "      <td>21</td>\n",
       "      <td>0</td>\n",
       "      <td>64</td>\n",
       "      <td>0</td>\n",
       "      <td>166</td>\n",
       "      <td>CDS</td>\n",
       "      <td>1316408.3.peg.1</td>\n",
       "      <td>bi</td>\n",
       "      <td>3D</td>\n",
       "      <td>N,K,N,K</td>\n",
       "    </tr>\n",
       "    <tr>\n",
       "      <th>22</th>\n",
       "      <td>501</td>\n",
       "      <td>CM002128</td>\n",
       "      <td>501</td>\n",
       "      <td>A</td>\n",
       "      <td>A</td>\n",
       "      <td>T</td>\n",
       "      <td>22</td>\n",
       "      <td>198</td>\n",
       "      <td>0</td>\n",
       "      <td>0</td>\n",
       "      <td>20</td>\n",
       "      <td>CDS</td>\n",
       "      <td>1316408.3.peg.1</td>\n",
       "      <td>bi</td>\n",
       "      <td>1D</td>\n",
       "      <td>F,C,S,Y</td>\n",
       "    </tr>\n",
       "    <tr>\n",
       "      <th>23</th>\n",
       "      <td>503</td>\n",
       "      <td>CM002128</td>\n",
       "      <td>503</td>\n",
       "      <td>G</td>\n",
       "      <td>G</td>\n",
       "      <td>A</td>\n",
       "      <td>21</td>\n",
       "      <td>11</td>\n",
       "      <td>0</td>\n",
       "      <td>212</td>\n",
       "      <td>0</td>\n",
       "      <td>CDS</td>\n",
       "      <td>1316408.3.peg.1</td>\n",
       "      <td>bi</td>\n",
       "      <td>3D</td>\n",
       "      <td>D,E,D,E</td>\n",
       "    </tr>\n",
       "    <tr>\n",
       "      <th>24</th>\n",
       "      <td>506</td>\n",
       "      <td>CM002128</td>\n",
       "      <td>506</td>\n",
       "      <td>G</td>\n",
       "      <td>G</td>\n",
       "      <td>A</td>\n",
       "      <td>21</td>\n",
       "      <td>22</td>\n",
       "      <td>0</td>\n",
       "      <td>203</td>\n",
       "      <td>0</td>\n",
       "      <td>CDS</td>\n",
       "      <td>1316408.3.peg.1</td>\n",
       "      <td>bi</td>\n",
       "      <td>3D</td>\n",
       "      <td>I,M,I,I</td>\n",
       "    </tr>\n",
       "    <tr>\n",
       "      <th>25</th>\n",
       "      <td>536</td>\n",
       "      <td>CM002128</td>\n",
       "      <td>536</td>\n",
       "      <td>A</td>\n",
       "      <td>A</td>\n",
       "      <td>G</td>\n",
       "      <td>21</td>\n",
       "      <td>205</td>\n",
       "      <td>0</td>\n",
       "      <td>19</td>\n",
       "      <td>0</td>\n",
       "      <td>CDS</td>\n",
       "      <td>1316408.3.peg.1</td>\n",
       "      <td>bi</td>\n",
       "      <td>3D</td>\n",
       "      <td>H,Q,H,Q</td>\n",
       "    </tr>\n",
       "    <tr>\n",
       "      <th>26</th>\n",
       "      <td>539</td>\n",
       "      <td>CM002128</td>\n",
       "      <td>539</td>\n",
       "      <td>C</td>\n",
       "      <td>C</td>\n",
       "      <td>T</td>\n",
       "      <td>20</td>\n",
       "      <td>0</td>\n",
       "      <td>194</td>\n",
       "      <td>0</td>\n",
       "      <td>23</td>\n",
       "      <td>CDS</td>\n",
       "      <td>1316408.3.peg.1</td>\n",
       "      <td>bi</td>\n",
       "      <td>3D</td>\n",
       "      <td>H,Q,H,Q</td>\n",
       "    </tr>\n",
       "    <tr>\n",
       "      <th>27</th>\n",
       "      <td>542</td>\n",
       "      <td>CM002128</td>\n",
       "      <td>542</td>\n",
       "      <td>C</td>\n",
       "      <td>C</td>\n",
       "      <td>T</td>\n",
       "      <td>19</td>\n",
       "      <td>0</td>\n",
       "      <td>194</td>\n",
       "      <td>0</td>\n",
       "      <td>20</td>\n",
       "      <td>CDS</td>\n",
       "      <td>1316408.3.peg.1</td>\n",
       "      <td>bi</td>\n",
       "      <td>3D</td>\n",
       "      <td>D,E,D,E</td>\n",
       "    </tr>\n",
       "    <tr>\n",
       "      <th>28</th>\n",
       "      <td>545</td>\n",
       "      <td>CM002128</td>\n",
       "      <td>545</td>\n",
       "      <td>G</td>\n",
       "      <td>G</td>\n",
       "      <td>A</td>\n",
       "      <td>19</td>\n",
       "      <td>42</td>\n",
       "      <td>0</td>\n",
       "      <td>167</td>\n",
       "      <td>0</td>\n",
       "      <td>CDS</td>\n",
       "      <td>1316408.3.peg.1</td>\n",
       "      <td>bi</td>\n",
       "      <td>3D</td>\n",
       "      <td>Y,_,Y,_</td>\n",
       "    </tr>\n",
       "    <tr>\n",
       "      <th>29</th>\n",
       "      <td>554</td>\n",
       "      <td>CM002128</td>\n",
       "      <td>554</td>\n",
       "      <td>A</td>\n",
       "      <td>A</td>\n",
       "      <td>C</td>\n",
       "      <td>19</td>\n",
       "      <td>192</td>\n",
       "      <td>6</td>\n",
       "      <td>0</td>\n",
       "      <td>0</td>\n",
       "      <td>CDS</td>\n",
       "      <td>1316408.3.peg.1</td>\n",
       "      <td>bi</td>\n",
       "      <td>4D</td>\n",
       "      <td>V,V,V,V</td>\n",
       "    </tr>\n",
       "    <tr>\n",
       "      <th>30</th>\n",
       "      <td>569</td>\n",
       "      <td>CM002128</td>\n",
       "      <td>569</td>\n",
       "      <td>T</td>\n",
       "      <td>T</td>\n",
       "      <td>C</td>\n",
       "      <td>20</td>\n",
       "      <td>0</td>\n",
       "      <td>28</td>\n",
       "      <td>0</td>\n",
       "      <td>149</td>\n",
       "      <td>CDS</td>\n",
       "      <td>1316408.3.peg.1</td>\n",
       "      <td>bi</td>\n",
       "      <td>3D</td>\n",
       "      <td>N,K,N,K</td>\n",
       "    </tr>\n",
       "    <tr>\n",
       "      <th>31</th>\n",
       "      <td>596</td>\n",
       "      <td>CM002128</td>\n",
       "      <td>596</td>\n",
       "      <td>A</td>\n",
       "      <td>A</td>\n",
       "      <td>G</td>\n",
       "      <td>15</td>\n",
       "      <td>131</td>\n",
       "      <td>0</td>\n",
       "      <td>4</td>\n",
       "      <td>0</td>\n",
       "      <td>CDS</td>\n",
       "      <td>1316408.3.peg.1</td>\n",
       "      <td>bi</td>\n",
       "      <td>3D</td>\n",
       "      <td>D,E,D,E</td>\n",
       "    </tr>\n",
       "  </tbody>\n",
       "</table>\n",
       "</div>"
      ],
      "text/plain": [
       "    site_id    ref_id  ref_pos ref_allele major_allele minor_allele  \\\n",
       "12      419  CM002128      419          A            A            T   \n",
       "13      425  CM002128      425          G            G            T   \n",
       "14      437  CM002128      437          A            A            T   \n",
       "15      443  CM002128      443          A            A            G   \n",
       "16      453  CM002128      453          T            T            C   \n",
       "17      475  CM002128      475          G            G            A   \n",
       "18      476  CM002128      476          A            A            T   \n",
       "19      479  CM002128      479          C            C            T   \n",
       "20      482  CM002128      482          A            A            T   \n",
       "21      491  CM002128      491          T            T            C   \n",
       "22      501  CM002128      501          A            A            T   \n",
       "23      503  CM002128      503          G            G            A   \n",
       "24      506  CM002128      506          G            G            A   \n",
       "25      536  CM002128      536          A            A            G   \n",
       "26      539  CM002128      539          C            C            T   \n",
       "27      542  CM002128      542          C            C            T   \n",
       "28      545  CM002128      545          G            G            A   \n",
       "29      554  CM002128      554          A            A            C   \n",
       "30      569  CM002128      569          T            T            C   \n",
       "31      596  CM002128      596          A            A            G   \n",
       "\n",
       "    count_samples  count_a  count_c  count_g  count_t locus_type  \\\n",
       "12             42      440        0        0       17        CDS   \n",
       "13             42        1        0      428        9        CDS   \n",
       "14             41      353        0        0       17        CDS   \n",
       "15             38      275        0       37        0        CDS   \n",
       "16             32        0        6        0      259        CDS   \n",
       "17             25       14        0      216        0        CDS   \n",
       "18             24      214        0        0        7        CDS   \n",
       "19             24        0      225        0        7        CDS   \n",
       "20             23      227        0        0        7        CDS   \n",
       "21             21        0       64        0      166        CDS   \n",
       "22             22      198        0        0       20        CDS   \n",
       "23             21       11        0      212        0        CDS   \n",
       "24             21       22        0      203        0        CDS   \n",
       "25             21      205        0       19        0        CDS   \n",
       "26             20        0      194        0       23        CDS   \n",
       "27             19        0      194        0       20        CDS   \n",
       "28             19       42        0      167        0        CDS   \n",
       "29             19      192        6        0        0        CDS   \n",
       "30             20        0       28        0      149        CDS   \n",
       "31             15      131        0        4        0        CDS   \n",
       "\n",
       "            gene_id snp_type site_type amino_acids  \n",
       "12  1316408.3.peg.1       bi        3D     I,M,I,I  \n",
       "13  1316408.3.peg.1       bi        3D     I,M,I,I  \n",
       "14  1316408.3.peg.1       bi        4D     S,S,S,S  \n",
       "15  1316408.3.peg.1       bi        4D     P,P,P,P  \n",
       "16  1316408.3.peg.1       bi        1D     I,S,T,N  \n",
       "17  1316408.3.peg.1       bi        2D     L,V,L,I  \n",
       "18  1316408.3.peg.1       bi        4D     V,V,V,V  \n",
       "19  1316408.3.peg.1       bi        3D     N,K,N,K  \n",
       "20  1316408.3.peg.1       bi        4D     V,V,V,V  \n",
       "21  1316408.3.peg.1       bi        3D     N,K,N,K  \n",
       "22  1316408.3.peg.1       bi        1D     F,C,S,Y  \n",
       "23  1316408.3.peg.1       bi        3D     D,E,D,E  \n",
       "24  1316408.3.peg.1       bi        3D     I,M,I,I  \n",
       "25  1316408.3.peg.1       bi        3D     H,Q,H,Q  \n",
       "26  1316408.3.peg.1       bi        3D     H,Q,H,Q  \n",
       "27  1316408.3.peg.1       bi        3D     D,E,D,E  \n",
       "28  1316408.3.peg.1       bi        3D     Y,_,Y,_  \n",
       "29  1316408.3.peg.1       bi        4D     V,V,V,V  \n",
       "30  1316408.3.peg.1       bi        3D     N,K,N,K  \n",
       "31  1316408.3.peg.1       bi        3D     D,E,D,E  "
      ]
     },
     "execution_count": 84,
     "metadata": {},
     "output_type": "execute_result"
    }
   ],
   "source": [
    "info"
   ]
  },
  {
   "cell_type": "code",
   "execution_count": null,
   "metadata": {
    "collapsed": true
   },
   "outputs": [],
   "source": []
  },
  {
   "cell_type": "code",
   "execution_count": 48,
   "metadata": {},
   "outputs": [
    {
     "data": {
      "text/plain": [
       "2      SRS011086\n",
       "3      SRS011090\n",
       "5      SRS011115\n",
       "8      SRS011140\n",
       "9      SRS011144\n",
       "12     SRS011243\n",
       "13     SRS011247\n",
       "17     SRS011306\n",
       "18     SRS011310\n",
       "25     SRS012279\n",
       "26     SRS012281\n",
       "30     SRS012916\n",
       "31     SRS012918\n",
       "34     SRS012983\n",
       "35     SRS012985\n",
       "39     SRS013164\n",
       "42     SRS013234\n",
       "43     SRS013239\n",
       "46     SRS013502\n",
       "47     SRS013506\n",
       "53     SRS013705\n",
       "54     SRS013711\n",
       "57     SRS013818\n",
       "58     SRS013825\n",
       "60     SRS013879\n",
       "61     SRS013881\n",
       "62     SRS013945\n",
       "65     SRS014124\n",
       "66     SRS014126\n",
       "68     SRS014271\n",
       "         ...    \n",
       "798    SRS144368\n",
       "799    SRS144372\n",
       "802    SRS144494\n",
       "804    SRS144512\n",
       "806    SRS144542\n",
       "808    SRS144560\n",
       "809    SRS144609\n",
       "811    SRS144646\n",
       "813    SRS145503\n",
       "814    SRS145505\n",
       "816    SRS146738\n",
       "819    SRS146767\n",
       "823    SRS146824\n",
       "826    SRS146894\n",
       "827    SRS146979\n",
       "831    SRS147094\n",
       "833    SRS147120\n",
       "834    SRS147122\n",
       "836    SRS147226\n",
       "837    SRS147334\n",
       "839    SRS147436\n",
       "845    SRS147887\n",
       "847    SRS147933\n",
       "849    SRS148150\n",
       "853    SRS148276\n",
       "854    SRS148408\n",
       "859    SRS149671\n",
       "860    SRS149938\n",
       "861    SRS149961\n",
       "0        site_id\n",
       "Length: 406, dtype: object"
      ]
     },
     "execution_count": 48,
     "metadata": {},
     "output_type": "execute_result"
    }
   ],
   "source": [
    "map.ID.append(pd.Series('site_id'))"
   ]
  },
  {
   "cell_type": "code",
   "execution_count": null,
   "metadata": {
    "collapsed": true
   },
   "outputs": [],
   "source": []
  },
  {
   "cell_type": "code",
   "execution_count": null,
   "metadata": {
    "collapsed": true
   },
   "outputs": [],
   "source": []
  },
  {
   "cell_type": "code",
   "execution_count": 44,
   "metadata": {},
   "outputs": [
    {
     "data": {
      "text/html": [
       "<div>\n",
       "<style>\n",
       "    .dataframe thead tr:only-child th {\n",
       "        text-align: right;\n",
       "    }\n",
       "\n",
       "    .dataframe thead th {\n",
       "        text-align: left;\n",
       "    }\n",
       "\n",
       "    .dataframe tbody tr th {\n",
       "        vertical-align: top;\n",
       "    }\n",
       "</style>\n",
       "<table border=\"1\" class=\"dataframe\">\n",
       "  <thead>\n",
       "    <tr style=\"text-align: right;\">\n",
       "      <th></th>\n",
       "      <th>ID</th>\n",
       "      <th>Group</th>\n",
       "    </tr>\n",
       "  </thead>\n",
       "  <tbody>\n",
       "    <tr>\n",
       "      <th>2</th>\n",
       "      <td>SRS011086</td>\n",
       "      <td>Tongue dorsum</td>\n",
       "    </tr>\n",
       "    <tr>\n",
       "      <th>3</th>\n",
       "      <td>SRS011090</td>\n",
       "      <td>Buccal mucosa</td>\n",
       "    </tr>\n",
       "    <tr>\n",
       "      <th>5</th>\n",
       "      <td>SRS011115</td>\n",
       "      <td>Tongue dorsum</td>\n",
       "    </tr>\n",
       "    <tr>\n",
       "      <th>8</th>\n",
       "      <td>SRS011140</td>\n",
       "      <td>Tongue dorsum</td>\n",
       "    </tr>\n",
       "    <tr>\n",
       "      <th>9</th>\n",
       "      <td>SRS011144</td>\n",
       "      <td>Buccal mucosa</td>\n",
       "    </tr>\n",
       "  </tbody>\n",
       "</table>\n",
       "</div>"
      ],
      "text/plain": [
       "          ID          Group\n",
       "2  SRS011086  Tongue dorsum\n",
       "3  SRS011090  Buccal mucosa\n",
       "5  SRS011115  Tongue dorsum\n",
       "8  SRS011140  Tongue dorsum\n",
       "9  SRS011144  Buccal mucosa"
      ]
     },
     "execution_count": 44,
     "metadata": {},
     "output_type": "execute_result"
    }
   ],
   "source": [
    "mysamples = test.ID\n",
    "mysamples.append(pd.Series('test'))\n",
    "test.ID.append(pd.Series('test'))\n",
    "test"
   ]
  },
  {
   "cell_type": "code",
   "execution_count": 22,
   "metadata": {},
   "outputs": [
    {
     "data": {
      "text/html": [
       "<div>\n",
       "<style>\n",
       "    .dataframe thead tr:only-child th {\n",
       "        text-align: right;\n",
       "    }\n",
       "\n",
       "    .dataframe thead th {\n",
       "        text-align: left;\n",
       "    }\n",
       "\n",
       "    .dataframe tbody tr th {\n",
       "        vertical-align: top;\n",
       "    }\n",
       "</style>\n",
       "<table border=\"1\" class=\"dataframe\">\n",
       "  <thead>\n",
       "    <tr style=\"text-align: right;\">\n",
       "      <th></th>\n",
       "      <th>site_id</th>\n",
       "      <th>SRS144368</th>\n",
       "      <th>SRS144512</th>\n",
       "      <th>SRS144609</th>\n",
       "      <th>SRS146738</th>\n",
       "      <th>SRS146767</th>\n",
       "      <th>SRS146824</th>\n",
       "      <th>SRS146894</th>\n",
       "      <th>SRS147094</th>\n",
       "      <th>SRS147120</th>\n",
       "      <th>...</th>\n",
       "      <th>SRS018791</th>\n",
       "      <th>SRS018969</th>\n",
       "      <th>SRS019022</th>\n",
       "      <th>SRS019045</th>\n",
       "      <th>SRS019894</th>\n",
       "      <th>SRS020220</th>\n",
       "      <th>SRS021496</th>\n",
       "      <th>SRS021954</th>\n",
       "      <th>SRS022530</th>\n",
       "      <th>SRS022621</th>\n",
       "    </tr>\n",
       "  </thead>\n",
       "  <tbody>\n",
       "    <tr>\n",
       "      <th>12</th>\n",
       "      <td>419</td>\n",
       "      <td>0</td>\n",
       "      <td>0</td>\n",
       "      <td>0</td>\n",
       "      <td>0</td>\n",
       "      <td>3</td>\n",
       "      <td>0</td>\n",
       "      <td>6</td>\n",
       "      <td>0</td>\n",
       "      <td>0</td>\n",
       "      <td>...</td>\n",
       "      <td>0</td>\n",
       "      <td>1</td>\n",
       "      <td>6</td>\n",
       "      <td>2</td>\n",
       "      <td>2</td>\n",
       "      <td>4</td>\n",
       "      <td>3</td>\n",
       "      <td>8</td>\n",
       "      <td>0</td>\n",
       "      <td>0</td>\n",
       "    </tr>\n",
       "    <tr>\n",
       "      <th>13</th>\n",
       "      <td>425</td>\n",
       "      <td>0</td>\n",
       "      <td>0</td>\n",
       "      <td>0</td>\n",
       "      <td>0</td>\n",
       "      <td>3</td>\n",
       "      <td>0</td>\n",
       "      <td>6</td>\n",
       "      <td>0</td>\n",
       "      <td>0</td>\n",
       "      <td>...</td>\n",
       "      <td>0</td>\n",
       "      <td>0</td>\n",
       "      <td>5</td>\n",
       "      <td>4</td>\n",
       "      <td>2</td>\n",
       "      <td>4</td>\n",
       "      <td>3</td>\n",
       "      <td>11</td>\n",
       "      <td>0</td>\n",
       "      <td>0</td>\n",
       "    </tr>\n",
       "    <tr>\n",
       "      <th>14</th>\n",
       "      <td>437</td>\n",
       "      <td>0</td>\n",
       "      <td>0</td>\n",
       "      <td>0</td>\n",
       "      <td>0</td>\n",
       "      <td>3</td>\n",
       "      <td>0</td>\n",
       "      <td>6</td>\n",
       "      <td>0</td>\n",
       "      <td>0</td>\n",
       "      <td>...</td>\n",
       "      <td>0</td>\n",
       "      <td>0</td>\n",
       "      <td>5</td>\n",
       "      <td>2</td>\n",
       "      <td>2</td>\n",
       "      <td>4</td>\n",
       "      <td>4</td>\n",
       "      <td>6</td>\n",
       "      <td>0</td>\n",
       "      <td>0</td>\n",
       "    </tr>\n",
       "    <tr>\n",
       "      <th>15</th>\n",
       "      <td>443</td>\n",
       "      <td>0</td>\n",
       "      <td>0</td>\n",
       "      <td>0</td>\n",
       "      <td>0</td>\n",
       "      <td>3</td>\n",
       "      <td>0</td>\n",
       "      <td>3</td>\n",
       "      <td>0</td>\n",
       "      <td>0</td>\n",
       "      <td>...</td>\n",
       "      <td>0</td>\n",
       "      <td>0</td>\n",
       "      <td>3</td>\n",
       "      <td>2</td>\n",
       "      <td>1</td>\n",
       "      <td>3</td>\n",
       "      <td>4</td>\n",
       "      <td>5</td>\n",
       "      <td>0</td>\n",
       "      <td>0</td>\n",
       "    </tr>\n",
       "    <tr>\n",
       "      <th>16</th>\n",
       "      <td>453</td>\n",
       "      <td>0</td>\n",
       "      <td>0</td>\n",
       "      <td>0</td>\n",
       "      <td>0</td>\n",
       "      <td>0</td>\n",
       "      <td>0</td>\n",
       "      <td>2</td>\n",
       "      <td>0</td>\n",
       "      <td>0</td>\n",
       "      <td>...</td>\n",
       "      <td>0</td>\n",
       "      <td>0</td>\n",
       "      <td>3</td>\n",
       "      <td>2</td>\n",
       "      <td>1</td>\n",
       "      <td>1</td>\n",
       "      <td>2</td>\n",
       "      <td>6</td>\n",
       "      <td>0</td>\n",
       "      <td>0</td>\n",
       "    </tr>\n",
       "  </tbody>\n",
       "</table>\n",
       "<p>5 rows × 130 columns</p>\n",
       "</div>"
      ],
      "text/plain": [
       "    site_id  SRS144368  SRS144512  SRS144609  SRS146738  SRS146767  SRS146824  \\\n",
       "12      419          0          0          0          0          3          0   \n",
       "13      425          0          0          0          0          3          0   \n",
       "14      437          0          0          0          0          3          0   \n",
       "15      443          0          0          0          0          3          0   \n",
       "16      453          0          0          0          0          0          0   \n",
       "\n",
       "    SRS146894  SRS147094  SRS147120    ...      SRS018791  SRS018969  \\\n",
       "12          6          0          0    ...              0          1   \n",
       "13          6          0          0    ...              0          0   \n",
       "14          6          0          0    ...              0          0   \n",
       "15          3          0          0    ...              0          0   \n",
       "16          2          0          0    ...              0          0   \n",
       "\n",
       "    SRS019022  SRS019045  SRS019894  SRS020220  SRS021496  SRS021954  \\\n",
       "12          6          2          2          4          3          8   \n",
       "13          5          4          2          4          3         11   \n",
       "14          5          2          2          4          4          6   \n",
       "15          3          2          1          3          4          5   \n",
       "16          3          2          1          1          2          6   \n",
       "\n",
       "    SRS022530  SRS022621  \n",
       "12          0          0  \n",
       "13          0          0  \n",
       "14          0          0  \n",
       "15          0          0  \n",
       "16          0          0  \n",
       "\n",
       "[5 rows x 130 columns]"
      ]
     },
     "execution_count": 22,
     "metadata": {},
     "output_type": "execute_result"
    }
   ],
   "source": [
    "depth.head()"
   ]
  },
  {
   "cell_type": "code",
   "execution_count": 23,
   "metadata": {},
   "outputs": [
    {
     "data": {
      "text/html": [
       "<div>\n",
       "<style>\n",
       "    .dataframe thead tr:only-child th {\n",
       "        text-align: right;\n",
       "    }\n",
       "\n",
       "    .dataframe thead th {\n",
       "        text-align: left;\n",
       "    }\n",
       "\n",
       "    .dataframe tbody tr th {\n",
       "        vertical-align: top;\n",
       "    }\n",
       "</style>\n",
       "<table border=\"1\" class=\"dataframe\">\n",
       "  <thead>\n",
       "    <tr style=\"text-align: right;\">\n",
       "      <th></th>\n",
       "      <th>site_id</th>\n",
       "      <th>SRS144368</th>\n",
       "      <th>SRS144512</th>\n",
       "      <th>SRS144609</th>\n",
       "      <th>SRS146738</th>\n",
       "      <th>SRS146767</th>\n",
       "      <th>SRS146824</th>\n",
       "      <th>SRS146894</th>\n",
       "      <th>SRS147094</th>\n",
       "      <th>SRS147120</th>\n",
       "      <th>...</th>\n",
       "      <th>SRS018791</th>\n",
       "      <th>SRS018969</th>\n",
       "      <th>SRS019022</th>\n",
       "      <th>SRS019045</th>\n",
       "      <th>SRS019894</th>\n",
       "      <th>SRS020220</th>\n",
       "      <th>SRS021496</th>\n",
       "      <th>SRS021954</th>\n",
       "      <th>SRS022530</th>\n",
       "      <th>SRS022621</th>\n",
       "    </tr>\n",
       "  </thead>\n",
       "  <tbody>\n",
       "    <tr>\n",
       "      <th>12</th>\n",
       "      <td>419</td>\n",
       "      <td>0.0</td>\n",
       "      <td>0.0</td>\n",
       "      <td>0.0</td>\n",
       "      <td>0.0</td>\n",
       "      <td>0.0</td>\n",
       "      <td>0.0</td>\n",
       "      <td>0.0</td>\n",
       "      <td>0.0</td>\n",
       "      <td>0.0</td>\n",
       "      <td>...</td>\n",
       "      <td>0.0</td>\n",
       "      <td>0.0</td>\n",
       "      <td>0.0</td>\n",
       "      <td>0.0</td>\n",
       "      <td>0.0</td>\n",
       "      <td>0.0</td>\n",
       "      <td>0.00</td>\n",
       "      <td>0.0</td>\n",
       "      <td>0.0</td>\n",
       "      <td>0.0</td>\n",
       "    </tr>\n",
       "    <tr>\n",
       "      <th>13</th>\n",
       "      <td>425</td>\n",
       "      <td>0.0</td>\n",
       "      <td>0.0</td>\n",
       "      <td>0.0</td>\n",
       "      <td>0.0</td>\n",
       "      <td>0.0</td>\n",
       "      <td>0.0</td>\n",
       "      <td>0.0</td>\n",
       "      <td>0.0</td>\n",
       "      <td>0.0</td>\n",
       "      <td>...</td>\n",
       "      <td>0.0</td>\n",
       "      <td>0.0</td>\n",
       "      <td>0.0</td>\n",
       "      <td>0.0</td>\n",
       "      <td>0.0</td>\n",
       "      <td>0.0</td>\n",
       "      <td>0.00</td>\n",
       "      <td>0.0</td>\n",
       "      <td>0.0</td>\n",
       "      <td>0.0</td>\n",
       "    </tr>\n",
       "    <tr>\n",
       "      <th>14</th>\n",
       "      <td>437</td>\n",
       "      <td>0.0</td>\n",
       "      <td>0.0</td>\n",
       "      <td>0.0</td>\n",
       "      <td>0.0</td>\n",
       "      <td>0.0</td>\n",
       "      <td>0.0</td>\n",
       "      <td>0.0</td>\n",
       "      <td>0.0</td>\n",
       "      <td>0.0</td>\n",
       "      <td>...</td>\n",
       "      <td>0.0</td>\n",
       "      <td>0.0</td>\n",
       "      <td>0.0</td>\n",
       "      <td>0.0</td>\n",
       "      <td>0.0</td>\n",
       "      <td>0.0</td>\n",
       "      <td>0.00</td>\n",
       "      <td>0.0</td>\n",
       "      <td>0.0</td>\n",
       "      <td>0.0</td>\n",
       "    </tr>\n",
       "    <tr>\n",
       "      <th>15</th>\n",
       "      <td>443</td>\n",
       "      <td>0.0</td>\n",
       "      <td>0.0</td>\n",
       "      <td>0.0</td>\n",
       "      <td>0.0</td>\n",
       "      <td>0.0</td>\n",
       "      <td>0.0</td>\n",
       "      <td>0.0</td>\n",
       "      <td>0.0</td>\n",
       "      <td>0.0</td>\n",
       "      <td>...</td>\n",
       "      <td>0.0</td>\n",
       "      <td>0.0</td>\n",
       "      <td>0.0</td>\n",
       "      <td>0.0</td>\n",
       "      <td>0.0</td>\n",
       "      <td>0.0</td>\n",
       "      <td>0.75</td>\n",
       "      <td>0.0</td>\n",
       "      <td>0.0</td>\n",
       "      <td>0.0</td>\n",
       "    </tr>\n",
       "    <tr>\n",
       "      <th>16</th>\n",
       "      <td>453</td>\n",
       "      <td>0.0</td>\n",
       "      <td>0.0</td>\n",
       "      <td>0.0</td>\n",
       "      <td>0.0</td>\n",
       "      <td>0.0</td>\n",
       "      <td>0.0</td>\n",
       "      <td>0.0</td>\n",
       "      <td>0.0</td>\n",
       "      <td>0.0</td>\n",
       "      <td>...</td>\n",
       "      <td>0.0</td>\n",
       "      <td>0.0</td>\n",
       "      <td>0.0</td>\n",
       "      <td>0.0</td>\n",
       "      <td>0.0</td>\n",
       "      <td>0.0</td>\n",
       "      <td>0.00</td>\n",
       "      <td>0.0</td>\n",
       "      <td>0.0</td>\n",
       "      <td>0.0</td>\n",
       "    </tr>\n",
       "  </tbody>\n",
       "</table>\n",
       "<p>5 rows × 130 columns</p>\n",
       "</div>"
      ],
      "text/plain": [
       "    site_id  SRS144368  SRS144512  SRS144609  SRS146738  SRS146767  SRS146824  \\\n",
       "12      419        0.0        0.0        0.0        0.0        0.0        0.0   \n",
       "13      425        0.0        0.0        0.0        0.0        0.0        0.0   \n",
       "14      437        0.0        0.0        0.0        0.0        0.0        0.0   \n",
       "15      443        0.0        0.0        0.0        0.0        0.0        0.0   \n",
       "16      453        0.0        0.0        0.0        0.0        0.0        0.0   \n",
       "\n",
       "    SRS146894  SRS147094  SRS147120    ...      SRS018791  SRS018969  \\\n",
       "12        0.0        0.0        0.0    ...            0.0        0.0   \n",
       "13        0.0        0.0        0.0    ...            0.0        0.0   \n",
       "14        0.0        0.0        0.0    ...            0.0        0.0   \n",
       "15        0.0        0.0        0.0    ...            0.0        0.0   \n",
       "16        0.0        0.0        0.0    ...            0.0        0.0   \n",
       "\n",
       "    SRS019022  SRS019045  SRS019894  SRS020220  SRS021496  SRS021954  \\\n",
       "12        0.0        0.0        0.0        0.0       0.00        0.0   \n",
       "13        0.0        0.0        0.0        0.0       0.00        0.0   \n",
       "14        0.0        0.0        0.0        0.0       0.00        0.0   \n",
       "15        0.0        0.0        0.0        0.0       0.75        0.0   \n",
       "16        0.0        0.0        0.0        0.0       0.00        0.0   \n",
       "\n",
       "    SRS022530  SRS022621  \n",
       "12        0.0        0.0  \n",
       "13        0.0        0.0  \n",
       "14        0.0        0.0  \n",
       "15        0.0        0.0  \n",
       "16        0.0        0.0  \n",
       "\n",
       "[5 rows x 130 columns]"
      ]
     },
     "execution_count": 23,
     "metadata": {},
     "output_type": "execute_result"
    }
   ],
   "source": [
    "freq.head()"
   ]
  },
  {
   "cell_type": "code",
   "execution_count": 26,
   "metadata": {},
   "outputs": [
    {
     "data": {
      "text/plain": [
       "True"
      ]
     },
     "execution_count": 26,
     "metadata": {},
     "output_type": "execute_result"
    }
   ],
   "source": []
  },
  {
   "cell_type": "code",
   "execution_count": null,
   "metadata": {
    "collapsed": true
   },
   "outputs": [],
   "source": []
  }
 ],
 "metadata": {
  "kernelspec": {
   "display_name": "Python 3",
   "language": "python",
   "name": "python3"
  },
  "language_info": {
   "codemirror_mode": {
    "name": "ipython",
    "version": 3
   },
   "file_extension": ".py",
   "mimetype": "text/x-python",
   "name": "python",
   "nbconvert_exporter": "python",
   "pygments_lexer": "ipython3",
   "version": "3.6.1"
  }
 },
 "nbformat": 4,
 "nbformat_minor": 2
}
