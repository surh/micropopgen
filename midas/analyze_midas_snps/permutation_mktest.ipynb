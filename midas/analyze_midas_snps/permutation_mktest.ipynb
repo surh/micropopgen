{
 "cells": [
  {
   "cell_type": "code",
   "execution_count": 1,
   "metadata": {
    "collapsed": true
   },
   "outputs": [],
   "source": [
    "import pandas as pd\n",
    "import numpy as np"
   ]
  },
  {
   "cell_type": "code",
   "execution_count": null,
   "metadata": {
    "collapsed": true
   },
   "outputs": [],
   "source": [
    "def determine_site_dist(map, depth, freq, info, depth_thres = 1):\n",
    "    \"\"\"For all sites, determine if they are fixed or polymorphic\"\"\"\n",
    "\n",
    "    Dist = []\n",
    "    for i in range(info.shape[0]):\n",
    "        # Add samples IDs as map header and match samples\n",
    "        # in map with samples in depth\n",
    "\n",
    "        # Create site data frame\n",
    "        site = map.copy()\n",
    "        site['depth'] = depth.loc[ depth.index[i], map.index ]\n",
    "        site['freq'] = freq.loc[ freq.index[i], map.index ]\n",
    "        # print(site.head())\n",
    "\n",
    "        # Remove samples without information for site\n",
    "        site = site[site.depth >= depth_thres]\n",
    "        # print(site.shape)\n",
    "        # print(site.head())\n",
    "        # site\n",
    "\n",
    "\n",
    "        # Determine if it is polymorphic or fixed\n",
    "        site_crosstab = pd.crosstab(site.freq >= 0.5, site.Group)\n",
    "        # site_crosstab\n",
    "\n",
    "        if site_crosstab.shape == (2,2):\n",
    "            if (np.matrix(site_crosstab).diagonal() == [0,0]).all() or (np.fliplr(np.matrix(site_crosstab)).diagonal() == [0, 0]).all():\n",
    "                mutation_type = 'fixed'\n",
    "            else:\n",
    "                mutation_type = 'polymorphic'\n",
    "        else:\n",
    "            mutation_type = np.nan\n",
    "\n",
    "        Dist.append(mutation_type)\n",
    "    \n",
    "    return(Dist)"
   ]
  },
  {
   "cell_type": "code",
   "execution_count": 174,
   "metadata": {
    "collapsed": true
   },
   "outputs": [],
   "source": [
    "map_file = \"/home/sur/micropopgen/data/test_data/midas/map.txt\"\n",
    "depth_file = \"/home/sur/micropopgen/data/test_data/midas/merged.snps/Streptococcus_sp_60086/snps_depth.txt\"\n",
    "info_file = \"/home/sur/micropopgen/data/test_data/midas/merged.snps/Streptococcus_sp_60086/snps_info.txt\"\n",
    "freqs_file = \"/home/sur/micropopgen/data/test_data/midas/merged.snps/Streptococcus_sp_60086/snps_freq.txt\"\n",
    "groups = ['Buccal mucosa', 'Tongue dorsum']\n",
    "depth_thres = 1\n",
    "cov_thres = 3"
   ]
  },
  {
   "cell_type": "code",
   "execution_count": null,
   "metadata": {
    "collapsed": true
   },
   "outputs": [],
   "source": [
    "map = pd.read_csv(map_file, sep=\"\\t\")\n",
    "map.head()"
   ]
  },
  {
   "cell_type": "code",
   "execution_count": null,
   "metadata": {
    "collapsed": true
   },
   "outputs": [],
   "source": [
    "info = pd.read_csv(info_file, sep=\"\\t\")\n",
    "info.head()"
   ]
  },
  {
   "cell_type": "code",
   "execution_count": null,
   "metadata": {
    "collapsed": true
   },
   "outputs": [],
   "source": [
    "depth = pd.read_csv(depth_file, sep=\"\\t\")\n",
    "depth.head()"
   ]
  },
  {
   "cell_type": "code",
   "execution_count": null,
   "metadata": {
    "collapsed": true
   },
   "outputs": [],
   "source": [
    "freq = pd.read_csv(freqs_file, sep=\"\\t\")\n",
    "freq.head()"
   ]
  },
  {
   "cell_type": "code",
   "execution_count": null,
   "metadata": {
    "collapsed": true
   },
   "outputs": [],
   "source": [
    "freq.shape"
   ]
  },
  {
   "cell_type": "code",
   "execution_count": null,
   "metadata": {
    "collapsed": true
   },
   "outputs": [],
   "source": [
    "depth.shape"
   ]
  },
  {
   "cell_type": "code",
   "execution_count": null,
   "metadata": {
    "collapsed": true
   },
   "outputs": [],
   "source": [
    "info.shape"
   ]
  },
  {
   "cell_type": "code",
   "execution_count": null,
   "metadata": {
    "collapsed": true
   },
   "outputs": [],
   "source": [
    "groups"
   ]
  },
  {
   "cell_type": "code",
   "execution_count": null,
   "metadata": {
    "collapsed": true
   },
   "outputs": [],
   "source": [
    "type(map.Group)"
   ]
  },
  {
   "cell_type": "code",
   "execution_count": 247,
   "metadata": {},
   "outputs": [],
   "source": [
    "map = pd.read_csv(map_file, sep=\"\\t\")\n",
    "map.index = map.ID\n",
    "map = map.loc[map.Group.isin(groups),:].copy()"
   ]
  },
  {
   "cell_type": "code",
   "execution_count": 248,
   "metadata": {},
   "outputs": [],
   "source": [
    "# Read data\n",
    "info = pd.read_csv(info_file, sep=\"\\t\")\n",
    "depth = pd.read_csv(depth_file, sep=\"\\t\")\n",
    "freq = pd.read_csv(freqs_file, sep=\"\\t\")\n",
    "\n",
    "# Remove non gene sites\n",
    "ii = ~info.gene_id.isnull()\n",
    "info = info.loc[ii, :]\n",
    "depth = depth.loc[ii, :]\n",
    "freq = freq.loc[ii, :]\n",
    "\n",
    "# Remove site_id columns\n",
    "depth = depth.drop(axis=1, labels='site_id')\n",
    "freq = freq.drop(axis=1, labels='site_id')\n",
    "\n",
    "# Get list of genes\n",
    "gene_ids = info.gene_id.unique()\n",
    "\n",
    "# subset for tests\n",
    "info = info.head(100)\n",
    "depth = depth.head(100)\n",
    "freq = freq.head(100)"
   ]
  },
  {
   "cell_type": "code",
   "execution_count": 249,
   "metadata": {},
   "outputs": [],
   "source": [
    "# Check that sample names match between freq and depth\n",
    "if not all(freq.columns == depth.columns):\n",
    "    raise ValueError(\"Columns don't match between freq and depth files\")\n",
    "\n",
    "    \n",
    "# Remove samples from other groups\n",
    "ci = depth.columns.isin(map.ID)\n",
    "depth = depth.loc[:, ci]\n",
    "freq = freq.loc[:, ci]\n",
    "\n",
    "# Reorder map\n",
    "map = map.loc[depth.columns,:]\n",
    "# print(map.head())\n",
    "# print(map.shape)\n",
    "\n",
    "# Calculate coverage in sites\n",
    "map['coverage'] = depth.mean(axis=0)\n",
    "# print(map.head())\n",
    "# print(map.shape)\n",
    "\n",
    "# Remove samples below coverage\n",
    "ci = map.coverage >= cov_thres\n",
    "map = map.loc[ci, :]\n",
    "depth = depth[map.index]\n",
    "freq = freq[map.index]\n",
    "\n",
    "if not all(map.index == depth.columns[1:]):\n",
    "    raise ValueError(\"Samples in map and depth don't match\")"
   ]
  },
  {
   "cell_type": "code",
   "execution_count": 301,
   "metadata": {},
   "outputs": [
    {
     "name": "stdout",
     "output_type": "stream",
     "text": [
      "[nan, nan, nan, 'polymorphic', nan, 'polymorphic', 'polymorphic', 'polymorphic', 'polymorphic', 'polymorphic', 'polymorphic', nan, 'polymorphic', nan, 'polymorphic', 'fixed', 'polymorphic', nan, 'polymorphic', 'polymorphic', 'fixed', 'fixed', nan, 'polymorphic', 'polymorphic', 'fixed', 'fixed', 'polymorphic', 'polymorphic', 'fixed', 'polymorphic', 'polymorphic', 'polymorphic', 'polymorphic', nan, 'polymorphic', nan, 'polymorphic', nan, nan, nan, nan, nan, nan, nan, nan, 'fixed', 'fixed', 'fixed', 'fixed', 'fixed', nan, 'polymorphic', 'fixed', nan, 'fixed', nan, 'polymorphic', 'fixed', 'fixed', nan, nan, nan, nan, nan, nan, nan, nan, nan, 'polymorphic', nan, 'polymorphic', 'polymorphic', nan, nan, nan, 'fixed', 'fixed', 'polymorphic', nan, nan, 'polymorphic', nan, 'polymorphic', 'polymorphic', 'polymorphic', 'polymorphic', 'polymorphic', 'fixed', nan, 'polymorphic', nan, nan, nan, 'fixed', 'fixed', 'polymorphic', 'fixed', 'polymorphic', nan]\n"
     ]
    },
    {
     "data": {
      "text/html": [
       "<div>\n",
       "<style>\n",
       "    .dataframe thead tr:only-child th {\n",
       "        text-align: right;\n",
       "    }\n",
       "\n",
       "    .dataframe thead th {\n",
       "        text-align: left;\n",
       "    }\n",
       "\n",
       "    .dataframe tbody tr th {\n",
       "        vertical-align: top;\n",
       "    }\n",
       "</style>\n",
       "<table border=\"1\" class=\"dataframe\">\n",
       "  <thead>\n",
       "    <tr style=\"text-align: right;\">\n",
       "      <th></th>\n",
       "      <th>site_id</th>\n",
       "      <th>ref_id</th>\n",
       "      <th>ref_pos</th>\n",
       "      <th>ref_allele</th>\n",
       "      <th>major_allele</th>\n",
       "      <th>minor_allele</th>\n",
       "      <th>count_samples</th>\n",
       "      <th>count_a</th>\n",
       "      <th>count_c</th>\n",
       "      <th>count_g</th>\n",
       "      <th>count_t</th>\n",
       "      <th>locus_type</th>\n",
       "      <th>gene_id</th>\n",
       "      <th>snp_type</th>\n",
       "      <th>site_type</th>\n",
       "      <th>amino_acids</th>\n",
       "      <th>Type</th>\n",
       "    </tr>\n",
       "  </thead>\n",
       "  <tbody>\n",
       "    <tr>\n",
       "      <th>12</th>\n",
       "      <td>419</td>\n",
       "      <td>CM002128</td>\n",
       "      <td>419</td>\n",
       "      <td>A</td>\n",
       "      <td>A</td>\n",
       "      <td>T</td>\n",
       "      <td>42</td>\n",
       "      <td>440</td>\n",
       "      <td>0</td>\n",
       "      <td>0</td>\n",
       "      <td>17</td>\n",
       "      <td>CDS</td>\n",
       "      <td>1316408.3.peg.1</td>\n",
       "      <td>bi</td>\n",
       "      <td>3D</td>\n",
       "      <td>I,M,I,I</td>\n",
       "      <td>NaN</td>\n",
       "    </tr>\n",
       "    <tr>\n",
       "      <th>13</th>\n",
       "      <td>425</td>\n",
       "      <td>CM002128</td>\n",
       "      <td>425</td>\n",
       "      <td>G</td>\n",
       "      <td>G</td>\n",
       "      <td>T</td>\n",
       "      <td>42</td>\n",
       "      <td>1</td>\n",
       "      <td>0</td>\n",
       "      <td>428</td>\n",
       "      <td>9</td>\n",
       "      <td>CDS</td>\n",
       "      <td>1316408.3.peg.1</td>\n",
       "      <td>bi</td>\n",
       "      <td>3D</td>\n",
       "      <td>I,M,I,I</td>\n",
       "      <td>NaN</td>\n",
       "    </tr>\n",
       "    <tr>\n",
       "      <th>14</th>\n",
       "      <td>437</td>\n",
       "      <td>CM002128</td>\n",
       "      <td>437</td>\n",
       "      <td>A</td>\n",
       "      <td>A</td>\n",
       "      <td>T</td>\n",
       "      <td>41</td>\n",
       "      <td>353</td>\n",
       "      <td>0</td>\n",
       "      <td>0</td>\n",
       "      <td>17</td>\n",
       "      <td>CDS</td>\n",
       "      <td>1316408.3.peg.1</td>\n",
       "      <td>bi</td>\n",
       "      <td>4D</td>\n",
       "      <td>S,S,S,S</td>\n",
       "      <td>NaN</td>\n",
       "    </tr>\n",
       "    <tr>\n",
       "      <th>15</th>\n",
       "      <td>443</td>\n",
       "      <td>CM002128</td>\n",
       "      <td>443</td>\n",
       "      <td>A</td>\n",
       "      <td>A</td>\n",
       "      <td>G</td>\n",
       "      <td>38</td>\n",
       "      <td>275</td>\n",
       "      <td>0</td>\n",
       "      <td>37</td>\n",
       "      <td>0</td>\n",
       "      <td>CDS</td>\n",
       "      <td>1316408.3.peg.1</td>\n",
       "      <td>bi</td>\n",
       "      <td>4D</td>\n",
       "      <td>P,P,P,P</td>\n",
       "      <td>polymorphic</td>\n",
       "    </tr>\n",
       "    <tr>\n",
       "      <th>16</th>\n",
       "      <td>453</td>\n",
       "      <td>CM002128</td>\n",
       "      <td>453</td>\n",
       "      <td>T</td>\n",
       "      <td>T</td>\n",
       "      <td>C</td>\n",
       "      <td>32</td>\n",
       "      <td>0</td>\n",
       "      <td>6</td>\n",
       "      <td>0</td>\n",
       "      <td>259</td>\n",
       "      <td>CDS</td>\n",
       "      <td>1316408.3.peg.1</td>\n",
       "      <td>bi</td>\n",
       "      <td>1D</td>\n",
       "      <td>I,S,T,N</td>\n",
       "      <td>NaN</td>\n",
       "    </tr>\n",
       "  </tbody>\n",
       "</table>\n",
       "</div>"
      ],
      "text/plain": [
       "    site_id    ref_id  ref_pos ref_allele major_allele minor_allele  \\\n",
       "12      419  CM002128      419          A            A            T   \n",
       "13      425  CM002128      425          G            G            T   \n",
       "14      437  CM002128      437          A            A            T   \n",
       "15      443  CM002128      443          A            A            G   \n",
       "16      453  CM002128      453          T            T            C   \n",
       "\n",
       "    count_samples  count_a  count_c  count_g  count_t locus_type  \\\n",
       "12             42      440        0        0       17        CDS   \n",
       "13             42        1        0      428        9        CDS   \n",
       "14             41      353        0        0       17        CDS   \n",
       "15             38      275        0       37        0        CDS   \n",
       "16             32        0        6        0      259        CDS   \n",
       "\n",
       "            gene_id snp_type site_type amino_acids         Type  \n",
       "12  1316408.3.peg.1       bi        3D     I,M,I,I          NaN  \n",
       "13  1316408.3.peg.1       bi        3D     I,M,I,I          NaN  \n",
       "14  1316408.3.peg.1       bi        4D     S,S,S,S          NaN  \n",
       "15  1316408.3.peg.1       bi        4D     P,P,P,P  polymorphic  \n",
       "16  1316408.3.peg.1       bi        1D     I,S,T,N          NaN  "
      ]
     },
     "execution_count": 301,
     "metadata": {},
     "output_type": "execute_result"
    }
   ],
   "source": [
    "\n",
    "\n",
    "print(Dist)\n",
    "info['Type'] = Dist\n",
    "info.head()"
   ]
  },
  {
   "cell_type": "code",
   "execution_count": 299,
   "metadata": {},
   "outputs": [
    {
     "data": {
      "text/plain": [
       "[nan,\n",
       " nan,\n",
       " nan,\n",
       " 'polymorphic',\n",
       " nan,\n",
       " 'polymorphic',\n",
       " 'polymorphic',\n",
       " 'polymorphic',\n",
       " 'polymorphic',\n",
       " 'polymorphic',\n",
       " 'polymorphic',\n",
       " nan,\n",
       " 'polymorphic',\n",
       " nan,\n",
       " 'polymorphic',\n",
       " 'fixed',\n",
       " 'polymorphic',\n",
       " nan,\n",
       " 'polymorphic',\n",
       " 'polymorphic',\n",
       " 'fixed',\n",
       " 'fixed',\n",
       " nan,\n",
       " 'polymorphic',\n",
       " 'polymorphic',\n",
       " 'fixed',\n",
       " 'fixed',\n",
       " 'polymorphic',\n",
       " 'polymorphic',\n",
       " 'fixed',\n",
       " 'polymorphic',\n",
       " 'polymorphic',\n",
       " 'polymorphic',\n",
       " 'polymorphic',\n",
       " nan,\n",
       " 'polymorphic',\n",
       " nan,\n",
       " 'polymorphic',\n",
       " nan,\n",
       " nan,\n",
       " nan,\n",
       " nan,\n",
       " nan,\n",
       " nan,\n",
       " nan,\n",
       " nan,\n",
       " 'fixed',\n",
       " 'fixed',\n",
       " 'fixed',\n",
       " 'fixed',\n",
       " 'fixed',\n",
       " nan,\n",
       " 'polymorphic',\n",
       " 'fixed',\n",
       " nan,\n",
       " 'fixed',\n",
       " nan,\n",
       " 'polymorphic',\n",
       " 'fixed',\n",
       " 'fixed',\n",
       " nan,\n",
       " nan,\n",
       " nan,\n",
       " nan,\n",
       " nan,\n",
       " nan,\n",
       " nan,\n",
       " nan,\n",
       " nan,\n",
       " 'polymorphic',\n",
       " nan,\n",
       " 'polymorphic',\n",
       " 'polymorphic',\n",
       " nan,\n",
       " nan,\n",
       " nan,\n",
       " 'fixed',\n",
       " 'fixed',\n",
       " 'polymorphic',\n",
       " nan,\n",
       " nan,\n",
       " 'polymorphic',\n",
       " nan,\n",
       " 'polymorphic',\n",
       " 'polymorphic',\n",
       " 'polymorphic',\n",
       " 'polymorphic',\n",
       " 'polymorphic',\n",
       " 'fixed',\n",
       " nan,\n",
       " 'polymorphic',\n",
       " nan,\n",
       " nan,\n",
       " nan,\n",
       " 'fixed',\n",
       " 'fixed',\n",
       " 'polymorphic',\n",
       " 'fixed',\n",
       " 'polymorphic',\n",
       " nan]"
      ]
     },
     "execution_count": 299,
     "metadata": {},
     "output_type": "execute_result"
    }
   ],
   "source": []
  },
  {
   "cell_type": "code",
   "execution_count": 291,
   "metadata": {},
   "outputs": [
    {
     "ename": "TypeError",
     "evalue": "Required argument 'object' (pos 1) not found",
     "output_type": "error",
     "traceback": [
      "\u001b[0;31m---------------------------------------------------------------------------\u001b[0m",
      "\u001b[0;31mTypeError\u001b[0m                                 Traceback (most recent call last)",
      "\u001b[0;32m<ipython-input-291-ab047617cb49>\u001b[0m in \u001b[0;36m<module>\u001b[0;34m()\u001b[0m\n\u001b[0;32m----> 1\u001b[0;31m \u001b[0mDist\u001b[0m \u001b[0;34m=\u001b[0m \u001b[0mnp\u001b[0m\u001b[0;34m.\u001b[0m\u001b[0marray\u001b[0m\u001b[0;34m(\u001b[0m\u001b[0mdtype\u001b[0m\u001b[0;34m=\u001b[0m\u001b[0mnp\u001b[0m\u001b[0;34m.\u001b[0m\u001b[0mcharacter\u001b[0m\u001b[0;34m)\u001b[0m\u001b[0;34m\u001b[0m\u001b[0m\n\u001b[0m\u001b[1;32m      2\u001b[0m \u001b[0mDist\u001b[0m\u001b[0;34m\u001b[0m\u001b[0m\n",
      "\u001b[0;31mTypeError\u001b[0m: Required argument 'object' (pos 1) not found"
     ]
    }
   ],
   "source": []
  },
  {
   "cell_type": "code",
   "execution_count": null,
   "metadata": {
    "collapsed": true
   },
   "outputs": [],
   "source": []
  },
  {
   "cell_type": "code",
   "execution_count": 137,
   "metadata": {},
   "outputs": [
    {
     "data": {
      "text/plain": [
       "matrix([[ 1, 39],\n",
       "        [ 0,  2]])"
      ]
     },
     "execution_count": 137,
     "metadata": {},
     "output_type": "execute_result"
    }
   ],
   "source": [
    "np.matrix(site_crosstab)"
   ]
  },
  {
   "cell_type": "code",
   "execution_count": 135,
   "metadata": {},
   "outputs": [
    {
     "data": {
      "text/plain": [
       "matrix([[1, 2]])"
      ]
     },
     "execution_count": 135,
     "metadata": {},
     "output_type": "execute_result"
    }
   ],
   "source": [
    "np.matrix(site_crosstab).diagonal(axis1=0, axis2=1)"
   ]
  },
  {
   "cell_type": "code",
   "execution_count": 136,
   "metadata": {},
   "outputs": [
    {
     "data": {
      "text/plain": [
       "matrix([[1, 2]])"
      ]
     },
     "execution_count": 136,
     "metadata": {},
     "output_type": "execute_result"
    }
   ],
   "source": [
    "np.matrix(site_crosstab).diagonal(axis1=1, axis2=0)"
   ]
  },
  {
   "cell_type": "code",
   "execution_count": 149,
   "metadata": {},
   "outputs": [
    {
     "name": "stdout",
     "output_type": "stream",
     "text": [
      "29.9 µs ± 1.58 µs per loop (mean ± std. dev. of 7 runs, 10000 loops each)\n"
     ]
    }
   ],
   "source": [
    "%timeit np.matrix(site_crosstab)[:,::-1].diagonal()"
   ]
  },
  {
   "cell_type": "code",
   "execution_count": 150,
   "metadata": {},
   "outputs": [
    {
     "name": "stdout",
     "output_type": "stream",
     "text": [
      "30.7 µs ± 404 ns per loop (mean ± std. dev. of 7 runs, 10000 loops each)\n"
     ]
    }
   ],
   "source": [
    "%timeit np.fliplr(np.matrix(site_crosstab)).diagonal()"
   ]
  },
  {
   "cell_type": "code",
   "execution_count": 43,
   "metadata": {},
   "outputs": [
    {
     "data": {
      "text/plain": [
       "12"
      ]
     },
     "execution_count": 43,
     "metadata": {},
     "output_type": "execute_result"
    }
   ],
   "source": []
  },
  {
   "cell_type": "code",
   "execution_count": null,
   "metadata": {
    "collapsed": true
   },
   "outputs": [],
   "source": []
  },
  {
   "cell_type": "code",
   "execution_count": null,
   "metadata": {
    "collapsed": true
   },
   "outputs": [],
   "source": []
  },
  {
   "cell_type": "code",
   "execution_count": null,
   "metadata": {
    "collapsed": true
   },
   "outputs": [],
   "source": []
  },
  {
   "cell_type": "code",
   "execution_count": null,
   "metadata": {
    "collapsed": true
   },
   "outputs": [],
   "source": []
  }
 ],
 "metadata": {
  "kernelspec": {
   "display_name": "Python 3",
   "language": "python",
   "name": "python3"
  },
  "language_info": {
   "codemirror_mode": {
    "name": "ipython",
    "version": 3
   },
   "file_extension": ".py",
   "mimetype": "text/x-python",
   "name": "python",
   "nbconvert_exporter": "python",
   "pygments_lexer": "ipython3",
   "version": "3.6.1"
  }
 },
 "nbformat": 4,
 "nbformat_minor": 2
}
