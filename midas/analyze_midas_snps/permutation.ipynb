{
 "cells": [
  {
   "cell_type": "code",
   "execution_count": 1,
   "metadata": {},
   "outputs": [],
   "source": [
    "import pandas as pd\n",
    "from MKtest import *\n",
    "import numpy as np"
   ]
  },
  {
   "cell_type": "code",
   "execution_count": 2,
   "metadata": {},
   "outputs": [],
   "source": [
    "d = dict(A=1, B=2, C=3, D=4)"
   ]
  },
  {
   "cell_type": "code",
   "execution_count": 3,
   "metadata": {},
   "outputs": [
    {
     "data": {
      "text/html": [
       "<div>\n",
       "<style scoped>\n",
       "    .dataframe tbody tr th:only-of-type {\n",
       "        vertical-align: middle;\n",
       "    }\n",
       "\n",
       "    .dataframe tbody tr th {\n",
       "        vertical-align: top;\n",
       "    }\n",
       "\n",
       "    .dataframe thead th {\n",
       "        text-align: right;\n",
       "    }\n",
       "</style>\n",
       "<table border=\"1\" class=\"dataframe\">\n",
       "  <thead>\n",
       "    <tr style=\"text-align: right;\">\n",
       "      <th></th>\n",
       "      <th>gene</th>\n",
       "      <th>contig</th>\n",
       "      <th>start</th>\n",
       "      <th>end</th>\n",
       "      <th>Dn</th>\n",
       "      <th>Ds</th>\n",
       "      <th>Pn</th>\n",
       "      <th>Ps</th>\n",
       "      <th>hg</th>\n",
       "      <th>hg.pval</th>\n",
       "    </tr>\n",
       "  </thead>\n",
       "  <tbody>\n",
       "    <tr>\n",
       "      <th>0</th>\n",
       "      <td>1156433.3.peg.1</td>\n",
       "      <td>CP006776</td>\n",
       "      <td>1134</td>\n",
       "      <td>2262</td>\n",
       "      <td>6</td>\n",
       "      <td>3</td>\n",
       "      <td>29</td>\n",
       "      <td>71</td>\n",
       "      <td>0.238095</td>\n",
       "      <td>0.037896</td>\n",
       "    </tr>\n",
       "    <tr>\n",
       "      <th>1</th>\n",
       "      <td>1156433.3.peg.2</td>\n",
       "      <td>CP006776</td>\n",
       "      <td>2271</td>\n",
       "      <td>2427</td>\n",
       "      <td>0</td>\n",
       "      <td>0</td>\n",
       "      <td>2</td>\n",
       "      <td>15</td>\n",
       "      <td>0.187500</td>\n",
       "      <td>0.352381</td>\n",
       "    </tr>\n",
       "    <tr>\n",
       "      <th>2</th>\n",
       "      <td>1156433.3.peg.3</td>\n",
       "      <td>CP006776</td>\n",
       "      <td>2531</td>\n",
       "      <td>2897</td>\n",
       "      <td>0</td>\n",
       "      <td>0</td>\n",
       "      <td>3</td>\n",
       "      <td>13</td>\n",
       "      <td>0.285714</td>\n",
       "      <td>0.447368</td>\n",
       "    </tr>\n",
       "    <tr>\n",
       "      <th>3</th>\n",
       "      <td>1156433.3.peg.4</td>\n",
       "      <td>CP006776</td>\n",
       "      <td>2935</td>\n",
       "      <td>4101</td>\n",
       "      <td>1</td>\n",
       "      <td>1</td>\n",
       "      <td>3</td>\n",
       "      <td>1</td>\n",
       "      <td>2.000000</td>\n",
       "      <td>1.000000</td>\n",
       "    </tr>\n",
       "    <tr>\n",
       "      <th>4</th>\n",
       "      <td>1156433.3.peg.5</td>\n",
       "      <td>CP006776</td>\n",
       "      <td>4162</td>\n",
       "      <td>4562</td>\n",
       "      <td>2</td>\n",
       "      <td>0</td>\n",
       "      <td>13</td>\n",
       "      <td>10</td>\n",
       "      <td>0.424242</td>\n",
       "      <td>0.622079</td>\n",
       "    </tr>\n",
       "  </tbody>\n",
       "</table>\n",
       "</div>"
      ],
      "text/plain": [
       "              gene    contig  start   end  Dn  Ds  Pn  Ps        hg   hg.pval\n",
       "0  1156433.3.peg.1  CP006776   1134  2262   6   3  29  71  0.238095  0.037896\n",
       "1  1156433.3.peg.2  CP006776   2271  2427   0   0   2  15  0.187500  0.352381\n",
       "2  1156433.3.peg.3  CP006776   2531  2897   0   0   3  13  0.285714  0.447368\n",
       "3  1156433.3.peg.4  CP006776   2935  4101   1   1   3   1  2.000000  1.000000\n",
       "4  1156433.3.peg.5  CP006776   4162  4562   2   0  13  10  0.424242  0.622079"
      ]
     },
     "execution_count": 3,
     "metadata": {},
     "output_type": "execute_result"
    }
   ],
   "source": [
    "file = \"/home/sur/micropopgen/exp/today/mktest/Streptococcus_sp_57750/mk_results.Buccal.mucosa_Tongue.dorsum.txt\"\n",
    "pd.read_csv(file, sep=\"\\t\").head()"
   ]
  },
  {
   "cell_type": "code",
   "execution_count": 4,
   "metadata": {},
   "outputs": [],
   "source": [
    "class ARGS:\n",
    "    def __init__(self, indir, metadata_file,\n",
    "                group1, group2, test='hg',\n",
    "                outfile='mk_results', min_count=1,\n",
    "                nrows=float('inf'), tables='mk_tables',\n",
    "                pseudocount=0, permutations=0, seed=5):\n",
    "        \n",
    "        self.indir = indir\n",
    "        self.metadata_file = metadata_file\n",
    "        self.group1 = group1\n",
    "        self.group2 = group2\n",
    "        self.test = test\n",
    "        self.outfile = outfile\n",
    "        self.min_count = min_count\n",
    "        self.nrows = nrows\n",
    "        self.tables = tables\n",
    "        self.pseudocount = pseudocount\n",
    "        self.permutations = permutations\n",
    "        self.seed = seed\n"
   ]
  },
  {
   "cell_type": "code",
   "execution_count": 22,
   "metadata": {},
   "outputs": [],
   "source": [
    "args = ARGS(indir='/home/sur/micropopgen/data/test_data/midas/merged.snps//Streptococcus_sp_57750/',\n",
    "            metadata_file='/home/sur/micropopgen/data/test_data/midas/map.txt',\n",
    "            group1='Buccal mucosa',\n",
    "            group2='Tongue dorsum',\n",
    "            outfile='mktest/Streptococcus_sp_57750//mk_results.Buccal.mucosa_Tongue.dorsum.txt',\n",
    "            tables='mktest/Streptococcus_sp_57750//mk_tables.Buccal.mucosa_Tongue.dorsum.txt',\n",
    "            nrows=2000,\n",
    "            pseudocount=1,\n",
    "            permutations=10,\n",
    "            seed=5,\n",
    "            test='all')"
   ]
  },
  {
   "cell_type": "code",
   "execution_count": 23,
   "metadata": {},
   "outputs": [
    {
     "name": "stdout",
     "output_type": "stream",
     "text": [
      "Checking MIDAS files exist\n",
      "\tAll files found\n",
      "Read metadata\n",
      "Calculate MK contingency tables\n",
      "\tRead snps_info.txt\n",
      "============HEADERs============\n",
      ">Site id: site_id\n",
      ">Contig: ref_id\n",
      ">Position: ref_pos\n",
      ">Ref allele: ref_allele\n",
      ">Major allele: major_allele\n",
      ">Minor allele: minor_allele\n",
      ">Locus type: locus_type\n",
      ">Gene id: gene_id\n",
      ">Aminoacids: amino_acids\n",
      "\n",
      "Number of sites: 1757\n",
      "Number of genes: 20\n",
      "\tChose sites based on depth in groups to compare\n",
      "Number of sites: 768\n",
      "Number of genes: 20\n",
      "Sites with counts: 768\n",
      "\tRead frequencies and calculate\n",
      "Processing snp_freq.txt\n",
      "Number of sites: 768\n",
      "Number of genes: 20\n",
      "Sites with counts: 768\n",
      "Genes with MK: 16\n"
     ]
    }
   ],
   "source": [
    "print(\"Checking MIDAS files exist\")\n",
    "confirm_midas_merge_files(args)\n",
    "\n",
    "# Read mapping files\n",
    "# Create dictionaries that have all the samples per group (Groups),\n",
    "# and the group to which each sample belongs (Samples)\n",
    "# Probably should change this to pandas\n",
    "print(\"Read metadata\")\n",
    "Samples, Groups = process_metadata_file(args.metadata_file)\n",
    "\n",
    "print(\"Calculate MK contingency tables\")\n",
    "MK, Genes = calculate_contingency_tables(Samples, Groups, args)\n",
    "# print(MK)\n",
    "# print([MK])\n"
   ]
  },
  {
   "cell_type": "code",
   "execution_count": 24,
   "metadata": {},
   "outputs": [
    {
     "name": "stdout",
     "output_type": "stream",
     "text": [
      "Permuting\n",
      "Seed is 5\n",
      "\tRead snps_info.txt\n",
      "============HEADERs============\n",
      ">Site id: site_id\n",
      ">Contig: ref_id\n",
      ">Position: ref_pos\n",
      ">Ref allele: ref_allele\n",
      ">Major allele: major_allele\n",
      ">Minor allele: minor_allele\n",
      ">Locus type: locus_type\n",
      ">Gene id: gene_id\n",
      ">Aminoacids: amino_acids\n",
      "\n",
      "Number of sites: 1757\n",
      "Number of genes: 20\n",
      "\tChose sites based on depth in groups to compare\n",
      "Number of sites: 1609\n",
      "Number of genes: 20\n",
      "Sites with counts: 1609\n",
      "\tRead frequencies and calculate\n",
      "Processing snp_freq.txt\n",
      "Number of sites: 1609\n",
      "Number of genes: 20\n",
      "Sites with counts: 1609\n",
      "Genes with MK: 18\n",
      "========\n",
      "2\n",
      "\tRead snps_info.txt\n",
      "============HEADERs============\n",
      ">Site id: site_id\n",
      ">Contig: ref_id\n",
      ">Position: ref_pos\n",
      ">Ref allele: ref_allele\n",
      ">Major allele: major_allele\n",
      ">Minor allele: minor_allele\n",
      ">Locus type: locus_type\n",
      ">Gene id: gene_id\n",
      ">Aminoacids: amino_acids\n",
      "\n",
      "Number of sites: 1757\n",
      "Number of genes: 20\n",
      "\tChose sites based on depth in groups to compare\n",
      "Number of sites: 1638\n",
      "Number of genes: 20\n",
      "Sites with counts: 1638\n",
      "\tRead frequencies and calculate\n",
      "Processing snp_freq.txt\n",
      "Number of sites: 1638\n",
      "Number of genes: 20\n",
      "Sites with counts: 1638\n",
      "Genes with MK: 18\n",
      "========\n",
      "3\n",
      "\tRead snps_info.txt\n",
      "============HEADERs============\n",
      ">Site id: site_id\n",
      ">Contig: ref_id\n",
      ">Position: ref_pos\n",
      ">Ref allele: ref_allele\n",
      ">Major allele: major_allele\n",
      ">Minor allele: minor_allele\n",
      ">Locus type: locus_type\n",
      ">Gene id: gene_id\n",
      ">Aminoacids: amino_acids\n",
      "\n",
      "Number of sites: 1757\n",
      "Number of genes: 20\n",
      "\tChose sites based on depth in groups to compare\n",
      "Number of sites: 1624\n",
      "Number of genes: 20\n",
      "Sites with counts: 1624\n",
      "\tRead frequencies and calculate\n",
      "Processing snp_freq.txt\n",
      "Number of sites: 1624\n",
      "Number of genes: 20\n",
      "Sites with counts: 1624\n",
      "Genes with MK: 18\n",
      "========\n",
      "4\n",
      "\tRead snps_info.txt\n",
      "============HEADERs============\n",
      ">Site id: site_id\n",
      ">Contig: ref_id\n",
      ">Position: ref_pos\n",
      ">Ref allele: ref_allele\n",
      ">Major allele: major_allele\n",
      ">Minor allele: minor_allele\n",
      ">Locus type: locus_type\n",
      ">Gene id: gene_id\n",
      ">Aminoacids: amino_acids\n",
      "\n",
      "Number of sites: 1757\n",
      "Number of genes: 20\n",
      "\tChose sites based on depth in groups to compare\n",
      "Number of sites: 1492\n",
      "Number of genes: 20\n",
      "Sites with counts: 1492\n",
      "\tRead frequencies and calculate\n",
      "Processing snp_freq.txt\n",
      "Number of sites: 1492\n",
      "Number of genes: 20\n",
      "Sites with counts: 1492\n",
      "Genes with MK: 17\n",
      "========\n",
      "5\n",
      "\tRead snps_info.txt\n",
      "============HEADERs============\n",
      ">Site id: site_id\n",
      ">Contig: ref_id\n",
      ">Position: ref_pos\n",
      ">Ref allele: ref_allele\n",
      ">Major allele: major_allele\n",
      ">Minor allele: minor_allele\n",
      ">Locus type: locus_type\n",
      ">Gene id: gene_id\n",
      ">Aminoacids: amino_acids\n",
      "\n",
      "Number of sites: 1757\n",
      "Number of genes: 20\n",
      "\tChose sites based on depth in groups to compare\n",
      "Number of sites: 1450\n",
      "Number of genes: 20\n",
      "Sites with counts: 1450\n",
      "\tRead frequencies and calculate\n",
      "Processing snp_freq.txt\n",
      "Number of sites: 1450\n",
      "Number of genes: 20\n",
      "Sites with counts: 1450\n",
      "Genes with MK: 16\n",
      "========\n",
      "6\n",
      "\tRead snps_info.txt\n",
      "============HEADERs============\n",
      ">Site id: site_id\n",
      ">Contig: ref_id\n",
      ">Position: ref_pos\n",
      ">Ref allele: ref_allele\n",
      ">Major allele: major_allele\n",
      ">Minor allele: minor_allele\n",
      ">Locus type: locus_type\n",
      ">Gene id: gene_id\n",
      ">Aminoacids: amino_acids\n",
      "\n",
      "Number of sites: 1757\n",
      "Number of genes: 20\n",
      "\tChose sites based on depth in groups to compare\n",
      "Number of sites: 1568\n",
      "Number of genes: 20\n",
      "Sites with counts: 1568\n",
      "\tRead frequencies and calculate\n",
      "Processing snp_freq.txt\n",
      "Number of sites: 1568\n",
      "Number of genes: 20\n",
      "Sites with counts: 1568\n",
      "Genes with MK: 18\n",
      "========\n",
      "7\n",
      "\tRead snps_info.txt\n",
      "============HEADERs============\n",
      ">Site id: site_id\n",
      ">Contig: ref_id\n",
      ">Position: ref_pos\n",
      ">Ref allele: ref_allele\n",
      ">Major allele: major_allele\n",
      ">Minor allele: minor_allele\n",
      ">Locus type: locus_type\n",
      ">Gene id: gene_id\n",
      ">Aminoacids: amino_acids\n",
      "\n",
      "Number of sites: 1757\n",
      "Number of genes: 20\n",
      "\tChose sites based on depth in groups to compare\n",
      "Number of sites: 1486\n",
      "Number of genes: 20\n",
      "Sites with counts: 1486\n",
      "\tRead frequencies and calculate\n",
      "Processing snp_freq.txt\n",
      "Number of sites: 1486\n",
      "Number of genes: 20\n",
      "Sites with counts: 1486\n",
      "Genes with MK: 17\n",
      "========\n",
      "8\n",
      "\tRead snps_info.txt\n",
      "============HEADERs============\n",
      ">Site id: site_id\n",
      ">Contig: ref_id\n",
      ">Position: ref_pos\n",
      ">Ref allele: ref_allele\n",
      ">Major allele: major_allele\n",
      ">Minor allele: minor_allele\n",
      ">Locus type: locus_type\n",
      ">Gene id: gene_id\n",
      ">Aminoacids: amino_acids\n",
      "\n",
      "Number of sites: 1757\n",
      "Number of genes: 20\n",
      "\tChose sites based on depth in groups to compare\n",
      "Number of sites: 1629\n",
      "Number of genes: 20\n",
      "Sites with counts: 1629\n",
      "\tRead frequencies and calculate\n",
      "Processing snp_freq.txt\n",
      "Number of sites: 1629\n",
      "Number of genes: 20\n",
      "Sites with counts: 1629\n",
      "Genes with MK: 18\n",
      "========\n",
      "9\n",
      "\tRead snps_info.txt\n",
      "============HEADERs============\n",
      ">Site id: site_id\n",
      ">Contig: ref_id\n",
      ">Position: ref_pos\n",
      ">Ref allele: ref_allele\n",
      ">Major allele: major_allele\n",
      ">Minor allele: minor_allele\n",
      ">Locus type: locus_type\n",
      ">Gene id: gene_id\n",
      ">Aminoacids: amino_acids\n",
      "\n",
      "Number of sites: 1757\n",
      "Number of genes: 20\n",
      "\tChose sites based on depth in groups to compare\n",
      "Number of sites: 1405\n",
      "Number of genes: 20\n",
      "Sites with counts: 1405\n",
      "\tRead frequencies and calculate\n",
      "Processing snp_freq.txt\n",
      "Number of sites: 1405\n",
      "Number of genes: 20\n",
      "Sites with counts: 1405\n",
      "Genes with MK: 17\n",
      "========\n",
      "10\n",
      "\tRead snps_info.txt\n",
      "============HEADERs============\n",
      ">Site id: site_id\n",
      ">Contig: ref_id\n",
      ">Position: ref_pos\n",
      ">Ref allele: ref_allele\n",
      ">Major allele: major_allele\n",
      ">Minor allele: minor_allele\n",
      ">Locus type: locus_type\n",
      ">Gene id: gene_id\n",
      ">Aminoacids: amino_acids\n",
      "\n",
      "Number of sites: 1757\n",
      "Number of genes: 20\n",
      "\tChose sites based on depth in groups to compare\n",
      "Number of sites: 1538\n",
      "Number of genes: 20\n",
      "Sites with counts: 1538\n",
      "\tRead frequencies and calculate\n",
      "Processing snp_freq.txt\n",
      "Number of sites: 1538\n",
      "Number of genes: 20\n",
      "Sites with counts: 1538\n",
      "Genes with MK: 17\n",
      "========\n",
      "11\n",
      "[{'1156433.3.peg.1': <MKtest.MKtest object at 0x7f6483267c88>, '1156433.3.peg.2': <MKtest.MKtest object at 0x7f6483267c50>, '1156433.3.peg.3': <MKtest.MKtest object at 0x7f64832679e8>, '1156433.3.peg.4': <MKtest.MKtest object at 0x7f6483267a58>, '1156433.3.peg.5': <MKtest.MKtest object at 0x7f6483267940>, '1156433.3.peg.9': <MKtest.MKtest object at 0x7f648336bcc0>, '1156433.3.peg.10': <MKtest.MKtest object at 0x7f6483267d30>, '1156433.3.peg.11': <MKtest.MKtest object at 0x7f64832656a0>, '1156433.3.peg.12': <MKtest.MKtest object at 0x7f6483267b70>, '1156433.3.peg.13': <MKtest.MKtest object at 0x7f6483265748>, '1156433.3.peg.14': <MKtest.MKtest object at 0x7f6483265c50>, '1156433.3.peg.15': <MKtest.MKtest object at 0x7f6483265898>, '1156433.3.peg.16': <MKtest.MKtest object at 0x7f64832659e8>, '1156433.3.peg.18': <MKtest.MKtest object at 0x7f64832658d0>, '1156433.3.peg.19': <MKtest.MKtest object at 0x7f6483265048>, '1156433.3.peg.20': <MKtest.MKtest object at 0x7f6483265198>}, {'1156433.3.peg.1': <MKtest.MKtest object at 0x7f6483208b70>, '1156433.3.peg.2': <MKtest.MKtest object at 0x7f6483208940>, '1156433.3.peg.3': <MKtest.MKtest object at 0x7f64832e5048>, '1156433.3.peg.4': <MKtest.MKtest object at 0x7f6483208978>, '1156433.3.peg.5': <MKtest.MKtest object at 0x7f6483208f60>, '1156433.3.peg.6': <MKtest.MKtest object at 0x7f6483208b38>, '1156433.3.peg.9': <MKtest.MKtest object at 0x7f6483208d68>, '1156433.3.peg.10': <MKtest.MKtest object at 0x7f6483208eb8>, '1156433.3.peg.11': <MKtest.MKtest object at 0x7f6483208da0>, '1156433.3.peg.12': <MKtest.MKtest object at 0x7f6483208ac8>, '1156433.3.peg.13': <MKtest.MKtest object at 0x7f6483208cf8>, '1156433.3.peg.14': <MKtest.MKtest object at 0x7f6483208be0>, '1156433.3.peg.15': <MKtest.MKtest object at 0x7f6483208908>, '1156433.3.peg.16': <MKtest.MKtest object at 0x7f6483208e10>, '1156433.3.peg.17': <MKtest.MKtest object at 0x7f6483208a58>, '1156433.3.peg.18': <MKtest.MKtest object at 0x7f6483208f98>, '1156433.3.peg.19': <MKtest.MKtest object at 0x7f6483208c18>, '1156433.3.peg.20': <MKtest.MKtest object at 0x7f6483208d30>}, {'1156433.3.peg.1': <MKtest.MKtest object at 0x7f648320ce48>, '1156433.3.peg.2': <MKtest.MKtest object at 0x7f648320cda0>, '1156433.3.peg.3': <MKtest.MKtest object at 0x7f648320ceb8>, '1156433.3.peg.4': <MKtest.MKtest object at 0x7f648320ce80>, '1156433.3.peg.5': <MKtest.MKtest object at 0x7f648320ce10>, '1156433.3.peg.6': <MKtest.MKtest object at 0x7f648320cef0>, '1156433.3.peg.9': <MKtest.MKtest object at 0x7f648320c048>, '1156433.3.peg.10': <MKtest.MKtest object at 0x7f648320cf98>, '1156433.3.peg.11': <MKtest.MKtest object at 0x7f648320cf28>, '1156433.3.peg.12': <MKtest.MKtest object at 0x7f648320cf60>, '1156433.3.peg.13': <MKtest.MKtest object at 0x7f64832e5dd8>, '1156433.3.peg.14': <MKtest.MKtest object at 0x7f648320e550>, '1156433.3.peg.15': <MKtest.MKtest object at 0x7f648320e438>, '1156433.3.peg.16': <MKtest.MKtest object at 0x7f648320c080>, '1156433.3.peg.17': <MKtest.MKtest object at 0x7f648320e9b0>, '1156433.3.peg.18': <MKtest.MKtest object at 0x7f648320e240>, '1156433.3.peg.19': <MKtest.MKtest object at 0x7f648320e9e8>, '1156433.3.peg.20': <MKtest.MKtest object at 0x7f648320e588>}, {'1156433.3.peg.1': <MKtest.MKtest object at 0x7f6483206438>, '1156433.3.peg.2': <MKtest.MKtest object at 0x7f6483206080>, '1156433.3.peg.3': <MKtest.MKtest object at 0x7f6483206278>, '1156433.3.peg.4': <MKtest.MKtest object at 0x7f6483206160>, '1156433.3.peg.5': <MKtest.MKtest object at 0x7f6483206470>, '1156433.3.peg.6': <MKtest.MKtest object at 0x7f6483206588>, '1156433.3.peg.9': <MKtest.MKtest object at 0x7f64832063c8>, '1156433.3.peg.10': <MKtest.MKtest object at 0x7f64832066d8>, '1156433.3.peg.11': <MKtest.MKtest object at 0x7f64832064a8>, '1156433.3.peg.12': <MKtest.MKtest object at 0x7f6483206978>, '1156433.3.peg.13': <MKtest.MKtest object at 0x7f648320cd68>, '1156433.3.peg.14': <MKtest.MKtest object at 0x7f6483206a58>, '1156433.3.peg.15': <MKtest.MKtest object at 0x7f6483206828>, '1156433.3.peg.16': <MKtest.MKtest object at 0x7f6483206358>, '1156433.3.peg.17': <MKtest.MKtest object at 0x7f6483206cf8>, '1156433.3.peg.18': <MKtest.MKtest object at 0x7f6483206390>, '1156433.3.peg.19': <MKtest.MKtest object at 0x7f6483206d30>, '1156433.3.peg.20': <MKtest.MKtest object at 0x7f64832066a0>}, {'1156433.3.peg.1': <MKtest.MKtest object at 0x7f648328e2e8>, '1156433.3.peg.2': <MKtest.MKtest object at 0x7f648328e080>, '1156433.3.peg.3': <MKtest.MKtest object at 0x7f648328e320>, '1156433.3.peg.4': <MKtest.MKtest object at 0x7f648328e7b8>, '1156433.3.peg.5': <MKtest.MKtest object at 0x7f648328e208>, '1156433.3.peg.9': <MKtest.MKtest object at 0x7f648328e048>, '1156433.3.peg.10': <MKtest.MKtest object at 0x7f648328e0f0>, '1156433.3.peg.11': <MKtest.MKtest object at 0x7f648328e160>, '1156433.3.peg.12': <MKtest.MKtest object at 0x7f648328e240>, '1156433.3.peg.13': <MKtest.MKtest object at 0x7f648327a780>, '1156433.3.peg.14': <MKtest.MKtest object at 0x7f648bca9c88>, '1156433.3.peg.15': <MKtest.MKtest object at 0x7f648327aa20>, '1156433.3.peg.16': <MKtest.MKtest object at 0x7f648328e128>, '1156433.3.peg.17': <MKtest.MKtest object at 0x7f648327a748>, '1156433.3.peg.18': <MKtest.MKtest object at 0x7f648327aac8>, '1156433.3.peg.19': <MKtest.MKtest object at 0x7f648327a4a8>, '1156433.3.peg.20': <MKtest.MKtest object at 0x7f648327ac88>}, {'1156433.3.peg.1': <MKtest.MKtest object at 0x7f6483293ba8>, '1156433.3.peg.2': <MKtest.MKtest object at 0x7f6483293898>, '1156433.3.peg.3': <MKtest.MKtest object at 0x7f64832939b0>, '1156433.3.peg.4': <MKtest.MKtest object at 0x7f6483293668>, '1156433.3.peg.9': <MKtest.MKtest object at 0x7f6483293be0>, '1156433.3.peg.10': <MKtest.MKtest object at 0x7f6483293b70>, '1156433.3.peg.11': <MKtest.MKtest object at 0x7f6483293c18>, '1156433.3.peg.12': <MKtest.MKtest object at 0x7f6483293e10>, '1156433.3.peg.13': <MKtest.MKtest object at 0x7f64832939e8>, '1156433.3.peg.14': <MKtest.MKtest object at 0x7f6483293cc0>, '1156433.3.peg.15': <MKtest.MKtest object at 0x7f6483293f98>, '1156433.3.peg.16': <MKtest.MKtest object at 0x7f648326ff28>, '1156433.3.peg.17': <MKtest.MKtest object at 0x7f6483293a58>, '1156433.3.peg.18': <MKtest.MKtest object at 0x7f6483293da0>, '1156433.3.peg.19': <MKtest.MKtest object at 0x7f6483293908>, '1156433.3.peg.20': <MKtest.MKtest object at 0x7f6483293b00>}, {'1156433.3.peg.1': <MKtest.MKtest object at 0x7f64831f9f98>, '1156433.3.peg.2': <MKtest.MKtest object at 0x7f64831f9e80>, '1156433.3.peg.3': <MKtest.MKtest object at 0x7f64831f9f60>, '1156433.3.peg.4': <MKtest.MKtest object at 0x7f64832b0080>, '1156433.3.peg.5': <MKtest.MKtest object at 0x7f64832b0160>, '1156433.3.peg.6': <MKtest.MKtest object at 0x7f64832b0668>, '1156433.3.peg.9': <MKtest.MKtest object at 0x7f64832b0518>, '1156433.3.peg.10': <MKtest.MKtest object at 0x7f64832b0780>, '1156433.3.peg.11': <MKtest.MKtest object at 0x7f64832b02e8>, '1156433.3.peg.12': <MKtest.MKtest object at 0x7f64832b07b8>, '1156433.3.peg.13': <MKtest.MKtest object at 0x7f64832b0240>, '1156433.3.peg.14': <MKtest.MKtest object at 0x7f648320cc50>, '1156433.3.peg.15': <MKtest.MKtest object at 0x7f64832b08d0>, '1156433.3.peg.16': <MKtest.MKtest object at 0x7f64831f9048>, '1156433.3.peg.17': <MKtest.MKtest object at 0x7f64832b0b38>, '1156433.3.peg.18': <MKtest.MKtest object at 0x7f64832b0898>, '1156433.3.peg.19': <MKtest.MKtest object at 0x7f64832b0b70>, '1156433.3.peg.20': <MKtest.MKtest object at 0x7f64832b04e0>}, {'1156433.3.peg.1': <MKtest.MKtest object at 0x7f648326cb38>, '1156433.3.peg.2': <MKtest.MKtest object at 0x7f648326cef0>, '1156433.3.peg.3': <MKtest.MKtest object at 0x7f648326ce80>, '1156433.3.peg.4': <MKtest.MKtest object at 0x7f648326c898>, '1156433.3.peg.5': <MKtest.MKtest object at 0x7f648326c908>, '1156433.3.peg.9': <MKtest.MKtest object at 0x7f6483236780>, '1156433.3.peg.10': <MKtest.MKtest object at 0x7f64832360b8>, '1156433.3.peg.11': <MKtest.MKtest object at 0x7f6483250eb8>, '1156433.3.peg.12': <MKtest.MKtest object at 0x7f64831f9ef0>, '1156433.3.peg.13': <MKtest.MKtest object at 0x7f6483250390>, '1156433.3.peg.14': <MKtest.MKtest object at 0x7f6483250dd8>, '1156433.3.peg.15': <MKtest.MKtest object at 0x7f64832500b8>, '1156433.3.peg.16': <MKtest.MKtest object at 0x7f6483250f60>, '1156433.3.peg.17': <MKtest.MKtest object at 0x7f6483250c88>, '1156433.3.peg.18': <MKtest.MKtest object at 0x7f6483250f28>, '1156433.3.peg.19': <MKtest.MKtest object at 0x7f6483250898>, '1156433.3.peg.20': <MKtest.MKtest object at 0x7f6483250f98>}, {'1156433.3.peg.1': <MKtest.MKtest object at 0x7f6483213eb8>, '1156433.3.peg.2': <MKtest.MKtest object at 0x7f6483213128>, '1156433.3.peg.3': <MKtest.MKtest object at 0x7f6483213cf8>, '1156433.3.peg.4': <MKtest.MKtest object at 0x7f6483213be0>, '1156433.3.peg.5': <MKtest.MKtest object at 0x7f6483213ef0>, '1156433.3.peg.6': <MKtest.MKtest object at 0x7f6483213da0>, '1156433.3.peg.9': <MKtest.MKtest object at 0x7f6483213e48>, '1156433.3.peg.10': <MKtest.MKtest object at 0x7f6483213d68>, '1156433.3.peg.11': <MKtest.MKtest object at 0x7f6483213c18>, '1156433.3.peg.12': <MKtest.MKtest object at 0x7f6483213048>, '1156433.3.peg.13': <MKtest.MKtest object at 0x7f6483213c50>, '1156433.3.peg.14': <MKtest.MKtest object at 0x7f6483213fd0>, '1156433.3.peg.15': <MKtest.MKtest object at 0x7f6483213e80>, '1156433.3.peg.16': <MKtest.MKtest object at 0x7f648338c128>, '1156433.3.peg.17': <MKtest.MKtest object at 0x7f6483213c88>, '1156433.3.peg.18': <MKtest.MKtest object at 0x7f6483213f28>, '1156433.3.peg.19': <MKtest.MKtest object at 0x7f6483213dd8>, '1156433.3.peg.20': <MKtest.MKtest object at 0x7f6483213f98>}, {'1156433.3.peg.1': <MKtest.MKtest object at 0x7f64833635f8>, '1156433.3.peg.2': <MKtest.MKtest object at 0x7f64833639e8>, '1156433.3.peg.3': <MKtest.MKtest object at 0x7f648333ef60>, '1156433.3.peg.4': <MKtest.MKtest object at 0x7f6483363908>, '1156433.3.peg.5': <MKtest.MKtest object at 0x7f6483363630>, '1156433.3.peg.9': <MKtest.MKtest object at 0x7f6483363940>, '1156433.3.peg.10': <MKtest.MKtest object at 0x7f64833636d8>, '1156433.3.peg.11': <MKtest.MKtest object at 0x7f6483363588>, '1156433.3.peg.12': <MKtest.MKtest object at 0x7f6483363ac8>, '1156433.3.peg.13': <MKtest.MKtest object at 0x7f6483363a20>, '1156433.3.peg.14': <MKtest.MKtest object at 0x7f648333dc18>, '1156433.3.peg.15': <MKtest.MKtest object at 0x7f64b471ca20>, '1156433.3.peg.16': <MKtest.MKtest object at 0x7f6483363780>, '1156433.3.peg.17': <MKtest.MKtest object at 0x7f648333d0b8>, '1156433.3.peg.18': <MKtest.MKtest object at 0x7f648333d828>, '1156433.3.peg.19': <MKtest.MKtest object at 0x7f648333d668>, '1156433.3.peg.20': <MKtest.MKtest object at 0x7f648333d7b8>}, {'1156433.3.peg.1': <MKtest.MKtest object at 0x7f6483248cc0>, '1156433.3.peg.2': <MKtest.MKtest object at 0x7f6483248048>, '1156433.3.peg.3': <MKtest.MKtest object at 0x7f6483248ac8>, '1156433.3.peg.4': <MKtest.MKtest object at 0x7f64832489b0>, '1156433.3.peg.5': <MKtest.MKtest object at 0x7f6483248b70>, '1156433.3.peg.9': <MKtest.MKtest object at 0x7f64832480b8>, '1156433.3.peg.10': <MKtest.MKtest object at 0x7f6483248a58>, '1156433.3.peg.11': <MKtest.MKtest object at 0x7f6483248c18>, '1156433.3.peg.12': <MKtest.MKtest object at 0x7f6483293eb8>, '1156433.3.peg.13': <MKtest.MKtest object at 0x7f64832489e8>, '1156433.3.peg.14': <MKtest.MKtest object at 0x7f6483248da0>, '1156433.3.peg.15': <MKtest.MKtest object at 0x7f6483248b38>, '1156433.3.peg.16': <MKtest.MKtest object at 0x7f6483248c88>, '1156433.3.peg.17': <MKtest.MKtest object at 0x7f6483248d68>, '1156433.3.peg.18': <MKtest.MKtest object at 0x7f6483248e80>, '1156433.3.peg.19': <MKtest.MKtest object at 0x7f6483248d30>, '1156433.3.peg.20': <MKtest.MKtest object at 0x7f6483248fd0>}]\n"
     ]
    }
   ],
   "source": [
    "if args.permutations > 0:\n",
    "        MK = [MK]\n",
    "        print(\"Permuting\")\n",
    "        print(\"Seed is {}\".format(str(args.seed)))\n",
    "        np.random.seed(args.seed)\n",
    "        for i in range(args.permutations):\n",
    "            Sp, Gp = process_metadata_file(args.metadata_file, permute=True)\n",
    "            mk, genes = calculate_contingency_tables(Sp, Gp, args)\n",
    "            MK.append(mk)\n",
    "\n",
    "            print(\"========\")\n",
    "            # print(MK)\n",
    "            print(len(MK))\n",
    "\n",
    "print(MK)"
   ]
  },
  {
   "cell_type": "code",
   "execution_count": 29,
   "metadata": {},
   "outputs": [
    {
     "name": "stdout",
     "output_type": "stream",
     "text": [
      "['NI', 'ratio', 'hg', 'G', 'G_Yates', 'G_Williams', 'alpha']\n",
      "['NI.pval', 'ratio.pval', 'hg.pval', 'G.pval', 'G_Yates.pval', 'G_Williams.pval', 'alpha.pval']\n"
     ]
    }
   ],
   "source": [
    "# Get list of tests to perform\n",
    "test = args.test\n",
    "supported_tests = ['NI', 'ratio', 'hg',\n",
    "                   'G', 'G_Yates', 'G_Williams',\n",
    "                   'alpha']\n",
    "if test == 'all':\n",
    "    test = supported_tests\n",
    "elif test not in supported_tests:\n",
    "    raise ValueError(\"Test not supported\")\n",
    "else:\n",
    "    test = [test]\n",
    "\n",
    "# Create header\n",
    "header_base = ['gene', 'contig', 'start', 'end',\n",
    "               'Dn', 'Ds', 'Pn', 'Ps']\n",
    "pval_list = [''.join([t, '.pval']) for t in test]\n",
    "header = header_base + test + pval_list\n",
    "print(test)\n",
    "print(pval_list)\n"
   ]
  },
  {
   "cell_type": "code",
   "execution_count": 30,
   "metadata": {},
   "outputs": [
    {
     "name": "stdout",
     "output_type": "stream",
     "text": [
      "1156433.3.peg.1\n",
      "<MKtest.MKtest object at 0x7f6483267c88>\n"
     ]
    }
   ],
   "source": [
    "MK_true = MK[0]\n",
    "MK_true\n",
    "gene = list(MK_true.keys())[0]\n",
    "mk = MK[0][gene]\n",
    "print(gene)\n",
    "print(mk)"
   ]
  },
  {
   "cell_type": "code",
   "execution_count": null,
   "metadata": {},
   "outputs": [],
   "source": []
  },
  {
   "cell_type": "code",
   "execution_count": 31,
   "metadata": {},
   "outputs": [
    {
     "name": "stdout",
     "output_type": "stream",
     "text": [
      "=========\n",
      "=========\n",
      "=========\n",
      "=========\n",
      "=========\n",
      "=========\n",
      "=========\n",
      "=========\n",
      "=========\n",
      "=========\n",
      "=========\n"
     ]
    },
    {
     "data": {
      "text/plain": [
       "array([[0.62324929, 4.2       , 0.23809524, 4.90696487, 3.58029174,\n",
       "        4.65462305, 0.76190476],\n",
       "       [0.31875876, 2.08333333, 0.48      , 0.25854096, 0.05807321,\n",
       "        0.19961951, 0.52      ],\n",
       "       [0.31875876, 2.08333333, 0.48      , 0.25854096, 0.05807321,\n",
       "        0.19961951, 0.52      ],\n",
       "       [0.31875876, 2.08333333, 0.48      , 0.25854096, 0.05807321,\n",
       "        0.19961951, 0.52      ],\n",
       "       [0.31875876, 2.08333333, 0.48      , 0.25854096, 0.05807321,\n",
       "        0.19961951, 0.52      ],\n",
       "       [0.31875876, 2.08333333, 0.48      , 0.25854096, 0.05807321,\n",
       "        0.19961951, 0.52      ],\n",
       "       [0.31875876, 2.08333333, 0.48      , 0.25854096, 0.05807321,\n",
       "        0.19961951, 0.52      ],\n",
       "       [0.31875876, 2.08333333, 0.48      , 0.25854096, 0.05807321,\n",
       "        0.19961951, 0.52      ],\n",
       "       [0.31875876, 2.08333333, 0.48      , 0.25854096, 0.05807321,\n",
       "        0.19961951, 0.52      ],\n",
       "       [0.31875876, 2.08333333, 0.48      , 0.25854096, 0.05807321,\n",
       "        0.19961951, 0.52      ],\n",
       "       [0.31875876, 2.08333333, 0.48      , 0.25854096, 0.05807321,\n",
       "        0.19961951, 0.52      ]])"
      ]
     },
     "execution_count": 31,
     "metadata": {},
     "output_type": "execute_result"
    }
   ],
   "source": [
    "perm_table = np.full(shape=(int(args.permutations + 1), len(test)), fill_value=np.nan)\n",
    "row = 0\n",
    "for p in MK:\n",
    "    print(\"=========\")\n",
    "    # print(p)\n",
    "    if gene in p:\n",
    "        p_stat = calculate_statistic(p[gene], test, pseudocount=args.pseudocount)\n",
    "        p_res = [p_stat[t] for t in test]\n",
    "        perm_table[row] = p_res\n",
    "    \n",
    "    row = row + 1\n",
    "perm_table\n",
    "\n",
    "perm_pvals <- (perm_table >= perm_table[0]).sum(axis=0) / (args.permutations + 1)"
   ]
  },
  {
   "cell_type": "code",
   "execution_count": null,
   "metadata": {},
   "outputs": [],
   "source": [
    "MK[0][gene].Ds"
   ]
  },
  {
   "cell_type": "code",
   "execution_count": null,
   "metadata": {},
   "outputs": [],
   "source": [
    "p_stat"
   ]
  },
  {
   "cell_type": "code",
   "execution_count": 33,
   "metadata": {},
   "outputs": [
    {
     "data": {
      "text/plain": [
       "array([[0.62324929, 4.2       , 0.23809524, 4.90696487, 3.58029174,\n",
       "        4.65462305, 0.76190476],\n",
       "       [0.31875876, 2.08333333, 0.48      , 0.25854096, 0.05807321,\n",
       "        0.19961951, 0.52      ],\n",
       "       [0.31875876, 2.08333333, 0.48      , 0.25854096, 0.05807321,\n",
       "        0.19961951, 0.52      ],\n",
       "       [0.31875876, 2.08333333, 0.48      , 0.25854096, 0.05807321,\n",
       "        0.19961951, 0.52      ],\n",
       "       [0.31875876, 2.08333333, 0.48      , 0.25854096, 0.05807321,\n",
       "        0.19961951, 0.52      ],\n",
       "       [0.31875876, 2.08333333, 0.48      , 0.25854096, 0.05807321,\n",
       "        0.19961951, 0.52      ],\n",
       "       [0.31875876, 2.08333333, 0.48      , 0.25854096, 0.05807321,\n",
       "        0.19961951, 0.52      ],\n",
       "       [0.31875876, 2.08333333, 0.48      , 0.25854096, 0.05807321,\n",
       "        0.19961951, 0.52      ],\n",
       "       [0.31875876, 2.08333333, 0.48      , 0.25854096, 0.05807321,\n",
       "        0.19961951, 0.52      ],\n",
       "       [0.31875876, 2.08333333, 0.48      , 0.25854096, 0.05807321,\n",
       "        0.19961951, 0.52      ],\n",
       "       [0.31875876, 2.08333333, 0.48      , 0.25854096, 0.05807321,\n",
       "        0.19961951, 0.52      ]])"
      ]
     },
     "execution_count": 33,
     "metadata": {},
     "output_type": "execute_result"
    }
   ],
   "source": [
    "perm_table"
   ]
  },
  {
   "cell_type": "code",
   "execution_count": 37,
   "metadata": {},
   "outputs": [
    {
     "data": {
      "text/plain": [
       "array([0.62324929, 0.31875876, 0.31875876, 0.31875876, 0.31875876,\n",
       "       0.31875876, 0.31875876, 0.31875876, 0.31875876, 0.31875876,\n",
       "       0.31875876])"
      ]
     },
     "execution_count": 37,
     "metadata": {},
     "output_type": "execute_result"
    }
   ],
   "source": [
    "perm_table[:,0]"
   ]
  },
  {
   "cell_type": "code",
   "execution_count": 47,
   "metadata": {},
   "outputs": [
    {
     "data": {
      "text/plain": [
       "0.09090909090909091"
      ]
     },
     "execution_count": 47,
     "metadata": {},
     "output_type": "execute_result"
    }
   ],
   "source": [
    "sum(perm_table[:,0] >= perm_table[:,0][0]) / (args.permutations + 1)"
   ]
  },
  {
   "cell_type": "code",
   "execution_count": 60,
   "metadata": {},
   "outputs": [
    {
     "data": {
      "text/plain": [
       "array([[ True,  True,  True,  True,  True,  True,  True],\n",
       "       [False, False,  True, False, False, False, False],\n",
       "       [False, False,  True, False, False, False, False],\n",
       "       [False, False,  True, False, False, False, False],\n",
       "       [False, False,  True, False, False, False, False],\n",
       "       [False, False,  True, False, False, False, False],\n",
       "       [False, False,  True, False, False, False, False],\n",
       "       [False, False,  True, False, False, False, False],\n",
       "       [False, False,  True, False, False, False, False],\n",
       "       [False, False,  True, False, False, False, False],\n",
       "       [False, False,  True, False, False, False, False]])"
      ]
     },
     "execution_count": 60,
     "metadata": {},
     "output_type": "execute_result"
    }
   ],
   "source": [
    "perm_table >= perm_table[0]"
   ]
  },
  {
   "cell_type": "code",
   "execution_count": 66,
   "metadata": {},
   "outputs": [
    {
     "data": {
      "text/plain": [
       "array([0.09090909, 0.09090909, 1.        , 0.09090909, 0.09090909,\n",
       "       0.09090909, 0.09090909])"
      ]
     },
     "execution_count": 66,
     "metadata": {},
     "output_type": "execute_result"
    }
   ],
   "source": []
  },
  {
   "cell_type": "code",
   "execution_count": 63,
   "metadata": {},
   "outputs": [
    {
     "data": {
      "text/plain": [
       "array([4.2       , 2.08333333, 2.08333333, 2.08333333, 2.08333333,\n",
       "       2.08333333, 2.08333333, 2.08333333, 2.08333333, 2.08333333,\n",
       "       2.08333333])"
      ]
     },
     "execution_count": 63,
     "metadata": {},
     "output_type": "execute_result"
    }
   ],
   "source": [
    "perm_table[:,1]"
   ]
  },
  {
   "cell_type": "code",
   "execution_count": 43,
   "metadata": {},
   "outputs": [
    {
     "data": {
      "text/plain": [
       "3"
      ]
     },
     "execution_count": 43,
     "metadata": {},
     "output_type": "execute_result"
    }
   ],
   "source": [
    "MK[0][gene].Ds"
   ]
  },
  {
   "cell_type": "code",
   "execution_count": null,
   "metadata": {},
   "outputs": [],
   "source": []
  },
  {
   "cell_type": "code",
   "execution_count": null,
   "metadata": {},
   "outputs": [],
   "source": []
  },
  {
   "cell_type": "code",
   "execution_count": null,
   "metadata": {},
   "outputs": [],
   "source": []
  },
  {
   "cell_type": "code",
   "execution_count": null,
   "metadata": {},
   "outputs": [],
   "source": [
    "[p_stat[t] for t in test]"
   ]
  },
  {
   "cell_type": "code",
   "execution_count": null,
   "metadata": {},
   "outputs": [],
   "source": [
    "p[gene].Ps"
   ]
  },
  {
   "cell_type": "code",
   "execution_count": null,
   "metadata": {},
   "outputs": [],
   "source": [
    "perm_table = np.full(shape=(11,3), fill_value=np.nan)\n",
    "print(perm_table)\n",
    "[1,2,3]"
   ]
  },
  {
   "cell_type": "code",
   "execution_count": null,
   "metadata": {},
   "outputs": [],
   "source": [
    "perm_table[0] = [1,2,3]"
   ]
  },
  {
   "cell_type": "code",
   "execution_count": null,
   "metadata": {},
   "outputs": [],
   "source": [
    "perm_table"
   ]
  },
  {
   "cell_type": "code",
   "execution_count": null,
   "metadata": {},
   "outputs": [],
   "source": [
    "p_stat"
   ]
  },
  {
   "cell_type": "code",
   "execution_count": null,
   "metadata": {},
   "outputs": [],
   "source": [
    "np.nan((int(args.permutations + 1), len(test)))"
   ]
  },
  {
   "cell_type": "code",
   "execution_count": null,
   "metadata": {},
   "outputs": [],
   "source": [
    "len(test)"
   ]
  },
  {
   "cell_type": "code",
   "execution_count": null,
   "metadata": {},
   "outputs": [],
   "source": [
    "np.ndarray(shape=(int(args.permutations + 1), len(test)), buffer=None)"
   ]
  },
  {
   "cell_type": "code",
   "execution_count": null,
   "metadata": {},
   "outputs": [],
   "source": [
    "np.ndarray?"
   ]
  },
  {
   "cell_type": "code",
   "execution_count": null,
   "metadata": {},
   "outputs": [],
   "source": [
    "np.empty((1,2))"
   ]
  },
  {
   "cell_type": "code",
   "execution_count": null,
   "metadata": {},
   "outputs": [],
   "source": [
    "np.empty?"
   ]
  },
  {
   "cell_type": "code",
   "execution_count": null,
   "metadata": {},
   "outputs": [],
   "source": [
    "np.array()"
   ]
  },
  {
   "cell_type": "code",
   "execution_count": null,
   "metadata": {},
   "outputs": [],
   "source": []
  },
  {
   "cell_type": "code",
   "execution_count": null,
   "metadata": {},
   "outputs": [],
   "source": []
  }
 ],
 "metadata": {
  "kernelspec": {
   "display_name": "Python 3",
   "language": "python",
   "name": "python3"
  },
  "language_info": {
   "codemirror_mode": {
    "name": "ipython",
    "version": 3
   },
   "file_extension": ".py",
   "mimetype": "text/x-python",
   "name": "python",
   "nbconvert_exporter": "python",
   "pygments_lexer": "ipython3",
   "version": "3.6.4"
  }
 },
 "nbformat": 4,
 "nbformat_minor": 2
}
