{
 "cells": [
  {
   "cell_type": "code",
   "execution_count": 6,
   "metadata": {
    "collapsed": true
   },
   "outputs": [],
   "source": [
    "import pandas as pd\n",
    "from MKtest import *\n",
    "import numpy as np"
   ]
  },
  {
   "cell_type": "code",
   "execution_count": 7,
   "metadata": {
    "collapsed": true
   },
   "outputs": [],
   "source": [
    "class ARGS:\n",
    "    def __init__(self, indir, metadata_file,\n",
    "                group1, group2, test='hg',\n",
    "                outfile='mk_results', min_count=1,\n",
    "                nrows=float('inf'), tables='mk_tables',\n",
    "                pseudocount=0, permutations=0, seed=5):\n",
    "        \n",
    "        self.indir = indir\n",
    "        self.metadata_file = metadata_file\n",
    "        self.group1 = group1\n",
    "        self.group2 = group2\n",
    "        self.test = test\n",
    "        self.outfile = outfile\n",
    "        self.min_count = min_count\n",
    "        self.nrows = nrows\n",
    "        self.tables = tables\n",
    "        self.pseudocount = pseudocount\n",
    "        self.permutations = permutations\n",
    "        self.seed = seed\n"
   ]
  },
  {
   "cell_type": "code",
   "execution_count": 24,
   "metadata": {},
   "outputs": [],
   "source": [
    "args = ARGS(indir='/home/sur/micropopgen/data/test_data/midas/merged.snps/Veillonella_parvula_57794//',\n",
    "            metadata_file='/home/sur/micropopgen/data/test_data/midas/map.txt',\n",
    "            group1='Buccal mucosa',\n",
    "            group2='Tongue dorsum',\n",
    "            outfile='mktest/Veillonella_parvula_57794/mk_results.Buccal.mucosa_Tongue.dorsum.txt',\n",
    "            tables='mktest/Veillonella_parvula_57794/mk_tables.Buccal.mucosa_Tongue.dorsum.txt',\n",
    "            nrows=5000,\n",
    "            pseudocount=1,\n",
    "            permutations=10,\n",
    "            seed=5,\n",
    "            test='all')"
   ]
  },
  {
   "cell_type": "code",
   "execution_count": 25,
   "metadata": {},
   "outputs": [
    {
     "name": "stdout",
     "output_type": "stream",
     "text": [
      "Checking MIDAS files exist\n",
      "\tAll files found\n",
      "Read metadata\n",
      "Calculate MK contingency tables\n",
      "\tRead snps_info.txt\n",
      "============HEADERs============\n",
      ">Site id: site_id\n",
      ">Contig: ref_id\n",
      ">Position: ref_pos\n",
      ">Ref allele: ref_allele\n",
      ">Major allele: major_allele\n",
      ">Minor allele: minor_allele\n",
      ">Locus type: locus_type\n",
      ">Gene id: gene_id\n",
      ">Aminoacids: amino_acids\n",
      "\n",
      "Number of sites: 4675\n",
      "Number of genes: 9\n",
      "\tChose sites based on depth in groups to compare\n",
      "Number of sites: 4591\n",
      "Number of genes: 9\n",
      "Sites with counts: 4591\n",
      "\tRead frequencies and calculate\n",
      "Processing snp_freq.txt\n",
      "Number of sites: 4591\n",
      "Number of genes: 9\n",
      "Sites with counts: 4591\n",
      "Genes with MK: 9\n"
     ]
    }
   ],
   "source": [
    "print(\"Checking MIDAS files exist\")\n",
    "confirm_midas_merge_files(args)\n",
    "\n",
    "# Read mapping files\n",
    "# Create dictionaries that have all the samples per group (Groups),\n",
    "# and the group to which each sample belongs (Samples)\n",
    "# Probably should change this to pandas\n",
    "print(\"Read metadata\")\n",
    "Samples, Groups = process_metadata_file(args.metadata_file)\n",
    "\n",
    "print(\"Calculate MK contingency tables\")\n",
    "MK, Genes = calculate_contingency_tables(Samples, Groups, args)\n",
    "# print(MK)\n",
    "# print([MK])\n"
   ]
  },
  {
   "cell_type": "code",
   "execution_count": 26,
   "metadata": {},
   "outputs": [
    {
     "name": "stdout",
     "output_type": "stream",
     "text": [
      "Permuting\n",
      "Seed is 5\n",
      "\tRead snps_info.txt\n",
      "============HEADERs============\n",
      ">Site id: site_id\n",
      ">Contig: ref_id\n",
      ">Position: ref_pos\n",
      ">Ref allele: ref_allele\n",
      ">Major allele: major_allele\n",
      ">Minor allele: minor_allele\n",
      ">Locus type: locus_type\n",
      ">Gene id: gene_id\n",
      ">Aminoacids: amino_acids\n",
      "\n",
      "Number of sites: 4675\n",
      "Number of genes: 9\n",
      "\tChose sites based on depth in groups to compare\n",
      "Number of sites: 4666\n",
      "Number of genes: 9\n",
      "Sites with counts: 4666\n",
      "\tRead frequencies and calculate\n",
      "Processing snp_freq.txt\n",
      "Number of sites: 4666\n",
      "Number of genes: 9\n",
      "Sites with counts: 4666\n",
      "Genes with MK: 9\n",
      "========\n",
      "2\n",
      "\tRead snps_info.txt\n",
      "============HEADERs============\n",
      ">Site id: site_id\n",
      ">Contig: ref_id\n",
      ">Position: ref_pos\n",
      ">Ref allele: ref_allele\n",
      ">Major allele: major_allele\n",
      ">Minor allele: minor_allele\n",
      ">Locus type: locus_type\n",
      ">Gene id: gene_id\n",
      ">Aminoacids: amino_acids\n",
      "\n",
      "Number of sites: 4675\n",
      "Number of genes: 9\n",
      "\tChose sites based on depth in groups to compare\n",
      "Number of sites: 4669\n",
      "Number of genes: 9\n",
      "Sites with counts: 4669\n",
      "\tRead frequencies and calculate\n",
      "Processing snp_freq.txt\n",
      "Number of sites: 4669\n",
      "Number of genes: 9\n",
      "Sites with counts: 4669\n",
      "Genes with MK: 9\n",
      "========\n",
      "3\n",
      "\tRead snps_info.txt\n",
      "============HEADERs============\n",
      ">Site id: site_id\n",
      ">Contig: ref_id\n",
      ">Position: ref_pos\n",
      ">Ref allele: ref_allele\n",
      ">Major allele: major_allele\n",
      ">Minor allele: minor_allele\n",
      ">Locus type: locus_type\n",
      ">Gene id: gene_id\n",
      ">Aminoacids: amino_acids\n",
      "\n",
      "Number of sites: 4675\n",
      "Number of genes: 9\n",
      "\tChose sites based on depth in groups to compare\n",
      "Number of sites: 4674\n",
      "Number of genes: 9\n",
      "Sites with counts: 4674\n",
      "\tRead frequencies and calculate\n",
      "Processing snp_freq.txt\n",
      "Number of sites: 4674\n",
      "Number of genes: 9\n",
      "Sites with counts: 4674\n",
      "Genes with MK: 9\n",
      "========\n",
      "4\n",
      "\tRead snps_info.txt\n",
      "============HEADERs============\n",
      ">Site id: site_id\n",
      ">Contig: ref_id\n",
      ">Position: ref_pos\n",
      ">Ref allele: ref_allele\n",
      ">Major allele: major_allele\n",
      ">Minor allele: minor_allele\n",
      ">Locus type: locus_type\n",
      ">Gene id: gene_id\n",
      ">Aminoacids: amino_acids\n",
      "\n",
      "Number of sites: 4675\n",
      "Number of genes: 9\n",
      "\tChose sites based on depth in groups to compare\n",
      "Number of sites: 4668\n",
      "Number of genes: 9\n",
      "Sites with counts: 4668\n",
      "\tRead frequencies and calculate\n",
      "Processing snp_freq.txt\n",
      "Number of sites: 4668\n",
      "Number of genes: 9\n",
      "Sites with counts: 4668\n",
      "Genes with MK: 9\n",
      "========\n",
      "5\n",
      "\tRead snps_info.txt\n",
      "============HEADERs============\n",
      ">Site id: site_id\n",
      ">Contig: ref_id\n",
      ">Position: ref_pos\n",
      ">Ref allele: ref_allele\n",
      ">Major allele: major_allele\n",
      ">Minor allele: minor_allele\n",
      ">Locus type: locus_type\n",
      ">Gene id: gene_id\n",
      ">Aminoacids: amino_acids\n",
      "\n",
      "Number of sites: 4675\n",
      "Number of genes: 9\n",
      "\tChose sites based on depth in groups to compare\n",
      "Number of sites: 4668\n",
      "Number of genes: 9\n",
      "Sites with counts: 4668\n",
      "\tRead frequencies and calculate\n",
      "Processing snp_freq.txt\n",
      "Number of sites: 4668\n",
      "Number of genes: 9\n",
      "Sites with counts: 4668\n",
      "Genes with MK: 9\n",
      "========\n",
      "6\n",
      "\tRead snps_info.txt\n",
      "============HEADERs============\n",
      ">Site id: site_id\n",
      ">Contig: ref_id\n",
      ">Position: ref_pos\n",
      ">Ref allele: ref_allele\n",
      ">Major allele: major_allele\n",
      ">Minor allele: minor_allele\n",
      ">Locus type: locus_type\n",
      ">Gene id: gene_id\n",
      ">Aminoacids: amino_acids\n",
      "\n",
      "Number of sites: 4675\n",
      "Number of genes: 9\n",
      "\tChose sites based on depth in groups to compare\n",
      "Number of sites: 4667\n",
      "Number of genes: 9\n",
      "Sites with counts: 4667\n",
      "\tRead frequencies and calculate\n",
      "Processing snp_freq.txt\n",
      "Number of sites: 4667\n",
      "Number of genes: 9\n",
      "Sites with counts: 4667\n",
      "Genes with MK: 9\n",
      "========\n",
      "7\n",
      "\tRead snps_info.txt\n",
      "============HEADERs============\n",
      ">Site id: site_id\n",
      ">Contig: ref_id\n",
      ">Position: ref_pos\n",
      ">Ref allele: ref_allele\n",
      ">Major allele: major_allele\n",
      ">Minor allele: minor_allele\n",
      ">Locus type: locus_type\n",
      ">Gene id: gene_id\n",
      ">Aminoacids: amino_acids\n",
      "\n",
      "Number of sites: 4675\n",
      "Number of genes: 9\n",
      "\tChose sites based on depth in groups to compare\n",
      "Number of sites: 4667\n",
      "Number of genes: 9\n",
      "Sites with counts: 4667\n",
      "\tRead frequencies and calculate\n",
      "Processing snp_freq.txt\n",
      "Number of sites: 4667\n",
      "Number of genes: 9\n",
      "Sites with counts: 4667\n",
      "Genes with MK: 9\n",
      "========\n",
      "8\n",
      "\tRead snps_info.txt\n",
      "============HEADERs============\n",
      ">Site id: site_id\n",
      ">Contig: ref_id\n",
      ">Position: ref_pos\n",
      ">Ref allele: ref_allele\n",
      ">Major allele: major_allele\n",
      ">Minor allele: minor_allele\n",
      ">Locus type: locus_type\n",
      ">Gene id: gene_id\n",
      ">Aminoacids: amino_acids\n",
      "\n",
      "Number of sites: 4675\n",
      "Number of genes: 9\n",
      "\tChose sites based on depth in groups to compare\n",
      "Number of sites: 4675\n",
      "Number of genes: 9\n",
      "Sites with counts: 4675\n",
      "\tRead frequencies and calculate\n",
      "Processing snp_freq.txt\n",
      "Number of sites: 4675\n",
      "Number of genes: 9\n",
      "Sites with counts: 4675\n",
      "Genes with MK: 9\n",
      "========\n",
      "9\n",
      "\tRead snps_info.txt\n",
      "============HEADERs============\n",
      ">Site id: site_id\n",
      ">Contig: ref_id\n",
      ">Position: ref_pos\n",
      ">Ref allele: ref_allele\n",
      ">Major allele: major_allele\n",
      ">Minor allele: minor_allele\n",
      ">Locus type: locus_type\n",
      ">Gene id: gene_id\n",
      ">Aminoacids: amino_acids\n",
      "\n",
      "Number of sites: 4675\n",
      "Number of genes: 9\n",
      "\tChose sites based on depth in groups to compare\n",
      "Number of sites: 4667\n",
      "Number of genes: 9\n",
      "Sites with counts: 4667\n",
      "\tRead frequencies and calculate\n",
      "Processing snp_freq.txt\n",
      "Number of sites: 4667\n",
      "Number of genes: 9\n",
      "Sites with counts: 4667\n",
      "Genes with MK: 9\n",
      "========\n",
      "10\n",
      "\tRead snps_info.txt\n",
      "============HEADERs============\n",
      ">Site id: site_id\n",
      ">Contig: ref_id\n",
      ">Position: ref_pos\n",
      ">Ref allele: ref_allele\n",
      ">Major allele: major_allele\n",
      ">Minor allele: minor_allele\n",
      ">Locus type: locus_type\n",
      ">Gene id: gene_id\n",
      ">Aminoacids: amino_acids\n",
      "\n",
      "Number of sites: 4675\n",
      "Number of genes: 9\n",
      "\tChose sites based on depth in groups to compare\n",
      "Number of sites: 4675\n",
      "Number of genes: 9\n",
      "Sites with counts: 4675\n",
      "\tRead frequencies and calculate\n",
      "Processing snp_freq.txt\n",
      "Number of sites: 4675\n",
      "Number of genes: 9\n",
      "Sites with counts: 4675\n",
      "Genes with MK: 9\n",
      "========\n",
      "11\n",
      "[{'686660.3.peg.1': <MKtest.MKtest object at 0x7fcdcdfb78d0>, '686660.3.peg.2': <MKtest.MKtest object at 0x7fcdcdfb7470>, '686660.3.peg.3': <MKtest.MKtest object at 0x7fcdcdfb7f98>, '686660.3.peg.4': <MKtest.MKtest object at 0x7fcdce08cb38>, '686660.3.peg.5': <MKtest.MKtest object at 0x7fcdcdfb7898>, '686660.3.peg.6': <MKtest.MKtest object at 0x7fcdcdfb7978>, '686660.3.peg.7': <MKtest.MKtest object at 0x7fcdcdfb7e10>, '686660.3.peg.8': <MKtest.MKtest object at 0x7fcdcdfb7fd0>, '686660.3.peg.9': <MKtest.MKtest object at 0x7fcdcdfb7eb8>}, {'686660.3.peg.1': <MKtest.MKtest object at 0x7fcdcdf5fa90>, '686660.3.peg.2': <MKtest.MKtest object at 0x7fcdcdf5f860>, '686660.3.peg.3': <MKtest.MKtest object at 0x7fcdce226a90>, '686660.3.peg.4': <MKtest.MKtest object at 0x7fcdce226860>, '686660.3.peg.5': <MKtest.MKtest object at 0x7fcdcdf5f128>, '686660.3.peg.6': <MKtest.MKtest object at 0x7fcdcdf5fef0>, '686660.3.peg.7': <MKtest.MKtest object at 0x7fcdcdf5f9e8>, '686660.3.peg.8': <MKtest.MKtest object at 0x7fcdcdf5f240>, '686660.3.peg.9': <MKtest.MKtest object at 0x7fcdcdf5f5f8>}, {'686660.3.peg.1': <MKtest.MKtest object at 0x7fcdcdf61f98>, '686660.3.peg.2': <MKtest.MKtest object at 0x7fcdce106e80>, '686660.3.peg.3': <MKtest.MKtest object at 0x7fcdce106cf8>, '686660.3.peg.4': <MKtest.MKtest object at 0x7fcdce1068d0>, '686660.3.peg.5': <MKtest.MKtest object at 0x7fcdce106a58>, '686660.3.peg.6': <MKtest.MKtest object at 0x7fcdce106710>, '686660.3.peg.7': <MKtest.MKtest object at 0x7fcdcdf61d30>, '686660.3.peg.8': <MKtest.MKtest object at 0x7fcdcdf61ba8>, '686660.3.peg.9': <MKtest.MKtest object at 0x7fcdcdf61ef0>}, {'686660.3.peg.1': <MKtest.MKtest object at 0x7fcdcdf96da0>, '686660.3.peg.2': <MKtest.MKtest object at 0x7fcdcdf96710>, '686660.3.peg.3': <MKtest.MKtest object at 0x7fcdce093f28>, '686660.3.peg.4': <MKtest.MKtest object at 0x7fcdce093f98>, '686660.3.peg.5': <MKtest.MKtest object at 0x7fcdce093b70>, '686660.3.peg.6': <MKtest.MKtest object at 0x7fcdce093cf8>, '686660.3.peg.7': <MKtest.MKtest object at 0x7fcdcdf96cf8>, '686660.3.peg.8': <MKtest.MKtest object at 0x7fcdcdf96940>, '686660.3.peg.9': <MKtest.MKtest object at 0x7fcdcdf96438>}, {'686660.3.peg.1': <MKtest.MKtest object at 0x7fcdcdf742b0>, '686660.3.peg.2': <MKtest.MKtest object at 0x7fcdce11ac50>, '686660.3.peg.3': <MKtest.MKtest object at 0x7fcdce11aa58>, '686660.3.peg.4': <MKtest.MKtest object at 0x7fcdcdf74048>, '686660.3.peg.5': <MKtest.MKtest object at 0x7fcdcdf74780>, '686660.3.peg.6': <MKtest.MKtest object at 0x7fcdcdf741d0>, '686660.3.peg.7': <MKtest.MKtest object at 0x7fcdcdf74080>, '686660.3.peg.8': <MKtest.MKtest object at 0x7fcdcdf744a8>, '686660.3.peg.9': <MKtest.MKtest object at 0x7fcdcdf74320>}, {'686660.3.peg.1': <MKtest.MKtest object at 0x7fcdcdf7a240>, '686660.3.peg.2': <MKtest.MKtest object at 0x7fcdce089b38>, '686660.3.peg.3': <MKtest.MKtest object at 0x7fcdcdf7af98>, '686660.3.peg.4': <MKtest.MKtest object at 0x7fcdce089dd8>, '686660.3.peg.5': <MKtest.MKtest object at 0x7fcdce089e80>, '686660.3.peg.6': <MKtest.MKtest object at 0x7fcdce089978>, '686660.3.peg.7': <MKtest.MKtest object at 0x7fcdcdf7aa58>, '686660.3.peg.8': <MKtest.MKtest object at 0x7fcdcdf7acc0>, '686660.3.peg.9': <MKtest.MKtest object at 0x7fcdcdf7ae48>}, {'686660.3.peg.1': <MKtest.MKtest object at 0x7fcdcdf65eb8>, '686660.3.peg.2': <MKtest.MKtest object at 0x7fcdcdf65cf8>, '686660.3.peg.3': <MKtest.MKtest object at 0x7fcdce048710>, '686660.3.peg.4': <MKtest.MKtest object at 0x7fcdcdf650b8>, '686660.3.peg.5': <MKtest.MKtest object at 0x7fcdcdf65fd0>, '686660.3.peg.6': <MKtest.MKtest object at 0x7fcdcdf65dd8>, '686660.3.peg.7': <MKtest.MKtest object at 0x7fcdcdf65e80>, '686660.3.peg.8': <MKtest.MKtest object at 0x7fcdcdf65ac8>, '686660.3.peg.9': <MKtest.MKtest object at 0x7fcdcdf65e10>}, {'686660.3.peg.1': <MKtest.MKtest object at 0x7fcdce19e470>, '686660.3.peg.2': <MKtest.MKtest object at 0x7fcdcdfd3198>, '686660.3.peg.3': <MKtest.MKtest object at 0x7fcdce06fa90>, '686660.3.peg.4': <MKtest.MKtest object at 0x7fcdce06f780>, '686660.3.peg.5': <MKtest.MKtest object at 0x7fcdcdfd3048>, '686660.3.peg.6': <MKtest.MKtest object at 0x7fcdce19ecc0>, '686660.3.peg.7': <MKtest.MKtest object at 0x7fcdce19e198>, '686660.3.peg.8': <MKtest.MKtest object at 0x7fcdce19ee10>, '686660.3.peg.9': <MKtest.MKtest object at 0x7fcdce19ee48>}, {'686660.3.peg.1': <MKtest.MKtest object at 0x7fcdcdf44c88>, '686660.3.peg.2': <MKtest.MKtest object at 0x7fcdcdf44e80>, '686660.3.peg.3': <MKtest.MKtest object at 0x7fcdcdf44e10>, '686660.3.peg.4': <MKtest.MKtest object at 0x7fcdcdfd3da0>, '686660.3.peg.5': <MKtest.MKtest object at 0x7fcdcdf44f98>, '686660.3.peg.6': <MKtest.MKtest object at 0x7fcdcdf44ef0>, '686660.3.peg.7': <MKtest.MKtest object at 0x7fcdcdf44eb8>, '686660.3.peg.8': <MKtest.MKtest object at 0x7fcdcdf44e48>, '686660.3.peg.9': <MKtest.MKtest object at 0x7fcdcdf44c18>}, {'686660.3.peg.1': <MKtest.MKtest object at 0x7fcdcdffa7b8>, '686660.3.peg.2': <MKtest.MKtest object at 0x7fcdce243b00>, '686660.3.peg.3': <MKtest.MKtest object at 0x7fcdce243cf8>, '686660.3.peg.4': <MKtest.MKtest object at 0x7fcdcdffa780>, '686660.3.peg.5': <MKtest.MKtest object at 0x7fcdcdffacc0>, '686660.3.peg.6': <MKtest.MKtest object at 0x7fcdcdffa320>, '686660.3.peg.7': <MKtest.MKtest object at 0x7fcdcdffa550>, '686660.3.peg.8': <MKtest.MKtest object at 0x7fcdcdffaf60>, '686660.3.peg.9': <MKtest.MKtest object at 0x7fcdcdffa8d0>}, {'686660.3.peg.1': <MKtest.MKtest object at 0x7fcdce033eb8>, '686660.3.peg.2': <MKtest.MKtest object at 0x7fcdce033fd0>, '686660.3.peg.3': <MKtest.MKtest object at 0x7fcdce104dd8>, '686660.3.peg.4': <MKtest.MKtest object at 0x7fcdce033ef0>, '686660.3.peg.5': <MKtest.MKtest object at 0x7fcdce033908>, '686660.3.peg.6': <MKtest.MKtest object at 0x7fcdce033f60>, '686660.3.peg.7': <MKtest.MKtest object at 0x7fcdce033c50>, '686660.3.peg.8': <MKtest.MKtest object at 0x7fcdce033f98>, '686660.3.peg.9': <MKtest.MKtest object at 0x7fcdce033e10>}]\n"
     ]
    }
   ],
   "source": [
    "if args.permutations > 0:\n",
    "        MK = [MK]\n",
    "        print(\"Permuting\")\n",
    "        print(\"Seed is {}\".format(str(args.seed)))\n",
    "        np.random.seed(args.seed)\n",
    "        for i in range(args.permutations):\n",
    "            Sp, Gp = process_metadata_file(args.metadata_file, permute=True)\n",
    "            mk, genes = calculate_contingency_tables(Sp, Gp, args)\n",
    "            MK.append(mk)\n",
    "\n",
    "            print(\"========\")\n",
    "            # print(MK)\n",
    "            print(len(MK))\n",
    "\n",
    "print(MK)"
   ]
  },
  {
   "cell_type": "code",
   "execution_count": 27,
   "metadata": {
    "scrolled": true
   },
   "outputs": [
    {
     "name": "stdout",
     "output_type": "stream",
     "text": [
      "['NI', 'ratio', 'hg', 'G', 'G_Yates', 'G_Williams', 'alpha']\n",
      "['NI.pval', 'ratio.pval', 'hg.pval', 'G.pval', 'G_Yates.pval', 'G_Williams.pval', 'alpha.pval']\n"
     ]
    }
   ],
   "source": [
    "# Get list of tests to perform\n",
    "test = args.test\n",
    "supported_tests = ['NI', 'ratio', 'hg',\n",
    "                   'G', 'G_Yates', 'G_Williams',\n",
    "                   'alpha']\n",
    "if test == 'all':\n",
    "    test = supported_tests\n",
    "elif test not in supported_tests:\n",
    "    raise ValueError(\"Test not supported\")\n",
    "else:\n",
    "    test = [test]\n",
    "\n",
    "# Create header\n",
    "header_base = ['gene', 'contig', 'start', 'end',\n",
    "               'Dn', 'Ds', 'Pn', 'Ps']\n",
    "pval_list = [''.join([t, '.pval']) for t in test]\n",
    "header = header_base + test + pval_list\n",
    "print(test)\n",
    "print(pval_list)\n"
   ]
  },
  {
   "cell_type": "code",
   "execution_count": 31,
   "metadata": {},
   "outputs": [
    {
     "name": "stdout",
     "output_type": "stream",
     "text": [
      "686660.3.peg.2\n",
      "<MKtest.MKtest object at 0x7fcdcdfb7470>\n",
      "1\n",
      "3\n",
      "213\n",
      "815\n"
     ]
    }
   ],
   "source": [
    "MK_true = MK[0]\n",
    "MK_true\n",
    "gene = list(MK_true.keys())[1]\n",
    "mk = MK[0][gene]\n",
    "print(gene)\n",
    "print(mk)\n",
    "print(mk.Dn)\n",
    "print(mk.Ds)\n",
    "print(mk.Pn)\n",
    "print(mk.Ps)"
   ]
  },
  {
   "cell_type": "code",
   "execution_count": null,
   "metadata": {
    "collapsed": true
   },
   "outputs": [],
   "source": []
  },
  {
   "cell_type": "code",
   "execution_count": 32,
   "metadata": {},
   "outputs": [
    {
     "name": "stdout",
     "output_type": "stream",
     "text": [
      "=========\n",
      "=========\n",
      "=========\n",
      "=========\n",
      "=========\n",
      "=========\n",
      "=========\n",
      "=========\n",
      "=========\n",
      "=========\n",
      "=========\n"
     ]
    }
   ],
   "source": [
    "# Permute for one gene\n",
    "perm_table = np.full(shape=(int(args.permutations + 1), len(test)), fill_value=np.nan)\n",
    "row = 0\n",
    "for p in MK:\n",
    "    print(\"=========\")\n",
    "    # print(p)\n",
    "    if gene in p:\n",
    "        p_stat = calculate_statistic(p[gene], test, pseudocount=args.pseudocount)\n",
    "        p_res = [p_stat[t] for t in test]\n",
    "        perm_table[row] = p_res\n",
    "    \n",
    "    row = row + 1\n",
    "perm_table\n",
    "\n",
    "\n",
    "perm_pvals =(perm_table >= perm_table[0]).sum(axis=0) / (args.permutations + 1)"
   ]
  },
  {
   "cell_type": "code",
   "execution_count": 34,
   "metadata": {},
   "outputs": [
    {
     "data": {
      "text/plain": [
       "array([[ 0.28024639,  1.90654206,  0.5245098 ,  0.50705433,  0.06023802,\n",
       "         0.44456913,  0.4754902 ],\n",
       "       [ 0.58176216,  3.8173516 ,  0.26196172,  1.66654593,  0.58110037,\n",
       "         1.3765688 ,  0.73803828],\n",
       "       [ 0.57885174,  3.7918552 ,  0.26372315,  0.82743491,  0.01925641,\n",
       "         0.58256738,  0.73627685],\n",
       "       [ 0.27730319,  1.89366516,  0.52807646,  0.24931232,  0.03479782,\n",
       "         0.19474211,  0.47192354],\n",
       "       [ 0.27730319,  1.89366516,  0.52807646,  0.24931232,  0.03479782,\n",
       "         0.19474211,  0.47192354],\n",
       "       [ 0.57885174,  3.7918552 ,  0.26372315,  0.82743491,  0.01925641,\n",
       "         0.58256738,  0.73627685],\n",
       "       [ 0.57885174,  3.7918552 ,  0.26372315,  0.82743491,  0.01925641,\n",
       "         0.58256738,  0.73627685],\n",
       "       [ 0.57885174,  3.7918552 ,  0.26372315,  0.82743491,  0.01925641,\n",
       "         0.58256738,  0.73627685],\n",
       "       [ 0.57885174,  3.7918552 ,  0.26372315,  0.82743491,  0.01925641,\n",
       "         0.58256738,  0.73627685],\n",
       "       [ 0.577814  ,  3.78280543,  0.26435407,  0.82465673,  0.01886843,\n",
       "         0.58089686,  0.73564593],\n",
       "       [ 0.57885174,  3.7918552 ,  0.26372315,  0.82743491,  0.01925641,\n",
       "         0.58256738,  0.73627685]])"
      ]
     },
     "execution_count": 34,
     "metadata": {},
     "output_type": "execute_result"
    }
   ],
   "source": [
    "perm_table"
   ]
  },
  {
   "cell_type": "code",
   "execution_count": 54,
   "metadata": {},
   "outputs": [
    {
     "name": "stderr",
     "output_type": "stream",
     "text": [
      "/home/sur/miniconda3/lib/python3.6/site-packages/ipykernel_launcher.py:3: RuntimeWarning: invalid value encountered in greater_equal\n",
      "  This is separate from the ipykernel package so we can avoid doing imports until\n"
     ]
    },
    {
     "data": {
      "text/plain": [
       "array([ 1.,  1.,  1.,  1.])"
      ]
     },
     "execution_count": 54,
     "metadata": {},
     "output_type": "execute_result"
    }
   ],
   "source": [
    "a = np.array([[0,1,2,3], [1,2,3,np.nan]])\n",
    "nperm = 2\n",
    "(a >= a[0]).sum(axis=0) / (nperm - np.isnan(a).sum(axis=0))"
   ]
  },
  {
   "cell_type": "code",
   "execution_count": 37,
   "metadata": {},
   "outputs": [
    {
     "data": {
      "text/plain": [
       "nan"
      ]
     },
     "execution_count": 37,
     "metadata": {},
     "output_type": "execute_result"
    }
   ],
   "source": []
  },
  {
   "cell_type": "code",
   "execution_count": 112,
   "metadata": {
    "collapsed": true
   },
   "outputs": [],
   "source": [
    "def test_by_permutation(gene, MK, permutations, test, pval_list, pseudocount):\n",
    "    nperm = int(permutations + 1)\n",
    "    perm_table = np.full(shape=(nperm, len(test)), fill_value=np.nan)\n",
    "    row = 0\n",
    "    for p in MK:\n",
    "        # print(\"=========\")\n",
    "        # print(p)\n",
    "        if gene in p:\n",
    "            p_stat = calculate_statistic(p[gene], test, pseudocount=pseudocount)\n",
    "            p_res = [p_stat[t] for t in test]\n",
    "            perm_table[row] = p_res\n",
    "\n",
    "        row = row + 1\n",
    "#     print(perm_table)\n",
    "#     print(\"shape\", perm_table.shape)\n",
    "    \n",
    "    # Pvalues\n",
    "    nperms = nperm - np.isnan(perm_table).sum(axis=0)\n",
    "    perm_pvals =(perm_table >= perm_table[0]).sum(axis=0) / nperms\n",
    "    nperm_names = [''.join([t, '.nperm']) for t in test]\n",
    "#     print(\"hola\")\n",
    "#     print(\"real\", perm_table[0])\n",
    "#     print(\"pvals\", perm_pvals)\n",
    "#     print(\"nperms\", nperms)\n",
    "    \n",
    "#     print(\"============\")\n",
    "    # Result\n",
    "    keys = np.concatenate((test, pval_list, nperm_names))\n",
    "    vals = np.concatenate((perm_table[0], perm_pvals, nperms))\n",
    "    vals = np.array(vals, dtype=np.character)\n",
    "    res = dict(zip(keys,vals))\n",
    "    \n",
    "    return res"
   ]
  },
  {
   "cell_type": "code",
   "execution_count": 114,
   "metadata": {},
   "outputs": [
    {
     "data": {
      "text/plain": [
       "{'G': b'0.5070543291398715',\n",
       " 'G.nperm': b'11.0',\n",
       " 'G.pval': b'0.8181818181818182',\n",
       " 'G_Williams': b'0.4445691298803579',\n",
       " 'G_Williams.nperm': b'11.0',\n",
       " 'G_Williams.pval': b'0.8181818181818182',\n",
       " 'G_Yates': b'0.06023802398248529',\n",
       " 'G_Yates.nperm': b'11.0',\n",
       " 'G_Yates.pval': b'0.18181818181818182',\n",
       " 'NI': b'0.2802463897406891',\n",
       " 'NI.nperm': b'11.0',\n",
       " 'NI.pval': b'0.8181818181818182',\n",
       " 'alpha': b'0.47549019607843135',\n",
       " 'alpha.nperm': b'11.0',\n",
       " 'alpha.pval': b'0.8181818181818182',\n",
       " 'hg': b'0.5245098039215687',\n",
       " 'hg.nperm': b'11.0',\n",
       " 'hg.pval': b'0.2727272727272727',\n",
       " 'ratio': b'1.9065420560747663',\n",
       " 'ratio.nperm': b'11.0',\n",
       " 'ratio.pval': b'0.8181818181818182'}"
      ]
     },
     "execution_count": 114,
     "metadata": {},
     "output_type": "execute_result"
    }
   ],
   "source": [
    "res = test_by_permutation(gene, MK, 10, test, pval_list, 1)\n",
    "res"
   ]
  },
  {
   "cell_type": "code",
   "execution_count": 102,
   "metadata": {},
   "outputs": [
    {
     "data": {
      "text/html": [
       "<div>\n",
       "<style>\n",
       "    .dataframe thead tr:only-child th {\n",
       "        text-align: right;\n",
       "    }\n",
       "\n",
       "    .dataframe thead th {\n",
       "        text-align: left;\n",
       "    }\n",
       "\n",
       "    .dataframe tbody tr th {\n",
       "        vertical-align: top;\n",
       "    }\n",
       "</style>\n",
       "<table border=\"1\" class=\"dataframe\">\n",
       "  <thead>\n",
       "    <tr style=\"text-align: right;\">\n",
       "      <th></th>\n",
       "      <th>NI</th>\n",
       "      <th>ratio</th>\n",
       "      <th>hg</th>\n",
       "      <th>G</th>\n",
       "      <th>G_Yates</th>\n",
       "      <th>G_Williams</th>\n",
       "      <th>alpha</th>\n",
       "      <th>NI.pval</th>\n",
       "      <th>ratio.pval</th>\n",
       "      <th>hg.pval</th>\n",
       "      <th>...</th>\n",
       "      <th>G_Yates.pval</th>\n",
       "      <th>G_Williams.pval</th>\n",
       "      <th>alpha.pval</th>\n",
       "      <th>NI.nperm</th>\n",
       "      <th>ratio.nperm</th>\n",
       "      <th>hg.nperm</th>\n",
       "      <th>G.nperm</th>\n",
       "      <th>G_Yates.nperm</th>\n",
       "      <th>G_Williams.nperm</th>\n",
       "      <th>alpha.nperm</th>\n",
       "    </tr>\n",
       "  </thead>\n",
       "  <tbody>\n",
       "    <tr>\n",
       "      <th>0</th>\n",
       "      <td>0.280246</td>\n",
       "      <td>1.906542</td>\n",
       "      <td>0.52451</td>\n",
       "      <td>0.507054</td>\n",
       "      <td>0.060238</td>\n",
       "      <td>0.444569</td>\n",
       "      <td>0.47549</td>\n",
       "      <td>0.818182</td>\n",
       "      <td>0.818182</td>\n",
       "      <td>0.272727</td>\n",
       "      <td>...</td>\n",
       "      <td>0.181818</td>\n",
       "      <td>0.818182</td>\n",
       "      <td>0.818182</td>\n",
       "      <td>11.0</td>\n",
       "      <td>11.0</td>\n",
       "      <td>11.0</td>\n",
       "      <td>11.0</td>\n",
       "      <td>11.0</td>\n",
       "      <td>11.0</td>\n",
       "      <td>11.0</td>\n",
       "    </tr>\n",
       "  </tbody>\n",
       "</table>\n",
       "<p>1 rows × 21 columns</p>\n",
       "</div>"
      ],
      "text/plain": [
       "         NI     ratio       hg         G   G_Yates  G_Williams    alpha  \\\n",
       "0  0.280246  1.906542  0.52451  0.507054  0.060238    0.444569  0.47549   \n",
       "\n",
       "    NI.pval  ratio.pval   hg.pval     ...       G_Yates.pval  G_Williams.pval  \\\n",
       "0  0.818182    0.818182  0.272727     ...           0.181818         0.818182   \n",
       "\n",
       "   alpha.pval  NI.nperm  ratio.nperm  hg.nperm  G.nperm  G_Yates.nperm  \\\n",
       "0    0.818182      11.0         11.0      11.0     11.0           11.0   \n",
       "\n",
       "   G_Williams.nperm  alpha.nperm  \n",
       "0              11.0         11.0  \n",
       "\n",
       "[1 rows x 21 columns]"
      ]
     },
     "execution_count": 102,
     "metadata": {},
     "output_type": "execute_result"
    }
   ],
   "source": [
    "pd.DataFrame.from_dict(res,orient='index').T"
   ]
  },
  {
   "cell_type": "code",
   "execution_count": 100,
   "metadata": {},
   "outputs": [
    {
     "data": {
      "text/plain": [
       "{'G': 0.50705432913987147,\n",
       " 'G.nperm': 11.0,\n",
       " 'G.pval': 0.81818181818181823,\n",
       " 'G_Williams': 0.44456912988035791,\n",
       " 'G_Williams.nperm': 11.0,\n",
       " 'G_Williams.pval': 0.81818181818181823,\n",
       " 'G_Yates': 0.060238023982485289,\n",
       " 'G_Yates.nperm': 11.0,\n",
       " 'G_Yates.pval': 0.18181818181818182,\n",
       " 'NI': 0.28024638974068911,\n",
       " 'NI.nperm': 11.0,\n",
       " 'NI.pval': 0.81818181818181823,\n",
       " 'alpha': 0.47549019607843135,\n",
       " 'alpha.nperm': 11.0,\n",
       " 'alpha.pval': 0.81818181818181823,\n",
       " 'hg': 0.52450980392156865,\n",
       " 'hg.nperm': 11.0,\n",
       " 'hg.pval': 0.27272727272727271,\n",
       " 'ratio': 1.9065420560747663,\n",
       " 'ratio.nperm': 11.0,\n",
       " 'ratio.pval': 0.81818181818181823}"
      ]
     },
     "execution_count": 100,
     "metadata": {},
     "output_type": "execute_result"
    }
   ],
   "source": [
    "res"
   ]
  },
  {
   "cell_type": "code",
   "execution_count": 111,
   "metadata": {},
   "outputs": [
    {
     "name": "stdout",
     "output_type": "stream",
     "text": [
      "[b'1', b'2', b'3']\n"
     ]
    }
   ],
   "source": [
    "print(list(np.array([1,2,3],dtype=np.character)))"
   ]
  },
  {
   "cell_type": "code",
   "execution_count": null,
   "metadata": {
    "collapsed": true
   },
   "outputs": [],
   "source": [
    "\n"
   ]
  }
 ],
 "metadata": {
  "kernelspec": {
   "display_name": "Python 3",
   "language": "python",
   "name": "python3"
  },
  "language_info": {
   "codemirror_mode": {
    "name": "ipython",
    "version": 3
   },
   "file_extension": ".py",
   "mimetype": "text/x-python",
   "name": "python",
   "nbconvert_exporter": "python",
   "pygments_lexer": "ipython3",
   "version": "3.6.1"
  }
 },
 "nbformat": 4,
 "nbformat_minor": 2
}
