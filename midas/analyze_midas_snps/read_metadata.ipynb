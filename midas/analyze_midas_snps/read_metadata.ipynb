{
 "cells": [
  {
   "cell_type": "code",
   "execution_count": 1,
   "metadata": {
    "collapsed": true
   },
   "outputs": [],
   "source": [
    "import pandas as pd"
   ]
  },
  {
   "cell_type": "code",
   "execution_count": 2,
   "metadata": {
    "collapsed": true
   },
   "outputs": [],
   "source": [
    "map_file = \"/home/sur/micropopgen/data/test_data/midas/map.txt\""
   ]
  },
  {
   "cell_type": "code",
   "execution_count": 10,
   "metadata": {
    "collapsed": true
   },
   "outputs": [],
   "source": [
    "def process_metadata_file(mapfile):\n",
    "    map = pd.read_csv(map_file, sep='\\t')\n",
    "    \n",
    "    Samples = dict(zip(map.ID, map.Group))\n",
    "\n",
    "    Groups = dict()\n",
    "    for g in set(map.Group):\n",
    "        samples = list(map.ID[map.Group == g])\n",
    "        Groups[g] = samples\n",
    "        \n",
    "    return Samples, Groups"
   ]
  }
 ],
 "metadata": {
  "kernelspec": {
   "display_name": "Python 3",
   "language": "python",
   "name": "python3"
  },
  "language_info": {
   "codemirror_mode": {
    "name": "ipython",
    "version": 3
   },
   "file_extension": ".py",
   "mimetype": "text/x-python",
   "name": "python",
   "nbconvert_exporter": "python",
   "pygments_lexer": "ipython3",
   "version": "3.6.1"
  }
 },
 "nbformat": 4,
 "nbformat_minor": 2
}
