{
 "cells": [
  {
   "cell_type": "code",
   "execution_count": 24,
   "metadata": {
    "collapsed": true
   },
   "outputs": [],
   "source": [
    "#!/usr/bin/env python\n",
    "# Copyright (C) 2017 Sur Herrera Paredes\n",
    "\n",
    "# Imports\n",
    "import os\n",
    "import sutilspy\n",
    "import csv\n",
    "import numpy as np\n",
    "import scipy.stats as stats\n",
    "import argparse"
   ]
  },
  {
   "cell_type": "code",
   "execution_count": 25,
   "metadata": {
    "collapsed": true
   },
   "outputs": [],
   "source": [
    "# Arguments for ipython\n",
    "args = argparse.Namespace()\n",
    "args.indir = \"/home/sur/micropopgen/exp/2017/today5/test/\"\n",
    "args.test = \"MK\"\n",
    "args.outfile = \"/home/sur/micropopgen/exp/2017/today5/mk_results.txt\"\n",
    "args.metadata_file = \"/home/sur/micropopgen/exp/2017/today5/map.txt\"\n",
    "args.group1 = \"Supragingival plaque\"\n",
    "args.group2 = \"Tongue dorsum\"\n",
    "args.min_count = 1\n",
    "args.nrows = float('inf')\n",
    "args.tables = '/home/sur/micropopgen/exp/2017/today5/tables.txt'\n",
    "\n",
    "# indir = 'snps/'\n",
    "# test = 'MK'\n",
    "# outfile = 'mk_results.txt'\n",
    "# metadata_file = 'map.txt'\n",
    "# group1 = 'A'\n",
    "# group2 = 'B'\n",
    "# min_count = 3\n",
    "# nrows = 30000"
   ]
  },
  {
   "cell_type": "code",
   "execution_count": 26,
   "metadata": {
    "collapsed": true
   },
   "outputs": [],
   "source": [
    "class GenomeSite:\n",
    "    \"\"\"A class for represintinc sites in genome that have potential SNPS\"\"\"\n",
    "    \n",
    "    def __init__(self,site_id, contig, position, ref_allele = '',\n",
    "                 major_allele = '',\n",
    "                 minor_allele = '', locus_type = '', gene_id = '',\n",
    "                 aminoacid_A = '',\n",
    "                 aminoacid_C = '', aminoacid_G = '', aminoacid_T = ''):\n",
    "        self.id = site_id\n",
    "        self.contig = contig\n",
    "        self.position = position\n",
    "        self.ref_allele = ref_allele\n",
    "        self.major_allele = major_allele\n",
    "        self.minor_allele = minor_allele\n",
    "        self.locus_type = locus_type\n",
    "        self.gene_id = gene_id\n",
    "        self.aminoA = aminoacid_A\n",
    "        self.aminoC = aminoacid_C\n",
    "        self.aminoG = aminoacid_G\n",
    "        self.aminoT = aminoacid_T\n",
    "    \n",
    "    def codon_aminoacid(self, base):\n",
    "        if base in ['A','a']:\n",
    "            return(self.aminoA)\n",
    "        elif base in ['C','c']:\n",
    "            return(self.aminoC)\n",
    "        elif base in ['G','g']:\n",
    "            return(self.aminoG)\n",
    "        elif base in ['T','t']:\n",
    "            return(self.aminoT)\n",
    "        else:\n",
    "            raise ValueError(\"base must be one of the four canonical nucleoties\")\n",
    "    \n",
    "    def substitution_type(self):\n",
    "        substitution_type = ''\n",
    "        if self.codon_aminoacid(base = self.major_allele) == self.codon_aminoacid(base = self.minor_allele):\n",
    "            substitution_type = 'synonymous'\n",
    "        else:\n",
    "            substitution_type = 'non-synonymous'\n",
    "        \n",
    "        return(substitution_type)\n",
    "            "
   ]
  },
  {
   "cell_type": "code",
   "execution_count": 27,
   "metadata": {
    "collapsed": true
   },
   "outputs": [],
   "source": [
    "class Gene:\n",
    "    \"\"\"A class for representing a gene\"\"\"\n",
    "    \n",
    "    def __init__(self, gene_id,contig,start,end, strand = ''):\n",
    "        if(start > end):\n",
    "            raise ValueError(\"Start cannot be greater than end\")\n",
    "        self.id = gene_id\n",
    "        self.contig = contig\n",
    "        self.start = start\n",
    "        self.end = end\n",
    "        self.strand = strand\n",
    "    \n",
    "    def extend(self, pos):\n",
    "        if pos > self.end:\n",
    "            self.end = pos\n",
    "        elif pos < self.start:\n",
    "            self.start = pos\n",
    "    \n",
    "    def print(self):\n",
    "        print(\"===Gene===\")\n",
    "        print(\">Gene id: {}\".format(self.id))\n",
    "        print(\">Gene contig: {}\".format(self.contig))\n",
    "        print(\">Gene start: {}\".format(str(self.start)))\n",
    "        print(\">Gene end: {}\".format(str(self.end)))\n",
    "            \n",
    "    "
   ]
  },
  {
   "cell_type": "code",
   "execution_count": 28,
   "metadata": {
    "collapsed": true
   },
   "outputs": [],
   "source": [
    "class MKtest:\n",
    "    \"\"\"A class for holding the McDonald-Kreitmant test\"\"\"\n",
    "    \n",
    "    def __init__(self, name, Ds = 0, Dn = 0, Ps = 0, Pn = 0):\n",
    "        self.name = name\n",
    "        self.Dn = Dn\n",
    "        self.Ds = Ds\n",
    "        self.Ps = Ps\n",
    "        self.Pn = Pn\n",
    "    \n",
    "    def update(self, Ds = 0, Dn = 0, Ps = 0, Pn = 0):\n",
    "        \"\"\"Update the contigency matrix\"\"\"\n",
    "        self.Dn += Dn\n",
    "        self.Ds += Ds\n",
    "        self.Ps += Ps\n",
    "        self.Pn += Pn\n",
    "    \n",
    "    def calculate(self):\n",
    "        \"\"\"Calculate the McDonald Kreitman ratio\"\"\"\n",
    "        ratio = (self.Dn / self.Ds) / (self.Pn / self.Ps)\n",
    "        return(ratio)\n",
    "    \n",
    "    def alpha(self):\n",
    "        \"\"\"Calculate the Smith & Eyre-Walker alpha\"\"\"\n",
    "        alpha = 1 - ((self.Ds * self.Dn) / (self.Ps * self.Pn))\n",
    "        return(alpha)\n",
    "    \n",
    "    def hg_test(self):\n",
    "        res = stats.fisher_exact([[self.Ds,self.Ps],[self.Dn,self.Pn]])\n",
    "        return(res)\n",
    "    \n",
    "    def g_test(self, correction, pseudocount = 0):\n",
    "        \"\"\"G-test for independence. Original McDonald & Kreitman 1991 suggestion\"\"\"\n",
    "        \n",
    "        # Create 2x2 contingency matrix\n",
    "        mat = np.matrix([[self.Ds + pseudocount,self.Ps + pseudocount],\n",
    "                         [self.Dn + pseudocount,self.Pn + pseudocount]])\n",
    "        \n",
    "        if correction == 'none':\n",
    "            res = stats.chi2_contingency(observed=mat,\n",
    "                                         lambda_=\"log-likelihood\",\n",
    "                                         correction=False)\n",
    "        elif correction == 'yates':\n",
    "            # apply yates correction, the default and only option\n",
    "            # on scipy.stats\n",
    "            res = stats.chi2_contingency(observed=mat,\n",
    "                                         lambda_=\"log-likelihood\",\n",
    "                                         correction=True)\n",
    "        elif correction == \"williams\":\n",
    "            # Original correction used by McDonald & Kreitman (1991).\n",
    "            # According to McDonald (same as above) biostat handbook,\n",
    "            # it doesn't make much difference (http://www.biostathandbook.com/small.html)\n",
    "            g, p, df, e = stats.chi2_contingency(observed=mat,\n",
    "                                         lambda_=\"log-likelihood\",\n",
    "                                         correction=False)\n",
    "            \n",
    "            # Calculate q correction\n",
    "            n = mat.sum()\n",
    "            q = 1 \\\n",
    "                + (n * (1 / mat.sum(axis = 1)).sum() - 1) \\\n",
    "                * (n * (1 / mat.sum(axis = 1)).sum() - 1) \\\n",
    "                / (6 * n)\n",
    "                \n",
    "            # correct g and recalculate p-value\n",
    "            g = g / q\n",
    "            p = 1 - stats.chi2.cdf(g, df)\n",
    "            \n",
    "            # combine results\n",
    "            res = [g, p , df, e]\n",
    "            \n",
    "        else:\n",
    "            raise ValueError(\"Corretion must be one of 'none', 'yates' or 'williams'\")\n",
    "        \n",
    "\n",
    "        return(res)\n",
    "    \n",
    "\n",
    "        "
   ]
  },
  {
   "cell_type": "code",
   "execution_count": 32,
   "metadata": {},
   "outputs": [
    {
     "data": {
      "text/plain": [
       "(7.9071479322437366,\n",
       " 0.0049239839949759409,\n",
       " 1,\n",
       " array([[ 20.82352941,  38.17647059],\n",
       "        [  3.17647059,   5.82352941]]))"
      ]
     },
     "execution_count": 32,
     "metadata": {},
     "output_type": "execute_result"
    }
   ],
   "source": [
    "mk = MKtest(name = 'original', Dn=7,Pn=2,Ds=17,Ps =42)\n",
    "mk.g_test(correction='none')"
   ]
  },
  {
   "cell_type": "code",
   "execution_count": 33,
   "metadata": {},
   "outputs": [
    {
     "data": {
      "text/plain": [
       "(5.9227827417803045,\n",
       " 0.014946334344415117,\n",
       " 1,\n",
       " array([[ 20.82352941,  38.17647059],\n",
       "        [  3.17647059,   5.82352941]]))"
      ]
     },
     "execution_count": 33,
     "metadata": {},
     "output_type": "execute_result"
    }
   ],
   "source": [
    "mk.g_test(correction='yates')"
   ]
  },
  {
   "cell_type": "code",
   "execution_count": null,
   "metadata": {
    "collapsed": true
   },
   "outputs": [],
   "source": [
    "mk.g_test(cor)"
   ]
  },
  {
   "cell_type": "code",
   "execution_count": 225,
   "metadata": {
    "collapsed": true
   },
   "outputs": [],
   "source": [
    "# Check files exist in input directory\n",
    "# Convert into function\n",
    "file_list = os.listdir(args.indir)\n",
    "if 'snps_freq.txt' not in file_list:\n",
    "    raise FileNotFoundError(\"Could not find snps_freq.txt at {}\".format(args.indir))\n",
    "if 'snps_info.txt' not in file_list:\n",
    "    raise FileNotFoundError(\"Could not find snps_info.txt at {}\".format(args.indir))\n",
    "if 'snps_depth.txt' not in file_list:\n",
    "    raise FileNotFoundError(\"Could not find snps_depth.txt at {}\".format(args.indir))\n",
    "if not os.path.isfile(args.metadata_file):\n",
    "    raise FileNotFoundError(\"Could not find metadata file {}\".format(args.metadata_file))\n"
   ]
  },
  {
   "cell_type": "code",
   "execution_count": 226,
   "metadata": {},
   "outputs": [
    {
     "name": "stdout",
     "output_type": "stream",
     "text": [
      "\n",
      "=============================================\n",
      "> Processing map of runs\n",
      "\tProcessed 54 runs in 3 samples\n",
      "=============================================\n",
      "\n",
      "=============================================\n",
      "> Processing map of runs\n",
      "\tProcessed 54 runs in 54 samples\n",
      "=============================================\n"
     ]
    }
   ],
   "source": [
    "# Read metadata\n",
    "Groups = sutilspy.io.process_run_list(args.metadata_file, 1, 0, header = True)\n",
    "Samples = sutilspy.io.process_run_list(args.metadata_file, 0, 1, header = True)"
   ]
  },
  {
   "cell_type": "code",
   "execution_count": 227,
   "metadata": {},
   "outputs": [
    {
     "name": "stdout",
     "output_type": "stream",
     "text": [
      "['site_id', 'ref_id', 'ref_pos', 'ref_allele', 'major_allele', 'minor_allele', 'count_samples', 'count_a', 'count_c', 'count_g', 'count_t', 'locus_type', 'gene_id', 'snp_type', 'site_type', 'amino_acids\\n']\n",
      "============HEADERs============\n",
      ">Site id: site_id\n",
      ">Contig: ref_id\n",
      ">Position: ref_pos\n",
      ">Ref allele: ref_allele\n",
      ">Major allele: major_allele\n",
      ">Minor allele: minor_allele\n",
      ">Locus type: locus_type\n",
      ">Gene id: gene_id\n",
      ">Aminoacids: amino_acids\n",
      "\n"
     ]
    }
   ],
   "source": [
    "# Read info\n",
    "Genes = {}\n",
    "Sites = {}\n",
    "with open(args.indir + '/snps_info.txt') as info_fh:\n",
    "    header = info_fh.readline()\n",
    "    header = header.split('\\t')\n",
    "    print(header)\n",
    "    info_reader = csv.reader(info_fh, delimiter = '\\t')\n",
    "    i = 0\n",
    "    \n",
    "    # Set columns\n",
    "    site_id_col = 0\n",
    "    contig_col = 1\n",
    "    pos_col = 2\n",
    "    ref_allele_col = 3\n",
    "    major_allele_col = 4\n",
    "    minor_allele_col = 5\n",
    "    locus_type_col = 11\n",
    "    gene_id_col = 12\n",
    "    aminoacids_col = 15\n",
    "    \n",
    "    print(\"============HEADERs============\")\n",
    "    print(\">Site id: {}\".format(header[site_id_col]))\n",
    "    print(\">Contig: {}\".format(header[contig_col]))\n",
    "    print(\">Position: {}\".format(header[pos_col]))\n",
    "    print(\">Ref allele: {}\".format(header[ref_allele_col]))\n",
    "    print(\">Major allele: {}\".format(header[major_allele_col]))\n",
    "    print(\">Minor allele: {}\".format(header[minor_allele_col]))\n",
    "    print(\">Locus type: {}\".format(header[locus_type_col]))\n",
    "    print(\">Gene id: {}\".format(header[gene_id_col]))\n",
    "    print(\">Aminoacids: {}\".format(header[aminoacids_col]))\n",
    "    \n",
    "    #\n",
    "    for row in info_reader:\n",
    "        i += 1\n",
    "        if i > args.nrows:\n",
    "            break\n",
    "        #print(row)\n",
    "        #print(row[gene_id_col], row[site_id_col])\n",
    "        #print(row[aminoacids_col])\n",
    "        gene = row[gene_id_col]\n",
    "        site_id = row[site_id_col]\n",
    "        aminoacids = row[aminoacids_col]\n",
    "        #print(aminoacids)\n",
    "        #print(site_id)\n",
    "        \n",
    "        if gene == 'NA':\n",
    "            # skip intergenig regions\n",
    "            continue\n",
    "            \n",
    "        #print(\"\\tgene\")\n",
    "        # Get aminoacid per position\n",
    "        aa = aminoacids.split(',')\n",
    "        #print(aa)\n",
    "        \n",
    "        # Define site\n",
    "        #print(site_id)\n",
    "        Sites[site_id] = GenomeSite(site_id = site_id,\n",
    "                                    contig = row[contig_col],\n",
    "                                    position = row[pos_col],\n",
    "                                    ref_allele = row[ref_allele_col],\n",
    "                                    major_allele = row[major_allele_col],\n",
    "                                    minor_allele = row[minor_allele_col],\n",
    "                                    locus_type = row[locus_type_col],\n",
    "                                    gene_id = gene, aminoacid_A = aa[0],\n",
    "                                    aminoacid_C = aa[1],\n",
    "                                    aminoacid_G = aa[2],\n",
    "                                    aminoacid_T = aa[3])\n",
    "        \n",
    "        # For genes\n",
    "        if gene in Genes:\n",
    "            # update genes\n",
    "            Genes[gene].extend(row[pos_col])\n",
    "            #print(gene)\n",
    "            #print(Genes[gene])\n",
    "            #Genes[gene].print()\n",
    "\n",
    "        else:\n",
    "            # Define gene\n",
    "            Genes[gene] = Gene(gene_id=gene, contig = row[contig_col],\n",
    "                               start = row[pos_col], end = row[pos_col])\n",
    "            #Genes[gene].print()\n",
    "            #print(Genes[gene])\n",
    "        \n",
    " \n",
    "info_fh.close()"
   ]
  },
  {
   "cell_type": "code",
   "execution_count": 228,
   "metadata": {},
   "outputs": [
    {
     "name": "stdout",
     "output_type": "stream",
     "text": [
      "Number of sites: 8901\n",
      "Number of genes: 66\n"
     ]
    }
   ],
   "source": [
    "#print(Groups)\n",
    "print(\"Number of sites: {}\".format(str(len(Sites))))\n",
    "print(\"Number of genes: {}\".format(str(len(Genes))))"
   ]
  },
  {
   "cell_type": "code",
   "execution_count": 229,
   "metadata": {},
   "outputs": [
    {
     "name": "stdout",
     "output_type": "stream",
     "text": [
      "{'SRS011140': 1, 'SRS011247': 2, 'SRS013711': 3, 'SRS016575': 4, 'SRS054687': 5, 'SRS011243': 6, 'SRS049389': 7, 'SRS017439': 8, 'SRS017533': 9, 'SRS020856': 10, 'SRS017808': 11, 'SRS011310': 12, 'SRS017810': 13, 'SRS019607': 14, 'SRS017814': 15, 'SRS019389': 16, 'SRS018357': 17, 'SRS011152': 18, 'SRS018665': 19, 'SRS018157': 20, 'SRS018739': 21, 'SRS018145': 22, 'SRS012285': 23, 'SRS017691': 24, 'SRS015755': 25, 'SRS017511': 26, 'SRS017227': 27, 'SRS017209': 28, 'SRS017139': 29, 'SRS019974': 30, 'SRS019980': 31, 'SRS016569': 32, 'SRS016225': 33, 'SRS016037': 34, 'SRS015762': 35, 'SRS014894': 36, 'SRS014888': 37, 'SRS016200': 38, 'SRS043663': 39, 'SRS014573': 40, 'SRS045049': 41, 'SRS013723': 42, 'SRS013705': 43, 'SRS012279': 44, 'SRS011306': 45, 'SRS050029': 46, 'SRS051244': 47, 'SRS051941': 48, 'SRS052227': 49, 'SRS052604': 50, 'SRS052876': 51, 'SRS055118': 52, 'SRS055426': 53, 'SRS058053': 54}\n"
     ]
    }
   ],
   "source": [
    "# Chose sites based on depth in groups to compare\n",
    "Counts = {}\n",
    "with open(args.indir + '/snps_depth.txt') as depth_fh:\n",
    "    header = depth_fh.readline()\n",
    "    header = header.rstrip()\n",
    "    header = header.split('\\t')\n",
    "    \n",
    "    # Get sample and column indices\n",
    "    samples = header[1:]\n",
    "    indices = {}\n",
    "    for s in samples:\n",
    "        indices[s] = header.index(s)\n",
    "    print(indices)\n",
    "    \n",
    "    \n",
    "    depth_reader = csv.reader(depth_fh, delimiter = '\\t')\n",
    "    i = 0\n",
    "    for row in depth_reader:\n",
    "        i += 1\n",
    "        if i > args.nrows:\n",
    "            break \n",
    "        #print(row)\n",
    "        \n",
    "        site_id = row[0]\n",
    "        #print(site_id)\n",
    "        if not site_id in Sites:\n",
    "            continue\n",
    "        \n",
    "        # Get all counts\n",
    "        counts = row[1:]\n",
    "        counts = list(map(int,counts))\n",
    "        #print(counts)\n",
    "        \n",
    "        counts = [int(c >= args.min_count) for c in counts]\n",
    "        \n",
    "        # Get counts per group\n",
    "        samples1 = [int(counts[ indices[l] - 1 ]) for l in Groups[args.group1]]\n",
    "        samples2 = [int(counts[ indices[l] - 1 ]) for l in Groups[args.group2]]\n",
    "        samples1 = sum(samples1)\n",
    "        samples2 = sum(samples2)\n",
    "        #print(samples1)\n",
    "        #print(samples2)\n",
    "        if not ((samples1 > 0 and samples2 > 0) and (samples1 > 1 or samples2 > 1)):\n",
    "            # delete\n",
    "            #print(site_id)\n",
    "            if site_id in Sites:\n",
    "                del Sites[site_id]\n",
    "        else:\n",
    "            # NOTE: ASSUMING SAME ORDER IN SAMPLES BETWEEN SITES\n",
    "            Counts[site_id] = counts\n",
    "        \n",
    "\n",
    "\n",
    "depth_fh.close()"
   ]
  },
  {
   "cell_type": "code",
   "execution_count": 230,
   "metadata": {},
   "outputs": [
    {
     "name": "stdout",
     "output_type": "stream",
     "text": [
      "Number of sites: 8881\n",
      "Number of genes: 66\n",
      "Sites with counts: 8881\n"
     ]
    }
   ],
   "source": [
    "print(\"Number of sites: {}\".format(str(len(Sites))))\n",
    "print(\"Number of genes: {}\".format(str(len(Genes))))\n",
    "print(\"Sites with counts: {}\".format(str(len(Counts))))"
   ]
  },
  {
   "cell_type": "code",
   "execution_count": null,
   "metadata": {
    "collapsed": true
   },
   "outputs": [],
   "source": []
  },
  {
   "cell_type": "code",
   "execution_count": 231,
   "metadata": {},
   "outputs": [
    {
     "name": "stdout",
     "output_type": "stream",
     "text": [
      "{'Tongue dorsum': ['SRS011140', 'SRS011243', 'SRS011306', 'SRS012279', 'SRS013705', 'SRS014573', 'SRS014888', 'SRS015762', 'SRS016037', 'SRS016225', 'SRS016569', 'SRS017209', 'SRS017439', 'SRS017533', 'SRS017808', 'SRS018145', 'SRS018357', 'SRS018739', 'SRS019389', 'SRS019607', 'SRS019974', 'SRS020856', 'SRS043663', 'SRS049389', 'SRS052227', 'SRS054687', 'SRS055426'], 'Supragingival plaque': ['SRS011152', 'SRS012285', 'SRS013723', 'SRS014894', 'SRS015755', 'SRS016200', 'SRS016575', 'SRS017139', 'SRS017227', 'SRS017511', 'SRS017691', 'SRS017814', 'SRS018157', 'SRS018665', 'SRS019980', 'SRS051244', 'SRS051941', 'SRS052604', 'SRS052876', 'SRS058053'], 'Buccal mucosa': ['SRS011247', 'SRS011310', 'SRS013711', 'SRS017810', 'SRS045049', 'SRS050029', 'SRS055118']}\n",
      "{'SRS011140': 1, 'SRS011247': 2, 'SRS013711': 3, 'SRS016575': 4, 'SRS054687': 5, 'SRS011243': 6, 'SRS049389': 7, 'SRS017439': 8, 'SRS017533': 9, 'SRS020856': 10, 'SRS017808': 11, 'SRS011310': 12, 'SRS017810': 13, 'SRS019607': 14, 'SRS017814': 15, 'SRS019389': 16, 'SRS018357': 17, 'SRS011152': 18, 'SRS018665': 19, 'SRS018157': 20, 'SRS018739': 21, 'SRS018145': 22, 'SRS012285': 23, 'SRS017691': 24, 'SRS015755': 25, 'SRS017511': 26, 'SRS017227': 27, 'SRS017209': 28, 'SRS017139': 29, 'SRS019974': 30, 'SRS019980': 31, 'SRS016569': 32, 'SRS016225': 33, 'SRS016037': 34, 'SRS015762': 35, 'SRS014894': 36, 'SRS014888': 37, 'SRS016200': 38, 'SRS043663': 39, 'SRS014573': 40, 'SRS045049': 41, 'SRS013723': 42, 'SRS013705': 43, 'SRS012279': 44, 'SRS011306': 45, 'SRS050029': 46, 'SRS051244': 47, 'SRS051941': 48, 'SRS052227': 49, 'SRS052604': 50, 'SRS052876': 51, 'SRS055118': 52, 'SRS055426': 53, 'SRS058053': 54}\n",
      "['site_id', 'SRS011140', 'SRS011247', 'SRS013711', 'SRS016575', 'SRS054687', 'SRS011243', 'SRS049389', 'SRS017439', 'SRS017533', 'SRS020856', 'SRS017808', 'SRS011310', 'SRS017810', 'SRS019607', 'SRS017814', 'SRS019389', 'SRS018357', 'SRS011152', 'SRS018665', 'SRS018157', 'SRS018739', 'SRS018145', 'SRS012285', 'SRS017691', 'SRS015755', 'SRS017511', 'SRS017227', 'SRS017209', 'SRS017139', 'SRS019974', 'SRS019980', 'SRS016569', 'SRS016225', 'SRS016037', 'SRS015762', 'SRS014894', 'SRS014888', 'SRS016200', 'SRS043663', 'SRS014573', 'SRS045049', 'SRS013723', 'SRS013705', 'SRS012279', 'SRS011306', 'SRS050029', 'SRS051244', 'SRS051941', 'SRS052227', 'SRS052604', 'SRS052876', 'SRS055118', 'SRS055426', 'SRS058053']\n",
      "==========================\n",
      "['77719', '0', '0', '0', '0', '0', '0', '1', '0', '0', '0', '0', '0', '0', '0', '0', '0', '0', '0', '0', '0', '0', '0', '0', '0', '0', '0', '0', '0', '0', '0', '0', '0', '0', '0', '0', '0', '1', '0', '0', '0', '0', '0', '0.9', '0', '0', '0', '0', '0', '0', '0', '0', '0', '0', '0']\n",
      "77719\n",
      "Major Allele: A\n",
      "Minor Allele: G\n",
      "Substitution type: non-synonymous\n",
      "Gene: 997829.3.peg.64\n",
      "[1 0 1 1 1 0 1 1 1 0 0 1 0 1 0 1 0 0 1 0 1 1 0 0 1 0 0 0 0 0 0 1 1 1 1 0 1\n",
      " 0 0 1 1 1 1 0 1 1 0 1 1 0 0 0 1 1]\n",
      "['Tongue dorsum' 'Buccal mucosa' 'Buccal mucosa' 'Supragingival plaque'\n",
      " 'Tongue dorsum' 'Tongue dorsum' 'Tongue dorsum' 'Tongue dorsum'\n",
      " 'Tongue dorsum' 'Tongue dorsum' 'Tongue dorsum' 'Buccal mucosa'\n",
      " 'Buccal mucosa' 'Tongue dorsum' 'Supragingival plaque' 'Tongue dorsum'\n",
      " 'Tongue dorsum' 'Supragingival plaque' 'Supragingival plaque'\n",
      " 'Supragingival plaque' 'Tongue dorsum' 'Tongue dorsum'\n",
      " 'Supragingival plaque' 'Supragingival plaque' 'Supragingival plaque'\n",
      " 'Supragingival plaque' 'Supragingival plaque' 'Tongue dorsum'\n",
      " 'Supragingival plaque' 'Tongue dorsum' 'Supragingival plaque'\n",
      " 'Tongue dorsum' 'Tongue dorsum' 'Tongue dorsum' 'Tongue dorsum'\n",
      " 'Supragingival plaque' 'Tongue dorsum' 'Supragingival plaque'\n",
      " 'Tongue dorsum' 'Tongue dorsum' 'Buccal mucosa' 'Supragingival plaque'\n",
      " 'Tongue dorsum' 'Tongue dorsum' 'Tongue dorsum' 'Buccal mucosa'\n",
      " 'Supragingival plaque' 'Supragingival plaque' 'Tongue dorsum'\n",
      " 'Supragingival plaque' 'Supragingival plaque' 'Buccal mucosa'\n",
      " 'Tongue dorsum' 'Supragingival plaque']\n"
     ]
    }
   ],
   "source": [
    "# Read frequencies and calculate \n",
    "print(Groups)\n",
    "MK = {}\n",
    "with open(args.indir + '/snps_freq.txt') as freqs_fh:\n",
    "    header = freqs_fh.readline()\n",
    "    header = header.rstrip()\n",
    "    header = header.split('\\t')\n",
    "    \n",
    "    # Get sample and column indices\n",
    "    samples = header[1:]\n",
    "    indices = {}\n",
    "    for s in samples:\n",
    "        indices[s] = header.index(s)\n",
    "    print(indices)\n",
    "    print(header)\n",
    "    \n",
    "    freqs_reader = csv.reader(freqs_fh, delimiter = '\\t')\n",
    "    i = 0\n",
    "    for row in freqs_reader:\n",
    "        i += 1\n",
    "        if i > args.nrows:\n",
    "            break\n",
    "        \n",
    "        # Check if site was selected based on sites\n",
    "        site_id = row[0]\n",
    "        if not site_id in Sites:\n",
    "            #print(\"==Skipping\")\n",
    "            continue\n",
    "        \n",
    "        gene = Sites[site_id].gene_id\n",
    "        s_type = Sites[site_id].substitution_type()\n",
    "        present_index = np.array(Counts[site_id])\n",
    "        group_index = np.array([Samples[s][0] for s in samples])\n",
    "        if site_id == '77719':\n",
    "            print(\"==========================\")\n",
    "            print(row)\n",
    "            print(site_id)\n",
    "            print(\"Major Allele: {}\".format(Sites[site_id].major_allele))\n",
    "            print(\"Minor Allele: {}\".format(Sites[site_id].minor_allele))\n",
    "            print(\"Substitution type: {}\".format(s_type))\n",
    "            print(\"Gene: {}\".format(gene))\n",
    "            print(present_index)\n",
    "            print(group_index)\n",
    "\n",
    "        # Create MKtest if needed\n",
    "        if gene not in MK:\n",
    "            MK[gene]= MKtest(name=gene)\n",
    "            \n",
    "        # find allele per sample\n",
    "        allele_freqs = np.array([int(float(f) < 0.5) for f in row[1:]])\n",
    "        #print(allele_freqs)\n",
    "        \n",
    "        # Remove non covered positions\n",
    "        ii = np.where(present_index)\n",
    "        group_index = group_index[ii]\n",
    "        allele_freqs = allele_freqs[ii]\n",
    "        #print(group_index)\n",
    "        #print(allele_freqs)\n",
    "        \n",
    "        # Count alleles per group\n",
    "        group1_count = allele_freqs[np.where(group_index == args.group1)].sum()\n",
    "        group2_count = allele_freqs[np.where(group_index == args.group2)].sum()\n",
    "        #print(group1_count)\n",
    "        #print(group2_count)\n",
    "        \n",
    "        if group1_count > 0 and group2_count > 0:\n",
    "            fixed = False\n",
    "        elif group1_count > 0 or group2_count > 0:\n",
    "            fixed = True\n",
    "\n",
    "        if s_type == 'synonymous':\n",
    "            if fixed:\n",
    "                MK[gene].update(Ds = 1)\n",
    "            else:\n",
    "                MK[gene].update(Ps = 1)\n",
    "        elif s_type == 'non-synonymous':\n",
    "            if fixed:\n",
    "                MK[gene].update(Dn = 1)\n",
    "            else:\n",
    "                MK[gene].update(Pn = 1)\n",
    "        else:\n",
    "            raise ValueError(\"Invalid substitution type\")\n",
    "            \n",
    "        #print(\"==========================\")\n",
    "        \n",
    "        \n",
    "\n",
    "freqs_fh.close()"
   ]
  },
  {
   "cell_type": "code",
   "execution_count": 232,
   "metadata": {},
   "outputs": [
    {
     "name": "stdout",
     "output_type": "stream",
     "text": [
      "Number of sites: 8881\n",
      "Number of genes: 66\n",
      "Sites with counts: 8881\n",
      "Genes with MK: 66\n"
     ]
    }
   ],
   "source": [
    "print(\"Number of sites: {}\".format(str(len(Sites))))\n",
    "print(\"Number of genes: {}\".format(str(len(Genes))))\n",
    "print(\"Sites with counts: {}\".format(str(len(Counts))))\n",
    "print(\"Genes with MK: {}\".format(str(len(MK))))"
   ]
  },
  {
   "cell_type": "code",
   "execution_count": 233,
   "metadata": {},
   "outputs": [
    {
     "ename": "ValueError",
     "evalue": "The internally computed table of expected frequencies has a zero element at (0, 0).",
     "output_type": "error",
     "traceback": [
      "\u001b[0;31m---------------------------------------------------------------------------\u001b[0m",
      "\u001b[0;31mValueError\u001b[0m                                Traceback (most recent call last)",
      "\u001b[0;32m<ipython-input-233-abb78adda008>\u001b[0m in \u001b[0;36m<module>\u001b[0;34m()\u001b[0m\n\u001b[1;32m      8\u001b[0m         \u001b[0;31m#res = [gene, str(oddratio), str(pval)]\u001b[0m\u001b[0;34m\u001b[0m\u001b[0;34m\u001b[0m\u001b[0m\n\u001b[1;32m      9\u001b[0m \u001b[0;34m\u001b[0m\u001b[0m\n\u001b[0;32m---> 10\u001b[0;31m         \u001b[0mg\u001b[0m\u001b[0;34m,\u001b[0m \u001b[0mp\u001b[0m\u001b[0;34m,\u001b[0m \u001b[0mdof\u001b[0m\u001b[0;34m,\u001b[0m \u001b[0mE\u001b[0m \u001b[0;34m=\u001b[0m \u001b[0mmk\u001b[0m\u001b[0;34m.\u001b[0m\u001b[0mg_test\u001b[0m\u001b[0;34m(\u001b[0m\u001b[0;34m)\u001b[0m\u001b[0;34m\u001b[0m\u001b[0m\n\u001b[0m\u001b[1;32m     11\u001b[0m         \u001b[0mres\u001b[0m \u001b[0;34m=\u001b[0m \u001b[0;34m[\u001b[0m\u001b[0mgene\u001b[0m\u001b[0;34m,\u001b[0m \u001b[0mstr\u001b[0m\u001b[0;34m(\u001b[0m\u001b[0mg\u001b[0m\u001b[0;34m)\u001b[0m\u001b[0;34m,\u001b[0m \u001b[0mstr\u001b[0m\u001b[0;34m(\u001b[0m\u001b[0mp\u001b[0m\u001b[0;34m)\u001b[0m\u001b[0;34m]\u001b[0m\u001b[0;34m\u001b[0m\u001b[0m\n\u001b[1;32m     12\u001b[0m \u001b[0;34m\u001b[0m\u001b[0m\n",
      "\u001b[0;32m<ipython-input-224-e457e905e3b3>\u001b[0m in \u001b[0;36mg_test\u001b[0;34m(self)\u001b[0m\n\u001b[1;32m     34\u001b[0m         res = stats.chi2_contingency(observed=mat,\n\u001b[1;32m     35\u001b[0m                                      \u001b[0mlambda_\u001b[0m\u001b[0;34m=\u001b[0m\u001b[0;34m\"log-likelihood\"\u001b[0m\u001b[0;34m,\u001b[0m\u001b[0;34m\u001b[0m\u001b[0m\n\u001b[0;32m---> 36\u001b[0;31m                                      correction=False)\n\u001b[0m\u001b[1;32m     37\u001b[0m         \u001b[0;32mreturn\u001b[0m\u001b[0;34m(\u001b[0m\u001b[0mres\u001b[0m\u001b[0;34m)\u001b[0m\u001b[0;34m\u001b[0m\u001b[0m\n\u001b[1;32m     38\u001b[0m \u001b[0;34m\u001b[0m\u001b[0m\n",
      "\u001b[0;32m~/miniconda3/lib/python3.6/site-packages/scipy/stats/contingency.py\u001b[0m in \u001b[0;36mchi2_contingency\u001b[0;34m(observed, correction, lambda_)\u001b[0m\n\u001b[1;32m    251\u001b[0m         \u001b[0mzeropos\u001b[0m \u001b[0;34m=\u001b[0m \u001b[0mlist\u001b[0m\u001b[0;34m(\u001b[0m\u001b[0mzip\u001b[0m\u001b[0;34m(\u001b[0m\u001b[0;34m*\u001b[0m\u001b[0mnp\u001b[0m\u001b[0;34m.\u001b[0m\u001b[0mwhere\u001b[0m\u001b[0;34m(\u001b[0m\u001b[0mexpected\u001b[0m \u001b[0;34m==\u001b[0m \u001b[0;36m0\u001b[0m\u001b[0;34m)\u001b[0m\u001b[0;34m)\u001b[0m\u001b[0;34m)\u001b[0m\u001b[0;34m[\u001b[0m\u001b[0;36m0\u001b[0m\u001b[0;34m]\u001b[0m\u001b[0;34m\u001b[0m\u001b[0m\n\u001b[1;32m    252\u001b[0m         raise ValueError(\"The internally computed table of expected \"\n\u001b[0;32m--> 253\u001b[0;31m                          \"frequencies has a zero element at %s.\" % (zeropos,))\n\u001b[0m\u001b[1;32m    254\u001b[0m \u001b[0;34m\u001b[0m\u001b[0m\n\u001b[1;32m    255\u001b[0m     \u001b[0;31m# The degrees of freedom\u001b[0m\u001b[0;34m\u001b[0m\u001b[0;34m\u001b[0m\u001b[0m\n",
      "\u001b[0;31mValueError\u001b[0m: The internally computed table of expected frequencies has a zero element at (0, 0)."
     ]
    }
   ],
   "source": [
    "with open(args.outfile,mode='w') as fh, open(args.tables,mode='w') as th:\n",
    "    for gene,mk in MK.items():\n",
    "        th.write(\"=============================================\\n\")\n",
    "        th.write(gene)\n",
    "        th.write(\"\\t\\tFixed\\tPolymorphic\\n\\tSynonymous\\t{}\\t{}\\n\\tnon-synonymous\\t{}\\t{}\\n\".format(mk.Ds,mk.Ps,mk.Dn,mk.Pn))\n",
    "        #ratio = mk.calculate()\n",
    "        #oddratio,pval = mk.hg_test()\n",
    "        #res = [gene, str(oddratio), str(pval)]\n",
    "        \n",
    "        g, p, dof, E = mk.g_test()\n",
    "        res = [gene, str(g), str(p)]\n",
    "        \n",
    "        th.write(str(res) + \"\\n\")\n",
    "        fh.write(\"\\t\".join(res) + \"\\n\")\n",
    "        #alpha = mk.alpha()\n",
    "        #print(\"MK ratio is: {}\".format(str(ratio)))\n",
    "        #print(\"MK alpha is: {}\".format(str(alpha)))\n",
    "fh.close()\n",
    "th.close()"
   ]
  },
  {
   "cell_type": "code",
   "execution_count": 215,
   "metadata": {},
   "outputs": [
    {
     "data": {
      "text/plain": [
       "matrix([[ 7,  2],\n",
       "        [17, 42]])"
      ]
     },
     "execution_count": 215,
     "metadata": {},
     "output_type": "execute_result"
    }
   ],
   "source": [
    "mat = np.matrix([[7,2],[17,42]])\n",
    "mat"
   ]
  },
  {
   "cell_type": "code",
   "execution_count": 219,
   "metadata": {},
   "outputs": [
    {
     "name": "stdout",
     "output_type": "stream",
     "text": [
      "G: 7.90714793224\n",
      "p-val: 0.00492398399498\n",
      "df: 1\n"
     ]
    }
   ],
   "source": [
    "g, p , dof, e = stats.chi2_contingency(mat, lambda_=\"log-likelihood\",\n",
    "                                      correction = False)\n",
    "print(\"G: {}\".format(str(g)))\n",
    "print(\"p-val: {}\".format(str(p)))\n",
    "print(\"df: {}\".format(str(dof)))"
   ]
  },
  {
   "cell_type": "code",
   "execution_count": null,
   "metadata": {
    "collapsed": true
   },
   "outputs": [],
   "source": []
  },
  {
   "cell_type": "code",
   "execution_count": null,
   "metadata": {
    "collapsed": true
   },
   "outputs": [],
   "source": []
  },
  {
   "cell_type": "code",
   "execution_count": null,
   "metadata": {
    "collapsed": true
   },
   "outputs": [],
   "source": []
  },
  {
   "cell_type": "code",
   "execution_count": null,
   "metadata": {
    "collapsed": true
   },
   "outputs": [],
   "source": []
  },
  {
   "cell_type": "code",
   "execution_count": null,
   "metadata": {
    "collapsed": true
   },
   "outputs": [],
   "source": []
  },
  {
   "cell_type": "code",
   "execution_count": 3,
   "metadata": {},
   "outputs": [
    {
     "ename": "AssertionError",
     "evalue": "",
     "output_type": "error",
     "traceback": [
      "\u001b[0;31m---------------------------------------------------------------------------\u001b[0m",
      "\u001b[0;31mAssertionError\u001b[0m                            Traceback (most recent call last)",
      "\u001b[0;32m<ipython-input-3-d2f0463d53c7>\u001b[0m in \u001b[0;36m<module>\u001b[0;34m()\u001b[0m\n\u001b[0;32m----> 1\u001b[0;31m \u001b[0;32massert\u001b[0m \u001b[0;36m1\u001b[0m \u001b[0;32min\u001b[0m \u001b[0;34m[\u001b[0m\u001b[0;36m2\u001b[0m\u001b[0;34m,\u001b[0m\u001b[0;36m3\u001b[0m\u001b[0;34m]\u001b[0m\u001b[0;34m\u001b[0m\u001b[0m\n\u001b[0m",
      "\u001b[0;31mAssertionError\u001b[0m: "
     ]
    }
   ],
   "source": [
    "assert 1 in [2,3]"
   ]
  },
  {
   "cell_type": "code",
   "execution_count": 6,
   "metadata": {},
   "outputs": [
    {
     "data": {
      "text/plain": [
       "matrix([[1, 2, 3],\n",
       "        [2, 4, 6]])"
      ]
     },
     "execution_count": 6,
     "metadata": {},
     "output_type": "execute_result"
    }
   ],
   "source": [
    "m = np.matrix([[1,2,3],[2,4,6]])\n",
    "m"
   ]
  },
  {
   "cell_type": "code",
   "execution_count": 7,
   "metadata": {},
   "outputs": [
    {
     "data": {
      "text/plain": [
       "18"
      ]
     },
     "execution_count": 7,
     "metadata": {},
     "output_type": "execute_result"
    }
   ],
   "source": [
    "m.sum()"
   ]
  },
  {
   "cell_type": "code",
   "execution_count": 8,
   "metadata": {},
   "outputs": [
    {
     "data": {
      "text/plain": [
       "matrix([[2, 4, 6]])"
      ]
     },
     "execution_count": 8,
     "metadata": {},
     "output_type": "execute_result"
    }
   ],
   "source": [
    "m[1]"
   ]
  },
  {
   "cell_type": "code",
   "execution_count": 10,
   "metadata": {},
   "outputs": [
    {
     "data": {
      "text/plain": [
       "matrix([[3, 6, 9]])"
      ]
     },
     "execution_count": 10,
     "metadata": {},
     "output_type": "execute_result"
    }
   ],
   "source": [
    "m.sum(axis=0)"
   ]
  },
  {
   "cell_type": "code",
   "execution_count": 21,
   "metadata": {},
   "outputs": [
    {
     "data": {
      "text/plain": [
       "59"
      ]
     },
     "execution_count": 21,
     "metadata": {},
     "output_type": "execute_result"
    }
   ],
   "source": [
    "m.sum() \\\n",
    "    * 3 \\\n",
    "    + 5"
   ]
  },
  {
   "cell_type": "code",
   "execution_count": 20,
   "metadata": {},
   "outputs": [
    {
     "data": {
      "text/plain": [
       "59"
      ]
     },
     "execution_count": 20,
     "metadata": {},
     "output_type": "execute_result"
    }
   ],
   "source": [
    "18 * 3 + 5 "
   ]
  },
  {
   "cell_type": "code",
   "execution_count": 23,
   "metadata": {
    "collapsed": true
   },
   "outputs": [],
   "source": [
    "stats.chi2_contingency??"
   ]
  },
  {
   "cell_type": "code",
   "execution_count": null,
   "metadata": {
    "collapsed": true
   },
   "outputs": [],
   "source": []
  }
 ],
 "metadata": {
  "kernelspec": {
   "display_name": "Python 3",
   "language": "python",
   "name": "python3"
  },
  "language_info": {
   "codemirror_mode": {
    "name": "ipython",
    "version": 3
   },
   "file_extension": ".py",
   "mimetype": "text/x-python",
   "name": "python",
   "nbconvert_exporter": "python",
   "pygments_lexer": "ipython3",
   "version": "3.6.1"
  }
 },
 "nbformat": 4,
 "nbformat_minor": 2
}
