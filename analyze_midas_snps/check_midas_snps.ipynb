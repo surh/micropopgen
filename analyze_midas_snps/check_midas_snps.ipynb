{
 "cells": [
  {
   "cell_type": "code",
   "execution_count": 16,
   "metadata": {
    "collapsed": true
   },
   "outputs": [],
   "source": [
    "import os\n",
    "import argparse"
   ]
  },
  {
   "cell_type": "code",
   "execution_count": 27,
   "metadata": {
    "collapsed": true
   },
   "outputs": [],
   "source": [
    "def check_sample_dir(path, snp_dir = 'snps/',\n",
    "                     species_file = 'species.txt',\n",
    "                     output_dir = 'output/'):\n",
    "    \"\"\"Check that there are snps called for species defined by MIDAS\"\"\"\n",
    "    \n",
    "    snp_dir = \"\".join([path,\"/\", snp_dir, \"/\"])\n",
    "    species_file = \"\".join([snp_dir,species_file])\n",
    "    output_dir = \"\".join([snp_dir,output_dir,\"/\"])\n",
    "    #print(snp_dir)\n",
    "    #print(species_file)\n",
    "    #print(output_dir)\n",
    "    \n",
    "    # Check if dir exists\n",
    "    if not os.path.isdir(snp_dir):\n",
    "        return(\"No SNP dir\")\n",
    "    \n",
    "    # Check that species file exists and reads it\n",
    "    if os.path.isfile(species_file):\n",
    "        with open(species_file) as fh:\n",
    "            \n",
    "    \n"
   ]
  },
  {
   "cell_type": "code",
   "execution_count": null,
   "metadata": {},
   "outputs": [],
   "source": [
    "# Required arguments\n",
    "# Does not work in ipython\n",
    "# parser = argparse.ArgumentParser(formatter_class=argparse.ArgumentDefaultsHelpFormatter)\n",
    "# required = parser.add_argument_group(\"Required arguments\")\n",
    "# required.add_argument(\"--indir\", help =\"Directory where sample files are located\",\n",
    "#                       type = str, required = True, default = './')\n",
    "# args = parser.parse_args()"
   ]
  },
  {
   "cell_type": "code",
   "execution_count": 28,
   "metadata": {},
   "outputs": [],
   "source": [
    "# For iPython\n",
    "args = argparse.Namespace\n",
    "args.indir = \"./\""
   ]
  },
  {
   "cell_type": "code",
   "execution_count": 29,
   "metadata": {},
   "outputs": [
    {
     "data": {
      "text/plain": [
       "['check_midas_snps.ipynb',\n",
       " '.ipynb_checkpoints',\n",
       " 'create_small_test.r',\n",
       " 'mktest.py']"
      ]
     },
     "execution_count": 29,
     "metadata": {},
     "output_type": "execute_result"
    }
   ],
   "source": [
    "samples = os.listdir(args.indir)\n",
    "samples"
   ]
  },
  {
   "cell_type": "code",
   "execution_count": 31,
   "metadata": {},
   "outputs": [
    {
     "name": "stdout",
     "output_type": "stream",
     "text": [
      "Skipping check_midas_snps.ipynb since it is not a directory\n",
      ".//.ipynb_checkpoints/snps//\n",
      ".//.ipynb_checkpoints/snps//species.txt\n",
      ".//.ipynb_checkpoints/snps//output//\n",
      "Skipping create_small_test.r since it is not a directory\n",
      "Skipping mktest.py since it is not a directory\n"
     ]
    }
   ],
   "source": [
    "for s in samples:\n",
    "    sample_path = args.indir + \"/\" + s\n",
    "    if os.path.isdir(sample_path):\n",
    "        check_sample_dir(sample_path)\n",
    "    else:\n",
    "        print(\"Skipping {} since it is not a directory\".format(s))"
   ]
  },
  {
   "cell_type": "code",
   "execution_count": null,
   "metadata": {
    "collapsed": true
   },
   "outputs": [],
   "source": []
  },
  {
   "cell_type": "code",
   "execution_count": null,
   "metadata": {
    "collapsed": true
   },
   "outputs": [],
   "source": []
  },
  {
   "cell_type": "code",
   "execution_count": null,
   "metadata": {
    "collapsed": true
   },
   "outputs": [],
   "source": []
  },
  {
   "cell_type": "code",
   "execution_count": null,
   "metadata": {
    "collapsed": true
   },
   "outputs": [],
   "source": []
  },
  {
   "cell_type": "code",
   "execution_count": null,
   "metadata": {
    "collapsed": true
   },
   "outputs": [],
   "source": []
  },
  {
   "cell_type": "code",
   "execution_count": null,
   "metadata": {
    "collapsed": true
   },
   "outputs": [],
   "source": []
  },
  {
   "cell_type": "code",
   "execution_count": null,
   "metadata": {
    "collapsed": true
   },
   "outputs": [],
   "source": []
  },
  {
   "cell_type": "code",
   "execution_count": null,
   "metadata": {
    "collapsed": true
   },
   "outputs": [],
   "source": []
  },
  {
   "cell_type": "code",
   "execution_count": null,
   "metadata": {
    "collapsed": true
   },
   "outputs": [],
   "source": []
  }
 ],
 "metadata": {
  "kernelspec": {
   "display_name": "Python 3",
   "language": "python",
   "name": "python3"
  },
  "language_info": {
   "codemirror_mode": {
    "name": "ipython",
    "version": 3
   },
   "file_extension": ".py",
   "mimetype": "text/x-python",
   "name": "python",
   "nbconvert_exporter": "python",
   "pygments_lexer": "ipython3",
   "version": "3.6.1"
  }
 },
 "nbformat": 4,
 "nbformat_minor": 2
}
