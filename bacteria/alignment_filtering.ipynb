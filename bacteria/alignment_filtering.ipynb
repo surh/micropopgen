{
 "cells": [
  {
   "cell_type": "code",
   "execution_count": 1,
   "metadata": {
    "collapsed": true
   },
   "outputs": [],
   "source": [
    "from Bio import AlignIO"
   ]
  },
  {
   "cell_type": "code",
   "execution_count": 4,
   "metadata": {},
   "outputs": [
    {
     "name": "stdout",
     "output_type": "stream",
     "text": [
      "SingleLetterAlphabet() alignment with 3 rows and 730 columns\n",
      "----MYKLSEDEEKIINNIDIVDLIGQYVDLNKAGVSYKGYSPF...KGD Streptobacillus_moniliformis_61686.CDS_0\n",
      "-----VIDQQTRQRILDSAQILDVVSDFISLRRQGVSYVGLCPF...IG- Porphyromonas_sp_57899.CDS_0\n",
      "MTTGHFLPPEFLDELRQRITLSSLIGRTVKLTRAGREFRACCPF...EG- Zymomonas_mobilis_57566.CDS_0\n"
     ]
    }
   ],
   "source": [
    "aln = AlignIO.parse(\"aln/dnaG.aln\", 'fasta')\n",
    "for a in aln:\n",
    "    print(a)"
   ]
  },
  {
   "cell_type": "code",
   "execution_count": 5,
   "metadata": {},
   "outputs": [
    {
     "data": {
      "text/plain": [
       "<<class 'Bio.Align.MultipleSeqAlignment'> instance (3 records of length 730, SingleLetterAlphabet()) at 7f890c52c780>"
      ]
     },
     "execution_count": 5,
     "metadata": {},
     "output_type": "execute_result"
    }
   ],
   "source": [
    "a"
   ]
  },
  {
   "cell_type": "code",
   "execution_count": 6,
   "metadata": {},
   "outputs": [
    {
     "name": "stdout",
     "output_type": "stream",
     "text": [
      "SingleLetterAlphabet() alignment with 3 rows and 730 columns\n",
      "----MYKLSEDEEKIINNIDIVDLIGQYVDLNKAGVSYKGYSPF...KGD Streptobacillus_moniliformis_61686.CDS_0\n",
      "-----VIDQQTRQRILDSAQILDVVSDFISLRRQGVSYVGLCPF...IG- Porphyromonas_sp_57899.CDS_0\n",
      "MTTGHFLPPEFLDELRQRITLSSLIGRTVKLTRAGREFRACCPF...EG- Zymomonas_mobilis_57566.CDS_0\n"
     ]
    }
   ],
   "source": [
    "print(a)"
   ]
  },
  {
   "cell_type": "code",
   "execution_count": 144,
   "metadata": {},
   "outputs": [
    {
     "name": "stdout",
     "output_type": "stream",
     "text": [
      "SingleLetterAlphabet() alignment with 3 rows and 730 columns\n",
      "----MYKLSEDEEKIINNIDIVDLIGQYVDLNKAGVSYKGYSPF...KGD Streptobacillus_moniliformis_61686.CDS_0\n",
      "-----VIDQQTRQRILDSAQILDVVSDFISLRRQGVSYVGLCPF...IG- Porphyromonas_sp_57899.CDS_0\n",
      "MTTGHFLPPEFLDELRQRITLSSLIGRTVKLTRAGREFRACCPF...EG- Zymomonas_mobilis_57566.CDS_0\n"
     ]
    }
   ],
   "source": [
    "a = AlignIO.read(\"aln/dnaG.aln\", 'fasta')\n",
    "print(a)"
   ]
  },
  {
   "cell_type": "code",
   "execution_count": 145,
   "metadata": {},
   "outputs": [
    {
     "name": "stdout",
     "output_type": "stream",
     "text": [
      "CLUSTAL X (1.81) multiple sequence alignment\n",
      "\n",
      "\n",
      "Streptobacillus_moniliformis_6      ----MYKLSEDEEKIINNIDIVDLIGQYVDLNKAGVSYKGYSPFKSENTP\n",
      "Porphyromonas_sp_57899.CDS_0        -----VIDQQTRQRILDSAQILDVVSDFISLRRQGVSYVGLCPFHSDRNP\n",
      "Zymomonas_mobilis_57566.CDS_0       MTTGHFLPPEFLDELRQRITLSSLIGRTVKLTRAGREFRACCPFHNEKTP\n",
      "\n",
      "Streptobacillus_moniliformis_6      SFSVHPVKKIFKDFSSGKGGNVISFYSYIKNISYYEALHELSKKYGINIK\n",
      "Porphyromonas_sp_57899.CDS_0        SFYVNPAKNICKCFSCGEGGTPLNFIMKHEQLSYSDALKYLAKKYNIEVI\n",
      "Zymomonas_mobilis_57566.CDS_0       SFYVNDEKGFYHCFGCGAHGDAIRFVTETRGLSFMDAVRELAGQAGMDIP\n",
      "\n",
      "Streptobacillus_moniliformis_6      KSNSKYLIKDNIG-----HKILKDAMEFFRLNFE--KSSEAKE----YLI\n",
      "Porphyromonas_sp_57899.CDS_0        EREESEEEKQRNSERESLFIINDYAAKYFQTQLT--ETEEGRTVGLAYFR\n",
      "Zymomonas_mobilis_57566.CDS_0       EANPAAVRQAKRT--ATLHDIMAEAAKWFSEQLHGIEGAEVRR----YLD\n",
      "\n",
      "Streptobacillus_moniliformis_6      NRGFNLNDLKRYDIGYATNDWNLLYNHL-KEKYDVEELIKLGLVTVSSTD\n",
      "Porphyromonas_sp_57899.CDS_0        ERGIRPETIERFGLGYAHESKTAFTEQAIKSGYPLKRLAEVGLSIEYEDH\n",
      "Zymomonas_mobilis_57566.CDS_0       NRGISPAIAQNFGLGFAPNGRGRLKNAL--SHHAVEKLIEVGLLI--SVE\n",
      "\n",
      "Streptobacillus_moniliformis_6      TNNIYDTFRKRIIFPIFNIHQQVVGFGGRYI-------GENVNAPKYLNS\n",
      "Porphyromonas_sp_57899.CDS_0        PGKAIDRFRGRVIFPVRNLSGRYVAFGGRVM-------SKTAKTAKYVNS\n",
      "Zymomonas_mobilis_57566.CDS_0       GRDPYDRFRGRLMIPIKDQRGRIIAFGGRRLESIEGGNSLPDNSPKYLNS\n",
      "\n",
      "Streptobacillus_moniliformis_6      TESYVFDKSSELYGLFNKGIEIKEKKYAILMEGFLDVLSSHINTFDNAVA\n",
      "Porphyromonas_sp_57899.CDS_0        PESLIYSKSRELYGLYWAKSAISKLGKCYLVEGYTDVLSMYQAGIENVVS\n",
      "Zymomonas_mobilis_57566.CDS_0       PETPLFDKGRTLYNIDKASQAARRQNRIIVVEGYLDVIGLAQAGIHEAVA\n",
      "\n",
      "Streptobacillus_moniliformis_6      SLGTAFTEKQAKLLKKYTDNIIIMYDKDEAGQKATKSVIN---ILNKLEF\n",
      "Porphyromonas_sp_57899.CDS_0        SSGTALTIDQIRLIRRFTTTITVLYDGDAAGIKAALRGID---LLLEEGF\n",
      "Zymomonas_mobilis_57566.CDS_0       PLGTALTEHQIERLWRIEDKPILCFDGDSAGQKAAVRAAERALVQAHPGK\n",
      "\n",
      "Streptobacillus_moniliformis_6      NIKCSSLPDGVKDPDEYFKKYSKDDFFEILGKSVGALDYIFEMDLKDFDF\n",
      "Porphyromonas_sp_57899.CDS_0        RIKVVLLPDG-EDPDSFARSHSNTELQAYLDEHETDF-IHFKIDLYHEEM\n",
      "Zymomonas_mobilis_57566.CDS_0       TLSFVTLPNG-KDPDDLVKEQGKSAFEEVLSRP-----IALDRLLYRFQA\n",
      "\n",
      "Streptobacillus_moniliformis_6      TQTTSKR-EAIELMKSYFENVTNDIVYSDEIEKFSRLIDVETKYILSKYI\n",
      "Porphyromonas_sp_57899.CDS_0        ERDPLRRAELISDIMRSIALIPDTIQRAVLIQSSSTALRMSEELLQSEVN\n",
      "Zymomonas_mobilis_57566.CDS_0       SQIDPQSPEGRAALSKRLDELAASC-RDEFIARGYR----------SNFK\n",
      "\n",
      "Streptobacillus_moniliformis_6      RNKNKNFKDLDTIKEVSQDRVNEKINKQEE--------------------\n",
      "Porphyromonas_sp_57899.CDS_0        KLRRQGVTAQGFTSPQRTAPVAPPTPSAPVPPPFTEPIPSEPAPSSDEYL\n",
      "Zymomonas_mobilis_57566.CDS_0       NLFYENFGWKSKKQQDSQTTIAATVTLSDLPTPTISDLECQ---------\n",
      "\n",
      "Streptobacillus_moniliformis_6      -----------LEKLSIVFLLLGKEVDQILYNILKSFEFQSEKYVELHKK\n",
      "Porphyromonas_sp_57899.CDS_0        SPLVVEESIKPFERELMQLLLLYSDREIIIPKGLGTPEFEDEIYPEQDAT\n",
      "Zymomonas_mobilis_57566.CDS_0       -----------YSRQILIGLSLYPEAIKQRLERLAELAVTDPKLKKWRET\n",
      "\n",
      "Streptobacillus_moniliformis_6      LLSI--------------DYKIDEVSYLV-LTKDEEEFMIETTCEFKNNY\n",
      "Porphyromonas_sp_57899.CDS_0        FILSYFIERELIMVGADQEYSPLFARFMTELRSECLEKQISPATYFA-NH\n",
      "Zymomonas_mobilis_57566.CDS_0       LITAVISEPDL-------DRDTIKAILKADANVDIDTWDIKKDLRFPFTR\n",
      "\n",
      "Streptobacillus_moniliformis_6      TDEDYIRIIKTWLELL-------------------IKKYEASIDILPINE\n",
      "Porphyromonas_sp_57899.CDS_0        PEAPLREITTALLAESDLLEYRPDQDLHIGGAGSSFSSRILSEEEEREEE\n",
      "Zymomonas_mobilis_57566.CDS_0       PDIAPDLAIESLVALIDLV----------------VEERELATEEQQLKQ\n",
      "\n",
      "Streptobacillus_moniliformis_6      KIDKKIHIGKLL----------------NKLRNV----------------\n",
      "Porphyromonas_sp_57899.CDS_0        ARKEARYLGSLALRACNSYKMALLVRFIDGLHQEIKQAQRAGDSTKILEC\n",
      "Zymomonas_mobilis_57566.CDS_0       VFTEERLIADYAKFEAA-----------QALHRK----------------\n",
      "\n",
      "Streptobacillus_moniliformis_6      ----VNINNLEKCY----KEII---VLKGD\n",
      "Porphyromonas_sp_57899.CDS_0        MTEITRLNVQKRRL----SDLLGERTIIG-\n",
      "Zymomonas_mobilis_57566.CDS_0       ----RRADFQERRYMLGMEFELRTRVDEG-\n",
      "\n",
      "\n",
      "\n"
     ]
    }
   ],
   "source": [
    "print(a.format('clustal'))"
   ]
  },
  {
   "cell_type": "code",
   "execution_count": 149,
   "metadata": {},
   "outputs": [
    {
     "name": "stdout",
     "output_type": "stream",
     "text": [
      "Array shape 3 by 730\n"
     ]
    }
   ],
   "source": [
    "import numpy as np\n",
    "a_array = np.array([list(rec) for rec in a], np.character)\n",
    "print(\"Array shape %i by %i\" % a_array.shape)"
   ]
  },
  {
   "cell_type": "code",
   "execution_count": 150,
   "metadata": {},
   "outputs": [
    {
     "name": "stdout",
     "output_type": "stream",
     "text": [
      "[[b'-' b'-' b'-' ..., b'K' b'G' b'D']\n",
      " [b'-' b'-' b'-' ..., b'I' b'G' b'-']\n",
      " [b'M' b'T' b'T' ..., b'E' b'G' b'-']]\n"
     ]
    }
   ],
   "source": [
    "print(a_array)"
   ]
  },
  {
   "cell_type": "code",
   "execution_count": 164,
   "metadata": {},
   "outputs": [],
   "source": [
    "nseqs = len(a)\n",
    "index = np.ones(a_array.shape[1], dtype=int)\n",
    "for i in range(a_array.shape[1]):\n",
    "    c = a_array[:,i]\n",
    "    counts = np.unique(c, return_counts=True)\n",
    "    \n",
    "    # Remove unique columns\n",
    "    if counts[0].shape == (1,):\n",
    "        index[i] = 0\n",
    "        continue\n",
    "    \n",
    "    # Count gaps\n",
    "    ngaps = counts[1][b'-' == counts[0]]\n",
    "    if ngaps / nseqs > 0.2:\n",
    "        index[i] = 0\n",
    "        continue\n",
    "    \n",
    "#     print(c)\n",
    "index = np.array(index, dtype=bool)\n",
    "filtered = a_array[:,index]"
   ]
  },
  {
   "cell_type": "code",
   "execution_count": 153,
   "metadata": {},
   "outputs": [
    {
     "name": "stdout",
     "output_type": "stream",
     "text": [
      "(3, 730)\n",
      "(3, 493)\n"
     ]
    }
   ],
   "source": [
    "print(a_array.shape)\n",
    "print(filtered.shape)"
   ]
  },
  {
   "cell_type": "code",
   "execution_count": 200,
   "metadata": {},
   "outputs": [
    {
     "name": "stdout",
     "output_type": "stream",
     "text": [
      "DNAAlphabet() alignment with 3 rows and 493 columns\n",
      "YKLSEDEEKIINNIDIVDLIGQYVDNKAVSYKGYSKSENTSHPV...VLK Streptobacillus_moniliformis_61686.CDS_0\n",
      "VIDQQTRQRILDSAQILDVVSDFISRRQVSYVGLCHSDRNYNPA...TII Porphyromonas_sp_57899.CDS_0\n",
      "FLPPEFLDELRQRITLSSLIGRTVKTRAREFRACCHNEKTYNDE...VDE Zymomonas_mobilis_57566.CDS_0\n"
     ]
    }
   ],
   "source": [
    "from Bio.Alphabet import generic_dna\n",
    "from Bio.Seq import Seq\n",
    "from Bio.SeqRecord import SeqRecord\n",
    "from Bio.Align import MultipleSeqAlignment\n",
    "\n",
    "records = []\n",
    "for i in range(filtered.shape[0]):\n",
    "    seq = ''.join(np.array(filtered[i], dtype=str))\n",
    "    name = a[i].id\n",
    "    \n",
    "    records.append(SeqRecord(Seq(seq, generic_dna), id=name))\n",
    "\n",
    "new_aln = MultipleSeqAlignment(records)\n",
    "print(new_aln)\n"
   ]
  },
  {
   "cell_type": "code",
   "execution_count": 198,
   "metadata": {},
   "outputs": [
    {
     "data": {
      "text/plain": [
       "'Streptobacillus_moniliformis_61686.CDS_0'"
      ]
     },
     "execution_count": 198,
     "metadata": {},
     "output_type": "execute_result"
    }
   ],
   "source": []
  },
  {
   "cell_type": "code",
   "execution_count": 184,
   "metadata": {},
   "outputs": [
    {
     "ename": "ValueError",
     "evalue": "Invalid index",
     "output_type": "error",
     "traceback": [
      "\u001b[0;31m---------------------------------------------------------------------------\u001b[0m",
      "\u001b[0;31mValueError\u001b[0m                                Traceback (most recent call last)",
      "\u001b[0;32m<ipython-input-184-efb05eea2cae>\u001b[0m in \u001b[0;36m<module>\u001b[0;34m()\u001b[0m\n\u001b[1;32m      4\u001b[0m \u001b[0mnext\u001b[0m\u001b[0;34m(\u001b[0m\u001b[0mitercols\u001b[0m\u001b[0;34m)\u001b[0m\u001b[0;34m\u001b[0m\u001b[0m\n\u001b[1;32m      5\u001b[0m \u001b[0;32mfor\u001b[0m \u001b[0mi\u001b[0m \u001b[0;32min\u001b[0m \u001b[0mitercols\u001b[0m\u001b[0;34m:\u001b[0m\u001b[0;34m\u001b[0m\u001b[0m\n\u001b[0;32m----> 6\u001b[0;31m     \u001b[0mnew_aln\u001b[0m \u001b[0;34m=\u001b[0m \u001b[0mnew_aln\u001b[0m \u001b[0;34m+\u001b[0m \u001b[0ma\u001b[0m\u001b[0;34m[\u001b[0m\u001b[0;34m:\u001b[0m\u001b[0;34m,\u001b[0m\u001b[0mi\u001b[0m\u001b[0;34m]\u001b[0m\u001b[0;34m\u001b[0m\u001b[0m\n\u001b[0m\u001b[1;32m      7\u001b[0m     \u001b[0mprint\u001b[0m\u001b[0;34m(\u001b[0m\u001b[0ma\u001b[0m\u001b[0;34m[\u001b[0m\u001b[0;34m:\u001b[0m\u001b[0;34m,\u001b[0m\u001b[0mint\u001b[0m\u001b[0;34m(\u001b[0m\u001b[0mi\u001b[0m\u001b[0;34m)\u001b[0m\u001b[0;34m]\u001b[0m\u001b[0;34m)\u001b[0m\u001b[0;34m\u001b[0m\u001b[0m\n\u001b[1;32m      8\u001b[0m \u001b[0;34m\u001b[0m\u001b[0m\n",
      "\u001b[0;32m~/miniconda3/lib/python3.6/site-packages/Bio/Align/__init__.py\u001b[0m in \u001b[0;36m__getitem__\u001b[0;34m(self, index)\u001b[0m\n\u001b[1;32m    770\u001b[0m             \u001b[0;31m# e.g. sub_align = align[1:4, 5:7], gives another alignment\u001b[0m\u001b[0;34m\u001b[0m\u001b[0;34m\u001b[0m\u001b[0m\n\u001b[1;32m    771\u001b[0m             return MultipleSeqAlignment((rec[col_index] for rec in self._records[row_index]),\n\u001b[0;32m--> 772\u001b[0;31m                                         self._alphabet)\n\u001b[0m\u001b[1;32m    773\u001b[0m \u001b[0;34m\u001b[0m\u001b[0m\n\u001b[1;32m    774\u001b[0m     \u001b[0;32mdef\u001b[0m \u001b[0msort\u001b[0m\u001b[0;34m(\u001b[0m\u001b[0mself\u001b[0m\u001b[0;34m,\u001b[0m \u001b[0mkey\u001b[0m\u001b[0;34m=\u001b[0m\u001b[0;32mNone\u001b[0m\u001b[0;34m,\u001b[0m \u001b[0mreverse\u001b[0m\u001b[0;34m=\u001b[0m\u001b[0;32mFalse\u001b[0m\u001b[0;34m)\u001b[0m\u001b[0;34m:\u001b[0m\u001b[0;34m\u001b[0m\u001b[0m\n",
      "\u001b[0;32m~/miniconda3/lib/python3.6/site-packages/Bio/Align/__init__.py\u001b[0m in \u001b[0;36m__init__\u001b[0;34m(self, records, alphabet, annotations)\u001b[0m\n\u001b[1;32m    167\u001b[0m         \u001b[0mself\u001b[0m\u001b[0;34m.\u001b[0m\u001b[0m_records\u001b[0m \u001b[0;34m=\u001b[0m \u001b[0;34m[\u001b[0m\u001b[0;34m]\u001b[0m\u001b[0;34m\u001b[0m\u001b[0m\n\u001b[1;32m    168\u001b[0m         \u001b[0;32mif\u001b[0m \u001b[0mrecords\u001b[0m\u001b[0;34m:\u001b[0m\u001b[0;34m\u001b[0m\u001b[0m\n\u001b[0;32m--> 169\u001b[0;31m             \u001b[0mself\u001b[0m\u001b[0;34m.\u001b[0m\u001b[0mextend\u001b[0m\u001b[0;34m(\u001b[0m\u001b[0mrecords\u001b[0m\u001b[0;34m)\u001b[0m\u001b[0;34m\u001b[0m\u001b[0m\n\u001b[0m\u001b[1;32m    170\u001b[0m             \u001b[0;32mif\u001b[0m \u001b[0malphabet\u001b[0m \u001b[0;32mis\u001b[0m \u001b[0;32mNone\u001b[0m\u001b[0;34m:\u001b[0m\u001b[0;34m\u001b[0m\u001b[0m\n\u001b[1;32m    171\u001b[0m                 \u001b[0;31m# No alphabet was given, take a consensus alphabet\u001b[0m\u001b[0;34m\u001b[0m\u001b[0;34m\u001b[0m\u001b[0m\n",
      "\u001b[0;32m~/miniconda3/lib/python3.6/site-packages/Bio/Align/__init__.py\u001b[0m in \u001b[0;36mextend\u001b[0;34m(self, records)\u001b[0m\n\u001b[1;32m    476\u001b[0m             \u001b[0mrecords\u001b[0m \u001b[0;34m=\u001b[0m \u001b[0miter\u001b[0m\u001b[0;34m(\u001b[0m\u001b[0mrecords\u001b[0m\u001b[0;34m)\u001b[0m  \u001b[0;31m# records arg could be list or iterator\u001b[0m\u001b[0;34m\u001b[0m\u001b[0m\n\u001b[1;32m    477\u001b[0m             \u001b[0;32mtry\u001b[0m\u001b[0;34m:\u001b[0m\u001b[0;34m\u001b[0m\u001b[0m\n\u001b[0;32m--> 478\u001b[0;31m                 \u001b[0mrec\u001b[0m \u001b[0;34m=\u001b[0m \u001b[0mnext\u001b[0m\u001b[0;34m(\u001b[0m\u001b[0mrecords\u001b[0m\u001b[0;34m)\u001b[0m\u001b[0;34m\u001b[0m\u001b[0m\n\u001b[0m\u001b[1;32m    479\u001b[0m             \u001b[0;32mexcept\u001b[0m \u001b[0mStopIteration\u001b[0m\u001b[0;34m:\u001b[0m\u001b[0;34m\u001b[0m\u001b[0m\n\u001b[1;32m    480\u001b[0m                 \u001b[0;31m# Special case, no records\u001b[0m\u001b[0;34m\u001b[0m\u001b[0;34m\u001b[0m\u001b[0m\n",
      "\u001b[0;32m~/miniconda3/lib/python3.6/site-packages/Bio/Align/__init__.py\u001b[0m in \u001b[0;36m<genexpr>\u001b[0;34m(.0)\u001b[0m\n\u001b[1;32m    769\u001b[0m         \u001b[0;32melse\u001b[0m\u001b[0;34m:\u001b[0m\u001b[0;34m\u001b[0m\u001b[0m\n\u001b[1;32m    770\u001b[0m             \u001b[0;31m# e.g. sub_align = align[1:4, 5:7], gives another alignment\u001b[0m\u001b[0;34m\u001b[0m\u001b[0;34m\u001b[0m\u001b[0m\n\u001b[0;32m--> 771\u001b[0;31m             return MultipleSeqAlignment((rec[col_index] for rec in self._records[row_index]),\n\u001b[0m\u001b[1;32m    772\u001b[0m                                         self._alphabet)\n\u001b[1;32m    773\u001b[0m \u001b[0;34m\u001b[0m\u001b[0m\n",
      "\u001b[0;32m~/miniconda3/lib/python3.6/site-packages/Bio/SeqRecord.py\u001b[0m in \u001b[0;36m__getitem__\u001b[0;34m(self, index)\u001b[0m\n\u001b[1;32m    482\u001b[0m \u001b[0;34m\u001b[0m\u001b[0m\n\u001b[1;32m    483\u001b[0m             \u001b[0;32mreturn\u001b[0m \u001b[0manswer\u001b[0m\u001b[0;34m\u001b[0m\u001b[0m\n\u001b[0;32m--> 484\u001b[0;31m         \u001b[0;32mraise\u001b[0m \u001b[0mValueError\u001b[0m\u001b[0;34m(\u001b[0m\u001b[0;34m\"Invalid index\"\u001b[0m\u001b[0;34m)\u001b[0m\u001b[0;34m\u001b[0m\u001b[0m\n\u001b[0m\u001b[1;32m    485\u001b[0m \u001b[0;34m\u001b[0m\u001b[0m\n\u001b[1;32m    486\u001b[0m     \u001b[0;32mdef\u001b[0m \u001b[0m__iter__\u001b[0m\u001b[0;34m(\u001b[0m\u001b[0mself\u001b[0m\u001b[0;34m)\u001b[0m\u001b[0;34m:\u001b[0m\u001b[0;34m\u001b[0m\u001b[0m\n",
      "\u001b[0;31mValueError\u001b[0m: Invalid index"
     ]
    }
   ],
   "source": [
    "cols_to_keep = np.argwhere(index)\n",
    "new_aln = a[:,int(cols_to_keep[0])]\n",
    "itercols = iter(cols_to_keep)\n",
    "next(itercols)\n",
    "for i in itercols:\n",
    "    new_aln = new_aln + a[:,i]\n",
    "    #print(a[:,int(i)])\n",
    "    \n",
    "    \n",
    "    "
   ]
  },
  {
   "cell_type": "code",
   "execution_count": 179,
   "metadata": {},
   "outputs": [
    {
     "data": {
      "text/plain": [
       "'YVF'"
      ]
     },
     "execution_count": 179,
     "metadata": {},
     "output_type": "execute_result"
    }
   ],
   "source": [
    "cols_to_keep = np.argwhere(index)\n",
    "# print(cols_to_keep)\n",
    "# print(a[:,0:5])\n",
    "# print(a[:,0])\n",
    "a[:,int(cols_to_keep[0])]"
   ]
  },
  {
   "cell_type": "code",
   "execution_count": 188,
   "metadata": {},
   "outputs": [],
   "source": [
    "AlignIO.MultipleSeqAlignment?"
   ]
  },
  {
   "cell_type": "code",
   "execution_count": 139,
   "metadata": {},
   "outputs": [
    {
     "name": "stdout",
     "output_type": "stream",
     "text": [
      "[ True  True  True  True False]\n",
      "[[b'-' b'-' b'-' b'-' b'M']\n",
      " [b'-' b'-' b'-' b'-' b'-']\n",
      " [b'M' b'T' b'T' b'G' b'H']]\n",
      "[[b'-' b'-' b'-' b'-']\n",
      " [b'-' b'-' b'-' b'-']\n",
      " [b'M' b'T' b'T' b'G']]\n"
     ]
    }
   ],
   "source": [
    "a = a_array[:,0:5]\n",
    "i = np.array([1,1,1,1,0], dtype=bool)\n",
    "print(i)\n",
    "print(a)\n",
    "print(a[:,i])"
   ]
  },
  {
   "cell_type": "code",
   "execution_count": 140,
   "metadata": {},
   "outputs": [
    {
     "data": {
      "text/plain": [
       "array([1, 1, 1, 1, 0])"
      ]
     },
     "execution_count": 140,
     "metadata": {},
     "output_type": "execute_result"
    }
   ],
   "source": [
    "np.array(i, dtype=int)"
   ]
  },
  {
   "cell_type": "code",
   "execution_count": 118,
   "metadata": {},
   "outputs": [
    {
     "data": {
      "text/plain": [
       "array([ True,  True,  True,  True, False], dtype=bool)"
      ]
     },
     "execution_count": 118,
     "metadata": {},
     "output_type": "execute_result"
    }
   ],
   "source": [
    "a[0] == b'-'"
   ]
  },
  {
   "cell_type": "code",
   "execution_count": 120,
   "metadata": {},
   "outputs": [
    {
     "data": {
      "text/plain": [
       "numpy.ndarray"
      ]
     },
     "execution_count": 120,
     "metadata": {},
     "output_type": "execute_result"
    }
   ],
   "source": [
    "type(a[0] == b'-')"
   ]
  },
  {
   "cell_type": "code",
   "execution_count": 51,
   "metadata": {},
   "outputs": [
    {
     "data": {
      "text/plain": [
       "b'-'"
      ]
     },
     "execution_count": 51,
     "metadata": {},
     "output_type": "execute_result"
    }
   ],
   "source": [
    "counts[0][0]"
   ]
  },
  {
   "cell_type": "code",
   "execution_count": 52,
   "metadata": {},
   "outputs": [
    {
     "data": {
      "text/plain": [
       "(array([b'-', b'D'],\n",
       "       dtype='|S1'), array([2, 1]))"
      ]
     },
     "execution_count": 52,
     "metadata": {},
     "output_type": "execute_result"
    }
   ],
   "source": [
    "counts\n"
   ]
  },
  {
   "cell_type": "code",
   "execution_count": null,
   "metadata": {
    "collapsed": true
   },
   "outputs": [],
   "source": []
  },
  {
   "cell_type": "code",
   "execution_count": 58,
   "metadata": {},
   "outputs": [
    {
     "data": {
      "text/plain": [
       "array([], dtype=int64)"
      ]
     },
     "execution_count": 58,
     "metadata": {},
     "output_type": "execute_result"
    }
   ],
   "source": [
    "counts[1][b'S' == counts[0]]"
   ]
  },
  {
   "cell_type": "code",
   "execution_count": 62,
   "metadata": {},
   "outputs": [
    {
     "data": {
      "text/plain": [
       "True"
      ]
     },
     "execution_count": 62,
     "metadata": {},
     "output_type": "execute_result"
    }
   ],
   "source": []
  },
  {
   "cell_type": "code",
   "execution_count": null,
   "metadata": {
    "collapsed": true
   },
   "outputs": [],
   "source": []
  }
 ],
 "metadata": {
  "kernelspec": {
   "display_name": "Python 3",
   "language": "python",
   "name": "python3"
  },
  "language_info": {
   "codemirror_mode": {
    "name": "ipython",
    "version": 3
   },
   "file_extension": ".py",
   "mimetype": "text/x-python",
   "name": "python",
   "nbconvert_exporter": "python",
   "pygments_lexer": "ipython3",
   "version": "3.6.1"
  }
 },
 "nbformat": 4,
 "nbformat_minor": 2
}
