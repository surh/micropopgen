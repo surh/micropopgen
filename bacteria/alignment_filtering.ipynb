{
 "cells": [
  {
   "cell_type": "code",
   "execution_count": 18,
   "metadata": {
    "collapsed": true
   },
   "outputs": [],
   "source": [
    "from Bio import AlignIO\n",
    "from Bio.Alphabet import generic_dna, generic_protein, single_letter_alphabet\n",
    "from Bio.Seq import Seq\n",
    "from Bio.SeqRecord import SeqRecord\n",
    "from Bio.Align import MultipleSeqAlignment\n",
    "import numpy as np"
   ]
  },
  {
   "cell_type": "code",
   "execution_count": 8,
   "metadata": {},
   "outputs": [
    {
     "name": "stdout",
     "output_type": "stream",
     "text": [
      "SingleLetterAlphabet() alignment with 3 rows and 730 columns\n",
      "----MYKLSEDEEKIINNIDIVDLIGQYVDLNKAGVSYKGYSPF...KGD Streptobacillus_moniliformis_61686.CDS_0\n",
      "-----VIDQQTRQRILDSAQILDVVSDFISLRRQGVSYVGLCPF...IG- Porphyromonas_sp_57899.CDS_0\n",
      "MTTGHFLPPEFLDELRQRITLSSLIGRTVKLTRAGREFRACCPF...EG- Zymomonas_mobilis_57566.CDS_0\n"
     ]
    }
   ],
   "source": [
    "aln_file = '/home/sur/micropopgen/exp/2018/today9/aln/dnaG.aln'\n",
    "aln = AlignIO.read(aln_file, 'fasta')\n",
    "print(aln)"
   ]
  },
  {
   "cell_type": "code",
   "execution_count": 69,
   "metadata": {},
   "outputs": [],
   "source": [
    "def filter_alignment(aln, gap_prop=0.99, remove_singletons=True,\n",
    "                     alphabet=single_letter_alphabet):\n",
    "    \"\"\"Function to filter a numpy array that represents an alignment,\n",
    "    where rows are records and columns are positions. Assumes gaps are\n",
    "    given by '-'\"\"\"\n",
    "    \n",
    "    # Get sequence records\n",
    "    nseqs = len(aln)\n",
    "    rec_names = [r.id for r in aln]\n",
    "    \n",
    "    # Convert to numpu array\n",
    "    a_array = align2array(aln)\n",
    "    \n",
    "    # Prepare index. Positions to be removed will be changed\n",
    "    index = np.ones(a_array.shape[1], dtype=int)\n",
    "    \n",
    "    # Iterate over columns\n",
    "    for i in range(a_array.shape[1]):\n",
    "        c = a_array[:,i]\n",
    "        print(c)\n",
    "        counts = np.unique(c, return_counts=True)\n",
    "\n",
    "        # Remove constant columns\n",
    "        if counts[0].shape == (1,):\n",
    "            index[i] = 0\n",
    "            continue\n",
    "\n",
    "        # Count gaps\n",
    "        ngaps = counts[1][b'-' == counts[0]]\n",
    "        if ngaps.shape[0] == 0:\n",
    "            # print(\"hello\")\n",
    "            ngaps = np.zeros(1, dtype=int)\n",
    "        # print(\"ngaps\")\n",
    "        # print(type(ngaps))\n",
    "        print(\"ngaps:\", ngaps)\n",
    "        print(\"ngaps/nseqs\", ngaps/nseqs)\n",
    "        print(\"ngaps/nseqs > gap_prop\", ngaps/nseqs > gap_prop)\n",
    "        \n",
    "        if ngaps / nseqs > gap_prop:\n",
    "            index[i] = 0\n",
    "            continue\n",
    "            \n",
    "        if remove_singletons:\n",
    "            # DO SOMETHING\n",
    "            pass\n",
    "        \n",
    "        print(\"===\")\n",
    "        \n",
    "    # Use index to slice array\n",
    "    index = np.array(index, dtype=bool)\n",
    "    print(index.sum())\n",
    "    filtered = a_array[:,index]\n",
    "        \n",
    "    # Convert back to alignent\n",
    "    new_aln = array2align(arr=filtered, names=rec_names, alphabet=alphabet)\n",
    "        \n",
    "    return new_aln"
   ]
  },
  {
   "cell_type": "code",
   "execution_count": 71,
   "metadata": {},
   "outputs": [
    {
     "name": "stdout",
     "output_type": "stream",
     "text": [
      "[b'-' b'-' b'M']\n",
      "ngaps: [2]\n",
      "ngaps/nseqs [ 0.66666667]\n",
      "ngaps/nseqs > gap_prop [ True]\n",
      "[b'-' b'-' b'T']\n",
      "ngaps: [2]\n",
      "ngaps/nseqs [ 0.66666667]\n",
      "ngaps/nseqs > gap_prop [ True]\n",
      "[b'-' b'-' b'T']\n",
      "ngaps: [2]\n",
      "ngaps/nseqs [ 0.66666667]\n",
      "ngaps/nseqs > gap_prop [ True]\n",
      "[b'-' b'-' b'G']\n",
      "ngaps: [2]\n",
      "ngaps/nseqs [ 0.66666667]\n",
      "ngaps/nseqs > gap_prop [ True]\n",
      "[b'M' b'-' b'H']\n",
      "ngaps: [1]\n",
      "ngaps/nseqs [ 0.33333333]\n",
      "ngaps/nseqs > gap_prop [False]\n",
      "===\n",
      "[b'Y' b'V' b'F']\n",
      "ngaps: [0]\n",
      "ngaps/nseqs [ 0.]\n",
      "ngaps/nseqs > gap_prop [False]\n",
      "===\n",
      "[b'K' b'I' b'L']\n",
      "ngaps: [0]\n",
      "ngaps/nseqs [ 0.]\n",
      "ngaps/nseqs > gap_prop [False]\n",
      "===\n",
      "[b'L' b'D' b'P']\n",
      "ngaps: [0]\n",
      "ngaps/nseqs [ 0.]\n",
      "ngaps/nseqs > gap_prop [False]\n",
      "===\n",
      "[b'S' b'Q' b'P']\n",
      "ngaps: [0]\n",
      "ngaps/nseqs [ 0.]\n",
      "ngaps/nseqs > gap_prop [False]\n",
      "===\n",
      "[b'E' b'Q' b'E']\n",
      "ngaps: [0]\n",
      "ngaps/nseqs [ 0.]\n",
      "ngaps/nseqs > gap_prop [False]\n",
      "===\n",
      "6\n",
      "ProteinAlphabet() alignment with 3 rows and 6 columns\n",
      "MYKLSE Streptobacillus_moniliformis_61686.CDS_0\n",
      "-VIDQQ Porphyromonas_sp_57899.CDS_0\n",
      "HFLPPE Zymomonas_mobilis_57566.CDS_0\n"
     ]
    }
   ],
   "source": [
    "print(filter_alignment(aln=aln[:,0:10],gap_prop=0.5,alphabet=generic_protein))"
   ]
  },
  {
   "cell_type": "code",
   "execution_count": 46,
   "metadata": {},
   "outputs": [
    {
     "name": "stdout",
     "output_type": "stream",
     "text": [
      "SingleLetterAlphabet() alignment with 3 rows and 10 columns\n",
      "----MYKLSE Streptobacillus_moniliformis_61686.CDS_0\n",
      "-----VIDQQ Porphyromonas_sp_57899.CDS_0\n",
      "MTTGHFLPPE Zymomonas_mobilis_57566.CDS_0\n"
     ]
    }
   ],
   "source": [
    "print(aln[:,0:10])"
   ]
  },
  {
   "cell_type": "code",
   "execution_count": 49,
   "metadata": {},
   "outputs": [
    {
     "data": {
      "text/plain": [
       "True"
      ]
     },
     "execution_count": 49,
     "metadata": {},
     "output_type": "execute_result"
    }
   ],
   "source": [
    "[] == []"
   ]
  },
  {
   "cell_type": "code",
   "execution_count": 24,
   "metadata": {
    "collapsed": true
   },
   "outputs": [],
   "source": [
    "def align2array(aln):\n",
    "    \"\"\"Convert multiple sequence alignment object to numpy array.\n",
    "    Taken from tutorial.\"\"\"\n",
    "    \n",
    "    a_array = np.array([list(rec) for rec in aln], np.character)\n",
    "    \n",
    "    return(a_array)"
   ]
  },
  {
   "cell_type": "code",
   "execution_count": 25,
   "metadata": {
    "collapsed": true
   },
   "outputs": [],
   "source": [
    "def array2align(arr, names, alphabet):\n",
    "    \"\"\"Convert numpy array to multiple sequence alignment.\n",
    "    Adapted from documentation\"\"\"\n",
    "    \n",
    "    records = []\n",
    "    \n",
    "    # Iterate over array rows (i.e. records)\n",
    "    for i in range(arr.shape[0]):\n",
    "        seq = ''.join(np.array(arr[i], dtype=str))\n",
    "        name = names[i]\n",
    "        \n",
    "        # Concatenate sequence records\n",
    "        records.append(SeqRecord(Seq(seq, alphabet), id=name))\n",
    "    \n",
    "    # Convert to MSA\n",
    "    new_aln = MultipleSeqAlignment(records)\n",
    "    \n",
    "    return(new_aln)"
   ]
  },
  {
   "cell_type": "code",
   "execution_count": 26,
   "metadata": {},
   "outputs": [
    {
     "data": {
      "text/plain": [
       "(3, 730)"
      ]
     },
     "execution_count": 26,
     "metadata": {},
     "output_type": "execute_result"
    }
   ],
   "source": [
    "arr = align2array(aln)\n",
    "arr.shape"
   ]
  },
  {
   "cell_type": "code",
   "execution_count": 27,
   "metadata": {},
   "outputs": [
    {
     "name": "stdout",
     "output_type": "stream",
     "text": [
      "ProteinAlphabet() alignment with 3 rows and 730 columns\n",
      "----MYKLSEDEEKIINNIDIVDLIGQYVDLNKAGVSYKGYSPF...KGD Streptobacillus_moniliformis_61686.CDS_0\n",
      "-----VIDQQTRQRILDSAQILDVVSDFISLRRQGVSYVGLCPF...IG- Porphyromonas_sp_57899.CDS_0\n",
      "MTTGHFLPPEFLDELRQRITLSSLIGRTVKLTRAGREFRACCPF...EG- Zymomonas_mobilis_57566.CDS_0\n"
     ]
    }
   ],
   "source": [
    "aln2 = array2align(arr, [r.id for r in aln], generic_protein)\n",
    "print(aln2)"
   ]
  },
  {
   "cell_type": "code",
   "execution_count": 32,
   "metadata": {},
   "outputs": [
    {
     "name": "stdout",
     "output_type": "stream",
     "text": [
      "725\n",
      "ProteinAlphabet() alignment with 3 rows and 725 columns\n",
      "YKLSEDEEKIINNIDIVDLIGQYVDLNKAGVSYKGYSPFKSENT...KGD Streptobacillus_moniliformis_61686.CDS_0\n",
      "VIDQQTRQRILDSAQILDVVSDFISLRRQGVSYVGLCPFHSDRN...IG- Porphyromonas_sp_57899.CDS_0\n",
      "FLPPEFLDELRQRITLSSLIGRTVKLTRAGREFRACCPFHNEKT...EG- Zymomonas_mobilis_57566.CDS_0\n"
     ]
    }
   ],
   "source": [
    "print(filter_alignment(aln=aln,gap_prop=0.2,alphabet=generic_protein))"
   ]
  },
  {
   "cell_type": "code",
   "execution_count": 35,
   "metadata": {},
   "outputs": [
    {
     "name": "stdout",
     "output_type": "stream",
     "text": [
      "725\n",
      "ProteinAlphabet() alignment with 3 rows and 725 columns\n",
      "YKLSEDEEKIINNIDIVDLIGQYVDLNKAGVSYKGYSPFKSENT...KGD Streptobacillus_moniliformis_61686.CDS_0\n",
      "VIDQQTRQRILDSAQILDVVSDFISLRRQGVSYVGLCPFHSDRN...IG- Porphyromonas_sp_57899.CDS_0\n",
      "FLPPEFLDELRQRITLSSLIGRTVKLTRAGREFRACCPFHNEKT...EG- Zymomonas_mobilis_57566.CDS_0\n"
     ]
    }
   ],
   "source": [
    "print(filter_alignment(aln=aln2,gap_prop=-1,alphabet=generic_protein))"
   ]
  },
  {
   "cell_type": "code",
   "execution_count": null,
   "metadata": {},
   "outputs": [],
   "source": [
    "print(a_array)"
   ]
  },
  {
   "cell_type": "code",
   "execution_count": null,
   "metadata": {
    "collapsed": true
   },
   "outputs": [],
   "source": []
  },
  {
   "cell_type": "code",
   "execution_count": null,
   "metadata": {},
   "outputs": [],
   "source": [
    "print(a_array.shape)\n",
    "print(filtered.shape)"
   ]
  },
  {
   "cell_type": "code",
   "execution_count": null,
   "metadata": {},
   "outputs": [],
   "source": [
    "\n",
    "\n"
   ]
  },
  {
   "cell_type": "code",
   "execution_count": null,
   "metadata": {},
   "outputs": [],
   "source": []
  },
  {
   "cell_type": "code",
   "execution_count": null,
   "metadata": {},
   "outputs": [],
   "source": [
    "cols_to_keep = np.argwhere(index)\n",
    "new_aln = a[:,int(cols_to_keep[0])]\n",
    "itercols = iter(cols_to_keep)\n",
    "next(itercols)\n",
    "for i in itercols:\n",
    "    new_aln = new_aln + a[:,i]\n",
    "    #print(a[:,int(i)])\n",
    "    \n",
    "    \n",
    "    "
   ]
  },
  {
   "cell_type": "code",
   "execution_count": null,
   "metadata": {},
   "outputs": [],
   "source": [
    "cols_to_keep = np.argwhere(index)\n",
    "# print(cols_to_keep)\n",
    "# print(a[:,0:5])\n",
    "# print(a[:,0])\n",
    "a[:,int(cols_to_keep[0])]"
   ]
  },
  {
   "cell_type": "code",
   "execution_count": null,
   "metadata": {
    "collapsed": true
   },
   "outputs": [],
   "source": [
    "AlignIO.MultipleSeqAlignment?"
   ]
  },
  {
   "cell_type": "code",
   "execution_count": null,
   "metadata": {},
   "outputs": [],
   "source": [
    "a = a_array[:,0:5]\n",
    "i = np.array([1,1,1,1,0], dtype=bool)\n",
    "print(i)\n",
    "print(a)\n",
    "print(a[:,i])"
   ]
  },
  {
   "cell_type": "code",
   "execution_count": null,
   "metadata": {},
   "outputs": [],
   "source": [
    "np.array(i, dtype=int)"
   ]
  },
  {
   "cell_type": "code",
   "execution_count": null,
   "metadata": {},
   "outputs": [],
   "source": [
    "a[0] == b'-'"
   ]
  },
  {
   "cell_type": "code",
   "execution_count": null,
   "metadata": {},
   "outputs": [],
   "source": [
    "type(a[0] == b'-')"
   ]
  },
  {
   "cell_type": "code",
   "execution_count": null,
   "metadata": {},
   "outputs": [],
   "source": [
    "counts[0][0]"
   ]
  },
  {
   "cell_type": "code",
   "execution_count": null,
   "metadata": {},
   "outputs": [],
   "source": [
    "counts\n"
   ]
  },
  {
   "cell_type": "code",
   "execution_count": null,
   "metadata": {
    "collapsed": true
   },
   "outputs": [],
   "source": []
  },
  {
   "cell_type": "code",
   "execution_count": null,
   "metadata": {},
   "outputs": [],
   "source": [
    "counts[1][b'S' == counts[0]]"
   ]
  },
  {
   "cell_type": "code",
   "execution_count": null,
   "metadata": {},
   "outputs": [],
   "source": []
  },
  {
   "cell_type": "code",
   "execution_count": null,
   "metadata": {
    "collapsed": true
   },
   "outputs": [],
   "source": []
  }
 ],
 "metadata": {
  "kernelspec": {
   "display_name": "Python 3",
   "language": "python",
   "name": "python3"
  },
  "language_info": {
   "codemirror_mode": {
    "name": "ipython",
    "version": 3
   },
   "file_extension": ".py",
   "mimetype": "text/x-python",
   "name": "python",
   "nbconvert_exporter": "python",
   "pygments_lexer": "ipython3",
   "version": "3.6.1"
  }
 },
 "nbformat": 4,
 "nbformat_minor": 2
}
