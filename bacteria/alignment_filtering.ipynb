{
 "cells": [
  {
   "cell_type": "code",
   "execution_count": 18,
   "metadata": {
    "collapsed": true
   },
   "outputs": [],
   "source": [
    "from Bio import AlignIO\n",
    "from Bio.Alphabet import generic_dna, generic_protein, single_letter_alphabet\n",
    "from Bio.Seq import Seq\n",
    "from Bio.SeqRecord import SeqRecord\n",
    "from Bio.Align import MultipleSeqAlignment\n",
    "import numpy as np"
   ]
  },
  {
   "cell_type": "code",
   "execution_count": 8,
   "metadata": {},
   "outputs": [
    {
     "name": "stdout",
     "output_type": "stream",
     "text": [
      "SingleLetterAlphabet() alignment with 3 rows and 730 columns\n",
      "----MYKLSEDEEKIINNIDIVDLIGQYVDLNKAGVSYKGYSPF...KGD Streptobacillus_moniliformis_61686.CDS_0\n",
      "-----VIDQQTRQRILDSAQILDVVSDFISLRRQGVSYVGLCPF...IG- Porphyromonas_sp_57899.CDS_0\n",
      "MTTGHFLPPEFLDELRQRITLSSLIGRTVKLTRAGREFRACCPF...EG- Zymomonas_mobilis_57566.CDS_0\n"
     ]
    }
   ],
   "source": [
    "aln_file = '/home/sur/micropopgen/exp/2018/today9/aln/dnaG.aln'\n",
    "aln = AlignIO.read(aln_file, 'fasta')\n",
    "print(aln)"
   ]
  },
  {
   "cell_type": "code",
   "execution_count": null,
   "metadata": {},
   "outputs": [],
   "source": [
    "def filter_alignment(aln, gap_prop=0.99, remove_singletons=True):"
   ]
  },
  {
   "cell_type": "code",
   "execution_count": 9,
   "metadata": {
    "collapsed": true
   },
   "outputs": [],
   "source": [
    "def align2array(aln):\n",
    "    \"\"\"Convert multiple sequence alignment object to numpy array.\n",
    "    Taken from tutorial.\"\"\"\n",
    "    \n",
    "    a_array = np.array([list(rec) for rec in aln], np.character)\n",
    "    \n",
    "    return(a_array)"
   ]
  },
  {
   "cell_type": "code",
   "execution_count": 10,
   "metadata": {
    "collapsed": true
   },
   "outputs": [],
   "source": [
    "def array2align(arr, names, alphabet):\n",
    "    \"\"\"Convert numpy array to multiple sequence alignment.\n",
    "    Adapted from documentation\"\"\"\n",
    "    \n",
    "    records = []\n",
    "    \n",
    "    # Iterate over array rows (i.e. records)\n",
    "    for i in range(arr.shape[0]):\n",
    "        seq = ''.join(np.array(arr[i], dtype=str))\n",
    "        name = names[i]\n",
    "        \n",
    "        # Concatenate sequence records\n",
    "        records.append(SeqRecord(Seq(seq, alphabet), id=name))\n",
    "    \n",
    "    # Convert to MSA\n",
    "    new_aln = MultipleSeqAlignment(records)\n",
    "    \n",
    "    return(new_aln)"
   ]
  },
  {
   "cell_type": "code",
   "execution_count": 13,
   "metadata": {},
   "outputs": [
    {
     "data": {
      "text/plain": [
       "(3, 730)"
      ]
     },
     "execution_count": 13,
     "metadata": {},
     "output_type": "execute_result"
    }
   ],
   "source": [
    "arr = align2array(aln)\n",
    "arr.shape"
   ]
  },
  {
   "cell_type": "code",
   "execution_count": 21,
   "metadata": {},
   "outputs": [
    {
     "name": "stdout",
     "output_type": "stream",
     "text": [
      "ProteinAlphabet() alignment with 3 rows and 730 columns\n",
      "----MYKLSEDEEKIINNIDIVDLIGQYVDLNKAGVSYKGYSPF...KGD Streptobacillus_moniliformis_61686.CDS_0\n",
      "-----VIDQQTRQRILDSAQILDVVSDFISLRRQGVSYVGLCPF...IG- Porphyromonas_sp_57899.CDS_0\n",
      "MTTGHFLPPEFLDELRQRITLSSLIGRTVKLTRAGREFRACCPF...EG- Zymomonas_mobilis_57566.CDS_0\n"
     ]
    }
   ],
   "source": [
    "aln2 = array2align(arr, [r.id for r in aln], generic_protein)\n",
    "print(aln2)"
   ]
  },
  {
   "cell_type": "code",
   "execution_count": null,
   "metadata": {
    "collapsed": true
   },
   "outputs": [],
   "source": []
  },
  {
   "cell_type": "code",
   "execution_count": null,
   "metadata": {
    "collapsed": true
   },
   "outputs": [],
   "source": []
  },
  {
   "cell_type": "code",
   "execution_count": null,
   "metadata": {},
   "outputs": [],
   "source": [
    "print(a_array)"
   ]
  },
  {
   "cell_type": "code",
   "execution_count": null,
   "metadata": {
    "collapsed": true
   },
   "outputs": [],
   "source": [
    "nseqs = len(a)\n",
    "index = np.ones(a_array.shape[1], dtype=int)\n",
    "for i in range(a_array.shape[1]):\n",
    "    c = a_array[:,i]\n",
    "    counts = np.unique(c, return_counts=True)\n",
    "    \n",
    "    # Remove unique columns\n",
    "    if counts[0].shape == (1,):\n",
    "        index[i] = 0\n",
    "        continue\n",
    "    \n",
    "    # Count gaps\n",
    "    ngaps = counts[1][b'-' == counts[0]]\n",
    "    if ngaps / nseqs > 0.2:\n",
    "        index[i] = 0\n",
    "        continue\n",
    "    \n",
    "#     print(c)\n",
    "index = np.array(index, dtype=bool)\n",
    "filtered = a_array[:,index]"
   ]
  },
  {
   "cell_type": "code",
   "execution_count": null,
   "metadata": {},
   "outputs": [],
   "source": [
    "print(a_array.shape)\n",
    "print(filtered.shape)"
   ]
  },
  {
   "cell_type": "code",
   "execution_count": null,
   "metadata": {},
   "outputs": [],
   "source": [
    "\n",
    "\n"
   ]
  },
  {
   "cell_type": "code",
   "execution_count": null,
   "metadata": {},
   "outputs": [],
   "source": []
  },
  {
   "cell_type": "code",
   "execution_count": null,
   "metadata": {},
   "outputs": [],
   "source": [
    "cols_to_keep = np.argwhere(index)\n",
    "new_aln = a[:,int(cols_to_keep[0])]\n",
    "itercols = iter(cols_to_keep)\n",
    "next(itercols)\n",
    "for i in itercols:\n",
    "    new_aln = new_aln + a[:,i]\n",
    "    #print(a[:,int(i)])\n",
    "    \n",
    "    \n",
    "    "
   ]
  },
  {
   "cell_type": "code",
   "execution_count": null,
   "metadata": {},
   "outputs": [],
   "source": [
    "cols_to_keep = np.argwhere(index)\n",
    "# print(cols_to_keep)\n",
    "# print(a[:,0:5])\n",
    "# print(a[:,0])\n",
    "a[:,int(cols_to_keep[0])]"
   ]
  },
  {
   "cell_type": "code",
   "execution_count": null,
   "metadata": {
    "collapsed": true
   },
   "outputs": [],
   "source": [
    "AlignIO.MultipleSeqAlignment?"
   ]
  },
  {
   "cell_type": "code",
   "execution_count": null,
   "metadata": {},
   "outputs": [],
   "source": [
    "a = a_array[:,0:5]\n",
    "i = np.array([1,1,1,1,0], dtype=bool)\n",
    "print(i)\n",
    "print(a)\n",
    "print(a[:,i])"
   ]
  },
  {
   "cell_type": "code",
   "execution_count": null,
   "metadata": {},
   "outputs": [],
   "source": [
    "np.array(i, dtype=int)"
   ]
  },
  {
   "cell_type": "code",
   "execution_count": null,
   "metadata": {},
   "outputs": [],
   "source": [
    "a[0] == b'-'"
   ]
  },
  {
   "cell_type": "code",
   "execution_count": null,
   "metadata": {},
   "outputs": [],
   "source": [
    "type(a[0] == b'-')"
   ]
  },
  {
   "cell_type": "code",
   "execution_count": null,
   "metadata": {},
   "outputs": [],
   "source": [
    "counts[0][0]"
   ]
  },
  {
   "cell_type": "code",
   "execution_count": null,
   "metadata": {},
   "outputs": [],
   "source": [
    "counts\n"
   ]
  },
  {
   "cell_type": "code",
   "execution_count": null,
   "metadata": {
    "collapsed": true
   },
   "outputs": [],
   "source": []
  },
  {
   "cell_type": "code",
   "execution_count": null,
   "metadata": {},
   "outputs": [],
   "source": [
    "counts[1][b'S' == counts[0]]"
   ]
  },
  {
   "cell_type": "code",
   "execution_count": null,
   "metadata": {},
   "outputs": [],
   "source": []
  },
  {
   "cell_type": "code",
   "execution_count": null,
   "metadata": {
    "collapsed": true
   },
   "outputs": [],
   "source": []
  }
 ],
 "metadata": {
  "kernelspec": {
   "display_name": "Python 3",
   "language": "python",
   "name": "python3"
  },
  "language_info": {
   "codemirror_mode": {
    "name": "ipython",
    "version": 3
   },
   "file_extension": ".py",
   "mimetype": "text/x-python",
   "name": "python",
   "nbconvert_exporter": "python",
   "pygments_lexer": "ipython3",
   "version": "3.6.1"
  }
 },
 "nbformat": 4,
 "nbformat_minor": 2
}
