{
 "cells": [
  {
   "cell_type": "code",
   "execution_count": 1,
   "metadata": {
    "collapsed": true
   },
   "outputs": [],
   "source": [
    "from Bio import AlignIO\n",
    "from Bio.Alphabet import single_letter_alphabet\n",
    "from Bio.Seq import Seq\n",
    "from Bio.SeqRecord import SeqRecord\n",
    "from Bio.Align import MultipleSeqAlignment"
   ]
  },
  {
   "cell_type": "code",
   "execution_count": 2,
   "metadata": {
    "collapsed": true
   },
   "outputs": [],
   "source": [
    "aln_file1 = '/home/sur/micropopgen/exp/2018/today9/filtered/dnaG.aln'\n",
    "aln_file2 = '/home/sur/micropopgen/exp/2018/today9/filtered/nusA.aln'\n",
    "aln1 = AlignIO.read(aln_file1, 'fasta')\n",
    "aln2 = AlignIO.read(aln_file2, 'fasta')\n",
    "alns = [aln1[:,0:10], aln2[:,0:10]]"
   ]
  },
  {
   "cell_type": "code",
   "execution_count": 9,
   "metadata": {
    "collapsed": true
   },
   "outputs": [],
   "source": [
    "def reorder_alignment(aln, specs, species, alphabet=single_letter_alphabet, gap='-'):\n",
    "    \"\"\"Take an alignment and reorder it acording to species list.\n",
    "    Add records as gapped if missing\"\"\"\n",
    "    \n",
    "    new_aln = []\n",
    "    missing_seq = ''.join([gap] * aln.get_alignment_length())\n",
    "    for s in species:    \n",
    "        # Check if species exist in alignment\n",
    "        try:\n",
    "            i = specs.index(s)\n",
    "        except ValueError:\n",
    "            i = -1\n",
    "        except:\n",
    "            raise\n",
    "\n",
    "        if i >= 0:\n",
    "            new_aln.append(aln[i])\n",
    "        elif i == -1:\n",
    "            new_aln.append(SeqRecord(Seq(missing_seq, alphabet), id=s))\n",
    "\n",
    "    new_aln = MultipleSeqAlignment(new_aln)\n",
    "    \n",
    "    return(new_aln)"
   ]
  },
  {
   "cell_type": "code",
   "execution_count": 10,
   "metadata": {},
   "outputs": [],
   "source": [
    "def concatenate_alignments(alns, alphabet=single_letter_alphabet, gap='-'):\n",
    "    \"\"\"Take a list of multiple sequence alignments and \n",
    "    concatenate them, fill with gaps where missing sequences.\"\"\"\n",
    "    \n",
    "    # Get list of species from alignments\n",
    "    species = []\n",
    "    species_per_aln = []\n",
    "    for a in alns:\n",
    "        specs = [r.id for r in a]\n",
    "        species.extend(specs)\n",
    "        species_per_aln.append(specs)\n",
    "\n",
    "    species = list(set(species))\n",
    "    \n",
    "    # Create empty alignmet\n",
    "    new_aln = MultipleSeqAlignment([SeqRecord(Seq('', alphabet), id=s) for s in species])\n",
    "    \n",
    "    # Iterate over each species, re-ordering when neccessary\n",
    "    for i in range(len(alns)):\n",
    "        # print(\"alginment\", i)\n",
    "        specs = species_per_aln[i]\n",
    "        if specs != species:\n",
    "            # print(\"\\treordering\")\n",
    "            # new_alns.append(reorder_alignment(aln=alns[i], specs=specs, species=species))\n",
    "            new_aln = new_aln + reorder_alignment(aln=alns[i], specs=specs,\n",
    "                                                  species=species, alphabet=alphabet,\n",
    "                                                  gap=gap)\n",
    "        else:\n",
    "            # print(\"matched\")\n",
    "            new_aln = new_aln + alns[i]\n",
    "    \n",
    "    return new_aln\n",
    "    "
   ]
  },
  {
   "cell_type": "code",
   "execution_count": 11,
   "metadata": {},
   "outputs": [
    {
     "name": "stdout",
     "output_type": "stream",
     "text": [
      "SingleLetterAlphabet() alignment with 3 rows and 945 columns\n",
      "MYKLSEDEEKIINNIDIVDLIGQYVDNKAVSYKGYSKSENTSHP...--- Streptobacillus_moniliformis_61686.CDS_0\n",
      "-VIDQQTRQRILDSAQILDVVSDFISRRQVSYVGLCHSDRNYNP...--- Porphyromonas_sp_57899.CDS_0\n",
      "HFLPPEFLDELRQRITLSSLIGRTVKTRAREFRACCHNEKTYND...EKA Zymomonas_mobilis_57566.CDS_0\n"
     ]
    }
   ],
   "source": [
    "aln = concatenate_alignments(alns=alns)\n",
    "print(aln)"
   ]
  },
  {
   "cell_type": "code",
   "execution_count": 6,
   "metadata": {},
   "outputs": [
    {
     "name": "stdout",
     "output_type": "stream",
     "text": [
      "SingleLetterAlphabet() alignment with 3 rows and 10 columns\n",
      "MYKLSEDEEK Streptobacillus_moniliformis_61686.CDS_0\n",
      "-VIDQQTRQR Porphyromonas_sp_57899.CDS_0\n",
      "HFLPPEFLDE Zymomonas_mobilis_57566.CDS_0\n",
      "SingleLetterAlphabet() alignment with 2 rows and 10 columns\n",
      "-----MKKTT Porphyromonas_sp_57899.CDS_0\n",
      "MASAISNALL Zymomonas_mobilis_57566.CDS_0\n"
     ]
    }
   ],
   "source": [
    "print(alns[0])\n",
    "print(alns[1])"
   ]
  },
  {
   "cell_type": "code",
   "execution_count": 7,
   "metadata": {},
   "outputs": [
    {
     "name": "stdout",
     "output_type": "stream",
     "text": [
      "231 µs ± 11.8 µs per loop (mean ± std. dev. of 7 runs, 1000 loops each)\n"
     ]
    }
   ],
   "source": [
    "alns = [aln1, aln2]\n",
    "%timeit concatenate_alignments(alns=alns)"
   ]
  },
  {
   "cell_type": "code",
   "execution_count": 8,
   "metadata": {},
   "outputs": [
    {
     "name": "stdout",
     "output_type": "stream",
     "text": [
      " "
     ]
    }
   ],
   "source": [
    "%prun concatenate_alignments(alns=alns)"
   ]
  },
  {
   "cell_type": "code",
   "execution_count": null,
   "metadata": {
    "collapsed": true
   },
   "outputs": [],
   "source": []
  }
 ],
 "metadata": {
  "kernelspec": {
   "display_name": "Python 3",
   "language": "python",
   "name": "python3"
  },
  "language_info": {
   "codemirror_mode": {
    "name": "ipython",
    "version": 3
   },
   "file_extension": ".py",
   "mimetype": "text/x-python",
   "name": "python",
   "nbconvert_exporter": "python",
   "pygments_lexer": "ipython3",
   "version": "3.6.8"
  }
 },
 "nbformat": 4,
 "nbformat_minor": 2
}
