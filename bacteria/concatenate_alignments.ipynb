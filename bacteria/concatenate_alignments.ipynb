{
 "cells": [
  {
   "cell_type": "code",
   "execution_count": 92,
   "metadata": {
    "collapsed": true
   },
   "outputs": [],
   "source": [
    "from Bio import AlignIO\n",
    "from Bio.Alphabet import single_letter_alphabet\n",
    "from Bio.Seq import Seq\n",
    "from Bio.SeqRecord import SeqRecord\n",
    "from Bio.Align import MultipleSeqAlignment"
   ]
  },
  {
   "cell_type": "code",
   "execution_count": 93,
   "metadata": {
    "collapsed": true
   },
   "outputs": [],
   "source": [
    "aln_file1 = '/home/sur/micropopgen/exp/2018/today9/filtered/dnaG.aln'\n",
    "aln_file2 = '/home/sur/micropopgen/exp/2018/today9/filtered/nusA.aln'\n",
    "aln1 = AlignIO.read(aln_file1, 'fasta')\n",
    "aln2 = AlignIO.read(aln_file2, 'fasta')"
   ]
  },
  {
   "cell_type": "code",
   "execution_count": 94,
   "metadata": {},
   "outputs": [
    {
     "name": "stdout",
     "output_type": "stream",
     "text": [
      "SingleLetterAlphabet() alignment with 3 rows and 547 columns\n",
      "MYKLSEDEEKIINNIDIVDLIGQYVDNKAVSYKGYSKSENTSHP...VLK Streptobacillus_moniliformis_61686.CDS_0\n",
      "-VIDQQTRQRILDSAQILDVVSDFISRRQVSYVGLCHSDRNYNP...TII Porphyromonas_sp_57899.CDS_0\n",
      "HFLPPEFLDELRQRITLSSLIGRTVKTRAREFRACCHNEKTYND...VDE Zymomonas_mobilis_57566.CDS_0\n",
      "SingleLetterAlphabet() alignment with 2 rows and 398 columns\n",
      "-----MKKTTSLIELLEYQELSNTLAVDSLRNVLSKMFSDDTFD...--- Porphyromonas_sp_57899.CDS_0\n",
      "MASAISNALLAIADV---ARELAIVEAEAIQRAARARYAENDIR...EKA Zymomonas_mobilis_57566.CDS_0\n"
     ]
    }
   ],
   "source": [
    "print(aln1)\n",
    "print(aln2)"
   ]
  },
  {
   "cell_type": "code",
   "execution_count": 95,
   "metadata": {},
   "outputs": [
    {
     "name": "stdout",
     "output_type": "stream",
     "text": [
      "['Streptobacillus_moniliformis_61686.CDS_0', 'Porphyromonas_sp_57899.CDS_0', 'Zymomonas_mobilis_57566.CDS_0']\n",
      "[['Streptobacillus_moniliformis_61686.CDS_0', 'Porphyromonas_sp_57899.CDS_0', 'Zymomonas_mobilis_57566.CDS_0'], ['Porphyromonas_sp_57899.CDS_0', 'Zymomonas_mobilis_57566.CDS_0']]\n"
     ]
    }
   ],
   "source": [
    "alns = [aln1[:,0:10], aln2[:,0:10]]\n",
    "species = []\n",
    "species_per_aln = []\n",
    "for a in alns:\n",
    "    specs = [r.id for r in a]\n",
    "    species.extend(specs)\n",
    "    species_per_aln.append(specs)\n",
    "\n",
    "species = list(set(species))\n",
    "print(species)\n",
    "print(species_per_aln)"
   ]
  },
  {
   "cell_type": "code",
   "execution_count": 98,
   "metadata": {},
   "outputs": [],
   "source": [
    "def reorder_alignment(aln, specs, species, gap='-'):\n",
    "    \"\"\"Take an alignment and reorder it acording to species list.\n",
    "    Add records as gapped if missing\"\"\"\n",
    "    \n",
    "    new_aln = []\n",
    "    missing_seq = seq = ''.join([gap] * aln.get_alignment_length())\n",
    "    for s in species:    \n",
    "        # Check if species exist in alignment\n",
    "        try:\n",
    "            i = specs.index(s)\n",
    "        except ValueError:\n",
    "            i = -1\n",
    "        except:\n",
    "            raise ValueError\n",
    "\n",
    "        if i >= 0:\n",
    "            new_aln.append(aln[i])\n",
    "        elif i == -1:\n",
    "            new_aln.append(SeqRecord(Seq(missing_seq, single_letter_alphabet), id=s))\n",
    "\n",
    "    new_aln = MultipleSeqAlignment(new_aln)\n",
    "    \n",
    "    return(new_aln)"
   ]
  },
  {
   "cell_type": "code",
   "execution_count": 106,
   "metadata": {},
   "outputs": [
    {
     "name": "stdout",
     "output_type": "stream",
     "text": [
      "SingleLetterAlphabet() alignment with 3 rows and 0 columns\n",
      " Streptobacillus_moniliformis_61686.CDS_0\n",
      " Porphyromonas_sp_57899.CDS_0\n",
      " Zymomonas_mobilis_57566.CDS_0\n"
     ]
    }
   ],
   "source": [
    "\n"
   ]
  },
  {
   "cell_type": "code",
   "execution_count": null,
   "metadata": {
    "collapsed": true
   },
   "outputs": [],
   "source": []
  },
  {
   "cell_type": "code",
   "execution_count": 107,
   "metadata": {},
   "outputs": [
    {
     "name": "stdout",
     "output_type": "stream",
     "text": [
      "alginment 0\n",
      "matched\n",
      "alginment 1\n",
      "\treordering\n"
     ]
    }
   ],
   "source": [
    "# Create empty alignmet\n",
    "new_aln = MultipleSeqAlignment([SeqRecord(Seq('', single_letter_alphabet), id=s) for s in species])\n",
    "# new_alns = []\n",
    "for i in range(len(alns)):\n",
    "    print(\"alginment\", i)\n",
    "    specs = species_per_aln[i]\n",
    "    if specs != species:\n",
    "        print(\"\\treordering\")\n",
    "        # new_alns.append(reorder_alignment(aln=alns[i], specs=specs, species=species))\n",
    "        new_aln = new_aln + reorder_alignment(aln=alns[i], specs=specs, species=species)\n",
    "    else:\n",
    "        print(\"matched\")\n",
    "        new_aln = new_aln + alns[i]"
   ]
  },
  {
   "cell_type": "code",
   "execution_count": 108,
   "metadata": {},
   "outputs": [
    {
     "name": "stdout",
     "output_type": "stream",
     "text": [
      "SingleLetterAlphabet() alignment with 3 rows and 10 columns\n",
      "MYKLSEDEEK Streptobacillus_moniliformis_61686.CDS_0\n",
      "-VIDQQTRQR Porphyromonas_sp_57899.CDS_0\n",
      "HFLPPEFLDE Zymomonas_mobilis_57566.CDS_0\n",
      "SingleLetterAlphabet() alignment with 3 rows and 10 columns\n",
      "---------- Streptobacillus_moniliformis_61686.CDS_0\n",
      "-----MKKTT Porphyromonas_sp_57899.CDS_0\n",
      "MASAISNALL Zymomonas_mobilis_57566.CDS_0\n"
     ]
    }
   ],
   "source": [
    "print(new_alns[0])\n",
    "print(new_alns[1])"
   ]
  },
  {
   "cell_type": "code",
   "execution_count": 109,
   "metadata": {},
   "outputs": [
    {
     "name": "stdout",
     "output_type": "stream",
     "text": [
      "SingleLetterAlphabet() alignment with 3 rows and 20 columns\n",
      "MYKLSEDEEK---------- Streptobacillus_moniliformis_61686.CDS_0\n",
      "-VIDQQTRQR-----MKKTT Porphyromonas_sp_57899.CDS_0\n",
      "HFLPPEFLDEMASAISNALL Zymomonas_mobilis_57566.CDS_0\n"
     ]
    }
   ],
   "source": [
    "print(new_alns[0] + new_alns[1])"
   ]
  },
  {
   "cell_type": "code",
   "execution_count": 110,
   "metadata": {},
   "outputs": [
    {
     "name": "stdout",
     "output_type": "stream",
     "text": [
      "SingleLetterAlphabet() alignment with 3 rows and 20 columns\n",
      "MYKLSEDEEK---------- Streptobacillus_moniliformis_61686.CDS_0\n",
      "-VIDQQTRQR-----MKKTT Porphyromonas_sp_57899.CDS_0\n",
      "HFLPPEFLDEMASAISNALL Zymomonas_mobilis_57566.CDS_0\n"
     ]
    }
   ],
   "source": [
    "print(new_aln)"
   ]
  },
  {
   "cell_type": "code",
   "execution_count": 72,
   "metadata": {},
   "outputs": [
    {
     "data": {
      "text/plain": [
       "[SeqRecord(seq=Seq('MYKLSEDEEKIINNIDIVDLIGQYVDNKAVSYKGYSKSENTSHPVKIFKDSSKG...VLK', SingleLetterAlphabet()), id='Streptobacillus_moniliformis_61686.CDS_0', name='Streptobacillus_moniliformis_61686.CDS_0', description='Streptobacillus_moniliformis_61686.CDS_0 <unknown description>', dbxrefs=[]),\n",
       " SeqRecord(seq=Seq('-VIDQQTRQRILDSAQILDVVSDFISRRQVSYVGLCHSDRNYNPANICKCSCEG...TII', SingleLetterAlphabet()), id='Porphyromonas_sp_57899.CDS_0', name='Porphyromonas_sp_57899.CDS_0', description='Porphyromonas_sp_57899.CDS_0 <unknown description>', dbxrefs=[]),\n",
       " SeqRecord(seq=Seq('HFLPPEFLDELRQRITLSSLIGRTVKTRAREFRACCHNEKTYNDEGFYHCGCAH...VDE', SingleLetterAlphabet()), id='Zymomonas_mobilis_57566.CDS_0', name='Zymomonas_mobilis_57566.CDS_0', description='Zymomonas_mobilis_57566.CDS_0 <unknown description>', dbxrefs=[])]"
      ]
     },
     "execution_count": 72,
     "metadata": {},
     "output_type": "execute_result"
    }
   ],
   "source": [
    "new_aln"
   ]
  },
  {
   "cell_type": "code",
   "execution_count": 37,
   "metadata": {},
   "outputs": [
    {
     "ename": "SyntaxError",
     "evalue": "invalid syntax (<ipython-input-37-7a428d7ff3c7>, line 13)",
     "output_type": "error",
     "traceback": [
      "\u001b[0;36m  File \u001b[0;32m\"<ipython-input-37-7a428d7ff3c7>\"\u001b[0;36m, line \u001b[0;32m13\u001b[0m\n\u001b[0;31m    if spec != species[i]\u001b[0m\n\u001b[0m                         ^\u001b[0m\n\u001b[0;31mSyntaxError\u001b[0m\u001b[0;31m:\u001b[0m invalid syntax\n"
     ]
    }
   ],
   "source": [
    "aln = aln1\n",
    "\n",
    "# Create dictionary of records\n",
    "\n",
    "\n",
    "\n",
    "\n",
    "for i in range(len(species)):\n",
    "    r = aln[i]\n",
    "    spec = r.id\n",
    "    print(spec)\n",
    "    \n",
    "    if spec != species[i]\n",
    "    \n",
    "    "
   ]
  },
  {
   "cell_type": "code",
   "execution_count": 24,
   "metadata": {},
   "outputs": [
    {
     "data": {
      "text/plain": [
       "2"
      ]
     },
     "execution_count": 24,
     "metadata": {},
     "output_type": "execute_result"
    }
   ],
   "source": []
  },
  {
   "cell_type": "code",
   "execution_count": null,
   "metadata": {
    "collapsed": true
   },
   "outputs": [],
   "source": []
  }
 ],
 "metadata": {
  "kernelspec": {
   "display_name": "Python 3",
   "language": "python",
   "name": "python3"
  },
  "language_info": {
   "codemirror_mode": {
    "name": "ipython",
    "version": 3
   },
   "file_extension": ".py",
   "mimetype": "text/x-python",
   "name": "python",
   "nbconvert_exporter": "python",
   "pygments_lexer": "ipython3",
   "version": "3.6.1"
  }
 },
 "nbformat": 4,
 "nbformat_minor": 2
}
